{
 "cells": [
  {
   "cell_type": "code",
   "execution_count": 25,
   "metadata": {},
   "outputs": [],
   "source": [
    "# Pandas - Data manipulation and analysis library\n",
    "import pandas as pd\n",
    "# NumPy - mathematical functions on multi-dimensional arrays and matrices\n",
    "import numpy as np\n",
    "\n",
    "from scipy import stats\n",
    "\n",
    "import seaborn as sns\n",
    "# Matplotlib - plotting library to create graphs and charts\n",
    "import matplotlib.pyplot as plt\n",
    "\n",
    "# Scikit-learn algorithms and functions\n",
    "from sklearn.neighbors import KNeighborsClassifier # Scikit-learn KNeighbors Classifier\n",
    "from sklearn.tree import DecisionTreeClassifier # Scikit-learn Decision Tree Classifier\n",
    "from sklearn.model_selection import KFold # Scikit-learn K-Folds cross-validator\n",
    "from sklearn.model_selection import cross_val_score # evaluating cross-validator performance\n",
    "k_fold = KFold(n_splits=10, shuffle=True, random_state=0) # KFold configuration\n",
    "\n",
    "# Settings for Matplotlib graphs and charts\n",
    "from pylab import rcParams\n",
    "rcParams['figure.figsize'] = 12, 8\n",
    "\n",
    "# Display Matplotlib output inline\n",
    "%matplotlib inline"
   ]
  },
  {
   "cell_type": "code",
   "execution_count": 2,
   "metadata": {},
   "outputs": [],
   "source": [
    "df_train = pd.read_csv(\"train.csv\")\n",
    "df_test = pd.read_csv(\"test.csv\")"
   ]
  },
  {
   "cell_type": "code",
   "execution_count": null,
   "metadata": {},
   "outputs": [],
   "source": []
  },
  {
   "cell_type": "code",
   "execution_count": 197,
   "metadata": {},
   "outputs": [
    {
     "data": {
      "text/html": [
       "<div>\n",
       "<style scoped>\n",
       "    .dataframe tbody tr th:only-of-type {\n",
       "        vertical-align: middle;\n",
       "    }\n",
       "\n",
       "    .dataframe tbody tr th {\n",
       "        vertical-align: top;\n",
       "    }\n",
       "\n",
       "    .dataframe thead th {\n",
       "        text-align: right;\n",
       "    }\n",
       "</style>\n",
       "<table border=\"1\" class=\"dataframe\">\n",
       "  <thead>\n",
       "    <tr style=\"text-align: right;\">\n",
       "      <th></th>\n",
       "      <th>deviceid</th>\n",
       "      <th>avg_time_charging_lag1</th>\n",
       "      <th>avg_time_charging_lag2</th>\n",
       "      <th>avg_time_charging_lag3</th>\n",
       "      <th>avg_time_charging_lag7</th>\n",
       "      <th>charging_rate_lag3</th>\n",
       "      <th>charging_rate_lag7</th>\n",
       "      <th>avg_time_discharging_lag1</th>\n",
       "      <th>avg_time_discharging_lag2</th>\n",
       "      <th>avg_time_discharging_lag3</th>\n",
       "      <th>...</th>\n",
       "      <th>number_times_restart</th>\n",
       "      <th>avg_volt_change_charging</th>\n",
       "      <th>avg_volt_change_discharging</th>\n",
       "      <th>avg_time_charging</th>\n",
       "      <th>avg_time_discharging</th>\n",
       "      <th>max_voltage_day</th>\n",
       "      <th>piececount</th>\n",
       "      <th>cycle_time</th>\n",
       "      <th>LastRecord</th>\n",
       "      <th>Date Deployed</th>\n",
       "    </tr>\n",
       "  </thead>\n",
       "  <tbody>\n",
       "    <tr>\n",
       "      <th>0</th>\n",
       "      <td>28647</td>\n",
       "      <td>5.12</td>\n",
       "      <td>41.11</td>\n",
       "      <td>6.56</td>\n",
       "      <td>25.39</td>\n",
       "      <td>0.086667</td>\n",
       "      <td>-0.006667</td>\n",
       "      <td>4.37</td>\n",
       "      <td>91.70</td>\n",
       "      <td>15.70</td>\n",
       "      <td>...</td>\n",
       "      <td>2.375000</td>\n",
       "      <td>377.080000</td>\n",
       "      <td>367.428750</td>\n",
       "      <td>21.696250</td>\n",
       "      <td>39.005000</td>\n",
       "      <td>4174.875000</td>\n",
       "      <td>14.200000</td>\n",
       "      <td>60.701250</td>\n",
       "      <td>4/1/2021</td>\n",
       "      <td>10/6/2019</td>\n",
       "    </tr>\n",
       "    <tr>\n",
       "      <th>1</th>\n",
       "      <td>36175</td>\n",
       "      <td>36.60</td>\n",
       "      <td>5.16</td>\n",
       "      <td>6.23</td>\n",
       "      <td>6.96</td>\n",
       "      <td>0.136667</td>\n",
       "      <td>-1.296667</td>\n",
       "      <td>62.67</td>\n",
       "      <td>6.53</td>\n",
       "      <td>6.16</td>\n",
       "      <td>...</td>\n",
       "      <td>1.000000</td>\n",
       "      <td>350.517857</td>\n",
       "      <td>350.309286</td>\n",
       "      <td>19.883571</td>\n",
       "      <td>32.213571</td>\n",
       "      <td>4161.000000</td>\n",
       "      <td>19.777778</td>\n",
       "      <td>52.097143</td>\n",
       "      <td>4/1/2021</td>\n",
       "      <td>10/27/2019</td>\n",
       "    </tr>\n",
       "    <tr>\n",
       "      <th>2</th>\n",
       "      <td>16107</td>\n",
       "      <td>5.51</td>\n",
       "      <td>5.04</td>\n",
       "      <td>4.52</td>\n",
       "      <td>5.96</td>\n",
       "      <td>-0.460000</td>\n",
       "      <td>-0.083333</td>\n",
       "      <td>5.13</td>\n",
       "      <td>5.65</td>\n",
       "      <td>4.14</td>\n",
       "      <td>...</td>\n",
       "      <td>4.095238</td>\n",
       "      <td>346.113333</td>\n",
       "      <td>343.409524</td>\n",
       "      <td>13.675238</td>\n",
       "      <td>20.471429</td>\n",
       "      <td>4152.238095</td>\n",
       "      <td>19.200000</td>\n",
       "      <td>34.146667</td>\n",
       "      <td>4/1/2021</td>\n",
       "      <td>10/31/2019</td>\n",
       "    </tr>\n",
       "    <tr>\n",
       "      <th>3</th>\n",
       "      <td>27362</td>\n",
       "      <td>4.66</td>\n",
       "      <td>39.85</td>\n",
       "      <td>35.76</td>\n",
       "      <td>40.69</td>\n",
       "      <td>0.076667</td>\n",
       "      <td>-0.006667</td>\n",
       "      <td>3.93</td>\n",
       "      <td>76.37</td>\n",
       "      <td>60.86</td>\n",
       "      <td>...</td>\n",
       "      <td>0.736842</td>\n",
       "      <td>356.184211</td>\n",
       "      <td>349.844737</td>\n",
       "      <td>16.306842</td>\n",
       "      <td>26.189474</td>\n",
       "      <td>4164.631579</td>\n",
       "      <td>23.625000</td>\n",
       "      <td>42.496316</td>\n",
       "      <td>4/1/2021</td>\n",
       "      <td>10/1/2019</td>\n",
       "    </tr>\n",
       "    <tr>\n",
       "      <th>4</th>\n",
       "      <td>19463</td>\n",
       "      <td>5.10</td>\n",
       "      <td>43.24</td>\n",
       "      <td>4.63</td>\n",
       "      <td>5.26</td>\n",
       "      <td>0.040000</td>\n",
       "      <td>-0.153333</td>\n",
       "      <td>4.69</td>\n",
       "      <td>71.44</td>\n",
       "      <td>3.80</td>\n",
       "      <td>...</td>\n",
       "      <td>1.133333</td>\n",
       "      <td>370.904000</td>\n",
       "      <td>367.730000</td>\n",
       "      <td>18.797333</td>\n",
       "      <td>30.812000</td>\n",
       "      <td>4169.800000</td>\n",
       "      <td>12.666667</td>\n",
       "      <td>49.609333</td>\n",
       "      <td>4/1/2021</td>\n",
       "      <td>9/13/2019</td>\n",
       "    </tr>\n",
       "    <tr>\n",
       "      <th>5</th>\n",
       "      <td>30054</td>\n",
       "      <td>27.74</td>\n",
       "      <td>5.12</td>\n",
       "      <td>42.39</td>\n",
       "      <td>5.46</td>\n",
       "      <td>0.076667</td>\n",
       "      <td>-0.020000</td>\n",
       "      <td>45.90</td>\n",
       "      <td>3.99</td>\n",
       "      <td>75.64</td>\n",
       "      <td>...</td>\n",
       "      <td>2.150000</td>\n",
       "      <td>350.345500</td>\n",
       "      <td>346.747500</td>\n",
       "      <td>12.878500</td>\n",
       "      <td>19.621000</td>\n",
       "      <td>4151.600000</td>\n",
       "      <td>6.375000</td>\n",
       "      <td>32.499500</td>\n",
       "      <td>4/1/2021</td>\n",
       "      <td>10/5/2019</td>\n",
       "    </tr>\n",
       "    <tr>\n",
       "      <th>6</th>\n",
       "      <td>26431</td>\n",
       "      <td>4.67</td>\n",
       "      <td>5.32</td>\n",
       "      <td>23.99</td>\n",
       "      <td>4.62</td>\n",
       "      <td>0.270000</td>\n",
       "      <td>-0.010000</td>\n",
       "      <td>3.56</td>\n",
       "      <td>4.62</td>\n",
       "      <td>18.57</td>\n",
       "      <td>...</td>\n",
       "      <td>1.956522</td>\n",
       "      <td>358.789130</td>\n",
       "      <td>353.025652</td>\n",
       "      <td>17.384783</td>\n",
       "      <td>27.495217</td>\n",
       "      <td>4170.652174</td>\n",
       "      <td>20.500000</td>\n",
       "      <td>44.880000</td>\n",
       "      <td>4/1/2021</td>\n",
       "      <td>9/13/2019</td>\n",
       "    </tr>\n",
       "    <tr>\n",
       "      <th>7</th>\n",
       "      <td>5491</td>\n",
       "      <td>11.49</td>\n",
       "      <td>7.10</td>\n",
       "      <td>18.48</td>\n",
       "      <td>NaN</td>\n",
       "      <td>-0.650000</td>\n",
       "      <td>0.063333</td>\n",
       "      <td>18.21</td>\n",
       "      <td>10.88</td>\n",
       "      <td>23.40</td>\n",
       "      <td>...</td>\n",
       "      <td>0.428571</td>\n",
       "      <td>345.727143</td>\n",
       "      <td>342.172857</td>\n",
       "      <td>19.920000</td>\n",
       "      <td>34.582857</td>\n",
       "      <td>4171.285714</td>\n",
       "      <td>7.166667</td>\n",
       "      <td>54.502857</td>\n",
       "      <td>4/1/2021</td>\n",
       "      <td>11/11/2019</td>\n",
       "    </tr>\n",
       "    <tr>\n",
       "      <th>8</th>\n",
       "      <td>43953</td>\n",
       "      <td>35.88</td>\n",
       "      <td>46.05</td>\n",
       "      <td>5.43</td>\n",
       "      <td>4.77</td>\n",
       "      <td>0.830000</td>\n",
       "      <td>-2.486667</td>\n",
       "      <td>47.08</td>\n",
       "      <td>85.63</td>\n",
       "      <td>6.50</td>\n",
       "      <td>...</td>\n",
       "      <td>0.785714</td>\n",
       "      <td>330.151429</td>\n",
       "      <td>332.997857</td>\n",
       "      <td>18.780714</td>\n",
       "      <td>30.125000</td>\n",
       "      <td>4137.428571</td>\n",
       "      <td>3.857143</td>\n",
       "      <td>48.905714</td>\n",
       "      <td>4/1/2021</td>\n",
       "      <td>11/2/2019</td>\n",
       "    </tr>\n",
       "    <tr>\n",
       "      <th>9</th>\n",
       "      <td>45081</td>\n",
       "      <td>4.80</td>\n",
       "      <td>41.35</td>\n",
       "      <td>6.09</td>\n",
       "      <td>27.60</td>\n",
       "      <td>-0.003333</td>\n",
       "      <td>0.000000</td>\n",
       "      <td>3.41</td>\n",
       "      <td>75.23</td>\n",
       "      <td>8.67</td>\n",
       "      <td>...</td>\n",
       "      <td>2.666667</td>\n",
       "      <td>356.720952</td>\n",
       "      <td>348.738571</td>\n",
       "      <td>16.782381</td>\n",
       "      <td>26.645238</td>\n",
       "      <td>4157.761905</td>\n",
       "      <td>9.500000</td>\n",
       "      <td>43.427619</td>\n",
       "      <td>4/1/2021</td>\n",
       "      <td>9/19/2019</td>\n",
       "    </tr>\n",
       "  </tbody>\n",
       "</table>\n",
       "<p>10 rows × 55 columns</p>\n",
       "</div>"
      ],
      "text/plain": [
       "   deviceid  avg_time_charging_lag1  avg_time_charging_lag2  \\\n",
       "0     28647                    5.12                   41.11   \n",
       "1     36175                   36.60                    5.16   \n",
       "2     16107                    5.51                    5.04   \n",
       "3     27362                    4.66                   39.85   \n",
       "4     19463                    5.10                   43.24   \n",
       "5     30054                   27.74                    5.12   \n",
       "6     26431                    4.67                    5.32   \n",
       "7      5491                   11.49                    7.10   \n",
       "8     43953                   35.88                   46.05   \n",
       "9     45081                    4.80                   41.35   \n",
       "\n",
       "   avg_time_charging_lag3  avg_time_charging_lag7  charging_rate_lag3  \\\n",
       "0                    6.56                   25.39            0.086667   \n",
       "1                    6.23                    6.96            0.136667   \n",
       "2                    4.52                    5.96           -0.460000   \n",
       "3                   35.76                   40.69            0.076667   \n",
       "4                    4.63                    5.26            0.040000   \n",
       "5                   42.39                    5.46            0.076667   \n",
       "6                   23.99                    4.62            0.270000   \n",
       "7                   18.48                     NaN           -0.650000   \n",
       "8                    5.43                    4.77            0.830000   \n",
       "9                    6.09                   27.60           -0.003333   \n",
       "\n",
       "   charging_rate_lag7  avg_time_discharging_lag1  avg_time_discharging_lag2  \\\n",
       "0           -0.006667                       4.37                      91.70   \n",
       "1           -1.296667                      62.67                       6.53   \n",
       "2           -0.083333                       5.13                       5.65   \n",
       "3           -0.006667                       3.93                      76.37   \n",
       "4           -0.153333                       4.69                      71.44   \n",
       "5           -0.020000                      45.90                       3.99   \n",
       "6           -0.010000                       3.56                       4.62   \n",
       "7            0.063333                      18.21                      10.88   \n",
       "8           -2.486667                      47.08                      85.63   \n",
       "9            0.000000                       3.41                      75.23   \n",
       "\n",
       "   avg_time_discharging_lag3  ...  number_times_restart  \\\n",
       "0                      15.70  ...              2.375000   \n",
       "1                       6.16  ...              1.000000   \n",
       "2                       4.14  ...              4.095238   \n",
       "3                      60.86  ...              0.736842   \n",
       "4                       3.80  ...              1.133333   \n",
       "5                      75.64  ...              2.150000   \n",
       "6                      18.57  ...              1.956522   \n",
       "7                      23.40  ...              0.428571   \n",
       "8                       6.50  ...              0.785714   \n",
       "9                       8.67  ...              2.666667   \n",
       "\n",
       "   avg_volt_change_charging  avg_volt_change_discharging  avg_time_charging  \\\n",
       "0                377.080000                   367.428750          21.696250   \n",
       "1                350.517857                   350.309286          19.883571   \n",
       "2                346.113333                   343.409524          13.675238   \n",
       "3                356.184211                   349.844737          16.306842   \n",
       "4                370.904000                   367.730000          18.797333   \n",
       "5                350.345500                   346.747500          12.878500   \n",
       "6                358.789130                   353.025652          17.384783   \n",
       "7                345.727143                   342.172857          19.920000   \n",
       "8                330.151429                   332.997857          18.780714   \n",
       "9                356.720952                   348.738571          16.782381   \n",
       "\n",
       "   avg_time_discharging  max_voltage_day  piececount  cycle_time  LastRecord  \\\n",
       "0             39.005000      4174.875000   14.200000   60.701250    4/1/2021   \n",
       "1             32.213571      4161.000000   19.777778   52.097143    4/1/2021   \n",
       "2             20.471429      4152.238095   19.200000   34.146667    4/1/2021   \n",
       "3             26.189474      4164.631579   23.625000   42.496316    4/1/2021   \n",
       "4             30.812000      4169.800000   12.666667   49.609333    4/1/2021   \n",
       "5             19.621000      4151.600000    6.375000   32.499500    4/1/2021   \n",
       "6             27.495217      4170.652174   20.500000   44.880000    4/1/2021   \n",
       "7             34.582857      4171.285714    7.166667   54.502857    4/1/2021   \n",
       "8             30.125000      4137.428571    3.857143   48.905714    4/1/2021   \n",
       "9             26.645238      4157.761905    9.500000   43.427619    4/1/2021   \n",
       "\n",
       "   Date Deployed  \n",
       "0      10/6/2019  \n",
       "1     10/27/2019  \n",
       "2     10/31/2019  \n",
       "3      10/1/2019  \n",
       "4      9/13/2019  \n",
       "5      10/5/2019  \n",
       "6      9/13/2019  \n",
       "7     11/11/2019  \n",
       "8      11/2/2019  \n",
       "9      9/19/2019  \n",
       "\n",
       "[10 rows x 55 columns]"
      ]
     },
     "execution_count": 197,
     "metadata": {},
     "output_type": "execute_result"
    }
   ],
   "source": [
    "df_train.head(10)"
   ]
  },
  {
   "cell_type": "code",
   "execution_count": 135,
   "metadata": {},
   "outputs": [
    {
     "data": {
      "text/html": [
       "<div>\n",
       "<style scoped>\n",
       "    .dataframe tbody tr th:only-of-type {\n",
       "        vertical-align: middle;\n",
       "    }\n",
       "\n",
       "    .dataframe tbody tr th {\n",
       "        vertical-align: top;\n",
       "    }\n",
       "\n",
       "    .dataframe thead th {\n",
       "        text-align: right;\n",
       "    }\n",
       "</style>\n",
       "<table border=\"1\" class=\"dataframe\">\n",
       "  <thead>\n",
       "    <tr style=\"text-align: right;\">\n",
       "      <th></th>\n",
       "      <th>avg_time_charging_lag1</th>\n",
       "      <th>avg_time_charging_lag2</th>\n",
       "      <th>avg_time_charging_lag3</th>\n",
       "      <th>avg_time_charging_lag7</th>\n",
       "      <th>charging_rate_lag3</th>\n",
       "      <th>charging_rate_lag7</th>\n",
       "      <th>avg_time_discharging_lag1</th>\n",
       "      <th>avg_time_discharging_lag2</th>\n",
       "      <th>avg_time_discharging_lag3</th>\n",
       "      <th>avg_time_discharging_lag7</th>\n",
       "      <th>...</th>\n",
       "      <th>dischargecycles</th>\n",
       "      <th>total_off_time</th>\n",
       "      <th>number_times_restart</th>\n",
       "      <th>avg_volt_change_charging</th>\n",
       "      <th>avg_volt_change_discharging</th>\n",
       "      <th>avg_time_charging</th>\n",
       "      <th>avg_time_discharging</th>\n",
       "      <th>max_voltage_day</th>\n",
       "      <th>piececount</th>\n",
       "      <th>cycle_time</th>\n",
       "    </tr>\n",
       "  </thead>\n",
       "  <tbody>\n",
       "    <tr>\n",
       "      <th>count</th>\n",
       "      <td>40500.000000</td>\n",
       "      <td>40500.000000</td>\n",
       "      <td>40500.000000</td>\n",
       "      <td>40434.000000</td>\n",
       "      <td>40500.000000</td>\n",
       "      <td>40488.000000</td>\n",
       "      <td>40500.000000</td>\n",
       "      <td>40500.000000</td>\n",
       "      <td>40500.000000</td>\n",
       "      <td>40434.000000</td>\n",
       "      <td>...</td>\n",
       "      <td>40500.000000</td>\n",
       "      <td>40500.000000</td>\n",
       "      <td>40500.000000</td>\n",
       "      <td>40500.000000</td>\n",
       "      <td>40500.000000</td>\n",
       "      <td>40500.000000</td>\n",
       "      <td>40500.000000</td>\n",
       "      <td>40500.000000</td>\n",
       "      <td>40500.000000</td>\n",
       "      <td>40500.000000</td>\n",
       "    </tr>\n",
       "    <tr>\n",
       "      <th>mean</th>\n",
       "      <td>16.274839</td>\n",
       "      <td>16.521473</td>\n",
       "      <td>16.277490</td>\n",
       "      <td>16.355088</td>\n",
       "      <td>-0.043389</td>\n",
       "      <td>-0.053017</td>\n",
       "      <td>25.800928</td>\n",
       "      <td>26.353566</td>\n",
       "      <td>25.903624</td>\n",
       "      <td>26.081209</td>\n",
       "      <td>...</td>\n",
       "      <td>84.859009</td>\n",
       "      <td>25.258990</td>\n",
       "      <td>2.154864</td>\n",
       "      <td>351.421779</td>\n",
       "      <td>348.207773</td>\n",
       "      <td>16.352522</td>\n",
       "      <td>26.081939</td>\n",
       "      <td>4159.266095</td>\n",
       "      <td>20.526154</td>\n",
       "      <td>42.434462</td>\n",
       "    </tr>\n",
       "    <tr>\n",
       "      <th>std</th>\n",
       "      <td>15.374342</td>\n",
       "      <td>15.425769</td>\n",
       "      <td>15.305041</td>\n",
       "      <td>15.137390</td>\n",
       "      <td>0.776305</td>\n",
       "      <td>0.756558</td>\n",
       "      <td>29.243961</td>\n",
       "      <td>29.459305</td>\n",
       "      <td>29.269789</td>\n",
       "      <td>28.996887</td>\n",
       "      <td>...</td>\n",
       "      <td>15.507518</td>\n",
       "      <td>37.037053</td>\n",
       "      <td>2.223237</td>\n",
       "      <td>12.745409</td>\n",
       "      <td>13.277782</td>\n",
       "      <td>3.553653</td>\n",
       "      <td>6.813312</td>\n",
       "      <td>11.306765</td>\n",
       "      <td>16.461988</td>\n",
       "      <td>10.321011</td>\n",
       "    </tr>\n",
       "    <tr>\n",
       "      <th>min</th>\n",
       "      <td>1.510000</td>\n",
       "      <td>1.060000</td>\n",
       "      <td>0.040000</td>\n",
       "      <td>1.070000</td>\n",
       "      <td>-76.946667</td>\n",
       "      <td>-42.130000</td>\n",
       "      <td>0.520000</td>\n",
       "      <td>0.700000</td>\n",
       "      <td>1.070000</td>\n",
       "      <td>1.740000</td>\n",
       "      <td>...</td>\n",
       "      <td>14.416667</td>\n",
       "      <td>0.000000</td>\n",
       "      <td>0.090909</td>\n",
       "      <td>304.050833</td>\n",
       "      <td>298.250000</td>\n",
       "      <td>4.890000</td>\n",
       "      <td>4.131111</td>\n",
       "      <td>4112.454545</td>\n",
       "      <td>1.000000</td>\n",
       "      <td>9.021111</td>\n",
       "    </tr>\n",
       "    <tr>\n",
       "      <th>25%</th>\n",
       "      <td>4.910000</td>\n",
       "      <td>4.920000</td>\n",
       "      <td>4.900000</td>\n",
       "      <td>4.900000</td>\n",
       "      <td>-0.066667</td>\n",
       "      <td>-0.100000</td>\n",
       "      <td>4.200000</td>\n",
       "      <td>4.210000</td>\n",
       "      <td>4.200000</td>\n",
       "      <td>4.200000</td>\n",
       "      <td>...</td>\n",
       "      <td>74.500000</td>\n",
       "      <td>3.565217</td>\n",
       "      <td>1.052632</td>\n",
       "      <td>342.770532</td>\n",
       "      <td>339.267541</td>\n",
       "      <td>13.912625</td>\n",
       "      <td>21.418250</td>\n",
       "      <td>4151.666667</td>\n",
       "      <td>11.333333</td>\n",
       "      <td>35.364068</td>\n",
       "    </tr>\n",
       "    <tr>\n",
       "      <th>50%</th>\n",
       "      <td>5.770000</td>\n",
       "      <td>5.830000</td>\n",
       "      <td>5.780000</td>\n",
       "      <td>5.780000</td>\n",
       "      <td>0.000000</td>\n",
       "      <td>-0.003333</td>\n",
       "      <td>5.860000</td>\n",
       "      <td>5.920000</td>\n",
       "      <td>5.850000</td>\n",
       "      <td>5.890000</td>\n",
       "      <td>...</td>\n",
       "      <td>84.875000</td>\n",
       "      <td>17.097619</td>\n",
       "      <td>1.470588</td>\n",
       "      <td>351.109967</td>\n",
       "      <td>347.911440</td>\n",
       "      <td>16.201115</td>\n",
       "      <td>25.774365</td>\n",
       "      <td>4159.158948</td>\n",
       "      <td>16.500000</td>\n",
       "      <td>42.005895</td>\n",
       "    </tr>\n",
       "    <tr>\n",
       "      <th>75%</th>\n",
       "      <td>30.100000</td>\n",
       "      <td>30.730000</td>\n",
       "      <td>30.060000</td>\n",
       "      <td>29.600000</td>\n",
       "      <td>0.046667</td>\n",
       "      <td>0.060000</td>\n",
       "      <td>50.200000</td>\n",
       "      <td>51.212500</td>\n",
       "      <td>50.300000</td>\n",
       "      <td>49.680000</td>\n",
       "      <td>...</td>\n",
       "      <td>95.200000</td>\n",
       "      <td>37.000000</td>\n",
       "      <td>2.353416</td>\n",
       "      <td>359.687861</td>\n",
       "      <td>356.837450</td>\n",
       "      <td>18.660114</td>\n",
       "      <td>30.476042</td>\n",
       "      <td>4166.800000</td>\n",
       "      <td>24.285714</td>\n",
       "      <td>49.115667</td>\n",
       "    </tr>\n",
       "    <tr>\n",
       "      <th>max</th>\n",
       "      <td>82.550000</td>\n",
       "      <td>98.890000</td>\n",
       "      <td>81.000000</td>\n",
       "      <td>81.890000</td>\n",
       "      <td>9.556667</td>\n",
       "      <td>17.913333</td>\n",
       "      <td>104.550000</td>\n",
       "      <td>110.560000</td>\n",
       "      <td>108.170000</td>\n",
       "      <td>104.810000</td>\n",
       "      <td>...</td>\n",
       "      <td>145.333333</td>\n",
       "      <td>2013.000000</td>\n",
       "      <td>38.000000</td>\n",
       "      <td>410.957692</td>\n",
       "      <td>420.486000</td>\n",
       "      <td>34.016667</td>\n",
       "      <td>60.746667</td>\n",
       "      <td>4208.900000</td>\n",
       "      <td>418.916667</td>\n",
       "      <td>94.763333</td>\n",
       "    </tr>\n",
       "  </tbody>\n",
       "</table>\n",
       "<p>8 rows × 51 columns</p>\n",
       "</div>"
      ],
      "text/plain": [
       "       avg_time_charging_lag1  avg_time_charging_lag2  avg_time_charging_lag3  \\\n",
       "count            40500.000000            40500.000000            40500.000000   \n",
       "mean                16.274839               16.521473               16.277490   \n",
       "std                 15.374342               15.425769               15.305041   \n",
       "min                  1.510000                1.060000                0.040000   \n",
       "25%                  4.910000                4.920000                4.900000   \n",
       "50%                  5.770000                5.830000                5.780000   \n",
       "75%                 30.100000               30.730000               30.060000   \n",
       "max                 82.550000               98.890000               81.000000   \n",
       "\n",
       "       avg_time_charging_lag7  charging_rate_lag3  charging_rate_lag7  \\\n",
       "count            40434.000000        40500.000000        40488.000000   \n",
       "mean                16.355088           -0.043389           -0.053017   \n",
       "std                 15.137390            0.776305            0.756558   \n",
       "min                  1.070000          -76.946667          -42.130000   \n",
       "25%                  4.900000           -0.066667           -0.100000   \n",
       "50%                  5.780000            0.000000           -0.003333   \n",
       "75%                 29.600000            0.046667            0.060000   \n",
       "max                 81.890000            9.556667           17.913333   \n",
       "\n",
       "       avg_time_discharging_lag1  avg_time_discharging_lag2  \\\n",
       "count               40500.000000               40500.000000   \n",
       "mean                   25.800928                  26.353566   \n",
       "std                    29.243961                  29.459305   \n",
       "min                     0.520000                   0.700000   \n",
       "25%                     4.200000                   4.210000   \n",
       "50%                     5.860000                   5.920000   \n",
       "75%                    50.200000                  51.212500   \n",
       "max                   104.550000                 110.560000   \n",
       "\n",
       "       avg_time_discharging_lag3  avg_time_discharging_lag7  ...  \\\n",
       "count               40500.000000               40434.000000  ...   \n",
       "mean                   25.903624                  26.081209  ...   \n",
       "std                    29.269789                  28.996887  ...   \n",
       "min                     1.070000                   1.740000  ...   \n",
       "25%                     4.200000                   4.200000  ...   \n",
       "50%                     5.850000                   5.890000  ...   \n",
       "75%                    50.300000                  49.680000  ...   \n",
       "max                   108.170000                 104.810000  ...   \n",
       "\n",
       "       dischargecycles  total_off_time  number_times_restart  \\\n",
       "count     40500.000000    40500.000000          40500.000000   \n",
       "mean         84.859009       25.258990              2.154864   \n",
       "std          15.507518       37.037053              2.223237   \n",
       "min          14.416667        0.000000              0.090909   \n",
       "25%          74.500000        3.565217              1.052632   \n",
       "50%          84.875000       17.097619              1.470588   \n",
       "75%          95.200000       37.000000              2.353416   \n",
       "max         145.333333     2013.000000             38.000000   \n",
       "\n",
       "       avg_volt_change_charging  avg_volt_change_discharging  \\\n",
       "count              40500.000000                 40500.000000   \n",
       "mean                 351.421779                   348.207773   \n",
       "std                   12.745409                    13.277782   \n",
       "min                  304.050833                   298.250000   \n",
       "25%                  342.770532                   339.267541   \n",
       "50%                  351.109967                   347.911440   \n",
       "75%                  359.687861                   356.837450   \n",
       "max                  410.957692                   420.486000   \n",
       "\n",
       "       avg_time_charging  avg_time_discharging  max_voltage_day    piececount  \\\n",
       "count       40500.000000          40500.000000     40500.000000  40500.000000   \n",
       "mean           16.352522             26.081939      4159.266095     20.526154   \n",
       "std             3.553653              6.813312        11.306765     16.461988   \n",
       "min             4.890000              4.131111      4112.454545      1.000000   \n",
       "25%            13.912625             21.418250      4151.666667     11.333333   \n",
       "50%            16.201115             25.774365      4159.158948     16.500000   \n",
       "75%            18.660114             30.476042      4166.800000     24.285714   \n",
       "max            34.016667             60.746667      4208.900000    418.916667   \n",
       "\n",
       "         cycle_time  \n",
       "count  40500.000000  \n",
       "mean      42.434462  \n",
       "std       10.321011  \n",
       "min        9.021111  \n",
       "25%       35.364068  \n",
       "50%       42.005895  \n",
       "75%       49.115667  \n",
       "max       94.763333  \n",
       "\n",
       "[8 rows x 51 columns]"
      ]
     },
     "execution_count": 135,
     "metadata": {},
     "output_type": "execute_result"
    }
   ],
   "source": [
    "df_train.describe()"
   ]
  },
  {
   "cell_type": "code",
   "execution_count": 125,
   "metadata": {},
   "outputs": [
    {
     "name": "stdout",
     "output_type": "stream",
     "text": [
      "16.35508829203152\n",
      "5.78\n",
      "=================\n",
      "-0.05301719027976213\n",
      "-0.003333333\n"
     ]
    }
   ],
   "source": [
    "print(df_train['avg_time_charging_lag7'].mean())\n",
    "print(df_train['avg_time_charging_lag7'].median())\n",
    "print('=================')\n",
    "print(df_train['charging_rate_lag7'].mean())\n",
    "print(df_train['charging_rate_lag7'].median())"
   ]
  },
  {
   "cell_type": "code",
   "execution_count": 6,
   "metadata": {},
   "outputs": [
    {
     "data": {
      "text/plain": [
       "(40500, 55)"
      ]
     },
     "execution_count": 6,
     "metadata": {},
     "output_type": "execute_result"
    }
   ],
   "source": [
    "df_train.shape"
   ]
  },
  {
   "cell_type": "code",
   "execution_count": 7,
   "metadata": {},
   "outputs": [
    {
     "data": {
      "text/plain": [
       "(4500, 54)"
      ]
     },
     "execution_count": 7,
     "metadata": {},
     "output_type": "execute_result"
    }
   ],
   "source": [
    "df_test.shape"
   ]
  },
  {
   "cell_type": "code",
   "execution_count": 3,
   "metadata": {},
   "outputs": [
    {
     "data": {
      "text/plain": [
       "deviceid                          0\n",
       "avg_time_charging_lag1            0\n",
       "avg_time_charging_lag2            0\n",
       "avg_time_charging_lag3            0\n",
       "avg_time_charging_lag7           66\n",
       "charging_rate_lag3                0\n",
       "charging_rate_lag7               12\n",
       "avg_time_discharging_lag1         0\n",
       "avg_time_discharging_lag2         0\n",
       "avg_time_discharging_lag3         0\n",
       "avg_time_discharging_lag7        66\n",
       "discharging_rate_lag3             0\n",
       "discharging_rate_lag7            12\n",
       "fail_7                            0\n",
       "charge_cycle_time_below_12        0\n",
       "avg_time_charging_lag4            0\n",
       "avg_time_discharging_lag4         0\n",
       "avg_time_charging_lag5            7\n",
       "avg_time_discharging_lag5         7\n",
       "avg_time_charging_lag6           28\n",
       "avg_time_discharging_lag6        28\n",
       "avg_time_charging_lag8          162\n",
       "avg_time_discharging_lag8       162\n",
       "avg_time_charging_lag9          374\n",
       "avg_time_discharging_lag9       374\n",
       "avg_time_charging_lag10         797\n",
       "avg_time_discharging_lag10      797\n",
       "avg_time_charging_lag11        1586\n",
       "avg_time_discharging_lag11     1586\n",
       "avg_time_charging_lag12        2757\n",
       "avg_time_discharging_lag12     2757\n",
       "avg_time_charging_lag13        4382\n",
       "avg_time_discharging_lag13     4382\n",
       "avg_time_charging_lag14        6668\n",
       "avg_time_discharging_lag14     6668\n",
       "discharging_rate_lag4             0\n",
       "discharging_rate_lag5             0\n",
       "discharging_rate_lag6             2\n",
       "discharging_rate_lag8            31\n",
       "charging_rate_lag4                0\n",
       "charging_rate_lag5                0\n",
       "charging_rate_lag6                2\n",
       "chargecycles                      0\n",
       "dischargecycles                   0\n",
       "total_off_time                    0\n",
       "number_times_restart              0\n",
       "avg_volt_change_charging          0\n",
       "avg_volt_change_discharging       0\n",
       "avg_time_charging                 0\n",
       "avg_time_discharging              0\n",
       "max_voltage_day                   0\n",
       "piececount                        0\n",
       "cycle_time                        0\n",
       "LastRecord                        0\n",
       "Date Deployed                     0\n",
       "dtype: int64"
      ]
     },
     "execution_count": 3,
     "metadata": {},
     "output_type": "execute_result"
    }
   ],
   "source": [
    "df_train.isnull().sum()"
   ]
  },
  {
   "cell_type": "code",
   "execution_count": 7,
   "metadata": {},
   "outputs": [
    {
     "data": {
      "text/plain": [
       "deviceid                        0.000000\n",
       "avg_time_charging_lag1          0.000000\n",
       "avg_time_charging_lag2          0.000000\n",
       "avg_time_charging_lag3          0.000000\n",
       "avg_time_charging_lag7          0.162963\n",
       "charging_rate_lag3              0.000000\n",
       "charging_rate_lag7              0.029630\n",
       "avg_time_discharging_lag1       0.000000\n",
       "avg_time_discharging_lag2       0.000000\n",
       "avg_time_discharging_lag3       0.000000\n",
       "avg_time_discharging_lag7       0.162963\n",
       "discharging_rate_lag3           0.000000\n",
       "discharging_rate_lag7           0.029630\n",
       "fail_7                          0.000000\n",
       "charge_cycle_time_below_12      0.000000\n",
       "avg_time_charging_lag4          0.000000\n",
       "avg_time_discharging_lag4       0.000000\n",
       "avg_time_charging_lag5          0.017284\n",
       "avg_time_discharging_lag5       0.017284\n",
       "avg_time_charging_lag6          0.069136\n",
       "avg_time_discharging_lag6       0.069136\n",
       "avg_time_charging_lag8          0.400000\n",
       "avg_time_discharging_lag8       0.400000\n",
       "avg_time_charging_lag9          0.923457\n",
       "avg_time_discharging_lag9       0.923457\n",
       "avg_time_charging_lag10         1.967901\n",
       "avg_time_discharging_lag10      1.967901\n",
       "avg_time_charging_lag11         3.916049\n",
       "avg_time_discharging_lag11      3.916049\n",
       "avg_time_charging_lag12         6.807407\n",
       "avg_time_discharging_lag12      6.807407\n",
       "avg_time_charging_lag13        10.819753\n",
       "avg_time_discharging_lag13     10.819753\n",
       "avg_time_charging_lag14        16.464198\n",
       "avg_time_discharging_lag14     16.464198\n",
       "discharging_rate_lag4           0.000000\n",
       "discharging_rate_lag5           0.000000\n",
       "discharging_rate_lag6           0.004938\n",
       "discharging_rate_lag8           0.076543\n",
       "charging_rate_lag4              0.000000\n",
       "charging_rate_lag5              0.000000\n",
       "charging_rate_lag6              0.004938\n",
       "chargecycles                    0.000000\n",
       "dischargecycles                 0.000000\n",
       "total_off_time                  0.000000\n",
       "number_times_restart            0.000000\n",
       "avg_volt_change_charging        0.000000\n",
       "avg_volt_change_discharging     0.000000\n",
       "avg_time_charging               0.000000\n",
       "avg_time_discharging            0.000000\n",
       "max_voltage_day                 0.000000\n",
       "piececount                      0.000000\n",
       "cycle_time                      0.000000\n",
       "LastRecord                      0.000000\n",
       "Date Deployed                   0.000000\n",
       "dtype: float64"
      ]
     },
     "execution_count": 7,
     "metadata": {},
     "output_type": "execute_result"
    }
   ],
   "source": [
    "df_train.isnull().sum()/df_train.shape[0]*100\n",
    "#avg_charge/discharge_time_lag_13/14 >10% missing values"
   ]
  },
  {
   "cell_type": "code",
   "execution_count": 4,
   "metadata": {},
   "outputs": [
    {
     "data": {
      "text/plain": [
       "deviceid                         0\n",
       "avg_time_charging_lag1           0\n",
       "avg_time_charging_lag2           0\n",
       "avg_time_charging_lag3           0\n",
       "avg_time_charging_lag7           3\n",
       "charging_rate_lag3               0\n",
       "charging_rate_lag7               1\n",
       "avg_time_discharging_lag1        0\n",
       "avg_time_discharging_lag2        0\n",
       "avg_time_discharging_lag3        0\n",
       "avg_time_discharging_lag7        3\n",
       "discharging_rate_lag3            0\n",
       "discharging_rate_lag7            1\n",
       "charge_cycle_time_below_12       0\n",
       "avg_time_charging_lag4           0\n",
       "avg_time_discharging_lag4        0\n",
       "avg_time_charging_lag5           1\n",
       "avg_time_discharging_lag5        1\n",
       "avg_time_charging_lag6           2\n",
       "avg_time_discharging_lag6        2\n",
       "avg_time_charging_lag8          17\n",
       "avg_time_discharging_lag8       17\n",
       "avg_time_charging_lag9          43\n",
       "avg_time_discharging_lag9       43\n",
       "avg_time_charging_lag10        103\n",
       "avg_time_discharging_lag10     103\n",
       "avg_time_charging_lag11        182\n",
       "avg_time_discharging_lag11     182\n",
       "avg_time_charging_lag12        322\n",
       "avg_time_discharging_lag12     322\n",
       "avg_time_charging_lag13        528\n",
       "avg_time_discharging_lag13     528\n",
       "avg_time_charging_lag14        787\n",
       "avg_time_discharging_lag14     787\n",
       "discharging_rate_lag4            0\n",
       "discharging_rate_lag5            0\n",
       "discharging_rate_lag6            0\n",
       "discharging_rate_lag8            2\n",
       "charging_rate_lag4               0\n",
       "charging_rate_lag5               0\n",
       "charging_rate_lag6               0\n",
       "chargecycles                     0\n",
       "dischargecycles                  0\n",
       "total_off_time                   0\n",
       "number_times_restart             0\n",
       "avg_volt_change_charging         0\n",
       "avg_volt_change_discharging      0\n",
       "avg_time_charging                0\n",
       "avg_time_discharging             0\n",
       "max_voltage_day                  0\n",
       "piececount                       0\n",
       "cycle_time                       0\n",
       "LastRecord                       0\n",
       "Date Deployed                    0\n",
       "dtype: int64"
      ]
     },
     "execution_count": 4,
     "metadata": {},
     "output_type": "execute_result"
    }
   ],
   "source": [
    "df_test.isnull().sum()"
   ]
  },
  {
   "cell_type": "code",
   "execution_count": 9,
   "metadata": {},
   "outputs": [
    {
     "data": {
      "text/plain": [
       "deviceid                        0.000000\n",
       "avg_time_charging_lag1          0.000000\n",
       "avg_time_charging_lag2          0.000000\n",
       "avg_time_charging_lag3          0.000000\n",
       "avg_time_charging_lag7          0.066667\n",
       "charging_rate_lag3              0.000000\n",
       "charging_rate_lag7              0.022222\n",
       "avg_time_discharging_lag1       0.000000\n",
       "avg_time_discharging_lag2       0.000000\n",
       "avg_time_discharging_lag3       0.000000\n",
       "avg_time_discharging_lag7       0.066667\n",
       "discharging_rate_lag3           0.000000\n",
       "discharging_rate_lag7           0.022222\n",
       "charge_cycle_time_below_12      0.000000\n",
       "avg_time_charging_lag4          0.000000\n",
       "avg_time_discharging_lag4       0.000000\n",
       "avg_time_charging_lag5          0.022222\n",
       "avg_time_discharging_lag5       0.022222\n",
       "avg_time_charging_lag6          0.044444\n",
       "avg_time_discharging_lag6       0.044444\n",
       "avg_time_charging_lag8          0.377778\n",
       "avg_time_discharging_lag8       0.377778\n",
       "avg_time_charging_lag9          0.955556\n",
       "avg_time_discharging_lag9       0.955556\n",
       "avg_time_charging_lag10         2.288889\n",
       "avg_time_discharging_lag10      2.288889\n",
       "avg_time_charging_lag11         4.044444\n",
       "avg_time_discharging_lag11      4.044444\n",
       "avg_time_charging_lag12         7.155556\n",
       "avg_time_discharging_lag12      7.155556\n",
       "avg_time_charging_lag13        11.733333\n",
       "avg_time_discharging_lag13     11.733333\n",
       "avg_time_charging_lag14        17.488889\n",
       "avg_time_discharging_lag14     17.488889\n",
       "discharging_rate_lag4           0.000000\n",
       "discharging_rate_lag5           0.000000\n",
       "discharging_rate_lag6           0.000000\n",
       "discharging_rate_lag8           0.044444\n",
       "charging_rate_lag4              0.000000\n",
       "charging_rate_lag5              0.000000\n",
       "charging_rate_lag6              0.000000\n",
       "chargecycles                    0.000000\n",
       "dischargecycles                 0.000000\n",
       "total_off_time                  0.000000\n",
       "number_times_restart            0.000000\n",
       "avg_volt_change_charging        0.000000\n",
       "avg_volt_change_discharging     0.000000\n",
       "avg_time_charging               0.000000\n",
       "avg_time_discharging            0.000000\n",
       "max_voltage_day                 0.000000\n",
       "piececount                      0.000000\n",
       "cycle_time                      0.000000\n",
       "LastRecord                      0.000000\n",
       "Date Deployed                   0.000000\n",
       "dtype: float64"
      ]
     },
     "execution_count": 9,
     "metadata": {},
     "output_type": "execute_result"
    }
   ],
   "source": [
    "df_test.isnull().sum()/df_test.shape[0]*100"
   ]
  },
  {
   "cell_type": "code",
   "execution_count": 10,
   "metadata": {},
   "outputs": [],
   "source": [
    "import sklearn\n",
    "from sklearn.ensemble import GradientBoostingClassifier\n",
    "from sklearn.ensemble import RandomForestClassifier"
   ]
  },
  {
   "cell_type": "code",
   "execution_count": 20,
   "metadata": {},
   "outputs": [],
   "source": [
    "df_train=df_train.dropna()\n",
    "X_train=df_train.drop(['deviceid','LastRecord','Date Deployed','fail_7'],axis=1)\n",
    "Y_train=df_train['fail_7']\n",
    "\n"
   ]
  },
  {
   "cell_type": "code",
   "execution_count": 21,
   "metadata": {},
   "outputs": [
    {
     "data": {
      "text/plain": [
       "RandomForestClassifier(random_state=0)"
      ]
     },
     "execution_count": 21,
     "metadata": {},
     "output_type": "execute_result"
    }
   ],
   "source": [
    "gbdt = GradientBoostingClassifier(random_state=0)\n",
    "gbdt.fit(X_train, Y_train)\n"
   ]
  },
  {
   "cell_type": "code",
   "execution_count": 70,
   "metadata": {},
   "outputs": [],
   "source": [
    "predictions_beforeKNN = gbdt.predict(X_train)"
   ]
  },
  {
   "cell_type": "code",
   "execution_count": 71,
   "metadata": {},
   "outputs": [
    {
     "name": "stdout",
     "output_type": "stream",
     "text": [
      "accuracy traning: 0.8121009694963348\n"
     ]
    }
   ],
   "source": [
    "from sklearn.metrics import accuracy_score\n",
    "\n",
    "print('accuracy traning:',accuracy_score(Y_train,predictions_beforeKNN))"
   ]
  },
  {
   "cell_type": "code",
   "execution_count": 22,
   "metadata": {},
   "outputs": [],
   "source": [
    "#function to plot feature imprtance\n",
    "def plot_feature_importances(model):\n",
    "    n_features = X_train.shape[1]\n",
    "    plt.barh(range(n_features), model.feature_importances_, align='center')\n",
    "    plt.yticks(np.arange(n_features), X_train.columns)\n",
    "    plt.xlabel(\"Feature importance\")\n",
    "    plt.ylabel(\"Feature\")\n",
    "    plt.ylim(-1, n_features)"
   ]
  },
  {
   "cell_type": "code",
   "execution_count": 23,
   "metadata": {},
   "outputs": [
    {
     "data": {
      "image/png": "[encoded data removed]",
      "text/plain": [
       "<Figure size 432x288 with 1 Axes>"
      ]
     },
     "metadata": {
      "needs_background": "light"
     },
     "output_type": "display_data"
    }
   ],
   "source": [
    "plot_feature_importances(gbdt)"
   ]
  },
  {
   "cell_type": "code",
   "execution_count": 27,
   "metadata": {},
   "outputs": [
    {
     "data": {
      "text/html": [
       "<div>\n",
       "<style scoped>\n",
       "    .dataframe tbody tr th:only-of-type {\n",
       "        vertical-align: middle;\n",
       "    }\n",
       "\n",
       "    .dataframe tbody tr th {\n",
       "        vertical-align: top;\n",
       "    }\n",
       "\n",
       "    .dataframe thead th {\n",
       "        text-align: right;\n",
       "    }\n",
       "</style>\n",
       "<table border=\"1\" class=\"dataframe\">\n",
       "  <thead>\n",
       "    <tr style=\"text-align: right;\">\n",
       "      <th></th>\n",
       "      <th>Importance Value</th>\n",
       "    </tr>\n",
       "  </thead>\n",
       "  <tbody>\n",
       "    <tr>\n",
       "      <th>discharging_rate_lag3</th>\n",
       "      <td>0.389533</td>\n",
       "    </tr>\n",
       "    <tr>\n",
       "      <th>charge_cycle_time_below_12</th>\n",
       "      <td>0.362793</td>\n",
       "    </tr>\n",
       "    <tr>\n",
       "      <th>charging_rate_lag3</th>\n",
       "      <td>0.138140</td>\n",
       "    </tr>\n",
       "    <tr>\n",
       "      <th>avg_volt_change_charging</th>\n",
       "      <td>0.032916</td>\n",
       "    </tr>\n",
       "    <tr>\n",
       "      <th>number_times_restart</th>\n",
       "      <td>0.004450</td>\n",
       "    </tr>\n",
       "    <tr>\n",
       "      <th>total_off_time</th>\n",
       "      <td>0.004304</td>\n",
       "    </tr>\n",
       "    <tr>\n",
       "      <th>avg_time_discharging_lag14</th>\n",
       "      <td>0.003785</td>\n",
       "    </tr>\n",
       "    <tr>\n",
       "      <th>discharging_rate_lag4</th>\n",
       "      <td>0.003460</td>\n",
       "    </tr>\n",
       "    <tr>\n",
       "      <th>avg_volt_change_discharging</th>\n",
       "      <td>0.003095</td>\n",
       "    </tr>\n",
       "    <tr>\n",
       "      <th>charging_rate_lag6</th>\n",
       "      <td>0.002773</td>\n",
       "    </tr>\n",
       "  </tbody>\n",
       "</table>\n",
       "</div>"
      ],
      "text/plain": [
       "                             Importance Value\n",
       "discharging_rate_lag3                0.389533\n",
       "charge_cycle_time_below_12           0.362793\n",
       "charging_rate_lag3                   0.138140\n",
       "avg_volt_change_charging             0.032916\n",
       "number_times_restart                 0.004450\n",
       "total_off_time                       0.004304\n",
       "avg_time_discharging_lag14           0.003785\n",
       "discharging_rate_lag4                0.003460\n",
       "avg_volt_change_discharging          0.003095\n",
       "charging_rate_lag6                   0.002773"
      ]
     },
     "execution_count": 27,
     "metadata": {},
     "output_type": "execute_result"
    }
   ],
   "source": [
    "#show all rows, default 10\n",
    "pd.set_option('display.max_rows', None)\n",
    "df_featureImportance=pd.DataFrame(gbdt.feature_importances_,index=X_train.columns,columns=['Importance Value'])\n",
    "\n",
    "df_featureImportance.sort_values(by=['Importance Value'],ascending=False).head(10)\n",
    "\n",
    "#the first 3 are the most important\n",
    "#so we can see only aove 0.02 are significantly important, all the rest are equally important in 0.015-0.018"
   ]
  },
  {
   "cell_type": "code",
   "execution_count": 46,
   "metadata": {},
   "outputs": [],
   "source": [
    "from sklearn.impute import KNNImputer"
   ]
  },
  {
   "cell_type": "code",
   "execution_count": 61,
   "metadata": {},
   "outputs": [
    {
     "data": {
      "text/html": [
       "<div>\n",
       "<style scoped>\n",
       "    .dataframe tbody tr th:only-of-type {\n",
       "        vertical-align: middle;\n",
       "    }\n",
       "\n",
       "    .dataframe tbody tr th {\n",
       "        vertical-align: top;\n",
       "    }\n",
       "\n",
       "    .dataframe thead th {\n",
       "        text-align: right;\n",
       "    }\n",
       "</style>\n",
       "<table border=\"1\" class=\"dataframe\">\n",
       "  <thead>\n",
       "    <tr style=\"text-align: right;\">\n",
       "      <th></th>\n",
       "      <th>0</th>\n",
       "      <th>1</th>\n",
       "      <th>2</th>\n",
       "      <th>3</th>\n",
       "      <th>4</th>\n",
       "      <th>5</th>\n",
       "      <th>6</th>\n",
       "      <th>7</th>\n",
       "      <th>8</th>\n",
       "      <th>9</th>\n",
       "      <th>...</th>\n",
       "      <th>41</th>\n",
       "      <th>42</th>\n",
       "      <th>43</th>\n",
       "      <th>44</th>\n",
       "      <th>45</th>\n",
       "      <th>46</th>\n",
       "      <th>47</th>\n",
       "      <th>48</th>\n",
       "      <th>49</th>\n",
       "      <th>50</th>\n",
       "    </tr>\n",
       "  </thead>\n",
       "  <tbody>\n",
       "    <tr>\n",
       "      <th>0</th>\n",
       "      <td>5.51</td>\n",
       "      <td>5.04</td>\n",
       "      <td>4.52</td>\n",
       "      <td>5.96</td>\n",
       "      <td>-0.460000</td>\n",
       "      <td>-0.083333</td>\n",
       "      <td>5.13</td>\n",
       "      <td>5.65</td>\n",
       "      <td>4.14</td>\n",
       "      <td>14.02</td>\n",
       "      <td>...</td>\n",
       "      <td>80.333333</td>\n",
       "      <td>2.333333</td>\n",
       "      <td>4.095238</td>\n",
       "      <td>346.113333</td>\n",
       "      <td>343.409524</td>\n",
       "      <td>13.675238</td>\n",
       "      <td>20.471429</td>\n",
       "      <td>4152.238095</td>\n",
       "      <td>19.200000</td>\n",
       "      <td>34.146667</td>\n",
       "    </tr>\n",
       "    <tr>\n",
       "      <th>1</th>\n",
       "      <td>4.66</td>\n",
       "      <td>39.85</td>\n",
       "      <td>35.76</td>\n",
       "      <td>40.69</td>\n",
       "      <td>0.076667</td>\n",
       "      <td>-0.006667</td>\n",
       "      <td>3.93</td>\n",
       "      <td>76.37</td>\n",
       "      <td>60.86</td>\n",
       "      <td>73.53</td>\n",
       "      <td>...</td>\n",
       "      <td>91.684211</td>\n",
       "      <td>10.789474</td>\n",
       "      <td>0.736842</td>\n",
       "      <td>356.184211</td>\n",
       "      <td>349.844737</td>\n",
       "      <td>16.306842</td>\n",
       "      <td>26.189474</td>\n",
       "      <td>4164.631579</td>\n",
       "      <td>23.625000</td>\n",
       "      <td>42.496316</td>\n",
       "    </tr>\n",
       "    <tr>\n",
       "      <th>2</th>\n",
       "      <td>5.10</td>\n",
       "      <td>43.24</td>\n",
       "      <td>4.63</td>\n",
       "      <td>5.26</td>\n",
       "      <td>0.040000</td>\n",
       "      <td>-0.153333</td>\n",
       "      <td>4.69</td>\n",
       "      <td>71.44</td>\n",
       "      <td>3.80</td>\n",
       "      <td>6.29</td>\n",
       "      <td>...</td>\n",
       "      <td>70.733333</td>\n",
       "      <td>14.266667</td>\n",
       "      <td>1.133333</td>\n",
       "      <td>370.904000</td>\n",
       "      <td>367.730000</td>\n",
       "      <td>18.797333</td>\n",
       "      <td>30.812000</td>\n",
       "      <td>4169.800000</td>\n",
       "      <td>12.666667</td>\n",
       "      <td>49.609333</td>\n",
       "    </tr>\n",
       "    <tr>\n",
       "      <th>3</th>\n",
       "      <td>27.74</td>\n",
       "      <td>5.12</td>\n",
       "      <td>42.39</td>\n",
       "      <td>5.46</td>\n",
       "      <td>0.076667</td>\n",
       "      <td>-0.020000</td>\n",
       "      <td>45.90</td>\n",
       "      <td>3.99</td>\n",
       "      <td>75.64</td>\n",
       "      <td>4.36</td>\n",
       "      <td>...</td>\n",
       "      <td>100.550000</td>\n",
       "      <td>10.700000</td>\n",
       "      <td>2.150000</td>\n",
       "      <td>350.345500</td>\n",
       "      <td>346.747500</td>\n",
       "      <td>12.878500</td>\n",
       "      <td>19.621000</td>\n",
       "      <td>4151.600000</td>\n",
       "      <td>6.375000</td>\n",
       "      <td>32.499500</td>\n",
       "    </tr>\n",
       "    <tr>\n",
       "      <th>4</th>\n",
       "      <td>4.67</td>\n",
       "      <td>5.32</td>\n",
       "      <td>23.99</td>\n",
       "      <td>4.62</td>\n",
       "      <td>0.270000</td>\n",
       "      <td>-0.010000</td>\n",
       "      <td>3.56</td>\n",
       "      <td>4.62</td>\n",
       "      <td>18.57</td>\n",
       "      <td>3.74</td>\n",
       "      <td>...</td>\n",
       "      <td>71.869565</td>\n",
       "      <td>60.304348</td>\n",
       "      <td>1.956522</td>\n",
       "      <td>358.789130</td>\n",
       "      <td>353.025652</td>\n",
       "      <td>17.384783</td>\n",
       "      <td>27.495217</td>\n",
       "      <td>4170.652174</td>\n",
       "      <td>20.500000</td>\n",
       "      <td>44.880000</td>\n",
       "    </tr>\n",
       "  </tbody>\n",
       "</table>\n",
       "<p>5 rows × 51 columns</p>\n",
       "</div>"
      ],
      "text/plain": [
       "      0      1      2      3         4         5      6      7      8      9   \\\n",
       "0   5.51   5.04   4.52   5.96 -0.460000 -0.083333   5.13   5.65   4.14  14.02   \n",
       "1   4.66  39.85  35.76  40.69  0.076667 -0.006667   3.93  76.37  60.86  73.53   \n",
       "2   5.10  43.24   4.63   5.26  0.040000 -0.153333   4.69  71.44   3.80   6.29   \n",
       "3  27.74   5.12  42.39   5.46  0.076667 -0.020000  45.90   3.99  75.64   4.36   \n",
       "4   4.67   5.32  23.99   4.62  0.270000 -0.010000   3.56   4.62  18.57   3.74   \n",
       "\n",
       "   ...          41         42        43          44          45         46  \\\n",
       "0  ...   80.333333   2.333333  4.095238  346.113333  343.409524  13.675238   \n",
       "1  ...   91.684211  10.789474  0.736842  356.184211  349.844737  16.306842   \n",
       "2  ...   70.733333  14.266667  1.133333  370.904000  367.730000  18.797333   \n",
       "3  ...  100.550000  10.700000  2.150000  350.345500  346.747500  12.878500   \n",
       "4  ...   71.869565  60.304348  1.956522  358.789130  353.025652  17.384783   \n",
       "\n",
       "          47           48         49         50  \n",
       "0  20.471429  4152.238095  19.200000  34.146667  \n",
       "1  26.189474  4164.631579  23.625000  42.496316  \n",
       "2  30.812000  4169.800000  12.666667  49.609333  \n",
       "3  19.621000  4151.600000   6.375000  32.499500  \n",
       "4  27.495217  4170.652174  20.500000  44.880000  \n",
       "\n",
       "[5 rows x 51 columns]"
      ]
     },
     "execution_count": 61,
     "metadata": {},
     "output_type": "execute_result"
    }
   ],
   "source": [
    "imputer=KNNImputer()\n",
    "\n",
    "Xtrans=imputer.fit_transform(X_train)\n",
    "\n",
    "\n",
    "\n",
    "\n"
   ]
  },
  {
   "cell_type": "code",
   "execution_count": 64,
   "metadata": {},
   "outputs": [
    {
     "data": {
      "text/plain": [
       "avg_time_charging_lag1         0\n",
       "avg_time_charging_lag2         0\n",
       "avg_time_charging_lag3         0\n",
       "avg_time_charging_lag7         0\n",
       "charging_rate_lag3             0\n",
       "charging_rate_lag7             0\n",
       "avg_time_discharging_lag1      0\n",
       "avg_time_discharging_lag2      0\n",
       "avg_time_discharging_lag3      0\n",
       "avg_time_discharging_lag7      0\n",
       "discharging_rate_lag3          0\n",
       "discharging_rate_lag7          0\n",
       "charge_cycle_time_below_12     0\n",
       "avg_time_charging_lag4         0\n",
       "avg_time_discharging_lag4      0\n",
       "avg_time_charging_lag5         0\n",
       "avg_time_discharging_lag5      0\n",
       "avg_time_charging_lag6         0\n",
       "avg_time_discharging_lag6      0\n",
       "avg_time_charging_lag8         0\n",
       "avg_time_discharging_lag8      0\n",
       "avg_time_charging_lag9         0\n",
       "avg_time_discharging_lag9      0\n",
       "avg_time_charging_lag10        0\n",
       "avg_time_discharging_lag10     0\n",
       "avg_time_charging_lag11        0\n",
       "avg_time_discharging_lag11     0\n",
       "avg_time_charging_lag12        0\n",
       "avg_time_discharging_lag12     0\n",
       "avg_time_charging_lag13        0\n",
       "avg_time_discharging_lag13     0\n",
       "avg_time_charging_lag14        0\n",
       "avg_time_discharging_lag14     0\n",
       "discharging_rate_lag4          0\n",
       "discharging_rate_lag5          0\n",
       "discharging_rate_lag6          0\n",
       "discharging_rate_lag8          0\n",
       "charging_rate_lag4             0\n",
       "charging_rate_lag5             0\n",
       "charging_rate_lag6             0\n",
       "chargecycles                   0\n",
       "dischargecycles                0\n",
       "total_off_time                 0\n",
       "number_times_restart           0\n",
       "avg_volt_change_charging       0\n",
       "avg_volt_change_discharging    0\n",
       "avg_time_charging              0\n",
       "avg_time_discharging           0\n",
       "max_voltage_day                0\n",
       "piececount                     0\n",
       "cycle_time                     0\n",
       "dtype: int64"
      ]
     },
     "execution_count": 64,
     "metadata": {},
     "output_type": "execute_result"
    }
   ],
   "source": [
    "names=X_train.columns\n",
    "\n",
    "Xtrans_df=pd.DataFrame(Xtrans,columns=names)\n",
    "\n",
    "Xtrans_df.isnull().sum()"
   ]
  },
  {
   "cell_type": "code",
   "execution_count": 66,
   "metadata": {},
   "outputs": [
    {
     "data": {
      "text/plain": [
       "GradientBoostingClassifier(random_state=0)"
      ]
     },
     "execution_count": 66,
     "metadata": {},
     "output_type": "execute_result"
    }
   ],
   "source": [
    "gbdt_filled = GradientBoostingClassifier(random_state=0)\n",
    "gbdt_filled.fit(Xtrans_df, Y_train)\n",
    "predictions = gbdt_filled.predict(Xtrans_df)"
   ]
  },
  {
   "cell_type": "code",
   "execution_count": 69,
   "metadata": {},
   "outputs": [
    {
     "name": "stdout",
     "output_type": "stream",
     "text": [
      "accuracy traning: 0.8121009694963348\n"
     ]
    }
   ],
   "source": [
    "from sklearn.metrics import accuracy_score\n",
    "\n",
    "print('accuracy traning:',accuracy_score(Y_train,predictions))\n",
    "\n",
    "# no difference in validation using GBDT after KNNimputing\n",
    "# and we are clear underfitting"
   ]
  },
  {
   "cell_type": "code",
   "execution_count": 30,
   "metadata": {},
   "outputs": [],
   "source": [
    "def showChart(feature):\n",
    "    Failed = df_train[df_train['fail_7']==1][feature].value_counts()\n",
    "    NotFailed = df_train[df_train['fail_7']==0][feature].value_counts()\n",
    "    df = pd.DataFrame([Failed, NotFailed])\n",
    "    df.index = ['Failed', 'NotFailed']\n",
    "    df.plot(kind='bar', stacked=True)"
   ]
  },
  {
   "cell_type": "code",
   "execution_count": 155,
   "metadata": {},
   "outputs": [
    {
     "data": {
      "text/plain": [
       "0    31099\n",
       "1     9401\n",
       "Name: fail_7, dtype: int64"
      ]
     },
     "execution_count": 155,
     "metadata": {},
     "output_type": "execute_result"
    },
    {
     "data": {
      "image/png": "[encoded data removed]",
      "text/plain": [
       "<Figure size 432x288 with 1 Axes>"
      ]
     },
     "metadata": {
      "needs_background": "light"
     },
     "output_type": "display_data"
    }
   ],
   "source": [
    "showChart('fail_7')\n",
    "df_train['fail_7'].value_counts()"
   ]
  },
  {
   "cell_type": "code",
   "execution_count": 32,
   "metadata": {},
   "outputs": [
    {
     "data": {
      "text/plain": [
       "<matplotlib.axes._subplots.AxesSubplot at 0x1530e8b08b0>"
      ]
     },
     "execution_count": 32,
     "metadata": {},
     "output_type": "execute_result"
    },
    {
     "data": {
      "image/png": "[encoded data removed]",
      "text/plain": [
       "<Figure size 432x288 with 1 Axes>"
      ]
     },
     "metadata": {
      "needs_background": "light"
     },
     "output_type": "display_data"
    }
   ],
   "source": [
    "sns.distplot(df_train['avg_time_discharging_lag14'])\n",
    "#Use mode"
   ]
  },
  {
   "cell_type": "code",
   "execution_count": 126,
   "metadata": {},
   "outputs": [
    {
     "name": "stdout",
     "output_type": "stream",
     "text": [
      "['deviceid', 'avg_time_charging_lag1', 'avg_time_charging_lag2', 'avg_time_charging_lag3', 'avg_time_charging_lag7', 'charging_rate_lag3', 'charging_rate_lag7', 'avg_time_discharging_lag1', 'avg_time_discharging_lag2', 'avg_time_discharging_lag3', 'avg_time_discharging_lag7', 'discharging_rate_lag3', 'discharging_rate_lag7', 'fail_7', 'avg_time_charging_lag4', 'avg_time_discharging_lag4', 'avg_time_charging_lag5', 'avg_time_discharging_lag5', 'avg_time_charging_lag6', 'avg_time_discharging_lag6', 'avg_time_charging_lag8', 'avg_time_discharging_lag8', 'avg_time_charging_lag9', 'avg_time_discharging_lag9', 'avg_time_charging_lag10', 'avg_time_discharging_lag10', 'avg_time_charging_lag11', 'avg_time_discharging_lag11', 'avg_time_charging_lag12', 'avg_time_discharging_lag12', 'avg_time_charging_lag13', 'avg_time_discharging_lag13', 'avg_time_charging_lag14', 'avg_time_discharging_lag14', 'discharging_rate_lag4', 'discharging_rate_lag5', 'discharging_rate_lag6', 'discharging_rate_lag8', 'charging_rate_lag4', 'charging_rate_lag5', 'charging_rate_lag6', 'chargecycles', 'dischargecycles', 'total_off_time', 'number_times_restart', 'avg_volt_change_charging', 'avg_volt_change_discharging', 'avg_time_charging', 'avg_time_discharging', 'max_voltage_day', 'piececount', 'cycle_time']\n"
     ]
    },
    {
     "data": {
      "image/png": "[encoded data removed]",
      "text/plain": [
       "<Figure size 432x288 with 1 Axes>"
      ]
     },
     "metadata": {
      "needs_background": "light"
     },
     "output_type": "display_data"
    },
    {
     "data": {
      "image/png": "[encoded data removed]",
      "text/plain": [
       "<Figure size 432x288 with 1 Axes>"
      ]
     },
     "metadata": {
      "needs_background": "light"
     },
     "output_type": "display_data"
    },
    {
     "data": {
      "image/png": "[encoded data removed]",
      "text/plain": [
       "<Figure size 432x288 with 1 Axes>"
      ]
     },
     "metadata": {
      "needs_background": "light"
     },
     "output_type": "display_data"
    },
    {
     "data": {
      "image/png": "[encoded data removed]",
      "text/plain": [
       "<Figure size 432x288 with 1 Axes>"
      ]
     },
     "metadata": {
      "needs_background": "light"
     },
     "output_type": "display_data"
    },
    {
     "data": {
      "image/png": "[encoded data removed]",
      "text/plain": [
       "<Figure size 432x288 with 1 Axes>"
      ]
     },
     "metadata": {
      "needs_background": "light"
     },
     "output_type": "display_data"
    },
    {
     "data": {
      "image/png": "[encoded data removed]",
      "text/plain": [
       "<Figure size 432x288 with 1 Axes>"
      ]
     },
     "metadata": {
      "needs_background": "light"
     },
     "output_type": "display_data"
    },
    {
     "data": {
      "image/png": "[encoded data removed]",
      "text/plain": [
       "<Figure size 432x288 with 1 Axes>"
      ]
     },
     "metadata": {
      "needs_background": "light"
     },
     "output_type": "display_data"
    },
    {
     "data": {
      "image/png": "[encoded data removed]",
      "text/plain": [
       "<Figure size 432x288 with 1 Axes>"
      ]
     },
     "metadata": {
      "needs_background": "light"
     },
     "output_type": "display_data"
    },
    {
     "data": {
      "image/png": "[encoded data removed]",
      "text/plain": [
       "<Figure size 432x288 with 1 Axes>"
      ]
     },
     "metadata": {
      "needs_background": "light"
     },
     "output_type": "display_data"
    },
    {
     "data": {
      "image/png": "[encoded data removed]",
      "text/plain": [
       "<Figure size 432x288 with 1 Axes>"
      ]
     },
     "metadata": {
      "needs_background": "light"
     },
     "output_type": "display_data"
    },
    {
     "data": {
      "image/png": "[encoded data removed]",
      "text/plain": [
       "<Figure size 432x288 with 1 Axes>"
      ]
     },
     "metadata": {
      "needs_background": "light"
     },
     "output_type": "display_data"
    },
    {
     "data": {
      "image/png": "[encoded data removed]",
      "text/plain": [
       "<Figure size 432x288 with 1 Axes>"
      ]
     },
     "metadata": {
      "needs_background": "light"
     },
     "output_type": "display_data"
    },
    {
     "data": {
      "image/png": "[encoded data removed]",
      "text/plain": [
       "<Figure size 432x288 with 1 Axes>"
      ]
     },
     "metadata": {
      "needs_background": "light"
     },
     "output_type": "display_data"
    },
    {
     "data": {
      "image/png": "[encoded data removed]",
      "text/plain": [
       "<Figure size 432x288 with 1 Axes>"
      ]
     },
     "metadata": {
      "needs_background": "light"
     },
     "output_type": "display_data"
    },
    {
     "data": {
      "image/png": "[encoded data removed]",
      "text/plain": [
       "<Figure size 432x288 with 1 Axes>"
      ]
     },
     "metadata": {
      "needs_background": "light"
     },
     "output_type": "display_data"
    },
    {
     "data": {
      "image/png": "[encoded data removed]",
      "text/plain": [
       "<Figure size 432x288 with 1 Axes>"
      ]
     },
     "metadata": {
      "needs_background": "light"
     },
     "output_type": "display_data"
    },
    {
     "data": {
      "image/png": "[encoded data removed]",
      "text/plain": [
       "<Figure size 432x288 with 1 Axes>"
      ]
     },
     "metadata": {
      "needs_background": "light"
     },
     "output_type": "display_data"
    },
    {
     "data": {
      "image/png": "[encoded data removed]",
      "text/plain": [
       "<Figure size 432x288 with 1 Axes>"
      ]
     },
     "metadata": {
      "needs_background": "light"
     },
     "output_type": "display_data"
    },
    {
     "data": {
      "image/png": "[encoded data removed]",
      "text/plain": [
       "<Figure size 432x288 with 1 Axes>"
      ]
     },
     "metadata": {
      "needs_background": "light"
     },
     "output_type": "display_data"
    },
    {
     "data": {
      "image/png": "[encoded data removed]",
      "text/plain": [
       "<Figure size 432x288 with 1 Axes>"
      ]
     },
     "metadata": {
      "needs_background": "light"
     },
     "output_type": "display_data"
    },
    {
     "data": {
      "image/png": "[encoded data removed]",
      "text/plain": [
       "<Figure size 432x288 with 1 Axes>"
      ]
     },
     "metadata": {
      "needs_background": "light"
     },
     "output_type": "display_data"
    },
    {
     "data": {
      "image/png": "[encoded data removed]",
      "text/plain": [
       "<Figure size 432x288 with 1 Axes>"
      ]
     },
     "metadata": {
      "needs_background": "light"
     },
     "output_type": "display_data"
    },
    {
     "data": {
      "image/png": "[encoded data removed]",
      "text/plain": [
       "<Figure size 432x288 with 1 Axes>"
      ]
     },
     "metadata": {
      "needs_background": "light"
     },
     "output_type": "display_data"
    },
    {
     "data": {
      "image/png": "[encoded data removed]",
      "text/plain": [
       "<Figure size 432x288 with 1 Axes>"
      ]
     },
     "metadata": {
      "needs_background": "light"
     },
     "output_type": "display_data"
    },
    {
     "data": {
      "image/png": "[encoded data removed]",
      "text/plain": [
       "<Figure size 432x288 with 1 Axes>"
      ]
     },
     "metadata": {
      "needs_background": "light"
     },
     "output_type": "display_data"
    },
    {
     "data": {
      "image/png": "[encoded data removed]",
      "text/plain": [
       "<Figure size 432x288 with 1 Axes>"
      ]
     },
     "metadata": {
      "needs_background": "light"
     },
     "output_type": "display_data"
    },
    {
     "data": {
      "image/png": "[encoded data removed]",
      "text/plain": [
       "<Figure size 432x288 with 1 Axes>"
      ]
     },
     "metadata": {
      "needs_background": "light"
     },
     "output_type": "display_data"
    },
    {
     "data": {
      "image/png": "[encoded data removed]",
      "text/plain": [
       "<Figure size 432x288 with 1 Axes>"
      ]
     },
     "metadata": {
      "needs_background": "light"
     },
     "output_type": "display_data"
    },
    {
     "data": {
      "image/png": "[encoded data removed]",
      "text/plain": [
       "<Figure size 432x288 with 1 Axes>"
      ]
     },
     "metadata": {
      "needs_background": "light"
     },
     "output_type": "display_data"
    },
    {
     "data": {
      "image/png": "[encoded data removed]",
      "text/plain": [
       "<Figure size 432x288 with 1 Axes>"
      ]
     },
     "metadata": {
      "needs_background": "light"
     },
     "output_type": "display_data"
    },
    {
     "data": {
      "image/png": "[encoded data removed]",
      "text/plain": [
       "<Figure size 432x288 with 1 Axes>"
      ]
     },
     "metadata": {
      "needs_background": "light"
     },
     "output_type": "display_data"
    },
    {
     "data": {
      "image/png": "[encoded data removed]",
      "text/plain": [
       "<Figure size 432x288 with 1 Axes>"
      ]
     },
     "metadata": {
      "needs_background": "light"
     },
     "output_type": "display_data"
    },
    {
     "data": {
      "image/png": "[encoded data removed]",
      "text/plain": [
       "<Figure size 432x288 with 1 Axes>"
      ]
     },
     "metadata": {
      "needs_background": "light"
     },
     "output_type": "display_data"
    },
    {
     "data": {
      "image/png": "[encoded data removed]",
      "text/plain": [
       "<Figure size 432x288 with 1 Axes>"
      ]
     },
     "metadata": {
      "needs_background": "light"
     },
     "output_type": "display_data"
    },
    {
     "data": {
      "image/png": "[encoded data removed]",
      "text/plain": [
       "<Figure size 432x288 with 1 Axes>"
      ]
     },
     "metadata": {
      "needs_background": "light"
     },
     "output_type": "display_data"
    },
    {
     "data": {
      "image/png": "[encoded data removed]",
      "text/plain": [
       "<Figure size 432x288 with 1 Axes>"
      ]
     },
     "metadata": {
      "needs_background": "light"
     },
     "output_type": "display_data"
    },
    {
     "data": {
      "image/png": "[encoded data removed]",
      "text/plain": [
       "<Figure size 432x288 with 1 Axes>"
      ]
     },
     "metadata": {
      "needs_background": "light"
     },
     "output_type": "display_data"
    },
    {
     "data": {
      "image/png": "[encoded data removed]",
      "text/plain": [
       "<Figure size 432x288 with 1 Axes>"
      ]
     },
     "metadata": {
      "needs_background": "light"
     },
     "output_type": "display_data"
    },
    {
     "data": {
      "image/png": "[encoded data removed]",
      "text/plain": [
       "<Figure size 432x288 with 1 Axes>"
      ]
     },
     "metadata": {
      "needs_background": "light"
     },
     "output_type": "display_data"
    },
    {
     "data": {
      "image/png": "[encoded data removed]",
      "text/plain": [
       "<Figure size 432x288 with 1 Axes>"
      ]
     },
     "metadata": {
      "needs_background": "light"
     },
     "output_type": "display_data"
    },
    {
     "data": {
      "image/png": "[encoded data removed]",
      "text/plain": [
       "<Figure size 432x288 with 1 Axes>"
      ]
     },
     "metadata": {
      "needs_background": "light"
     },
     "output_type": "display_data"
    },
    {
     "data": {
      "image/png": "[encoded data removed]",
      "text/plain": [
       "<Figure size 432x288 with 1 Axes>"
      ]
     },
     "metadata": {
      "needs_background": "light"
     },
     "output_type": "display_data"
    },
    {
     "data": {
      "image/png": "[encoded data removed]",
      "text/plain": [
       "<Figure size 432x288 with 1 Axes>"
      ]
     },
     "metadata": {
      "needs_background": "light"
     },
     "output_type": "display_data"
    },
    {
     "data": {
      "image/png": "[encoded data removed]",
      "text/plain": [
       "<Figure size 432x288 with 1 Axes>"
      ]
     },
     "metadata": {
      "needs_background": "light"
     },
     "output_type": "display_data"
    },
    {
     "data": {
      "image/png": "[encoded data removed]",
      "text/plain": [
       "<Figure size 432x288 with 1 Axes>"
      ]
     },
     "metadata": {
      "needs_background": "light"
     },
     "output_type": "display_data"
    },
    {
     "data": {
      "image/png": "[encoded data removed]",
      "text/plain": [
       "<Figure size 432x288 with 1 Axes>"
      ]
     },
     "metadata": {
      "needs_background": "light"
     },
     "output_type": "display_data"
    },
    {
     "data": {
      "image/png": "[encoded data removed]",
      "text/plain": [
       "<Figure size 432x288 with 1 Axes>"
      ]
     },
     "metadata": {
      "needs_background": "light"
     },
     "output_type": "display_data"
    },
    {
     "data": {
      "image/png": "[encoded data removed]",
      "text/plain": [
       "<Figure size 432x288 with 1 Axes>"
      ]
     },
     "metadata": {
      "needs_background": "light"
     },
     "output_type": "display_data"
    },
    {
     "data": {
      "image/png": "[encoded data removed]",
      "text/plain": [
       "<Figure size 432x288 with 1 Axes>"
      ]
     },
     "metadata": {
      "needs_background": "light"
     },
     "output_type": "display_data"
    },
    {
     "data": {
      "image/png": "[encoded data removed]",
      "text/plain": [
       "<Figure size 432x288 with 1 Axes>"
      ]
     },
     "metadata": {
      "needs_background": "light"
     },
     "output_type": "display_data"
    },
    {
     "data": {
      "image/png": "[encoded data removed]",
      "text/plain": [
       "<Figure size 432x288 with 1 Axes>"
      ]
     },
     "metadata": {
      "needs_background": "light"
     },
     "output_type": "display_data"
    },
    {
     "data": {
      "image/png": "[encoded data removed]",
      "text/plain": [
       "<Figure size 432x288 with 1 Axes>"
      ]
     },
     "metadata": {
      "needs_background": "light"
     },
     "output_type": "display_data"
    }
   ],
   "source": [
    "Num_cols=df_train.select_dtypes(include=np.number).columns.tolist()\n",
    "print(Num_cols)\n",
    "for i in Num_cols:\n",
    "    df_train[i].hist(bins = 20)\n",
    "    plt.xlabel(i)\n",
    "    plt.ylabel('Frequency')\n",
    "    plt.show()"
   ]
  },
  {
   "cell_type": "code",
   "execution_count": null,
   "metadata": {},
   "outputs": [],
   "source": []
  },
  {
   "cell_type": "code",
   "execution_count": 263,
   "metadata": {
    "scrolled": true
   },
   "outputs": [
    {
     "data": {
      "text/html": [
       "<div>\n",
       "<style scoped>\n",
       "    .dataframe tbody tr th:only-of-type {\n",
       "        vertical-align: middle;\n",
       "    }\n",
       "\n",
       "    .dataframe tbody tr th {\n",
       "        vertical-align: top;\n",
       "    }\n",
       "\n",
       "    .dataframe thead th {\n",
       "        text-align: right;\n",
       "    }\n",
       "</style>\n",
       "<table border=\"1\" class=\"dataframe\">\n",
       "  <thead>\n",
       "    <tr style=\"text-align: right;\">\n",
       "      <th></th>\n",
       "      <th>avg_time_charging_lag1</th>\n",
       "      <th>lag1</th>\n",
       "    </tr>\n",
       "  </thead>\n",
       "  <tbody>\n",
       "    <tr>\n",
       "      <th>count</th>\n",
       "      <td>40434.000</td>\n",
       "      <td>40434.000</td>\n",
       "    </tr>\n",
       "    <tr>\n",
       "      <th>mean</th>\n",
       "      <td>16.192</td>\n",
       "      <td>-0.000</td>\n",
       "    </tr>\n",
       "    <tr>\n",
       "      <th>std</th>\n",
       "      <td>15.248</td>\n",
       "      <td>1.000</td>\n",
       "    </tr>\n",
       "    <tr>\n",
       "      <th>min</th>\n",
       "      <td>1.510</td>\n",
       "      <td>-0.963</td>\n",
       "    </tr>\n",
       "    <tr>\n",
       "      <th>25%</th>\n",
       "      <td>4.910</td>\n",
       "      <td>-0.740</td>\n",
       "    </tr>\n",
       "    <tr>\n",
       "      <th>50%</th>\n",
       "      <td>5.770</td>\n",
       "      <td>-0.684</td>\n",
       "    </tr>\n",
       "    <tr>\n",
       "      <th>75%</th>\n",
       "      <td>29.950</td>\n",
       "      <td>0.902</td>\n",
       "    </tr>\n",
       "    <tr>\n",
       "      <th>max</th>\n",
       "      <td>61.820</td>\n",
       "      <td>2.992</td>\n",
       "    </tr>\n",
       "  </tbody>\n",
       "</table>\n",
       "</div>"
      ],
      "text/plain": [
       "       avg_time_charging_lag1       lag1\n",
       "count               40434.000  40434.000\n",
       "mean                   16.192     -0.000\n",
       "std                    15.248      1.000\n",
       "min                     1.510     -0.963\n",
       "25%                     4.910     -0.740\n",
       "50%                     5.770     -0.684\n",
       "75%                    29.950      0.902\n",
       "max                    61.820      2.992"
      ]
     },
     "execution_count": 263,
     "metadata": {},
     "output_type": "execute_result"
    }
   ],
   "source": [
    "# Z-score function\n",
    "# df_train['lag1']=stats.zscore(df_train['avg_time_charging_lag1'])\n",
    "# df_train[['avg_time_charging_lag1','lag1']].describe().round(3)\n"
   ]
  },
  {
   "cell_type": "code",
   "execution_count": 271,
   "metadata": {},
   "outputs": [
    {
     "data": {
      "text/plain": [
       "0        False\n",
       "1        False\n",
       "2        False\n",
       "3        False\n",
       "4        False\n",
       "         ...  \n",
       "40495    False\n",
       "40496    False\n",
       "40497    False\n",
       "40498    False\n",
       "40499    False\n",
       "Length: 40500, dtype: bool"
      ]
     },
     "execution_count": 271,
     "metadata": {},
     "output_type": "execute_result"
    }
   ],
   "source": [
    "def find_outliers(col):\n",
    "    z=np.abs(stats.zscore(col))\n",
    "    idx_outliers=np.where(z>3, True,False)\n",
    "    return pd.Series(idx_outliers,index=col.index)\n",
    "\n",
    "idx=find_outliers(df_train['avg_time_charging_lag1'])\n",
    "idx"
   ]
  },
  {
   "cell_type": "code",
   "execution_count": 272,
   "metadata": {},
   "outputs": [
    {
     "data": {
      "text/html": [
       "<div>\n",
       "<style scoped>\n",
       "    .dataframe tbody tr th:only-of-type {\n",
       "        vertical-align: middle;\n",
       "    }\n",
       "\n",
       "    .dataframe tbody tr th {\n",
       "        vertical-align: top;\n",
       "    }\n",
       "\n",
       "    .dataframe thead th {\n",
       "        text-align: right;\n",
       "    }\n",
       "</style>\n",
       "<table border=\"1\" class=\"dataframe\">\n",
       "  <thead>\n",
       "    <tr style=\"text-align: right;\">\n",
       "      <th></th>\n",
       "      <th>deviceid</th>\n",
       "      <th>avg_time_charging_lag1</th>\n",
       "      <th>avg_time_charging_lag2</th>\n",
       "      <th>avg_time_charging_lag3</th>\n",
       "      <th>avg_time_charging_lag7</th>\n",
       "      <th>charging_rate_lag3</th>\n",
       "      <th>charging_rate_lag7</th>\n",
       "      <th>avg_time_discharging_lag1</th>\n",
       "      <th>avg_time_discharging_lag2</th>\n",
       "      <th>avg_time_discharging_lag3</th>\n",
       "      <th>...</th>\n",
       "      <th>dischargecycles</th>\n",
       "      <th>total_off_time</th>\n",
       "      <th>number_times_restart</th>\n",
       "      <th>avg_volt_change_charging</th>\n",
       "      <th>avg_volt_change_discharging</th>\n",
       "      <th>avg_time_charging</th>\n",
       "      <th>avg_time_discharging</th>\n",
       "      <th>max_voltage_day</th>\n",
       "      <th>piececount</th>\n",
       "      <th>cycle_time</th>\n",
       "    </tr>\n",
       "  </thead>\n",
       "  <tbody>\n",
       "    <tr>\n",
       "      <th>count</th>\n",
       "      <td>61.000</td>\n",
       "      <td>61.000</td>\n",
       "      <td>61.000</td>\n",
       "      <td>61.000</td>\n",
       "      <td>61.000</td>\n",
       "      <td>61.000</td>\n",
       "      <td>61.000</td>\n",
       "      <td>61.000</td>\n",
       "      <td>61.000</td>\n",
       "      <td>61.000</td>\n",
       "      <td>...</td>\n",
       "      <td>61.000</td>\n",
       "      <td>61.000</td>\n",
       "      <td>61.000</td>\n",
       "      <td>61.000</td>\n",
       "      <td>61.000</td>\n",
       "      <td>61.000</td>\n",
       "      <td>61.000</td>\n",
       "      <td>61.000</td>\n",
       "      <td>61.000</td>\n",
       "      <td>61.000</td>\n",
       "    </tr>\n",
       "    <tr>\n",
       "      <th>mean</th>\n",
       "      <td>29241.246</td>\n",
       "      <td>67.438</td>\n",
       "      <td>17.442</td>\n",
       "      <td>13.180</td>\n",
       "      <td>15.543</td>\n",
       "      <td>0.018</td>\n",
       "      <td>-0.128</td>\n",
       "      <td>70.504</td>\n",
       "      <td>28.698</td>\n",
       "      <td>19.511</td>\n",
       "      <td>...</td>\n",
       "      <td>79.301</td>\n",
       "      <td>27.494</td>\n",
       "      <td>1.721</td>\n",
       "      <td>347.633</td>\n",
       "      <td>344.276</td>\n",
       "      <td>19.526</td>\n",
       "      <td>29.307</td>\n",
       "      <td>4154.903</td>\n",
       "      <td>20.084</td>\n",
       "      <td>48.833</td>\n",
       "    </tr>\n",
       "    <tr>\n",
       "      <th>std</th>\n",
       "      <td>13261.084</td>\n",
       "      <td>4.880</td>\n",
       "      <td>17.297</td>\n",
       "      <td>13.628</td>\n",
       "      <td>14.351</td>\n",
       "      <td>0.507</td>\n",
       "      <td>0.627</td>\n",
       "      <td>10.454</td>\n",
       "      <td>33.653</td>\n",
       "      <td>26.351</td>\n",
       "      <td>...</td>\n",
       "      <td>13.684</td>\n",
       "      <td>24.884</td>\n",
       "      <td>1.022</td>\n",
       "      <td>11.078</td>\n",
       "      <td>11.953</td>\n",
       "      <td>3.667</td>\n",
       "      <td>7.052</td>\n",
       "      <td>10.791</td>\n",
       "      <td>12.526</td>\n",
       "      <td>10.637</td>\n",
       "    </tr>\n",
       "    <tr>\n",
       "      <th>min</th>\n",
       "      <td>5445.000</td>\n",
       "      <td>62.420</td>\n",
       "      <td>4.480</td>\n",
       "      <td>4.350</td>\n",
       "      <td>4.530</td>\n",
       "      <td>-1.467</td>\n",
       "      <td>-1.580</td>\n",
       "      <td>32.040</td>\n",
       "      <td>3.350</td>\n",
       "      <td>3.360</td>\n",
       "      <td>...</td>\n",
       "      <td>41.812</td>\n",
       "      <td>0.000</td>\n",
       "      <td>0.500</td>\n",
       "      <td>320.714</td>\n",
       "      <td>313.821</td>\n",
       "      <td>13.444</td>\n",
       "      <td>18.721</td>\n",
       "      <td>4127.474</td>\n",
       "      <td>5.857</td>\n",
       "      <td>32.216</td>\n",
       "    </tr>\n",
       "    <tr>\n",
       "      <th>25%</th>\n",
       "      <td>18940.000</td>\n",
       "      <td>63.670</td>\n",
       "      <td>4.800</td>\n",
       "      <td>4.820</td>\n",
       "      <td>4.800</td>\n",
       "      <td>-0.050</td>\n",
       "      <td>-0.180</td>\n",
       "      <td>64.360</td>\n",
       "      <td>4.120</td>\n",
       "      <td>4.050</td>\n",
       "      <td>...</td>\n",
       "      <td>69.750</td>\n",
       "      <td>5.409</td>\n",
       "      <td>1.000</td>\n",
       "      <td>340.391</td>\n",
       "      <td>334.999</td>\n",
       "      <td>17.055</td>\n",
       "      <td>24.516</td>\n",
       "      <td>4148.222</td>\n",
       "      <td>12.200</td>\n",
       "      <td>41.447</td>\n",
       "    </tr>\n",
       "    <tr>\n",
       "      <th>50%</th>\n",
       "      <td>32803.000</td>\n",
       "      <td>66.100</td>\n",
       "      <td>5.650</td>\n",
       "      <td>5.480</td>\n",
       "      <td>5.610</td>\n",
       "      <td>0.007</td>\n",
       "      <td>-0.007</td>\n",
       "      <td>71.640</td>\n",
       "      <td>6.190</td>\n",
       "      <td>5.110</td>\n",
       "      <td>...</td>\n",
       "      <td>82.320</td>\n",
       "      <td>20.833</td>\n",
       "      <td>1.294</td>\n",
       "      <td>348.674</td>\n",
       "      <td>345.098</td>\n",
       "      <td>19.175</td>\n",
       "      <td>27.548</td>\n",
       "      <td>4152.579</td>\n",
       "      <td>15.625</td>\n",
       "      <td>45.772</td>\n",
       "    </tr>\n",
       "    <tr>\n",
       "      <th>75%</th>\n",
       "      <td>38929.000</td>\n",
       "      <td>68.840</td>\n",
       "      <td>34.110</td>\n",
       "      <td>19.070</td>\n",
       "      <td>28.130</td>\n",
       "      <td>0.067</td>\n",
       "      <td>0.123</td>\n",
       "      <td>78.430</td>\n",
       "      <td>56.660</td>\n",
       "      <td>25.400</td>\n",
       "      <td>...</td>\n",
       "      <td>88.824</td>\n",
       "      <td>46.000</td>\n",
       "      <td>2.118</td>\n",
       "      <td>354.901</td>\n",
       "      <td>352.002</td>\n",
       "      <td>21.825</td>\n",
       "      <td>33.111</td>\n",
       "      <td>4162.950</td>\n",
       "      <td>24.182</td>\n",
       "      <td>54.351</td>\n",
       "    </tr>\n",
       "    <tr>\n",
       "      <th>max</th>\n",
       "      <td>49814.000</td>\n",
       "      <td>82.550</td>\n",
       "      <td>52.890</td>\n",
       "      <td>53.070</td>\n",
       "      <td>45.660</td>\n",
       "      <td>1.650</td>\n",
       "      <td>1.050</td>\n",
       "      <td>87.020</td>\n",
       "      <td>95.320</td>\n",
       "      <td>95.730</td>\n",
       "      <td>...</td>\n",
       "      <td>103.389</td>\n",
       "      <td>94.286</td>\n",
       "      <td>4.562</td>\n",
       "      <td>372.081</td>\n",
       "      <td>375.536</td>\n",
       "      <td>30.449</td>\n",
       "      <td>48.762</td>\n",
       "      <td>4178.955</td>\n",
       "      <td>56.400</td>\n",
       "      <td>79.211</td>\n",
       "    </tr>\n",
       "  </tbody>\n",
       "</table>\n",
       "<p>8 rows × 52 columns</p>\n",
       "</div>"
      ],
      "text/plain": [
       "        deviceid  avg_time_charging_lag1  avg_time_charging_lag2  \\\n",
       "count     61.000                  61.000                  61.000   \n",
       "mean   29241.246                  67.438                  17.442   \n",
       "std    13261.084                   4.880                  17.297   \n",
       "min     5445.000                  62.420                   4.480   \n",
       "25%    18940.000                  63.670                   4.800   \n",
       "50%    32803.000                  66.100                   5.650   \n",
       "75%    38929.000                  68.840                  34.110   \n",
       "max    49814.000                  82.550                  52.890   \n",
       "\n",
       "       avg_time_charging_lag3  avg_time_charging_lag7  charging_rate_lag3  \\\n",
       "count                  61.000                  61.000              61.000   \n",
       "mean                   13.180                  15.543               0.018   \n",
       "std                    13.628                  14.351               0.507   \n",
       "min                     4.350                   4.530              -1.467   \n",
       "25%                     4.820                   4.800              -0.050   \n",
       "50%                     5.480                   5.610               0.007   \n",
       "75%                    19.070                  28.130               0.067   \n",
       "max                    53.070                  45.660               1.650   \n",
       "\n",
       "       charging_rate_lag7  avg_time_discharging_lag1  \\\n",
       "count              61.000                     61.000   \n",
       "mean               -0.128                     70.504   \n",
       "std                 0.627                     10.454   \n",
       "min                -1.580                     32.040   \n",
       "25%                -0.180                     64.360   \n",
       "50%                -0.007                     71.640   \n",
       "75%                 0.123                     78.430   \n",
       "max                 1.050                     87.020   \n",
       "\n",
       "       avg_time_discharging_lag2  avg_time_discharging_lag3  ...  \\\n",
       "count                     61.000                     61.000  ...   \n",
       "mean                      28.698                     19.511  ...   \n",
       "std                       33.653                     26.351  ...   \n",
       "min                        3.350                      3.360  ...   \n",
       "25%                        4.120                      4.050  ...   \n",
       "50%                        6.190                      5.110  ...   \n",
       "75%                       56.660                     25.400  ...   \n",
       "max                       95.320                     95.730  ...   \n",
       "\n",
       "       dischargecycles  total_off_time  number_times_restart  \\\n",
       "count           61.000          61.000                61.000   \n",
       "mean            79.301          27.494                 1.721   \n",
       "std             13.684          24.884                 1.022   \n",
       "min             41.812           0.000                 0.500   \n",
       "25%             69.750           5.409                 1.000   \n",
       "50%             82.320          20.833                 1.294   \n",
       "75%             88.824          46.000                 2.118   \n",
       "max            103.389          94.286                 4.562   \n",
       "\n",
       "       avg_volt_change_charging  avg_volt_change_discharging  \\\n",
       "count                    61.000                       61.000   \n",
       "mean                    347.633                      344.276   \n",
       "std                      11.078                       11.953   \n",
       "min                     320.714                      313.821   \n",
       "25%                     340.391                      334.999   \n",
       "50%                     348.674                      345.098   \n",
       "75%                     354.901                      352.002   \n",
       "max                     372.081                      375.536   \n",
       "\n",
       "       avg_time_charging  avg_time_discharging  max_voltage_day  piececount  \\\n",
       "count             61.000                61.000           61.000      61.000   \n",
       "mean              19.526                29.307         4154.903      20.084   \n",
       "std                3.667                 7.052           10.791      12.526   \n",
       "min               13.444                18.721         4127.474       5.857   \n",
       "25%               17.055                24.516         4148.222      12.200   \n",
       "50%               19.175                27.548         4152.579      15.625   \n",
       "75%               21.825                33.111         4162.950      24.182   \n",
       "max               30.449                48.762         4178.955      56.400   \n",
       "\n",
       "       cycle_time  \n",
       "count      61.000  \n",
       "mean       48.833  \n",
       "std        10.637  \n",
       "min        32.216  \n",
       "25%        41.447  \n",
       "50%        45.772  \n",
       "75%        54.351  \n",
       "max        79.211  \n",
       "\n",
       "[8 rows x 52 columns]"
      ]
     },
     "metadata": {},
     "output_type": "display_data"
    }
   ],
   "source": [
    "display(df_train.loc[idx==True].describe().round(3))"
   ]
  },
  {
   "cell_type": "code",
   "execution_count": 273,
   "metadata": {},
   "outputs": [
    {
     "data": {
      "text/html": [
       "<div>\n",
       "<style scoped>\n",
       "    .dataframe tbody tr th:only-of-type {\n",
       "        vertical-align: middle;\n",
       "    }\n",
       "\n",
       "    .dataframe tbody tr th {\n",
       "        vertical-align: top;\n",
       "    }\n",
       "\n",
       "    .dataframe thead th {\n",
       "        text-align: right;\n",
       "    }\n",
       "</style>\n",
       "<table border=\"1\" class=\"dataframe\">\n",
       "  <thead>\n",
       "    <tr style=\"text-align: right;\">\n",
       "      <th></th>\n",
       "      <th>deviceid</th>\n",
       "      <th>avg_time_charging_lag1</th>\n",
       "      <th>avg_time_charging_lag2</th>\n",
       "      <th>avg_time_charging_lag3</th>\n",
       "      <th>avg_time_charging_lag7</th>\n",
       "      <th>charging_rate_lag3</th>\n",
       "      <th>charging_rate_lag7</th>\n",
       "      <th>avg_time_discharging_lag1</th>\n",
       "      <th>avg_time_discharging_lag2</th>\n",
       "      <th>avg_time_discharging_lag3</th>\n",
       "      <th>...</th>\n",
       "      <th>dischargecycles</th>\n",
       "      <th>total_off_time</th>\n",
       "      <th>number_times_restart</th>\n",
       "      <th>avg_volt_change_charging</th>\n",
       "      <th>avg_volt_change_discharging</th>\n",
       "      <th>avg_time_charging</th>\n",
       "      <th>avg_time_discharging</th>\n",
       "      <th>max_voltage_day</th>\n",
       "      <th>piececount</th>\n",
       "      <th>cycle_time</th>\n",
       "    </tr>\n",
       "  </thead>\n",
       "  <tbody>\n",
       "    <tr>\n",
       "      <th>count</th>\n",
       "      <td>40439.000</td>\n",
       "      <td>40439.000</td>\n",
       "      <td>40439.000</td>\n",
       "      <td>40439.000</td>\n",
       "      <td>40373.000</td>\n",
       "      <td>40439.000</td>\n",
       "      <td>40427.000</td>\n",
       "      <td>40439.000</td>\n",
       "      <td>40439.000</td>\n",
       "      <td>40439.000</td>\n",
       "      <td>...</td>\n",
       "      <td>40439.000</td>\n",
       "      <td>40439.000</td>\n",
       "      <td>40439.000</td>\n",
       "      <td>40439.000</td>\n",
       "      <td>40439.000</td>\n",
       "      <td>40439.000</td>\n",
       "      <td>40439.000</td>\n",
       "      <td>40439.000</td>\n",
       "      <td>40439.000</td>\n",
       "      <td>40439.000</td>\n",
       "    </tr>\n",
       "    <tr>\n",
       "      <th>mean</th>\n",
       "      <td>27508.547</td>\n",
       "      <td>16.198</td>\n",
       "      <td>16.520</td>\n",
       "      <td>16.282</td>\n",
       "      <td>16.356</td>\n",
       "      <td>-0.043</td>\n",
       "      <td>-0.053</td>\n",
       "      <td>25.733</td>\n",
       "      <td>26.350</td>\n",
       "      <td>25.913</td>\n",
       "      <td>...</td>\n",
       "      <td>84.867</td>\n",
       "      <td>25.256</td>\n",
       "      <td>2.156</td>\n",
       "      <td>351.427</td>\n",
       "      <td>348.214</td>\n",
       "      <td>16.348</td>\n",
       "      <td>26.077</td>\n",
       "      <td>4159.273</td>\n",
       "      <td>20.527</td>\n",
       "      <td>42.425</td>\n",
       "    </tr>\n",
       "    <tr>\n",
       "      <th>std</th>\n",
       "      <td>12992.232</td>\n",
       "      <td>15.256</td>\n",
       "      <td>15.423</td>\n",
       "      <td>15.307</td>\n",
       "      <td>15.139</td>\n",
       "      <td>0.777</td>\n",
       "      <td>0.757</td>\n",
       "      <td>29.212</td>\n",
       "      <td>29.453</td>\n",
       "      <td>29.273</td>\n",
       "      <td>...</td>\n",
       "      <td>15.509</td>\n",
       "      <td>37.052</td>\n",
       "      <td>2.225</td>\n",
       "      <td>12.747</td>\n",
       "      <td>13.279</td>\n",
       "      <td>3.551</td>\n",
       "      <td>6.812</td>\n",
       "      <td>11.306</td>\n",
       "      <td>16.467</td>\n",
       "      <td>10.318</td>\n",
       "    </tr>\n",
       "    <tr>\n",
       "      <th>min</th>\n",
       "      <td>5000.000</td>\n",
       "      <td>1.510</td>\n",
       "      <td>1.060</td>\n",
       "      <td>0.040</td>\n",
       "      <td>1.070</td>\n",
       "      <td>-76.947</td>\n",
       "      <td>-42.130</td>\n",
       "      <td>0.520</td>\n",
       "      <td>0.700</td>\n",
       "      <td>1.070</td>\n",
       "      <td>...</td>\n",
       "      <td>14.417</td>\n",
       "      <td>0.000</td>\n",
       "      <td>0.091</td>\n",
       "      <td>304.051</td>\n",
       "      <td>298.250</td>\n",
       "      <td>4.890</td>\n",
       "      <td>4.131</td>\n",
       "      <td>4112.455</td>\n",
       "      <td>1.000</td>\n",
       "      <td>9.021</td>\n",
       "    </tr>\n",
       "    <tr>\n",
       "      <th>25%</th>\n",
       "      <td>16233.500</td>\n",
       "      <td>4.910</td>\n",
       "      <td>4.920</td>\n",
       "      <td>4.900</td>\n",
       "      <td>4.900</td>\n",
       "      <td>-0.067</td>\n",
       "      <td>-0.100</td>\n",
       "      <td>4.200</td>\n",
       "      <td>4.210</td>\n",
       "      <td>4.200</td>\n",
       "      <td>...</td>\n",
       "      <td>74.521</td>\n",
       "      <td>3.562</td>\n",
       "      <td>1.054</td>\n",
       "      <td>342.773</td>\n",
       "      <td>339.271</td>\n",
       "      <td>13.910</td>\n",
       "      <td>21.413</td>\n",
       "      <td>4151.673</td>\n",
       "      <td>11.333</td>\n",
       "      <td>35.355</td>\n",
       "    </tr>\n",
       "    <tr>\n",
       "      <th>50%</th>\n",
       "      <td>27522.000</td>\n",
       "      <td>5.770</td>\n",
       "      <td>5.830</td>\n",
       "      <td>5.780</td>\n",
       "      <td>5.780</td>\n",
       "      <td>0.000</td>\n",
       "      <td>-0.003</td>\n",
       "      <td>5.860</td>\n",
       "      <td>5.920</td>\n",
       "      <td>5.850</td>\n",
       "      <td>...</td>\n",
       "      <td>84.885</td>\n",
       "      <td>17.095</td>\n",
       "      <td>1.471</td>\n",
       "      <td>351.114</td>\n",
       "      <td>347.915</td>\n",
       "      <td>16.196</td>\n",
       "      <td>25.771</td>\n",
       "      <td>4159.167</td>\n",
       "      <td>16.500</td>\n",
       "      <td>41.997</td>\n",
       "    </tr>\n",
       "    <tr>\n",
       "      <th>75%</th>\n",
       "      <td>38784.500</td>\n",
       "      <td>29.955</td>\n",
       "      <td>30.725</td>\n",
       "      <td>30.070</td>\n",
       "      <td>29.600</td>\n",
       "      <td>0.047</td>\n",
       "      <td>0.060</td>\n",
       "      <td>50.005</td>\n",
       "      <td>51.210</td>\n",
       "      <td>50.325</td>\n",
       "      <td>...</td>\n",
       "      <td>95.212</td>\n",
       "      <td>37.000</td>\n",
       "      <td>2.356</td>\n",
       "      <td>359.691</td>\n",
       "      <td>356.844</td>\n",
       "      <td>18.655</td>\n",
       "      <td>30.473</td>\n",
       "      <td>4166.809</td>\n",
       "      <td>24.286</td>\n",
       "      <td>49.110</td>\n",
       "    </tr>\n",
       "    <tr>\n",
       "      <th>max</th>\n",
       "      <td>49999.000</td>\n",
       "      <td>62.280</td>\n",
       "      <td>98.890</td>\n",
       "      <td>81.000</td>\n",
       "      <td>81.890</td>\n",
       "      <td>9.557</td>\n",
       "      <td>17.913</td>\n",
       "      <td>104.550</td>\n",
       "      <td>110.560</td>\n",
       "      <td>108.170</td>\n",
       "      <td>...</td>\n",
       "      <td>145.333</td>\n",
       "      <td>2013.000</td>\n",
       "      <td>38.000</td>\n",
       "      <td>410.958</td>\n",
       "      <td>420.486</td>\n",
       "      <td>34.017</td>\n",
       "      <td>60.747</td>\n",
       "      <td>4208.900</td>\n",
       "      <td>418.917</td>\n",
       "      <td>94.763</td>\n",
       "    </tr>\n",
       "  </tbody>\n",
       "</table>\n",
       "<p>8 rows × 52 columns</p>\n",
       "</div>"
      ],
      "text/plain": [
       "        deviceid  avg_time_charging_lag1  avg_time_charging_lag2  \\\n",
       "count  40439.000               40439.000               40439.000   \n",
       "mean   27508.547                  16.198                  16.520   \n",
       "std    12992.232                  15.256                  15.423   \n",
       "min     5000.000                   1.510                   1.060   \n",
       "25%    16233.500                   4.910                   4.920   \n",
       "50%    27522.000                   5.770                   5.830   \n",
       "75%    38784.500                  29.955                  30.725   \n",
       "max    49999.000                  62.280                  98.890   \n",
       "\n",
       "       avg_time_charging_lag3  avg_time_charging_lag7  charging_rate_lag3  \\\n",
       "count               40439.000               40373.000           40439.000   \n",
       "mean                   16.282                  16.356              -0.043   \n",
       "std                    15.307                  15.139               0.777   \n",
       "min                     0.040                   1.070             -76.947   \n",
       "25%                     4.900                   4.900              -0.067   \n",
       "50%                     5.780                   5.780               0.000   \n",
       "75%                    30.070                  29.600               0.047   \n",
       "max                    81.000                  81.890               9.557   \n",
       "\n",
       "       charging_rate_lag7  avg_time_discharging_lag1  \\\n",
       "count           40427.000                  40439.000   \n",
       "mean               -0.053                     25.733   \n",
       "std                 0.757                     29.212   \n",
       "min               -42.130                      0.520   \n",
       "25%                -0.100                      4.200   \n",
       "50%                -0.003                      5.860   \n",
       "75%                 0.060                     50.005   \n",
       "max                17.913                    104.550   \n",
       "\n",
       "       avg_time_discharging_lag2  avg_time_discharging_lag3  ...  \\\n",
       "count                  40439.000                  40439.000  ...   \n",
       "mean                      26.350                     25.913  ...   \n",
       "std                       29.453                     29.273  ...   \n",
       "min                        0.700                      1.070  ...   \n",
       "25%                        4.210                      4.200  ...   \n",
       "50%                        5.920                      5.850  ...   \n",
       "75%                       51.210                     50.325  ...   \n",
       "max                      110.560                    108.170  ...   \n",
       "\n",
       "       dischargecycles  total_off_time  number_times_restart  \\\n",
       "count        40439.000       40439.000             40439.000   \n",
       "mean            84.867          25.256                 2.156   \n",
       "std             15.509          37.052                 2.225   \n",
       "min             14.417           0.000                 0.091   \n",
       "25%             74.521           3.562                 1.054   \n",
       "50%             84.885          17.095                 1.471   \n",
       "75%             95.212          37.000                 2.356   \n",
       "max            145.333        2013.000                38.000   \n",
       "\n",
       "       avg_volt_change_charging  avg_volt_change_discharging  \\\n",
       "count                 40439.000                    40439.000   \n",
       "mean                    351.427                      348.214   \n",
       "std                      12.747                       13.279   \n",
       "min                     304.051                      298.250   \n",
       "25%                     342.773                      339.271   \n",
       "50%                     351.114                      347.915   \n",
       "75%                     359.691                      356.844   \n",
       "max                     410.958                      420.486   \n",
       "\n",
       "       avg_time_charging  avg_time_discharging  max_voltage_day  piececount  \\\n",
       "count          40439.000             40439.000        40439.000   40439.000   \n",
       "mean              16.348                26.077         4159.273      20.527   \n",
       "std                3.551                 6.812           11.306      16.467   \n",
       "min                4.890                 4.131         4112.455       1.000   \n",
       "25%               13.910                21.413         4151.673      11.333   \n",
       "50%               16.196                25.771         4159.167      16.500   \n",
       "75%               18.655                30.473         4166.809      24.286   \n",
       "max               34.017                60.747         4208.900     418.917   \n",
       "\n",
       "       cycle_time  \n",
       "count   40439.000  \n",
       "mean       42.425  \n",
       "std        10.318  \n",
       "min         9.021  \n",
       "25%        35.355  \n",
       "50%        41.997  \n",
       "75%        49.110  \n",
       "max        94.763  \n",
       "\n",
       "[8 rows x 52 columns]"
      ]
     },
     "metadata": {},
     "output_type": "display_data"
    }
   ],
   "source": [
    "display(df_train.loc[idx==False].describe().round(3))\n",
    "df_train=df_train.loc[idx==False]"
   ]
  },
  {
   "cell_type": "code",
   "execution_count": 274,
   "metadata": {},
   "outputs": [
    {
     "name": "stderr",
     "output_type": "stream",
     "text": [
      "<ipython-input-271-d1693bc48f8c>:3: RuntimeWarning: invalid value encountered in greater\n",
      "  idx_outliers=np.where(z>3, True,False)\n"
     ]
    },
    {
     "data": {
      "text/html": [
       "<div>\n",
       "<style scoped>\n",
       "    .dataframe tbody tr th:only-of-type {\n",
       "        vertical-align: middle;\n",
       "    }\n",
       "\n",
       "    .dataframe tbody tr th {\n",
       "        vertical-align: top;\n",
       "    }\n",
       "\n",
       "    .dataframe thead th {\n",
       "        text-align: right;\n",
       "    }\n",
       "</style>\n",
       "<table border=\"1\" class=\"dataframe\">\n",
       "  <thead>\n",
       "    <tr style=\"text-align: right;\">\n",
       "      <th></th>\n",
       "      <th>deviceid</th>\n",
       "      <th>avg_time_charging_lag1</th>\n",
       "      <th>avg_time_charging_lag2</th>\n",
       "      <th>avg_time_charging_lag3</th>\n",
       "      <th>avg_time_charging_lag7</th>\n",
       "      <th>charging_rate_lag3</th>\n",
       "      <th>charging_rate_lag7</th>\n",
       "      <th>avg_time_discharging_lag1</th>\n",
       "      <th>avg_time_discharging_lag2</th>\n",
       "      <th>avg_time_discharging_lag3</th>\n",
       "      <th>...</th>\n",
       "      <th>dischargecycles</th>\n",
       "      <th>total_off_time</th>\n",
       "      <th>number_times_restart</th>\n",
       "      <th>avg_volt_change_charging</th>\n",
       "      <th>avg_volt_change_discharging</th>\n",
       "      <th>avg_time_charging</th>\n",
       "      <th>avg_time_discharging</th>\n",
       "      <th>max_voltage_day</th>\n",
       "      <th>piececount</th>\n",
       "      <th>cycle_time</th>\n",
       "    </tr>\n",
       "  </thead>\n",
       "  <tbody>\n",
       "    <tr>\n",
       "      <th>0</th>\n",
       "      <td>False</td>\n",
       "      <td>False</td>\n",
       "      <td>False</td>\n",
       "      <td>False</td>\n",
       "      <td>False</td>\n",
       "      <td>False</td>\n",
       "      <td>False</td>\n",
       "      <td>False</td>\n",
       "      <td>False</td>\n",
       "      <td>False</td>\n",
       "      <td>...</td>\n",
       "      <td>False</td>\n",
       "      <td>False</td>\n",
       "      <td>False</td>\n",
       "      <td>False</td>\n",
       "      <td>False</td>\n",
       "      <td>False</td>\n",
       "      <td>False</td>\n",
       "      <td>False</td>\n",
       "      <td>False</td>\n",
       "      <td>False</td>\n",
       "    </tr>\n",
       "    <tr>\n",
       "      <th>1</th>\n",
       "      <td>False</td>\n",
       "      <td>False</td>\n",
       "      <td>False</td>\n",
       "      <td>False</td>\n",
       "      <td>False</td>\n",
       "      <td>False</td>\n",
       "      <td>False</td>\n",
       "      <td>False</td>\n",
       "      <td>False</td>\n",
       "      <td>False</td>\n",
       "      <td>...</td>\n",
       "      <td>False</td>\n",
       "      <td>False</td>\n",
       "      <td>False</td>\n",
       "      <td>False</td>\n",
       "      <td>False</td>\n",
       "      <td>False</td>\n",
       "      <td>False</td>\n",
       "      <td>False</td>\n",
       "      <td>False</td>\n",
       "      <td>False</td>\n",
       "    </tr>\n",
       "    <tr>\n",
       "      <th>2</th>\n",
       "      <td>False</td>\n",
       "      <td>False</td>\n",
       "      <td>False</td>\n",
       "      <td>False</td>\n",
       "      <td>False</td>\n",
       "      <td>False</td>\n",
       "      <td>False</td>\n",
       "      <td>False</td>\n",
       "      <td>False</td>\n",
       "      <td>False</td>\n",
       "      <td>...</td>\n",
       "      <td>False</td>\n",
       "      <td>False</td>\n",
       "      <td>False</td>\n",
       "      <td>False</td>\n",
       "      <td>False</td>\n",
       "      <td>False</td>\n",
       "      <td>False</td>\n",
       "      <td>False</td>\n",
       "      <td>False</td>\n",
       "      <td>False</td>\n",
       "    </tr>\n",
       "    <tr>\n",
       "      <th>3</th>\n",
       "      <td>False</td>\n",
       "      <td>False</td>\n",
       "      <td>False</td>\n",
       "      <td>False</td>\n",
       "      <td>False</td>\n",
       "      <td>False</td>\n",
       "      <td>False</td>\n",
       "      <td>False</td>\n",
       "      <td>False</td>\n",
       "      <td>False</td>\n",
       "      <td>...</td>\n",
       "      <td>False</td>\n",
       "      <td>False</td>\n",
       "      <td>False</td>\n",
       "      <td>False</td>\n",
       "      <td>False</td>\n",
       "      <td>False</td>\n",
       "      <td>False</td>\n",
       "      <td>False</td>\n",
       "      <td>False</td>\n",
       "      <td>False</td>\n",
       "    </tr>\n",
       "    <tr>\n",
       "      <th>4</th>\n",
       "      <td>False</td>\n",
       "      <td>False</td>\n",
       "      <td>False</td>\n",
       "      <td>False</td>\n",
       "      <td>False</td>\n",
       "      <td>False</td>\n",
       "      <td>False</td>\n",
       "      <td>False</td>\n",
       "      <td>False</td>\n",
       "      <td>False</td>\n",
       "      <td>...</td>\n",
       "      <td>False</td>\n",
       "      <td>False</td>\n",
       "      <td>False</td>\n",
       "      <td>False</td>\n",
       "      <td>False</td>\n",
       "      <td>False</td>\n",
       "      <td>False</td>\n",
       "      <td>False</td>\n",
       "      <td>False</td>\n",
       "      <td>False</td>\n",
       "    </tr>\n",
       "  </tbody>\n",
       "</table>\n",
       "<p>5 rows × 52 columns</p>\n",
       "</div>"
      ],
      "text/plain": [
       "   deviceid  avg_time_charging_lag1  avg_time_charging_lag2  \\\n",
       "0     False                   False                   False   \n",
       "1     False                   False                   False   \n",
       "2     False                   False                   False   \n",
       "3     False                   False                   False   \n",
       "4     False                   False                   False   \n",
       "\n",
       "   avg_time_charging_lag3  avg_time_charging_lag7  charging_rate_lag3  \\\n",
       "0                   False                   False               False   \n",
       "1                   False                   False               False   \n",
       "2                   False                   False               False   \n",
       "3                   False                   False               False   \n",
       "4                   False                   False               False   \n",
       "\n",
       "   charging_rate_lag7  avg_time_discharging_lag1  avg_time_discharging_lag2  \\\n",
       "0               False                      False                      False   \n",
       "1               False                      False                      False   \n",
       "2               False                      False                      False   \n",
       "3               False                      False                      False   \n",
       "4               False                      False                      False   \n",
       "\n",
       "   avg_time_discharging_lag3  ...  dischargecycles  total_off_time  \\\n",
       "0                      False  ...            False           False   \n",
       "1                      False  ...            False           False   \n",
       "2                      False  ...            False           False   \n",
       "3                      False  ...            False           False   \n",
       "4                      False  ...            False           False   \n",
       "\n",
       "   number_times_restart  avg_volt_change_charging  \\\n",
       "0                 False                     False   \n",
       "1                 False                     False   \n",
       "2                 False                     False   \n",
       "3                 False                     False   \n",
       "4                 False                     False   \n",
       "\n",
       "   avg_volt_change_discharging  avg_time_charging  avg_time_discharging  \\\n",
       "0                        False              False                 False   \n",
       "1                        False              False                 False   \n",
       "2                        False              False                 False   \n",
       "3                        False              False                 False   \n",
       "4                        False              False                 False   \n",
       "\n",
       "   max_voltage_day  piececount  cycle_time  \n",
       "0            False       False       False  \n",
       "1            False       False       False  \n",
       "2            False       False       False  \n",
       "3            False       False       False  \n",
       "4            False       False       False  \n",
       "\n",
       "[5 rows x 52 columns]"
      ]
     },
     "execution_count": 274,
     "metadata": {},
     "output_type": "execute_result"
    }
   ],
   "source": [
    "df_outliers=pd.DataFrame()\n",
    "for col in df_train.describe().columns:\n",
    "    df_outliers[col]=find_outliers(df_train[col])\n",
    "df_outliers.head()\n",
    "\n"
   ]
  },
  {
   "cell_type": "code",
   "execution_count": 275,
   "metadata": {},
   "outputs": [
    {
     "name": "stdout",
     "output_type": "stream",
     "text": [
      "40439 (40439, 52)\n"
     ]
    },
    {
     "data": {
      "text/plain": [
       "0        False\n",
       "1         True\n",
       "2        False\n",
       "3        False\n",
       "4        False\n",
       "         ...  \n",
       "40495     True\n",
       "40496    False\n",
       "40497    False\n",
       "40498    False\n",
       "40499    False\n",
       "Length: 40439, dtype: bool"
      ]
     },
     "execution_count": 275,
     "metadata": {},
     "output_type": "execute_result"
    }
   ],
   "source": [
    "test_outs=df_outliers.apply(lambda x:np.any(x),axis=1)\n",
    "print(len(test_outs),df_outliers.shape)\n",
    "test_outs"
   ]
  },
  {
   "cell_type": "code",
   "execution_count": 277,
   "metadata": {},
   "outputs": [
    {
     "data": {
      "text/plain": [
       "5547"
      ]
     },
     "execution_count": 277,
     "metadata": {},
     "output_type": "execute_result"
    }
   ],
   "source": [
    "np.sum(test_outs)"
   ]
  },
  {
   "cell_type": "code",
   "execution_count": 278,
   "metadata": {},
   "outputs": [
    {
     "data": {
      "text/plain": [
       "<bound method NDFrame.describe of        deviceid  avg_time_charging_lag1  avg_time_charging_lag2  \\\n",
       "0         28647                    5.12                   41.11   \n",
       "1         36175                   36.60                    5.16   \n",
       "2         16107                    5.51                    5.04   \n",
       "3         27362                    4.66                   39.85   \n",
       "4         19463                    5.10                   43.24   \n",
       "...         ...                     ...                     ...   \n",
       "40495     16284                    4.97                    5.81   \n",
       "40496     49732                    4.81                    4.53   \n",
       "40497     43158                    4.73                    4.77   \n",
       "40498      5860                    4.93                    5.01   \n",
       "40499     20795                   30.83                    5.18   \n",
       "\n",
       "       avg_time_charging_lag3  avg_time_charging_lag7  charging_rate_lag3  \\\n",
       "0                        6.56                   25.39            0.086667   \n",
       "1                        6.23                    6.96            0.136667   \n",
       "2                        4.52                    5.96           -0.460000   \n",
       "3                       35.76                   40.69            0.076667   \n",
       "4                        4.63                    5.26            0.040000   \n",
       "...                       ...                     ...                 ...   \n",
       "40495                    5.01                   29.44           -0.083333   \n",
       "40496                   31.68                    4.88            0.016667   \n",
       "40497                    5.71                    4.67           -0.020000   \n",
       "40498                    4.85                   20.92           -0.103333   \n",
       "40499                   33.17                   32.65            0.033333   \n",
       "\n",
       "       charging_rate_lag7  avg_time_discharging_lag1  \\\n",
       "0               -0.006667                       4.37   \n",
       "1               -1.296667                      62.67   \n",
       "2               -0.083333                       5.13   \n",
       "3               -0.006667                       3.93   \n",
       "4               -0.153333                       4.69   \n",
       "...                   ...                        ...   \n",
       "40495           -0.033333                       7.13   \n",
       "40496           -0.900000                       4.71   \n",
       "40497            1.706667                       3.83   \n",
       "40498            0.526667                       3.35   \n",
       "40499            0.060000                      43.72   \n",
       "\n",
       "       avg_time_discharging_lag2  avg_time_discharging_lag3  ...  \\\n",
       "0                          91.70                      15.70  ...   \n",
       "1                           6.53                       6.16  ...   \n",
       "2                           5.65                       4.14  ...   \n",
       "3                          76.37                      60.86  ...   \n",
       "4                          71.44                       3.80  ...   \n",
       "...                          ...                        ...  ...   \n",
       "40495                       5.41                       5.60  ...   \n",
       "40496                       3.99                      49.68  ...   \n",
       "40497                       3.48                       4.51  ...   \n",
       "40498                       4.30                       4.12  ...   \n",
       "40499                       5.59                      61.54  ...   \n",
       "\n",
       "       number_times_restart  avg_volt_change_charging  \\\n",
       "0                  2.375000                377.080000   \n",
       "1                  1.000000                350.517857   \n",
       "2                  4.095238                346.113333   \n",
       "3                  0.736842                356.184211   \n",
       "4                  1.133333                370.904000   \n",
       "...                     ...                       ...   \n",
       "40495              2.782609                365.399130   \n",
       "40496              1.066667                378.554667   \n",
       "40497              2.227273                345.429091   \n",
       "40498              6.750000                364.964000   \n",
       "40499              6.045455                345.897727   \n",
       "\n",
       "       avg_volt_change_discharging  avg_time_charging  avg_time_discharging  \\\n",
       "0                       367.428750          21.696250             39.005000   \n",
       "1                       350.309286          19.883571             32.213571   \n",
       "2                       343.409524          13.675238             20.471429   \n",
       "3                       349.844737          16.306842             26.189474   \n",
       "4                       367.730000          18.797333             30.812000   \n",
       "...                            ...                ...                   ...   \n",
       "40495                   354.915217          13.880435             23.077391   \n",
       "40496                   374.952667          17.673333             28.495333   \n",
       "40497                   342.216818          17.871818             29.766364   \n",
       "40498                   362.155500          14.557000             22.894000   \n",
       "40499                   337.337727          21.834091             34.135000   \n",
       "\n",
       "       max_voltage_day  piececount  cycle_time  LastRecord  Date Deployed  \n",
       "0          4174.875000   14.200000   60.701250    4/1/2021      10/6/2019  \n",
       "1          4161.000000   19.777778   52.097143    4/1/2021     10/27/2019  \n",
       "2          4152.238095   19.200000   34.146667    4/1/2021     10/31/2019  \n",
       "3          4164.631579   23.625000   42.496316    4/1/2021      10/1/2019  \n",
       "4          4169.800000   12.666667   49.609333    4/1/2021      9/13/2019  \n",
       "...                ...         ...         ...         ...            ...  \n",
       "40495      4162.913043   70.181818   36.957826    4/1/2021       9/5/2019  \n",
       "40496      4181.600000   11.888889   46.168667    4/1/2021      9/18/2019  \n",
       "40497      4157.045455   26.400000   47.638182    4/1/2021     10/18/2019  \n",
       "40498      4171.650000   17.714286   37.451000    4/1/2021      10/2/2019  \n",
       "40499      4155.045455   30.857143   55.969091    4/1/2021      9/16/2019  \n",
       "\n",
       "[40439 rows x 55 columns]>"
      ]
     },
     "execution_count": 278,
     "metadata": {},
     "output_type": "execute_result"
    }
   ],
   "source": [
    "df_clean=df_train.loc[idx==False]\n",
    "df_clean.describe"
   ]
  },
  {
   "cell_type": "code",
   "execution_count": null,
   "metadata": {},
   "outputs": [],
   "source": [
    "# USING IQR"
   ]
  },
  {
   "cell_type": "code",
   "execution_count": 279,
   "metadata": {},
   "outputs": [
    {
     "name": "stdout",
     "output_type": "stream",
     "text": [
      "deviceid                       22551.000000\n",
      "avg_time_charging_lag1            25.045000\n",
      "avg_time_charging_lag2            25.805000\n",
      "avg_time_charging_lag3            25.170000\n",
      "avg_time_charging_lag7            24.700000\n",
      "charging_rate_lag3                 0.113333\n",
      "charging_rate_lag7                 0.160000\n",
      "avg_time_discharging_lag1         45.805000\n",
      "avg_time_discharging_lag2         47.000000\n",
      "avg_time_discharging_lag3         46.125000\n",
      "avg_time_discharging_lag7         45.490000\n",
      "discharging_rate_lag3              0.293333\n",
      "discharging_rate_lag7              0.346667\n",
      "fail_7                             0.000000\n",
      "charge_cycle_time_below_12         1.000000\n",
      "avg_time_charging_lag4            25.000000\n",
      "avg_time_discharging_lag4         46.110000\n",
      "avg_time_charging_lag5            25.010000\n",
      "avg_time_discharging_lag5         46.042500\n",
      "avg_time_charging_lag6            24.835000\n",
      "avg_time_discharging_lag6         45.680000\n",
      "avg_time_charging_lag8            24.540000\n",
      "avg_time_discharging_lag8         45.150000\n",
      "avg_time_charging_lag9            24.080000\n",
      "avg_time_discharging_lag9         44.767500\n",
      "avg_time_charging_lag10           24.080000\n",
      "avg_time_discharging_lag10        44.742500\n",
      "avg_time_charging_lag11           24.520000\n",
      "avg_time_discharging_lag11        45.370000\n",
      "avg_time_charging_lag12           24.232500\n",
      "avg_time_discharging_lag12        44.992500\n",
      "avg_time_charging_lag13           23.700000\n",
      "avg_time_discharging_lag13        44.140000\n",
      "avg_time_charging_lag14           23.810000\n",
      "avg_time_discharging_lag14        44.505000\n",
      "discharging_rate_lag4              0.293333\n",
      "discharging_rate_lag5              0.313333\n",
      "discharging_rate_lag6              0.310000\n",
      "discharging_rate_lag8              0.353333\n",
      "charging_rate_lag4                 0.143333\n",
      "charging_rate_lag5                 0.146667\n",
      "charging_rate_lag6                 0.150000\n",
      "chargecycles                      20.657692\n",
      "dischargecycles                   20.691536\n",
      "total_off_time                    33.437500\n",
      "number_times_restart               1.301897\n",
      "avg_volt_change_charging          16.918252\n",
      "avg_volt_change_discharging       17.572613\n",
      "avg_time_charging                  4.744603\n",
      "avg_time_discharging               9.059566\n",
      "max_voltage_day                   15.135274\n",
      "piececount                        12.952381\n",
      "cycle_time                        13.755015\n",
      "dtype: float64\n"
     ]
    }
   ],
   "source": [
    "Q1 = df_train.quantile(0.25)\n",
    "Q3 = df_train.quantile(0.75)\n",
    "IQR = Q3 - Q1\n",
    "print(IQR)"
   ]
  },
  {
   "cell_type": "code",
   "execution_count": 280,
   "metadata": {},
   "outputs": [
    {
     "name": "stdout",
     "output_type": "stream",
     "text": [
      "       Date Deployed  LastRecord  avg_time_charging  avg_time_charging_lag1  \\\n",
      "0              False       False              False                   False   \n",
      "1              False       False              False                   False   \n",
      "2              False       False              False                   False   \n",
      "3              False       False              False                   False   \n",
      "4              False       False              False                   False   \n",
      "...              ...         ...                ...                     ...   \n",
      "40495          False       False              False                   False   \n",
      "40496          False       False              False                   False   \n",
      "40497          False       False              False                   False   \n",
      "40498          False       False              False                   False   \n",
      "40499          False       False              False                   False   \n",
      "\n",
      "       avg_time_charging_lag10  avg_time_charging_lag11  \\\n",
      "0                        False                    False   \n",
      "1                        False                    False   \n",
      "2                        False                    False   \n",
      "3                        False                    False   \n",
      "4                        False                    False   \n",
      "...                        ...                      ...   \n",
      "40495                    False                    False   \n",
      "40496                    False                    False   \n",
      "40497                    False                    False   \n",
      "40498                    False                    False   \n",
      "40499                    False                    False   \n",
      "\n",
      "       avg_time_charging_lag12  avg_time_charging_lag13  \\\n",
      "0                        False                    False   \n",
      "1                        False                    False   \n",
      "2                        False                    False   \n",
      "3                        False                    False   \n",
      "4                        False                    False   \n",
      "...                        ...                      ...   \n",
      "40495                    False                    False   \n",
      "40496                    False                    False   \n",
      "40497                    False                    False   \n",
      "40498                    False                    False   \n",
      "40499                    False                    False   \n",
      "\n",
      "       avg_time_charging_lag14  avg_time_charging_lag2  ...  \\\n",
      "0                        False                   False  ...   \n",
      "1                        False                   False  ...   \n",
      "2                        False                   False  ...   \n",
      "3                        False                   False  ...   \n",
      "4                        False                   False  ...   \n",
      "...                        ...                     ...  ...   \n",
      "40495                    False                   False  ...   \n",
      "40496                    False                   False  ...   \n",
      "40497                    False                   False  ...   \n",
      "40498                    False                   False  ...   \n",
      "40499                    False                   False  ...   \n",
      "\n",
      "       discharging_rate_lag4  discharging_rate_lag5  discharging_rate_lag6  \\\n",
      "0                      False                  False                  False   \n",
      "1                       True                  False                   True   \n",
      "2                      False                  False                  False   \n",
      "3                      False                  False                  False   \n",
      "4                      False                  False                  False   \n",
      "...                      ...                    ...                    ...   \n",
      "40495                  False                  False                  False   \n",
      "40496                  False                  False                  False   \n",
      "40497                  False                  False                  False   \n",
      "40498                  False                  False                  False   \n",
      "40499                  False                  False                  False   \n",
      "\n",
      "       discharging_rate_lag7  discharging_rate_lag8  fail_7  max_voltage_day  \\\n",
      "0                      False                  False   False            False   \n",
      "1                       True                  False   False            False   \n",
      "2                      False                  False   False            False   \n",
      "3                      False                  False   False            False   \n",
      "4                       True                   True   False            False   \n",
      "...                      ...                    ...     ...              ...   \n",
      "40495                  False                  False   False            False   \n",
      "40496                  False                  False   False            False   \n",
      "40497                  False                   True   False            False   \n",
      "40498                  False                  False   False            False   \n",
      "40499                  False                  False   False            False   \n",
      "\n",
      "       number_times_restart  piececount  total_off_time  \n",
      "0                     False       False           False  \n",
      "1                     False       False           False  \n",
      "2                     False       False           False  \n",
      "3                     False       False           False  \n",
      "4                     False       False           False  \n",
      "...                     ...         ...             ...  \n",
      "40495                 False       False           False  \n",
      "40496                 False       False           False  \n",
      "40497                 False       False           False  \n",
      "40498                 False       False           False  \n",
      "40499                 False       False           False  \n",
      "\n",
      "[40439 rows x 55 columns]\n"
     ]
    },
    {
     "ename": "TypeError",
     "evalue": "Cannot perform 'ror_' with a dtyped [bool] array and scalar of type [NoneType]",
     "output_type": "error",
     "traceback": [
      "\u001b[1;31m---------------------------------------------------------------------------\u001b[0m",
      "\u001b[1;31mTypeError\u001b[0m                                 Traceback (most recent call last)",
      "\u001b[1;32m~\\anaconda3\\lib\\site-packages\\pandas\\core\\ops\\array_ops.py\u001b[0m in \u001b[0;36mna_logical_op\u001b[1;34m(x, y, op)\u001b[0m\n\u001b[0;32m    273\u001b[0m         \u001b[1;31m#  (xint or xbool) and (yint or bool)\u001b[0m\u001b[1;33m\u001b[0m\u001b[1;33m\u001b[0m\u001b[1;33m\u001b[0m\u001b[0m\n\u001b[1;32m--> 274\u001b[1;33m         \u001b[0mresult\u001b[0m \u001b[1;33m=\u001b[0m \u001b[0mop\u001b[0m\u001b[1;33m(\u001b[0m\u001b[0mx\u001b[0m\u001b[1;33m,\u001b[0m \u001b[0my\u001b[0m\u001b[1;33m)\u001b[0m\u001b[1;33m\u001b[0m\u001b[1;33m\u001b[0m\u001b[0m\n\u001b[0m\u001b[0;32m    275\u001b[0m     \u001b[1;32mexcept\u001b[0m \u001b[0mTypeError\u001b[0m\u001b[1;33m:\u001b[0m\u001b[1;33m\u001b[0m\u001b[1;33m\u001b[0m\u001b[0m\n",
      "\u001b[1;32m~\\anaconda3\\lib\\site-packages\\pandas\\core\\ops\\roperator.py\u001b[0m in \u001b[0;36mror_\u001b[1;34m(left, right)\u001b[0m\n\u001b[0;32m     55\u001b[0m \u001b[1;32mdef\u001b[0m \u001b[0mror_\u001b[0m\u001b[1;33m(\u001b[0m\u001b[0mleft\u001b[0m\u001b[1;33m,\u001b[0m \u001b[0mright\u001b[0m\u001b[1;33m)\u001b[0m\u001b[1;33m:\u001b[0m\u001b[1;33m\u001b[0m\u001b[1;33m\u001b[0m\u001b[0m\n\u001b[1;32m---> 56\u001b[1;33m     \u001b[1;32mreturn\u001b[0m \u001b[0moperator\u001b[0m\u001b[1;33m.\u001b[0m\u001b[0mor_\u001b[0m\u001b[1;33m(\u001b[0m\u001b[0mright\u001b[0m\u001b[1;33m,\u001b[0m \u001b[0mleft\u001b[0m\u001b[1;33m)\u001b[0m\u001b[1;33m\u001b[0m\u001b[1;33m\u001b[0m\u001b[0m\n\u001b[0m\u001b[0;32m     57\u001b[0m \u001b[1;33m\u001b[0m\u001b[0m\n",
      "\u001b[1;31mTypeError\u001b[0m: unsupported operand type(s) for |: 'NoneType' and 'bool'",
      "\nDuring handling of the above exception, another exception occurred:\n",
      "\u001b[1;31mValueError\u001b[0m                                Traceback (most recent call last)",
      "\u001b[1;32m~\\anaconda3\\lib\\site-packages\\pandas\\core\\ops\\array_ops.py\u001b[0m in \u001b[0;36mna_logical_op\u001b[1;34m(x, y, op)\u001b[0m\n\u001b[0;32m    287\u001b[0m             \u001b[1;32mtry\u001b[0m\u001b[1;33m:\u001b[0m\u001b[1;33m\u001b[0m\u001b[1;33m\u001b[0m\u001b[0m\n\u001b[1;32m--> 288\u001b[1;33m                 \u001b[0mresult\u001b[0m \u001b[1;33m=\u001b[0m \u001b[0mlibops\u001b[0m\u001b[1;33m.\u001b[0m\u001b[0mscalar_binop\u001b[0m\u001b[1;33m(\u001b[0m\u001b[0mx\u001b[0m\u001b[1;33m,\u001b[0m \u001b[0my\u001b[0m\u001b[1;33m,\u001b[0m \u001b[0mop\u001b[0m\u001b[1;33m)\u001b[0m\u001b[1;33m\u001b[0m\u001b[1;33m\u001b[0m\u001b[0m\n\u001b[0m\u001b[0;32m    289\u001b[0m             except (\n",
      "\u001b[1;32mpandas\\_libs\\ops.pyx\u001b[0m in \u001b[0;36mpandas._libs.ops.scalar_binop\u001b[1;34m()\u001b[0m\n",
      "\u001b[1;31mValueError\u001b[0m: Buffer has wrong number of dimensions (expected 1, got 2)",
      "\nDuring handling of the above exception, another exception occurred:\n",
      "\u001b[1;31mTypeError\u001b[0m                                 Traceback (most recent call last)",
      "\u001b[1;32m<ipython-input-280-f30d87d19402>\u001b[0m in \u001b[0;36m<module>\u001b[1;34m\u001b[0m\n\u001b[1;32m----> 1\u001b[1;33m \u001b[0mprint\u001b[0m\u001b[1;33m(\u001b[0m\u001b[0mdf_train\u001b[0m \u001b[1;33m<\u001b[0m \u001b[1;33m(\u001b[0m\u001b[0mQ1\u001b[0m \u001b[1;33m-\u001b[0m \u001b[1;36m1.5\u001b[0m \u001b[1;33m*\u001b[0m \u001b[0mIQR\u001b[0m\u001b[1;33m)\u001b[0m\u001b[1;33m)\u001b[0m \u001b[1;33m|\u001b[0m\u001b[1;33m(\u001b[0m\u001b[0mdf_train\u001b[0m \u001b[1;33m>\u001b[0m \u001b[1;33m(\u001b[0m\u001b[0mQ3\u001b[0m \u001b[1;33m+\u001b[0m \u001b[1;36m1.5\u001b[0m \u001b[1;33m*\u001b[0m \u001b[0mIQR\u001b[0m\u001b[1;33m)\u001b[0m\u001b[1;33m)\u001b[0m\u001b[1;33m\u001b[0m\u001b[1;33m\u001b[0m\u001b[0m\n\u001b[0m",
      "\u001b[1;32m~\\anaconda3\\lib\\site-packages\\pandas\\core\\ops\\__init__.py\u001b[0m in \u001b[0;36mf\u001b[1;34m(self, other, axis, level, fill_value)\u001b[0m\n\u001b[0;32m    781\u001b[0m                 \u001b[0mself\u001b[0m \u001b[1;33m=\u001b[0m \u001b[0mself\u001b[0m\u001b[1;33m.\u001b[0m\u001b[0mfillna\u001b[0m\u001b[1;33m(\u001b[0m\u001b[0mfill_value\u001b[0m\u001b[1;33m)\u001b[0m\u001b[1;33m\u001b[0m\u001b[1;33m\u001b[0m\u001b[0m\n\u001b[0;32m    782\u001b[0m \u001b[1;33m\u001b[0m\u001b[0m\n\u001b[1;32m--> 783\u001b[1;33m             \u001b[0mnew_data\u001b[0m \u001b[1;33m=\u001b[0m \u001b[0mdispatch_to_series\u001b[0m\u001b[1;33m(\u001b[0m\u001b[0mself\u001b[0m\u001b[1;33m,\u001b[0m \u001b[0mother\u001b[0m\u001b[1;33m,\u001b[0m \u001b[0mop\u001b[0m\u001b[1;33m,\u001b[0m \u001b[0mstr_rep\u001b[0m\u001b[1;33m)\u001b[0m\u001b[1;33m\u001b[0m\u001b[1;33m\u001b[0m\u001b[0m\n\u001b[0m\u001b[0;32m    784\u001b[0m             \u001b[1;32mreturn\u001b[0m \u001b[0mself\u001b[0m\u001b[1;33m.\u001b[0m\u001b[0m_construct_result\u001b[0m\u001b[1;33m(\u001b[0m\u001b[0mnew_data\u001b[0m\u001b[1;33m)\u001b[0m\u001b[1;33m\u001b[0m\u001b[1;33m\u001b[0m\u001b[0m\n\u001b[0;32m    785\u001b[0m \u001b[1;33m\u001b[0m\u001b[0m\n",
      "\u001b[1;32m~\\anaconda3\\lib\\site-packages\\pandas\\core\\ops\\__init__.py\u001b[0m in \u001b[0;36mdispatch_to_series\u001b[1;34m(left, right, func, str_rep, axis)\u001b[0m\n\u001b[0;32m    379\u001b[0m         \u001b[1;31m# Get the appropriate array-op to apply to each block's values.\u001b[0m\u001b[1;33m\u001b[0m\u001b[1;33m\u001b[0m\u001b[1;33m\u001b[0m\u001b[0m\n\u001b[0;32m    380\u001b[0m         \u001b[0marray_op\u001b[0m \u001b[1;33m=\u001b[0m \u001b[0mget_array_op\u001b[0m\u001b[1;33m(\u001b[0m\u001b[0mfunc\u001b[0m\u001b[1;33m,\u001b[0m \u001b[0mstr_rep\u001b[0m\u001b[1;33m=\u001b[0m\u001b[0mstr_rep\u001b[0m\u001b[1;33m)\u001b[0m\u001b[1;33m\u001b[0m\u001b[1;33m\u001b[0m\u001b[0m\n\u001b[1;32m--> 381\u001b[1;33m         \u001b[0mbm\u001b[0m \u001b[1;33m=\u001b[0m \u001b[0mleft\u001b[0m\u001b[1;33m.\u001b[0m\u001b[0m_data\u001b[0m\u001b[1;33m.\u001b[0m\u001b[0mapply\u001b[0m\u001b[1;33m(\u001b[0m\u001b[0marray_op\u001b[0m\u001b[1;33m,\u001b[0m \u001b[0mright\u001b[0m\u001b[1;33m=\u001b[0m\u001b[0mright\u001b[0m\u001b[1;33m)\u001b[0m\u001b[1;33m\u001b[0m\u001b[1;33m\u001b[0m\u001b[0m\n\u001b[0m\u001b[0;32m    382\u001b[0m         \u001b[1;32mreturn\u001b[0m \u001b[0mtype\u001b[0m\u001b[1;33m(\u001b[0m\u001b[0mleft\u001b[0m\u001b[1;33m)\u001b[0m\u001b[1;33m(\u001b[0m\u001b[0mbm\u001b[0m\u001b[1;33m)\u001b[0m\u001b[1;33m\u001b[0m\u001b[1;33m\u001b[0m\u001b[0m\n\u001b[0;32m    383\u001b[0m \u001b[1;33m\u001b[0m\u001b[0m\n",
      "\u001b[1;32m~\\anaconda3\\lib\\site-packages\\pandas\\core\\internals\\managers.py\u001b[0m in \u001b[0;36mapply\u001b[1;34m(self, f, filter, **kwargs)\u001b[0m\n\u001b[0;32m    438\u001b[0m \u001b[1;33m\u001b[0m\u001b[0m\n\u001b[0;32m    439\u001b[0m             \u001b[1;32mif\u001b[0m \u001b[0mcallable\u001b[0m\u001b[1;33m(\u001b[0m\u001b[0mf\u001b[0m\u001b[1;33m)\u001b[0m\u001b[1;33m:\u001b[0m\u001b[1;33m\u001b[0m\u001b[1;33m\u001b[0m\u001b[0m\n\u001b[1;32m--> 440\u001b[1;33m                 \u001b[0mapplied\u001b[0m \u001b[1;33m=\u001b[0m \u001b[0mb\u001b[0m\u001b[1;33m.\u001b[0m\u001b[0mapply\u001b[0m\u001b[1;33m(\u001b[0m\u001b[0mf\u001b[0m\u001b[1;33m,\u001b[0m \u001b[1;33m**\u001b[0m\u001b[0mkwargs\u001b[0m\u001b[1;33m)\u001b[0m\u001b[1;33m\u001b[0m\u001b[1;33m\u001b[0m\u001b[0m\n\u001b[0m\u001b[0;32m    441\u001b[0m             \u001b[1;32melse\u001b[0m\u001b[1;33m:\u001b[0m\u001b[1;33m\u001b[0m\u001b[1;33m\u001b[0m\u001b[0m\n\u001b[0;32m    442\u001b[0m                 \u001b[0mapplied\u001b[0m \u001b[1;33m=\u001b[0m \u001b[0mgetattr\u001b[0m\u001b[1;33m(\u001b[0m\u001b[0mb\u001b[0m\u001b[1;33m,\u001b[0m \u001b[0mf\u001b[0m\u001b[1;33m)\u001b[0m\u001b[1;33m(\u001b[0m\u001b[1;33m**\u001b[0m\u001b[0mkwargs\u001b[0m\u001b[1;33m)\u001b[0m\u001b[1;33m\u001b[0m\u001b[1;33m\u001b[0m\u001b[0m\n",
      "\u001b[1;32m~\\anaconda3\\lib\\site-packages\\pandas\\core\\internals\\blocks.py\u001b[0m in \u001b[0;36mapply\u001b[1;34m(self, func, **kwargs)\u001b[0m\n\u001b[0;32m    388\u001b[0m         \"\"\"\n\u001b[0;32m    389\u001b[0m         \u001b[1;32mwith\u001b[0m \u001b[0mnp\u001b[0m\u001b[1;33m.\u001b[0m\u001b[0merrstate\u001b[0m\u001b[1;33m(\u001b[0m\u001b[0mall\u001b[0m\u001b[1;33m=\u001b[0m\u001b[1;34m\"ignore\"\u001b[0m\u001b[1;33m)\u001b[0m\u001b[1;33m:\u001b[0m\u001b[1;33m\u001b[0m\u001b[1;33m\u001b[0m\u001b[0m\n\u001b[1;32m--> 390\u001b[1;33m             \u001b[0mresult\u001b[0m \u001b[1;33m=\u001b[0m \u001b[0mfunc\u001b[0m\u001b[1;33m(\u001b[0m\u001b[0mself\u001b[0m\u001b[1;33m.\u001b[0m\u001b[0mvalues\u001b[0m\u001b[1;33m,\u001b[0m \u001b[1;33m**\u001b[0m\u001b[0mkwargs\u001b[0m\u001b[1;33m)\u001b[0m\u001b[1;33m\u001b[0m\u001b[1;33m\u001b[0m\u001b[0m\n\u001b[0m\u001b[0;32m    391\u001b[0m \u001b[1;33m\u001b[0m\u001b[0m\n\u001b[0;32m    392\u001b[0m         \u001b[1;32mif\u001b[0m \u001b[0mis_extension_array_dtype\u001b[0m\u001b[1;33m(\u001b[0m\u001b[0mresult\u001b[0m\u001b[1;33m)\u001b[0m \u001b[1;32mand\u001b[0m \u001b[0mresult\u001b[0m\u001b[1;33m.\u001b[0m\u001b[0mndim\u001b[0m \u001b[1;33m>\u001b[0m \u001b[1;36m1\u001b[0m\u001b[1;33m:\u001b[0m\u001b[1;33m\u001b[0m\u001b[1;33m\u001b[0m\u001b[0m\n",
      "\u001b[1;32m~\\anaconda3\\lib\\site-packages\\pandas\\core\\ops\\array_ops.py\u001b[0m in \u001b[0;36mlogical_op\u001b[1;34m(left, right, op)\u001b[0m\n\u001b[0;32m    364\u001b[0m         \u001b[0mfiller\u001b[0m \u001b[1;33m=\u001b[0m \u001b[0mfill_int\u001b[0m \u001b[1;32mif\u001b[0m \u001b[0mis_self_int_dtype\u001b[0m \u001b[1;32mand\u001b[0m \u001b[0mis_other_int_dtype\u001b[0m \u001b[1;32melse\u001b[0m \u001b[0mfill_bool\u001b[0m\u001b[1;33m\u001b[0m\u001b[1;33m\u001b[0m\u001b[0m\n\u001b[0;32m    365\u001b[0m \u001b[1;33m\u001b[0m\u001b[0m\n\u001b[1;32m--> 366\u001b[1;33m         \u001b[0mres_values\u001b[0m \u001b[1;33m=\u001b[0m \u001b[0mna_logical_op\u001b[0m\u001b[1;33m(\u001b[0m\u001b[0mlvalues\u001b[0m\u001b[1;33m,\u001b[0m \u001b[0mrvalues\u001b[0m\u001b[1;33m,\u001b[0m \u001b[0mop\u001b[0m\u001b[1;33m)\u001b[0m\u001b[1;33m\u001b[0m\u001b[1;33m\u001b[0m\u001b[0m\n\u001b[0m\u001b[0;32m    367\u001b[0m         \u001b[0mres_values\u001b[0m \u001b[1;33m=\u001b[0m \u001b[0mfiller\u001b[0m\u001b[1;33m(\u001b[0m\u001b[0mres_values\u001b[0m\u001b[1;33m)\u001b[0m  \u001b[1;31m# type: ignore\u001b[0m\u001b[1;33m\u001b[0m\u001b[1;33m\u001b[0m\u001b[0m\n\u001b[0;32m    368\u001b[0m \u001b[1;33m\u001b[0m\u001b[0m\n",
      "\u001b[1;32m~\\anaconda3\\lib\\site-packages\\pandas\\core\\ops\\array_ops.py\u001b[0m in \u001b[0;36mna_logical_op\u001b[1;34m(x, y, op)\u001b[0m\n\u001b[0;32m    295\u001b[0m             ):\n\u001b[0;32m    296\u001b[0m                 \u001b[0mtyp\u001b[0m \u001b[1;33m=\u001b[0m \u001b[0mtype\u001b[0m\u001b[1;33m(\u001b[0m\u001b[0my\u001b[0m\u001b[1;33m)\u001b[0m\u001b[1;33m.\u001b[0m\u001b[0m__name__\u001b[0m\u001b[1;33m\u001b[0m\u001b[1;33m\u001b[0m\u001b[0m\n\u001b[1;32m--> 297\u001b[1;33m                 raise TypeError(\n\u001b[0m\u001b[0;32m    298\u001b[0m                     \u001b[1;34mf\"Cannot perform '{op.__name__}' with a dtyped [{x.dtype}] array \"\u001b[0m\u001b[1;33m\u001b[0m\u001b[1;33m\u001b[0m\u001b[0m\n\u001b[0;32m    299\u001b[0m                     \u001b[1;34mf\"and scalar of type [{typ}]\"\u001b[0m\u001b[1;33m\u001b[0m\u001b[1;33m\u001b[0m\u001b[0m\n",
      "\u001b[1;31mTypeError\u001b[0m: Cannot perform 'ror_' with a dtyped [bool] array and scalar of type [NoneType]"
     ]
    }
   ],
   "source": [
    "print(df_train < (Q1 - 1.5 * IQR)) |(df_train > (Q3 + 1.5 * IQR))"
   ]
  },
  {
   "cell_type": "code",
   "execution_count": 281,
   "metadata": {},
   "outputs": [
    {
     "data": {
      "text/plain": [
       "(1640, 55)"
      ]
     },
     "execution_count": 281,
     "metadata": {},
     "output_type": "execute_result"
    }
   ],
   "source": [
    "df_trainclean = df_train[~((df_train < (Q1 - 1.5 * IQR)) |(df_train > (Q3 + 1.5 * IQR))).any(axis=1)]\n",
    "df_trainclean.shape"
   ]
  },
  {
   "cell_type": "code",
   "execution_count": 282,
   "metadata": {},
   "outputs": [],
   "source": [
    "# An outlier is outside 1.5 * the IQR experimental analysis has shown that a higher/lower IQR might produce more accurate results. \n",
    "\n",
    "def removeOutliers(x, outlierConstant):\n",
    "    a = np.array(x)\n",
    "    upper_quartile = np.percentile(a, 75)\n",
    "    lower_quartile = np.percentile(a, 25)\n",
    "    IQR = (upper_quartile - lower_quartile) * outlierConstant\n",
    "    quartileSet = (lower_quartile - IQR, upper_quartile + IQR)\n",
    "    resultList = []\n",
    "    for y in a.tolist():\n",
    "        if y >= quartileSet[0] and y <= quartileSet[1]:\n",
    "            resultList.append(y)\n",
    "    return resultList\n"
   ]
  },
  {
   "cell_type": "code",
   "execution_count": 62,
   "metadata": {},
   "outputs": [
    {
     "data": {
      "text/plain": [
       "<matplotlib.axes._subplots.AxesSubplot at 0x1530e6e7550>"
      ]
     },
     "execution_count": 62,
     "metadata": {},
     "output_type": "execute_result"
    },
    {
     "data": {
      "image/png": "[encoded data removed]",
      "text/plain": [
       "<Figure size 432x288 with 1 Axes>"
      ]
     },
     "metadata": {
      "needs_background": "light"
     },
     "output_type": "display_data"
    }
   ],
   "source": [
    "sns.distplot(df_train['avg_time_charging_lag14'])\n",
    "#Use Mode"
   ]
  },
  {
   "cell_type": "code",
   "execution_count": 21,
   "metadata": {},
   "outputs": [],
   "source": [
    "groupa=['avg_time_charging_lag7','charging_rate_lag7','avg_time_discharging_lag7','discharging_rate_lag7',\n",
    "        'avg_time_charging_lag5','avg_time_discharging_lag5','avg_time_charging_lag6','avg_time_discharging_lag6',\n",
    "        'avg_time_charging_lag8','avg_time_discharging_lag8','avg_time_charging_lag9','avg_time_discharging_lag9',\n",
    "        'avg_time_charging_lag10','avg_time_discharging_lag10','avg_time_charging_lag11','avg_time_discharging_lag11',\n",
    "        'avg_time_charging_lag12','avg_time_discharging_lag12','avg_time_charging_lag13','avg_time_discharging_lag13',\n",
    "        'avg_time_charging_lag14','avg_time_discharging_lag14','discharging_rate_lag6','discharging_rate_lag8',\n",
    "        'charging_rate_lag6']\n",
    "df_train[groupa] = df_train[groupa].fillna(value=df_train[groupa].mean())"
   ]
  },
  {
   "cell_type": "code",
   "execution_count": 22,
   "metadata": {},
   "outputs": [],
   "source": [
    "groupb=['avg_time_charging_lag7','charging_rate_lag7','avg_time_discharging_lag7','discharging_rate_lag7',\n",
    "        'avg_time_charging_lag5','avg_time_discharging_lag5','avg_time_charging_lag6','avg_time_discharging_lag6',\n",
    "        'avg_time_charging_lag8','avg_time_discharging_lag8','avg_time_charging_lag9','avg_time_discharging_lag9',\n",
    "        'avg_time_charging_lag10','avg_time_discharging_lag10','avg_time_charging_lag11','avg_time_discharging_lag11',\n",
    "        'avg_time_charging_lag12','avg_time_discharging_lag12','avg_time_charging_lag13','avg_time_discharging_lag13',\n",
    "        'avg_time_charging_lag14','avg_time_discharging_lag14','discharging_rate_lag8']\n",
    "df_test[groupb] = df_test[groupb].fillna(value=df_test[groupb].mean())"
   ]
  },
  {
   "cell_type": "code",
   "execution_count": null,
   "metadata": {},
   "outputs": [],
   "source": []
  },
  {
   "cell_type": "code",
   "execution_count": 23,
   "metadata": {},
   "outputs": [
    {
     "name": "stdout",
     "output_type": "stream",
     "text": [
      "deviceid                       0\n",
      "avg_time_charging_lag1         0\n",
      "avg_time_charging_lag2         0\n",
      "avg_time_charging_lag3         0\n",
      "avg_time_charging_lag7         0\n",
      "charging_rate_lag3             0\n",
      "charging_rate_lag7             0\n",
      "avg_time_discharging_lag1      0\n",
      "avg_time_discharging_lag2      0\n",
      "avg_time_discharging_lag3      0\n",
      "avg_time_discharging_lag7      0\n",
      "discharging_rate_lag3          0\n",
      "discharging_rate_lag7          0\n",
      "fail_7                         0\n",
      "charge_cycle_time_below_12     0\n",
      "avg_time_charging_lag4         0\n",
      "avg_time_discharging_lag4      0\n",
      "avg_time_charging_lag5         0\n",
      "avg_time_discharging_lag5      0\n",
      "avg_time_charging_lag6         0\n",
      "avg_time_discharging_lag6      0\n",
      "avg_time_charging_lag8         0\n",
      "avg_time_discharging_lag8      0\n",
      "avg_time_charging_lag9         0\n",
      "avg_time_discharging_lag9      0\n",
      "avg_time_charging_lag10        0\n",
      "avg_time_discharging_lag10     0\n",
      "avg_time_charging_lag11        0\n",
      "avg_time_discharging_lag11     0\n",
      "avg_time_charging_lag12        0\n",
      "avg_time_discharging_lag12     0\n",
      "avg_time_charging_lag13        0\n",
      "avg_time_discharging_lag13     0\n",
      "avg_time_charging_lag14        0\n",
      "avg_time_discharging_lag14     0\n",
      "discharging_rate_lag4          0\n",
      "discharging_rate_lag5          0\n",
      "discharging_rate_lag6          0\n",
      "discharging_rate_lag8          0\n",
      "charging_rate_lag4             0\n",
      "charging_rate_lag5             0\n",
      "charging_rate_lag6             0\n",
      "chargecycles                   0\n",
      "dischargecycles                0\n",
      "total_off_time                 0\n",
      "number_times_restart           0\n",
      "avg_volt_change_charging       0\n",
      "avg_volt_change_discharging    0\n",
      "avg_time_charging              0\n",
      "avg_time_discharging           0\n",
      "max_voltage_day                0\n",
      "piececount                     0\n",
      "cycle_time                     0\n",
      "LastRecord                     0\n",
      "Date Deployed                  0\n",
      "dtype: int64\n"
     ]
    }
   ],
   "source": [
    "print(df_train.isna().sum())\n"
   ]
  },
  {
   "cell_type": "code",
   "execution_count": 24,
   "metadata": {},
   "outputs": [
    {
     "name": "stdout",
     "output_type": "stream",
     "text": [
      "deviceid                       0\n",
      "avg_time_charging_lag1         0\n",
      "avg_time_charging_lag2         0\n",
      "avg_time_charging_lag3         0\n",
      "avg_time_charging_lag7         0\n",
      "charging_rate_lag3             0\n",
      "charging_rate_lag7             0\n",
      "avg_time_discharging_lag1      0\n",
      "avg_time_discharging_lag2      0\n",
      "avg_time_discharging_lag3      0\n",
      "avg_time_discharging_lag7      0\n",
      "discharging_rate_lag3          0\n",
      "discharging_rate_lag7          0\n",
      "charge_cycle_time_below_12     0\n",
      "avg_time_charging_lag4         0\n",
      "avg_time_discharging_lag4      0\n",
      "avg_time_charging_lag5         0\n",
      "avg_time_discharging_lag5      0\n",
      "avg_time_charging_lag6         0\n",
      "avg_time_discharging_lag6      0\n",
      "avg_time_charging_lag8         0\n",
      "avg_time_discharging_lag8      0\n",
      "avg_time_charging_lag9         0\n",
      "avg_time_discharging_lag9      0\n",
      "avg_time_charging_lag10        0\n",
      "avg_time_discharging_lag10     0\n",
      "avg_time_charging_lag11        0\n",
      "avg_time_discharging_lag11     0\n",
      "avg_time_charging_lag12        0\n",
      "avg_time_discharging_lag12     0\n",
      "avg_time_charging_lag13        0\n",
      "avg_time_discharging_lag13     0\n",
      "avg_time_charging_lag14        0\n",
      "avg_time_discharging_lag14     0\n",
      "discharging_rate_lag4          0\n",
      "discharging_rate_lag5          0\n",
      "discharging_rate_lag6          0\n",
      "discharging_rate_lag8          0\n",
      "charging_rate_lag4             0\n",
      "charging_rate_lag5             0\n",
      "charging_rate_lag6             0\n",
      "chargecycles                   0\n",
      "dischargecycles                0\n",
      "total_off_time                 0\n",
      "number_times_restart           0\n",
      "avg_volt_change_charging       0\n",
      "avg_volt_change_discharging    0\n",
      "avg_time_charging              0\n",
      "avg_time_discharging           0\n",
      "max_voltage_day                0\n",
      "piececount                     0\n",
      "cycle_time                     0\n",
      "LastRecord                     0\n",
      "Date Deployed                  0\n",
      "dtype: int64\n"
     ]
    }
   ],
   "source": [
    "print(df_test.isna().sum())"
   ]
  },
  {
   "cell_type": "code",
   "execution_count": 261,
   "metadata": {},
   "outputs": [
    {
     "data": {
      "text/html": [
       "<div>\n",
       "<style scoped>\n",
       "    .dataframe tbody tr th:only-of-type {\n",
       "        vertical-align: middle;\n",
       "    }\n",
       "\n",
       "    .dataframe tbody tr th {\n",
       "        vertical-align: top;\n",
       "    }\n",
       "\n",
       "    .dataframe thead th {\n",
       "        text-align: right;\n",
       "    }\n",
       "</style>\n",
       "<table border=\"1\" class=\"dataframe\">\n",
       "  <thead>\n",
       "    <tr style=\"text-align: right;\">\n",
       "      <th></th>\n",
       "      <th>deviceid</th>\n",
       "      <th>avg_time_charging_lag1</th>\n",
       "      <th>avg_time_charging_lag2</th>\n",
       "      <th>avg_time_charging_lag3</th>\n",
       "      <th>avg_time_charging_lag7</th>\n",
       "      <th>charging_rate_lag3</th>\n",
       "      <th>charging_rate_lag7</th>\n",
       "      <th>avg_time_discharging_lag1</th>\n",
       "      <th>avg_time_discharging_lag2</th>\n",
       "      <th>avg_time_discharging_lag3</th>\n",
       "      <th>...</th>\n",
       "      <th>avg_volt_change_charging</th>\n",
       "      <th>avg_volt_change_discharging</th>\n",
       "      <th>avg_time_charging</th>\n",
       "      <th>avg_time_discharging</th>\n",
       "      <th>max_voltage_day</th>\n",
       "      <th>piececount</th>\n",
       "      <th>cycle_time</th>\n",
       "      <th>LastRecord</th>\n",
       "      <th>Date Deployed</th>\n",
       "      <th>lag1</th>\n",
       "    </tr>\n",
       "  </thead>\n",
       "  <tbody>\n",
       "    <tr>\n",
       "      <th>0</th>\n",
       "      <td>28647</td>\n",
       "      <td>5.12</td>\n",
       "      <td>41.11</td>\n",
       "      <td>6.56</td>\n",
       "      <td>25.39</td>\n",
       "      <td>0.086667</td>\n",
       "      <td>-0.006667</td>\n",
       "      <td>4.37</td>\n",
       "      <td>91.70</td>\n",
       "      <td>15.70</td>\n",
       "      <td>...</td>\n",
       "      <td>377.080000</td>\n",
       "      <td>367.428750</td>\n",
       "      <td>21.696250</td>\n",
       "      <td>39.005000</td>\n",
       "      <td>4174.875000</td>\n",
       "      <td>14.200000</td>\n",
       "      <td>60.701250</td>\n",
       "      <td>4/1/2021</td>\n",
       "      <td>10/6/2019</td>\n",
       "      <td>-0.725558</td>\n",
       "    </tr>\n",
       "    <tr>\n",
       "      <th>1</th>\n",
       "      <td>36175</td>\n",
       "      <td>36.60</td>\n",
       "      <td>5.16</td>\n",
       "      <td>6.23</td>\n",
       "      <td>6.96</td>\n",
       "      <td>0.136667</td>\n",
       "      <td>-1.296667</td>\n",
       "      <td>62.67</td>\n",
       "      <td>6.53</td>\n",
       "      <td>6.16</td>\n",
       "      <td>...</td>\n",
       "      <td>350.517857</td>\n",
       "      <td>350.309286</td>\n",
       "      <td>19.883571</td>\n",
       "      <td>32.213571</td>\n",
       "      <td>4161.000000</td>\n",
       "      <td>19.777778</td>\n",
       "      <td>52.097143</td>\n",
       "      <td>4/1/2021</td>\n",
       "      <td>10/27/2019</td>\n",
       "      <td>1.322035</td>\n",
       "    </tr>\n",
       "    <tr>\n",
       "      <th>2</th>\n",
       "      <td>16107</td>\n",
       "      <td>5.51</td>\n",
       "      <td>5.04</td>\n",
       "      <td>4.52</td>\n",
       "      <td>5.96</td>\n",
       "      <td>-0.460000</td>\n",
       "      <td>-0.083333</td>\n",
       "      <td>5.13</td>\n",
       "      <td>5.65</td>\n",
       "      <td>4.14</td>\n",
       "      <td>...</td>\n",
       "      <td>346.113333</td>\n",
       "      <td>343.409524</td>\n",
       "      <td>13.675238</td>\n",
       "      <td>20.471429</td>\n",
       "      <td>4152.238095</td>\n",
       "      <td>19.200000</td>\n",
       "      <td>34.146667</td>\n",
       "      <td>4/1/2021</td>\n",
       "      <td>10/31/2019</td>\n",
       "      <td>-0.700191</td>\n",
       "    </tr>\n",
       "    <tr>\n",
       "      <th>3</th>\n",
       "      <td>27362</td>\n",
       "      <td>4.66</td>\n",
       "      <td>39.85</td>\n",
       "      <td>35.76</td>\n",
       "      <td>40.69</td>\n",
       "      <td>0.076667</td>\n",
       "      <td>-0.006667</td>\n",
       "      <td>3.93</td>\n",
       "      <td>76.37</td>\n",
       "      <td>60.86</td>\n",
       "      <td>...</td>\n",
       "      <td>356.184211</td>\n",
       "      <td>349.844737</td>\n",
       "      <td>16.306842</td>\n",
       "      <td>26.189474</td>\n",
       "      <td>4164.631579</td>\n",
       "      <td>23.625000</td>\n",
       "      <td>42.496316</td>\n",
       "      <td>4/1/2021</td>\n",
       "      <td>10/1/2019</td>\n",
       "      <td>-0.755478</td>\n",
       "    </tr>\n",
       "    <tr>\n",
       "      <th>4</th>\n",
       "      <td>19463</td>\n",
       "      <td>5.10</td>\n",
       "      <td>43.24</td>\n",
       "      <td>4.63</td>\n",
       "      <td>5.26</td>\n",
       "      <td>0.040000</td>\n",
       "      <td>-0.153333</td>\n",
       "      <td>4.69</td>\n",
       "      <td>71.44</td>\n",
       "      <td>3.80</td>\n",
       "      <td>...</td>\n",
       "      <td>370.904000</td>\n",
       "      <td>367.730000</td>\n",
       "      <td>18.797333</td>\n",
       "      <td>30.812000</td>\n",
       "      <td>4169.800000</td>\n",
       "      <td>12.666667</td>\n",
       "      <td>49.609333</td>\n",
       "      <td>4/1/2021</td>\n",
       "      <td>9/13/2019</td>\n",
       "      <td>-0.726859</td>\n",
       "    </tr>\n",
       "    <tr>\n",
       "      <th>5</th>\n",
       "      <td>30054</td>\n",
       "      <td>27.74</td>\n",
       "      <td>5.12</td>\n",
       "      <td>42.39</td>\n",
       "      <td>5.46</td>\n",
       "      <td>0.076667</td>\n",
       "      <td>-0.020000</td>\n",
       "      <td>45.90</td>\n",
       "      <td>3.99</td>\n",
       "      <td>75.64</td>\n",
       "      <td>...</td>\n",
       "      <td>350.345500</td>\n",
       "      <td>346.747500</td>\n",
       "      <td>12.878500</td>\n",
       "      <td>19.621000</td>\n",
       "      <td>4151.600000</td>\n",
       "      <td>6.375000</td>\n",
       "      <td>32.499500</td>\n",
       "      <td>4/1/2021</td>\n",
       "      <td>10/5/2019</td>\n",
       "      <td>0.745743</td>\n",
       "    </tr>\n",
       "    <tr>\n",
       "      <th>6</th>\n",
       "      <td>26431</td>\n",
       "      <td>4.67</td>\n",
       "      <td>5.32</td>\n",
       "      <td>23.99</td>\n",
       "      <td>4.62</td>\n",
       "      <td>0.270000</td>\n",
       "      <td>-0.010000</td>\n",
       "      <td>3.56</td>\n",
       "      <td>4.62</td>\n",
       "      <td>18.57</td>\n",
       "      <td>...</td>\n",
       "      <td>358.789130</td>\n",
       "      <td>353.025652</td>\n",
       "      <td>17.384783</td>\n",
       "      <td>27.495217</td>\n",
       "      <td>4170.652174</td>\n",
       "      <td>20.500000</td>\n",
       "      <td>44.880000</td>\n",
       "      <td>4/1/2021</td>\n",
       "      <td>9/13/2019</td>\n",
       "      <td>-0.754828</td>\n",
       "    </tr>\n",
       "    <tr>\n",
       "      <th>7</th>\n",
       "      <td>5491</td>\n",
       "      <td>11.49</td>\n",
       "      <td>7.10</td>\n",
       "      <td>18.48</td>\n",
       "      <td>NaN</td>\n",
       "      <td>-0.650000</td>\n",
       "      <td>0.063333</td>\n",
       "      <td>18.21</td>\n",
       "      <td>10.88</td>\n",
       "      <td>23.40</td>\n",
       "      <td>...</td>\n",
       "      <td>345.727143</td>\n",
       "      <td>342.172857</td>\n",
       "      <td>19.920000</td>\n",
       "      <td>34.582857</td>\n",
       "      <td>4171.285714</td>\n",
       "      <td>7.166667</td>\n",
       "      <td>54.502857</td>\n",
       "      <td>4/1/2021</td>\n",
       "      <td>11/11/2019</td>\n",
       "      <td>-0.311226</td>\n",
       "    </tr>\n",
       "    <tr>\n",
       "      <th>8</th>\n",
       "      <td>43953</td>\n",
       "      <td>35.88</td>\n",
       "      <td>46.05</td>\n",
       "      <td>5.43</td>\n",
       "      <td>4.77</td>\n",
       "      <td>0.830000</td>\n",
       "      <td>-2.486667</td>\n",
       "      <td>47.08</td>\n",
       "      <td>85.63</td>\n",
       "      <td>6.50</td>\n",
       "      <td>...</td>\n",
       "      <td>330.151429</td>\n",
       "      <td>332.997857</td>\n",
       "      <td>18.780714</td>\n",
       "      <td>30.125000</td>\n",
       "      <td>4137.428571</td>\n",
       "      <td>3.857143</td>\n",
       "      <td>48.905714</td>\n",
       "      <td>4/1/2021</td>\n",
       "      <td>11/2/2019</td>\n",
       "      <td>1.275203</td>\n",
       "    </tr>\n",
       "    <tr>\n",
       "      <th>9</th>\n",
       "      <td>45081</td>\n",
       "      <td>4.80</td>\n",
       "      <td>41.35</td>\n",
       "      <td>6.09</td>\n",
       "      <td>27.60</td>\n",
       "      <td>-0.003333</td>\n",
       "      <td>0.000000</td>\n",
       "      <td>3.41</td>\n",
       "      <td>75.23</td>\n",
       "      <td>8.67</td>\n",
       "      <td>...</td>\n",
       "      <td>356.720952</td>\n",
       "      <td>348.738571</td>\n",
       "      <td>16.782381</td>\n",
       "      <td>26.645238</td>\n",
       "      <td>4157.761905</td>\n",
       "      <td>9.500000</td>\n",
       "      <td>43.427619</td>\n",
       "      <td>4/1/2021</td>\n",
       "      <td>9/19/2019</td>\n",
       "      <td>-0.746372</td>\n",
       "    </tr>\n",
       "  </tbody>\n",
       "</table>\n",
       "<p>10 rows × 56 columns</p>\n",
       "</div>"
      ],
      "text/plain": [
       "   deviceid  avg_time_charging_lag1  avg_time_charging_lag2  \\\n",
       "0     28647                    5.12                   41.11   \n",
       "1     36175                   36.60                    5.16   \n",
       "2     16107                    5.51                    5.04   \n",
       "3     27362                    4.66                   39.85   \n",
       "4     19463                    5.10                   43.24   \n",
       "5     30054                   27.74                    5.12   \n",
       "6     26431                    4.67                    5.32   \n",
       "7      5491                   11.49                    7.10   \n",
       "8     43953                   35.88                   46.05   \n",
       "9     45081                    4.80                   41.35   \n",
       "\n",
       "   avg_time_charging_lag3  avg_time_charging_lag7  charging_rate_lag3  \\\n",
       "0                    6.56                   25.39            0.086667   \n",
       "1                    6.23                    6.96            0.136667   \n",
       "2                    4.52                    5.96           -0.460000   \n",
       "3                   35.76                   40.69            0.076667   \n",
       "4                    4.63                    5.26            0.040000   \n",
       "5                   42.39                    5.46            0.076667   \n",
       "6                   23.99                    4.62            0.270000   \n",
       "7                   18.48                     NaN           -0.650000   \n",
       "8                    5.43                    4.77            0.830000   \n",
       "9                    6.09                   27.60           -0.003333   \n",
       "\n",
       "   charging_rate_lag7  avg_time_discharging_lag1  avg_time_discharging_lag2  \\\n",
       "0           -0.006667                       4.37                      91.70   \n",
       "1           -1.296667                      62.67                       6.53   \n",
       "2           -0.083333                       5.13                       5.65   \n",
       "3           -0.006667                       3.93                      76.37   \n",
       "4           -0.153333                       4.69                      71.44   \n",
       "5           -0.020000                      45.90                       3.99   \n",
       "6           -0.010000                       3.56                       4.62   \n",
       "7            0.063333                      18.21                      10.88   \n",
       "8           -2.486667                      47.08                      85.63   \n",
       "9            0.000000                       3.41                      75.23   \n",
       "\n",
       "   avg_time_discharging_lag3  ...  avg_volt_change_charging  \\\n",
       "0                      15.70  ...                377.080000   \n",
       "1                       6.16  ...                350.517857   \n",
       "2                       4.14  ...                346.113333   \n",
       "3                      60.86  ...                356.184211   \n",
       "4                       3.80  ...                370.904000   \n",
       "5                      75.64  ...                350.345500   \n",
       "6                      18.57  ...                358.789130   \n",
       "7                      23.40  ...                345.727143   \n",
       "8                       6.50  ...                330.151429   \n",
       "9                       8.67  ...                356.720952   \n",
       "\n",
       "   avg_volt_change_discharging  avg_time_charging  avg_time_discharging  \\\n",
       "0                   367.428750          21.696250             39.005000   \n",
       "1                   350.309286          19.883571             32.213571   \n",
       "2                   343.409524          13.675238             20.471429   \n",
       "3                   349.844737          16.306842             26.189474   \n",
       "4                   367.730000          18.797333             30.812000   \n",
       "5                   346.747500          12.878500             19.621000   \n",
       "6                   353.025652          17.384783             27.495217   \n",
       "7                   342.172857          19.920000             34.582857   \n",
       "8                   332.997857          18.780714             30.125000   \n",
       "9                   348.738571          16.782381             26.645238   \n",
       "\n",
       "   max_voltage_day  piececount  cycle_time  LastRecord  Date Deployed  \\\n",
       "0      4174.875000   14.200000   60.701250    4/1/2021      10/6/2019   \n",
       "1      4161.000000   19.777778   52.097143    4/1/2021     10/27/2019   \n",
       "2      4152.238095   19.200000   34.146667    4/1/2021     10/31/2019   \n",
       "3      4164.631579   23.625000   42.496316    4/1/2021      10/1/2019   \n",
       "4      4169.800000   12.666667   49.609333    4/1/2021      9/13/2019   \n",
       "5      4151.600000    6.375000   32.499500    4/1/2021      10/5/2019   \n",
       "6      4170.652174   20.500000   44.880000    4/1/2021      9/13/2019   \n",
       "7      4171.285714    7.166667   54.502857    4/1/2021     11/11/2019   \n",
       "8      4137.428571    3.857143   48.905714    4/1/2021      11/2/2019   \n",
       "9      4157.761905    9.500000   43.427619    4/1/2021      9/19/2019   \n",
       "\n",
       "       lag1  \n",
       "0 -0.725558  \n",
       "1  1.322035  \n",
       "2 -0.700191  \n",
       "3 -0.755478  \n",
       "4 -0.726859  \n",
       "5  0.745743  \n",
       "6 -0.754828  \n",
       "7 -0.311226  \n",
       "8  1.275203  \n",
       "9 -0.746372  \n",
       "\n",
       "[10 rows x 56 columns]"
      ]
     },
     "execution_count": 261,
     "metadata": {},
     "output_type": "execute_result"
    }
   ],
   "source": [
    "df_train.head(10)"
   ]
  }
 ],
 "metadata": {
  "kernelspec": {
   "display_name": "Python 3",
   "language": "python",
   "name": "python3"
  },
  "language_info": {
   "codemirror_mode": {
    "name": "ipython",
    "version": 3
   },
   "file_extension": ".py",
   "mimetype": "text/x-python",
   "name": "python",
   "nbconvert_exporter": "python",
   "pygments_lexer": "ipython3",
   "version": "3.7.6"
  }
 },
 "nbformat": 4,
 "nbformat_minor": 4
}
