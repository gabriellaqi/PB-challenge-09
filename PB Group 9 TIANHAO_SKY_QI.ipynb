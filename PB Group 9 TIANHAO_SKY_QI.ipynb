{
 "cells": [
  {
   "cell_type": "code",
   "execution_count": 1,
   "metadata": {},
   "outputs": [],
   "source": [
    "import pandas as pd\n",
    "import matplotlib.pyplot as plt\n",
    "import numpy as np\n",
    "import seaborn as sns"
   ]
  },
  {
   "cell_type": "code",
   "execution_count": 2,
   "metadata": {},
   "outputs": [],
   "source": [
    "import re"
   ]
  },
  {
   "cell_type": "code",
   "execution_count": 3,
   "metadata": {},
   "outputs": [],
   "source": [
    "from sklearn.model_selection import cross_val_score\n",
    "from sklearn.model_selection import StratifiedKFold"
   ]
  },
  {
   "cell_type": "code",
   "execution_count": 4,
   "metadata": {},
   "outputs": [],
   "source": [
    "from sklearn.model_selection import GridSearchCV\n",
    "from sklearn.pipeline import Pipeline"
   ]
  },
  {
   "cell_type": "code",
   "execution_count": 5,
   "metadata": {},
   "outputs": [],
   "source": [
    "from sklearn.preprocessing import StandardScaler\n",
    "from sklearn.impute import KNNImputer\n",
    "from sklearn.ensemble import IsolationForest\n",
    "from sklearn.preprocessing import PolynomialFeatures"
   ]
  },
  {
   "cell_type": "code",
   "execution_count": 6,
   "metadata": {},
   "outputs": [],
   "source": [
    "from sklearn.linear_model import LogisticRegression\n",
    "from sklearn.naive_bayes import GaussianNB\n",
    "from sklearn.neighbors import KNeighborsClassifier\n",
    "from sklearn.svm import SVC\n",
    "from sklearn.ensemble import GradientBoostingClassifier\n",
    "from sklearn.ensemble import RandomForestClassifier\n",
    "from sklearn.neural_network import MLPClassifier"
   ]
  },
  {
   "cell_type": "code",
   "execution_count": 25,
   "metadata": {},
   "outputs": [],
   "source": [
    "from sklearn.ensemble import StackingClassifier"
   ]
  },
  {
   "cell_type": "code",
   "execution_count": 7,
   "metadata": {},
   "outputs": [],
   "source": [
    "df=pd.read_csv(\"train.csv\")"
   ]
  },
  {
   "cell_type": "markdown",
   "metadata": {},
   "source": [
    "<h2>Create a use time feature now</h2>"
   ]
  },
  {
   "cell_type": "code",
   "execution_count": 8,
   "metadata": {},
   "outputs": [],
   "source": [
    "df['LastRecord']= pd.to_datetime(df['LastRecord'])\n",
    "df['Date Deployed']= pd.to_datetime(df['Date Deployed'])\n"
   ]
  },
  {
   "cell_type": "code",
   "execution_count": 9,
   "metadata": {},
   "outputs": [],
   "source": [
    "df['use_time']=df['LastRecord']-df['Date Deployed']\n",
    "df['use_time']=df['use_time'].astype('timedelta64[D]').astype(int)"
   ]
  },
  {
   "cell_type": "code",
   "execution_count": 10,
   "metadata": {},
   "outputs": [
    {
     "data": {
      "text/html": [
       "<div>\n",
       "<style scoped>\n",
       "    .dataframe tbody tr th:only-of-type {\n",
       "        vertical-align: middle;\n",
       "    }\n",
       "\n",
       "    .dataframe tbody tr th {\n",
       "        vertical-align: top;\n",
       "    }\n",
       "\n",
       "    .dataframe thead th {\n",
       "        text-align: right;\n",
       "    }\n",
       "</style>\n",
       "<table border=\"1\" class=\"dataframe\">\n",
       "  <thead>\n",
       "    <tr style=\"text-align: right;\">\n",
       "      <th></th>\n",
       "      <th>use_time</th>\n",
       "    </tr>\n",
       "  </thead>\n",
       "  <tbody>\n",
       "    <tr>\n",
       "      <th>0</th>\n",
       "      <td>543</td>\n",
       "    </tr>\n",
       "    <tr>\n",
       "      <th>1</th>\n",
       "      <td>522</td>\n",
       "    </tr>\n",
       "    <tr>\n",
       "      <th>2</th>\n",
       "      <td>518</td>\n",
       "    </tr>\n",
       "    <tr>\n",
       "      <th>3</th>\n",
       "      <td>548</td>\n",
       "    </tr>\n",
       "    <tr>\n",
       "      <th>4</th>\n",
       "      <td>566</td>\n",
       "    </tr>\n",
       "  </tbody>\n",
       "</table>\n",
       "</div>"
      ],
      "text/plain": [
       "   use_time\n",
       "0       543\n",
       "1       522\n",
       "2       518\n",
       "3       548\n",
       "4       566"
      ]
     },
     "execution_count": 10,
     "metadata": {},
     "output_type": "execute_result"
    }
   ],
   "source": [
    "use_time=pd.DataFrame(df['use_time'])\n",
    "use_time.head(5)"
   ]
  },
  {
   "cell_type": "markdown",
   "metadata": {},
   "source": [
    "<h2>Preprocessing</h2>"
   ]
  },
  {
   "cell_type": "code",
   "execution_count": 11,
   "metadata": {},
   "outputs": [],
   "source": [
    "X_train=df.drop(['deviceid','LastRecord','Date Deployed','fail_7'],axis=1)\n",
    "Y_train=df['fail_7']\n"
   ]
  },
  {
   "cell_type": "code",
   "execution_count": 12,
   "metadata": {},
   "outputs": [
    {
     "data": {
      "text/plain": [
       "0"
      ]
     },
     "execution_count": 12,
     "metadata": {},
     "output_type": "execute_result"
    }
   ],
   "source": [
    "Y_train.isnull().sum()"
   ]
  },
  {
   "cell_type": "code",
   "execution_count": 13,
   "metadata": {},
   "outputs": [
    {
     "data": {
      "text/plain": [
       "0.23212345679012344"
      ]
     },
     "execution_count": 13,
     "metadata": {},
     "output_type": "execute_result"
    }
   ],
   "source": [
    "Y_train.sum()/len(Y_train)"
   ]
  },
  {
   "cell_type": "markdown",
   "metadata": {},
   "source": [
    "<h4>Scale & Treat Missing Values</h4>"
   ]
  },
  {
   "cell_type": "code",
   "execution_count": 14,
   "metadata": {},
   "outputs": [],
   "source": [
    "pipeline=Pipeline([('preprocessing',StandardScaler()),('imputer',KNNImputer())])\n",
    "X_train_transformed=pipeline.fit_transform(X_train)\n",
    "X_train_transformed=pd.DataFrame(X_train_transformed,columns=X_train.columns)"
   ]
  },
  {
   "cell_type": "markdown",
   "metadata": {},
   "source": [
    "<h4>Remove Outliers</h4>"
   ]
  },
  {
   "cell_type": "code",
   "execution_count": 15,
   "metadata": {},
   "outputs": [
    {
     "data": {
      "text/plain": [
       "IsolationForest(random_state=0)"
      ]
     },
     "execution_count": 15,
     "metadata": {},
     "output_type": "execute_result"
    }
   ],
   "source": [
    "iso=IsolationForest(random_state=0)\n",
    "iso.fit(X_train_transformed)"
   ]
  },
  {
   "cell_type": "code",
   "execution_count": 16,
   "metadata": {},
   "outputs": [],
   "source": [
    "pred=iso.predict(X_train_transformed)\n"
   ]
  },
  {
   "cell_type": "code",
   "execution_count": 17,
   "metadata": {},
   "outputs": [],
   "source": [
    "non_outlier_index=(pred!=-1)"
   ]
  },
  {
   "cell_type": "code",
   "execution_count": 18,
   "metadata": {},
   "outputs": [],
   "source": [
    "X_train_transformed=X_train_transformed[non_outlier_index]\n",
    "Y_train_transformed=Y_train[non_outlier_index]"
   ]
  },
  {
   "cell_type": "code",
   "execution_count": 19,
   "metadata": {},
   "outputs": [
    {
     "data": {
      "text/plain": [
       "(38112, 52)"
      ]
     },
     "execution_count": 19,
     "metadata": {},
     "output_type": "execute_result"
    }
   ],
   "source": [
    "X_train_transformed.shape"
   ]
  },
  {
   "cell_type": "code",
   "execution_count": 20,
   "metadata": {},
   "outputs": [],
   "source": [
    "df_transformed=pd.concat([X_train_transformed,pd.DataFrame(Y_train_transformed)],axis=1).reset_index(drop=True)\n"
   ]
  },
  {
   "cell_type": "code",
   "execution_count": 21,
   "metadata": {},
   "outputs": [
    {
     "data": {
      "text/html": [
       "<div>\n",
       "<style scoped>\n",
       "    .dataframe tbody tr th:only-of-type {\n",
       "        vertical-align: middle;\n",
       "    }\n",
       "\n",
       "    .dataframe tbody tr th {\n",
       "        vertical-align: top;\n",
       "    }\n",
       "\n",
       "    .dataframe thead th {\n",
       "        text-align: right;\n",
       "    }\n",
       "</style>\n",
       "<table border=\"1\" class=\"dataframe\">\n",
       "  <thead>\n",
       "    <tr style=\"text-align: right;\">\n",
       "      <th></th>\n",
       "      <th>avg_time_charging_lag1</th>\n",
       "      <th>avg_time_charging_lag2</th>\n",
       "      <th>avg_time_charging_lag3</th>\n",
       "      <th>avg_time_charging_lag7</th>\n",
       "      <th>charging_rate_lag3</th>\n",
       "      <th>charging_rate_lag7</th>\n",
       "      <th>avg_time_discharging_lag1</th>\n",
       "      <th>avg_time_discharging_lag2</th>\n",
       "      <th>avg_time_discharging_lag3</th>\n",
       "      <th>avg_time_discharging_lag7</th>\n",
       "      <th>...</th>\n",
       "      <th>number_times_restart</th>\n",
       "      <th>avg_volt_change_charging</th>\n",
       "      <th>avg_volt_change_discharging</th>\n",
       "      <th>avg_time_charging</th>\n",
       "      <th>avg_time_discharging</th>\n",
       "      <th>max_voltage_day</th>\n",
       "      <th>piececount</th>\n",
       "      <th>cycle_time</th>\n",
       "      <th>use_time</th>\n",
       "      <th>fail_7</th>\n",
       "    </tr>\n",
       "  </thead>\n",
       "  <tbody>\n",
       "    <tr>\n",
       "      <th>0</th>\n",
       "      <td>1.322035</td>\n",
       "      <td>-0.736535</td>\n",
       "      <td>-0.656490</td>\n",
       "      <td>-0.620662</td>\n",
       "      <td>0.231943</td>\n",
       "      <td>-1.643846</td>\n",
       "      <td>1.260757</td>\n",
       "      <td>-0.672922</td>\n",
       "      <td>-0.674548</td>\n",
       "      <td>-0.614943</td>\n",
       "      <td>...</td>\n",
       "      <td>-0.519458</td>\n",
       "      <td>-0.070922</td>\n",
       "      <td>0.158275</td>\n",
       "      <td>0.993651</td>\n",
       "      <td>0.899960</td>\n",
       "      <td>0.153353</td>\n",
       "      <td>-0.045461</td>\n",
       "      <td>0.936226</td>\n",
       "      <td>-1.263578</td>\n",
       "      <td>0</td>\n",
       "    </tr>\n",
       "    <tr>\n",
       "      <th>1</th>\n",
       "      <td>-0.700191</td>\n",
       "      <td>-0.744314</td>\n",
       "      <td>-0.768220</td>\n",
       "      <td>-0.686725</td>\n",
       "      <td>-0.536665</td>\n",
       "      <td>-0.040072</td>\n",
       "      <td>-0.706853</td>\n",
       "      <td>-0.702794</td>\n",
       "      <td>-0.743562</td>\n",
       "      <td>-0.415954</td>\n",
       "      <td>...</td>\n",
       "      <td>0.872781</td>\n",
       "      <td>-0.416504</td>\n",
       "      <td>-0.361379</td>\n",
       "      <td>-0.753399</td>\n",
       "      <td>-0.823473</td>\n",
       "      <td>-0.621582</td>\n",
       "      <td>-0.080560</td>\n",
       "      <td>-0.803012</td>\n",
       "      <td>-1.444093</td>\n",
       "      <td>0</td>\n",
       "    </tr>\n",
       "    <tr>\n",
       "      <th>2</th>\n",
       "      <td>-0.755478</td>\n",
       "      <td>1.512328</td>\n",
       "      <td>1.272963</td>\n",
       "      <td>1.607623</td>\n",
       "      <td>0.154653</td>\n",
       "      <td>0.061266</td>\n",
       "      <td>-0.747888</td>\n",
       "      <td>1.697835</td>\n",
       "      <td>1.194297</td>\n",
       "      <td>1.636361</td>\n",
       "      <td>...</td>\n",
       "      <td>-0.637826</td>\n",
       "      <td>0.373663</td>\n",
       "      <td>0.123287</td>\n",
       "      <td>-0.012855</td>\n",
       "      <td>0.015783</td>\n",
       "      <td>0.474543</td>\n",
       "      <td>0.188245</td>\n",
       "      <td>0.005993</td>\n",
       "      <td>-0.090230</td>\n",
       "      <td>0</td>\n",
       "    </tr>\n",
       "    <tr>\n",
       "      <th>3</th>\n",
       "      <td>-0.726859</td>\n",
       "      <td>1.732092</td>\n",
       "      <td>-0.761032</td>\n",
       "      <td>-0.732968</td>\n",
       "      <td>0.107420</td>\n",
       "      <td>-0.132597</td>\n",
       "      <td>-0.721899</td>\n",
       "      <td>1.530484</td>\n",
       "      <td>-0.755178</td>\n",
       "      <td>-0.682537</td>\n",
       "      <td>...</td>\n",
       "      <td>-0.459485</td>\n",
       "      <td>1.528587</td>\n",
       "      <td>1.470311</td>\n",
       "      <td>0.687980</td>\n",
       "      <td>0.694247</td>\n",
       "      <td>0.931658</td>\n",
       "      <td>-0.477438</td>\n",
       "      <td>0.695180</td>\n",
       "      <td>0.722088</td>\n",
       "      <td>0</td>\n",
       "    </tr>\n",
       "    <tr>\n",
       "      <th>4</th>\n",
       "      <td>0.745743</td>\n",
       "      <td>-0.739128</td>\n",
       "      <td>1.706159</td>\n",
       "      <td>-0.719756</td>\n",
       "      <td>0.154653</td>\n",
       "      <td>0.043642</td>\n",
       "      <td>0.687298</td>\n",
       "      <td>-0.759144</td>\n",
       "      <td>1.699260</td>\n",
       "      <td>-0.749097</td>\n",
       "      <td>...</td>\n",
       "      <td>-0.002188</td>\n",
       "      <td>-0.084446</td>\n",
       "      <td>-0.109980</td>\n",
       "      <td>-0.977604</td>\n",
       "      <td>-0.948294</td>\n",
       "      <td>-0.678018</td>\n",
       "      <td>-0.859637</td>\n",
       "      <td>-0.962608</td>\n",
       "      <td>-0.270745</td>\n",
       "      <td>0</td>\n",
       "    </tr>\n",
       "  </tbody>\n",
       "</table>\n",
       "<p>5 rows × 53 columns</p>\n",
       "</div>"
      ],
      "text/plain": [
       "   avg_time_charging_lag1  avg_time_charging_lag2  avg_time_charging_lag3  \\\n",
       "0                1.322035               -0.736535               -0.656490   \n",
       "1               -0.700191               -0.744314               -0.768220   \n",
       "2               -0.755478                1.512328                1.272963   \n",
       "3               -0.726859                1.732092               -0.761032   \n",
       "4                0.745743               -0.739128                1.706159   \n",
       "\n",
       "   avg_time_charging_lag7  charging_rate_lag3  charging_rate_lag7  \\\n",
       "0               -0.620662            0.231943           -1.643846   \n",
       "1               -0.686725           -0.536665           -0.040072   \n",
       "2                1.607623            0.154653            0.061266   \n",
       "3               -0.732968            0.107420           -0.132597   \n",
       "4               -0.719756            0.154653            0.043642   \n",
       "\n",
       "   avg_time_discharging_lag1  avg_time_discharging_lag2  \\\n",
       "0                   1.260757                  -0.672922   \n",
       "1                  -0.706853                  -0.702794   \n",
       "2                  -0.747888                   1.697835   \n",
       "3                  -0.721899                   1.530484   \n",
       "4                   0.687298                  -0.759144   \n",
       "\n",
       "   avg_time_discharging_lag3  avg_time_discharging_lag7  ...  \\\n",
       "0                  -0.674548                  -0.614943  ...   \n",
       "1                  -0.743562                  -0.415954  ...   \n",
       "2                   1.194297                   1.636361  ...   \n",
       "3                  -0.755178                  -0.682537  ...   \n",
       "4                   1.699260                  -0.749097  ...   \n",
       "\n",
       "   number_times_restart  avg_volt_change_charging  \\\n",
       "0             -0.519458                 -0.070922   \n",
       "1              0.872781                 -0.416504   \n",
       "2             -0.637826                  0.373663   \n",
       "3             -0.459485                  1.528587   \n",
       "4             -0.002188                 -0.084446   \n",
       "\n",
       "   avg_volt_change_discharging  avg_time_charging  avg_time_discharging  \\\n",
       "0                     0.158275           0.993651              0.899960   \n",
       "1                    -0.361379          -0.753399             -0.823473   \n",
       "2                     0.123287          -0.012855              0.015783   \n",
       "3                     1.470311           0.687980              0.694247   \n",
       "4                    -0.109980          -0.977604             -0.948294   \n",
       "\n",
       "   max_voltage_day  piececount  cycle_time  use_time  fail_7  \n",
       "0         0.153353   -0.045461    0.936226 -1.263578       0  \n",
       "1        -0.621582   -0.080560   -0.803012 -1.444093       0  \n",
       "2         0.474543    0.188245    0.005993 -0.090230       0  \n",
       "3         0.931658   -0.477438    0.695180  0.722088       0  \n",
       "4        -0.678018   -0.859637   -0.962608 -0.270745       0  \n",
       "\n",
       "[5 rows x 53 columns]"
      ]
     },
     "execution_count": 21,
     "metadata": {},
     "output_type": "execute_result"
    }
   ],
   "source": [
    "df_transformed.head(5)"
   ]
  },
  {
   "cell_type": "markdown",
   "metadata": {},
   "source": [
    "<h2>Feature Engineering</h2>"
   ]
  },
  {
   "cell_type": "markdown",
   "metadata": {},
   "source": [
    "<h4>Feature Importance</h4>"
   ]
  },
  {
   "cell_type": "code",
   "execution_count": 122,
   "metadata": {},
   "outputs": [
    {
     "data": {
      "text/plain": [
       "GradientBoostingClassifier(random_state=0)"
      ]
     },
     "execution_count": 122,
     "metadata": {},
     "output_type": "execute_result"
    }
   ],
   "source": [
    "gbdt = GradientBoostingClassifier(random_state=0)\n",
    "gbdt.fit(X_train_transformed, Y_train_transformed)\n"
   ]
  },
  {
   "cell_type": "code",
   "execution_count": 127,
   "metadata": {},
   "outputs": [],
   "source": [
    "#function to plot feature imprtance\n",
    "def plot_feature_importances(model):\n",
    "    n_features = X_train_transformed.shape[1]\n",
    "    plt.barh(range(n_features), model.feature_importances_, align='center')\n",
    "    plt.yticks(np.arange(n_features), X_train_transformed.columns)\n",
    "    plt.xlabel(\"Feature importance\")\n",
    "    plt.ylabel(\"Feature\")\n",
    "    plt.ylim(-1, n_features)"
   ]
  },
  {
   "cell_type": "code",
   "execution_count": 128,
   "metadata": {},
   "outputs": [
    {
     "data": {
      "image/png": "[encoded data removed]",
      "text/plain": [
       "<Figure size 432x288 with 1 Axes>"
      ]
     },
     "metadata": {
      "needs_background": "light"
     },
     "output_type": "display_data"
    }
   ],
   "source": [
    "plot_feature_importances(gbdt)"
   ]
  },
  {
   "cell_type": "markdown",
   "metadata": {},
   "source": [
    "<div class=\"alert-success\">\n",
    "Top 5 features dominates "
   ]
  },
  {
   "cell_type": "code",
   "execution_count": 131,
   "metadata": {},
   "outputs": [
    {
     "data": {
      "text/html": [
       "<div>\n",
       "<style scoped>\n",
       "    .dataframe tbody tr th:only-of-type {\n",
       "        vertical-align: middle;\n",
       "    }\n",
       "\n",
       "    .dataframe tbody tr th {\n",
       "        vertical-align: top;\n",
       "    }\n",
       "\n",
       "    .dataframe thead th {\n",
       "        text-align: right;\n",
       "    }\n",
       "</style>\n",
       "<table border=\"1\" class=\"dataframe\">\n",
       "  <thead>\n",
       "    <tr style=\"text-align: right;\">\n",
       "      <th></th>\n",
       "      <th>Importance Value</th>\n",
       "    </tr>\n",
       "  </thead>\n",
       "  <tbody>\n",
       "    <tr>\n",
       "      <th>discharging_rate_lag3</th>\n",
       "      <td>0.388741</td>\n",
       "    </tr>\n",
       "    <tr>\n",
       "      <th>charge_cycle_time_below_12</th>\n",
       "      <td>0.356818</td>\n",
       "    </tr>\n",
       "    <tr>\n",
       "      <th>charging_rate_lag3</th>\n",
       "      <td>0.136586</td>\n",
       "    </tr>\n",
       "    <tr>\n",
       "      <th>avg_volt_change_charging</th>\n",
       "      <td>0.033035</td>\n",
       "    </tr>\n",
       "    <tr>\n",
       "      <th>use_time</th>\n",
       "      <td>0.019237</td>\n",
       "    </tr>\n",
       "    <tr>\n",
       "      <th>avg_volt_change_discharging</th>\n",
       "      <td>0.005545</td>\n",
       "    </tr>\n",
       "    <tr>\n",
       "      <th>total_off_time</th>\n",
       "      <td>0.004736</td>\n",
       "    </tr>\n",
       "    <tr>\n",
       "      <th>avg_time_discharging_lag1</th>\n",
       "      <td>0.003715</td>\n",
       "    </tr>\n",
       "    <tr>\n",
       "      <th>number_times_restart</th>\n",
       "      <td>0.003694</td>\n",
       "    </tr>\n",
       "    <tr>\n",
       "      <th>avg_time_discharging_lag14</th>\n",
       "      <td>0.002698</td>\n",
       "    </tr>\n",
       "  </tbody>\n",
       "</table>\n",
       "</div>"
      ],
      "text/plain": [
       "                             Importance Value\n",
       "discharging_rate_lag3                0.388741\n",
       "charge_cycle_time_below_12           0.356818\n",
       "charging_rate_lag3                   0.136586\n",
       "avg_volt_change_charging             0.033035\n",
       "use_time                             0.019237\n",
       "avg_volt_change_discharging          0.005545\n",
       "total_off_time                       0.004736\n",
       "avg_time_discharging_lag1            0.003715\n",
       "number_times_restart                 0.003694\n",
       "avg_time_discharging_lag14           0.002698"
      ]
     },
     "execution_count": 131,
     "metadata": {},
     "output_type": "execute_result"
    }
   ],
   "source": [
    "\n",
    "pd.set_option('display.max_rows', None)\n",
    "df_featureImportance=pd.DataFrame(gbdt.feature_importances_,index=X_train_transformed.columns,columns=['Importance Value'])\n",
    "\n",
    "df_featureImportance.sort_values(by=['Importance Value'],ascending=False).head(10)\n",
    "\n"
   ]
  },
  {
   "cell_type": "markdown",
   "metadata": {},
   "source": [
    "<h4>Model Pre-selection</h4>"
   ]
  },
  {
   "cell_type": "markdown",
   "metadata": {},
   "source": [
    "<div class=\"alert-success\">\n",
    "Use default model parameters to select a model for testing feature selections"
   ]
  },
  {
   "cell_type": "code",
   "execution_count": 138,
   "metadata": {},
   "outputs": [],
   "source": [
    "models = []\n",
    "\n",
    "\n",
    "# Gaussian Naive Bayes\n",
    "models.append(('NB', GaussianNB())) \n",
    "\n",
    "\n",
    "# Logistic regression\n",
    "models.append(('LR', LogisticRegression()))\n",
    "\n",
    "#KNN\n",
    "models.append(('KNN',KNeighborsClassifier()))\n",
    "\n",
    "#Kernalize SVM\n",
    "models.append(('SVM',SVC()))\n",
    "\n",
    "#GBDT\n",
    "models.append(('GBDT', GradientBoostingClassifier(random_state=0)))\n",
    "\n",
    "#RF\n",
    "models.append(('RF', RandomForestClassifier(random_state=0)))\n",
    "\n",
    "#Neural Network\n",
    "models.append(('MLP',MLPClassifier(random_state=0)))"
   ]
  },
  {
   "cell_type": "code",
   "execution_count": 140,
   "metadata": {},
   "outputs": [
    {
     "name": "stdout",
     "output_type": "stream",
     "text": [
      "NB: 0.627466 (0.011617)\n",
      "LR: 0.765586 (0.001852)\n",
      "KNN: 0.726622 (0.005926)\n",
      "SVM: 0.765822 (0.000015)\n",
      "GBDT: 0.811818 (0.002791)\n",
      "RF: 0.795891 (0.002208)\n",
      "MLP: 0.726123 (0.007150)\n"
     ]
    }
   ],
   "source": [
    "\n",
    "#For int/None inputs, if the estimator is a classifier and y is either binary or multiclass, StratifiedKFold is used\n",
    "names = []\n",
    "results = []\n",
    "for name,model in models:\n",
    "    kfold = StratifiedKFold(n_splits=5, random_state=0,shuffle=True)\n",
    "    cv_results = cross_val_score(model, \n",
    "                                 X_train_transformed,\n",
    "                                 Y_train_transformed, cv=kfold, scoring='accuracy',n_jobs=-1)\n",
    "    results.append(cv_results)\n",
    "    names.append(name)\n",
    "    print('%s: %f (%f)' % (name,cv_results.mean(),cv_results.std()))"
   ]
  },
  {
   "cell_type": "markdown",
   "metadata": {},
   "source": [
    "<div class=\"alert-success\">\n",
    "GBDT has the best performance, use this as model of evaluation for feature selections"
   ]
  },
  {
   "cell_type": "markdown",
   "metadata": {},
   "source": [
    "<div class=\"alert-danger\">\n",
    "There is data leakage in cross-validation, we will solve that using pipeline in final model building and evaluation"
   ]
  },
  {
   "cell_type": "code",
   "execution_count": 141,
   "metadata": {},
   "outputs": [
    {
     "data": {
      "image/png": "[encoded data removed]",
      "text/plain": [
       "<Figure size 1080x432 with 1 Axes>"
      ]
     },
     "metadata": {
      "needs_background": "light"
     },
     "output_type": "display_data"
    }
   ],
   "source": [
    "# Compare Algorithms\n",
    "fig,ax = plt.subplots(figsize=(15,6))\n",
    "ax.boxplot(results, labels=names)\n",
    "plt.title('Algorithm Comparison')\n",
    "plt.show() \n",
    "#USE GBDT AS EVALUATION METHOD FOR NOW"
   ]
  },
  {
   "cell_type": "markdown",
   "metadata": {},
   "source": [
    "<h4>Trend</h4>"
   ]
  },
  {
   "cell_type": "code",
   "execution_count": 155,
   "metadata": {},
   "outputs": [],
   "source": [
    "#calculate average of one day for entire rows in a column, to show trend in the lags\n",
    "def plot_by_group(pattern):\n",
    "    match=[]\n",
    "    names=[]\n",
    "    for item in df.columns:\n",
    "        result = re.match(pattern, item)\n",
    "        match.append(bool(result))\n",
    "        if bool(result):\n",
    "            names.append(item)\n",
    "    group=df[names]\n",
    "    group.mean().plot(kind=\"line\")\n",
    "    plt.show()"
   ]
  },
  {
   "cell_type": "markdown",
   "metadata": {},
   "source": [
    "<div class=\"alert-success\">\n",
    "\n",
    "-charging/discharging_rate_lag3(AKA. recent Monday) has significant lowest rate\n",
    "\n",
    "-charging/discharging_avg_time_lag3 has significant highest time\n",
    "\n",
    "\"Monday Effect\": on recent Monday, has lowest charging rate and highest charging time ->busy "
   ]
  },
  {
   "cell_type": "code",
   "execution_count": 156,
   "metadata": {},
   "outputs": [
    {
     "data": {
      "image/png": "[encoded data removed]",
      "text/plain": [
       "<Figure size 432x288 with 1 Axes>"
      ]
     },
     "metadata": {
      "needs_background": "light"
     },
     "output_type": "display_data"
    }
   ],
   "source": [
    "plot_by_group(\"^avg_time_charging_lag\")"
   ]
  },
  {
   "cell_type": "code",
   "execution_count": 157,
   "metadata": {},
   "outputs": [
    {
     "data": {
      "image/png": "[encoded data removed]",
      "text/plain": [
       "<Figure size 432x288 with 1 Axes>"
      ]
     },
     "metadata": {
      "needs_background": "light"
     },
     "output_type": "display_data"
    }
   ],
   "source": [
    "plot_by_group(\"^charging_rate_lag\")"
   ]
  },
  {
   "cell_type": "code",
   "execution_count": 158,
   "metadata": {},
   "outputs": [
    {
     "data": {
      "image/png": "[encoded data removed]",
      "text/plain": [
       "<Figure size 432x288 with 1 Axes>"
      ]
     },
     "metadata": {
      "needs_background": "light"
     },
     "output_type": "display_data"
    }
   ],
   "source": [
    "plot_by_group(\"^avg_time_discharging_lag\")"
   ]
  },
  {
   "cell_type": "code",
   "execution_count": 159,
   "metadata": {},
   "outputs": [
    {
     "data": {
      "image/png": "[encoded data removed]",
      "text/plain": [
       "<Figure size 432x288 with 1 Axes>"
      ]
     },
     "metadata": {
      "needs_background": "light"
     },
     "output_type": "display_data"
    }
   ],
   "source": [
    "plot_by_group(\"^discharging_rate_lag\")"
   ]
  },
  {
   "cell_type": "markdown",
   "metadata": {},
   "source": [
    "<h4>Correlation Heatmap</h4>"
   ]
  },
  {
   "cell_type": "code",
   "execution_count": 161,
   "metadata": {},
   "outputs": [],
   "source": [
    "df_plot = df[[ 'avg_time_charging', \n",
    "                  'avg_time_discharging' , 'avg_volt_change_charging',\n",
    "                  'avg_volt_change_discharging', 'charge_cycle_time_below_12', 'chargecycles', 'cycle_time', \n",
    "                  'dischargecycles', 'fail_7', 'max_voltage_day', 'number_times_restart', 'piececount', \n",
    "                  'total_off_time','use_time']]"
   ]
  },
  {
   "cell_type": "code",
   "execution_count": 162,
   "metadata": {},
   "outputs": [
    {
     "data": {
      "text/plain": [
       "Text(0.5, 1.0, 'Correlation Matrix Pearson Method')"
      ]
     },
     "execution_count": 162,
     "metadata": {},
     "output_type": "execute_result"
    },
    {
     "data": {
      "image/png": "[encoded data removed]",
      "text/plain": [
       "<Figure size 1440x1440 with 2 Axes>"
      ]
     },
     "metadata": {
      "needs_background": "light"
     },
     "output_type": "display_data"
    }
   ],
   "source": [
    "# Pearson Correlation Heatmap\n",
    "plt.figure(figsize = (20, 20))\n",
    "sns.heatmap(df_plot.corr(method = 'pearson'), annot = True, fmt = \".2f\", cmap = 'RdBu', vmin = -1, vmax = 1, center = 0,\n",
    "            square = True, linewidths = 2)\n",
    "plt.title(\"Correlation Matrix Pearson Method\", size = 15, weight = 'bold')"
   ]
  },
  {
   "cell_type": "markdown",
   "metadata": {},
   "source": [
    "<h4>Feature Selection</h4>"
   ]
  },
  {
   "cell_type": "code",
   "execution_count": 47,
   "metadata": {},
   "outputs": [],
   "source": [
    "\n",
    "\n",
    "core_features=['discharging_rate_lag3','charge_cycle_time_below_12','charging_rate_lag3','avg_volt_change_charging',\n",
    "               'use_time']\n",
    "\n",
    "X_train_core=df_transformed[core_features]\n",
    "Y_train_core=df_transformed['fail_7']\n",
    "\n",
    "gbdt=GradientBoostingClassifier(random_state=0)\n",
    "\n",
    "\n",
    "score_record=cross_val_score(gbdt,X_train_core,Y_train_core,cv=StratifiedKFold(n_splits=5, random_state=0,shuffle=True),\n",
    "                             scoring='accuracy',n_jobs=-1).mean()"
   ]
  },
  {
   "cell_type": "markdown",
   "metadata": {},
   "source": [
    "<div class=\"alert-danger\">\n",
    "\n",
    "Core features only outperforms whole feature!\n",
    "\n",
    "0.813 of top 5 features>0.812 of all features\n"
   ]
  },
  {
   "cell_type": "code",
   "execution_count": 48,
   "metadata": {},
   "outputs": [
    {
     "data": {
      "text/plain": [
       "0.813103390067203"
      ]
     },
     "execution_count": 48,
     "metadata": {},
     "output_type": "execute_result"
    }
   ],
   "source": [
    "score_record"
   ]
  },
  {
   "cell_type": "markdown",
   "metadata": {},
   "source": [
    "<h4>Feature Engineering & Combination</h4>"
   ]
  },
  {
   "cell_type": "markdown",
   "metadata": {},
   "source": [
    "<h5>Combine top 5 features</h5>"
   ]
  },
  {
   "cell_type": "code",
   "execution_count": 49,
   "metadata": {},
   "outputs": [],
   "source": [
    "\n",
    "core_features=['discharging_rate_lag3','charge_cycle_time_below_12','charging_rate_lag3','avg_volt_change_charging',\n",
    "               'use_time']\n",
    "\n"
   ]
  },
  {
   "cell_type": "code",
   "execution_count": 50,
   "metadata": {},
   "outputs": [],
   "source": [
    "poly=PolynomialFeatures(2)\n",
    "X_train_poly=poly.fit_transform(X_train_transformed[core_features])\n"
   ]
  },
  {
   "cell_type": "code",
   "execution_count": 51,
   "metadata": {},
   "outputs": [],
   "source": [
    "gbdt=GradientBoostingClassifier(random_state=0)\n",
    "\n",
    "\n",
    "\n",
    "score_record=cross_val_score(gbdt,X_train_poly,Y_train_transformed,\n",
    "                             cv=StratifiedKFold(n_splits=5, random_state=0,shuffle=True),\n",
    "                             scoring='accuracy',n_jobs=-1).mean()"
   ]
  },
  {
   "cell_type": "markdown",
   "metadata": {},
   "source": [
    "<div class=\"alert-info\">\n",
    "improve only a little bit by including interaction terms and polynomial terms"
   ]
  },
  {
   "cell_type": "code",
   "execution_count": 52,
   "metadata": {},
   "outputs": [
    {
     "data": {
      "text/plain": [
       "0.8131821405431291"
      ]
     },
     "execution_count": 52,
     "metadata": {},
     "output_type": "execute_result"
    }
   ],
   "source": [
    "score_record"
   ]
  },
  {
   "cell_type": "markdown",
   "metadata": {},
   "source": [
    "<h5>Average of time series variable</h5>"
   ]
  },
  {
   "cell_type": "code",
   "execution_count": 57,
   "metadata": {},
   "outputs": [],
   "source": [
    "match=[]\n",
    "names=[]\n",
    "pattern=\"^charging_rate_lag\"\n",
    "for item in df_transformed.columns:\n",
    "    result = re.match(pattern, item)\n",
    "    match.append(bool(result))\n",
    "    if bool(result):\n",
    "        names.append(item)"
   ]
  },
  {
   "cell_type": "code",
   "execution_count": 62,
   "metadata": {},
   "outputs": [
    {
     "data": {
      "text/plain": [
       "['charging_rate_lag3',\n",
       " 'charging_rate_lag7',\n",
       " 'charging_rate_lag4',\n",
       " 'charging_rate_lag5',\n",
       " 'charging_rate_lag6']"
      ]
     },
     "execution_count": 62,
     "metadata": {},
     "output_type": "execute_result"
    }
   ],
   "source": [
    "names"
   ]
  },
  {
   "cell_type": "code",
   "execution_count": 66,
   "metadata": {},
   "outputs": [],
   "source": [
    "X_train_eng=X_train_transformed\n",
    "#col mean\n",
    "X_train_eng['avg_charging_rate']=X_train_transformed[names].mean(axis=1)"
   ]
  },
  {
   "cell_type": "code",
   "execution_count": 68,
   "metadata": {},
   "outputs": [],
   "source": [
    "match=[]\n",
    "names=[]\n",
    "pattern=\"^discharging_rate_lag\"\n",
    "for item in df_transformed.columns:\n",
    "    result = re.match(pattern, item)\n",
    "    match.append(bool(result))\n",
    "    if bool(result):\n",
    "        names.append(item)"
   ]
  },
  {
   "cell_type": "code",
   "execution_count": 69,
   "metadata": {},
   "outputs": [
    {
     "data": {
      "text/plain": [
       "['discharging_rate_lag3',\n",
       " 'discharging_rate_lag7',\n",
       " 'discharging_rate_lag4',\n",
       " 'discharging_rate_lag5',\n",
       " 'discharging_rate_lag6',\n",
       " 'discharging_rate_lag8']"
      ]
     },
     "execution_count": 69,
     "metadata": {},
     "output_type": "execute_result"
    }
   ],
   "source": [
    "names"
   ]
  },
  {
   "cell_type": "code",
   "execution_count": 70,
   "metadata": {},
   "outputs": [],
   "source": [
    "\n",
    "#col mean\n",
    "X_train_eng['avg_discharging_rate']=X_train_eng[names].mean(axis=1)"
   ]
  },
  {
   "cell_type": "code",
   "execution_count": 71,
   "metadata": {},
   "outputs": [
    {
     "data": {
      "text/html": [
       "<div>\n",
       "<style scoped>\n",
       "    .dataframe tbody tr th:only-of-type {\n",
       "        vertical-align: middle;\n",
       "    }\n",
       "\n",
       "    .dataframe tbody tr th {\n",
       "        vertical-align: top;\n",
       "    }\n",
       "\n",
       "    .dataframe thead th {\n",
       "        text-align: right;\n",
       "    }\n",
       "</style>\n",
       "<table border=\"1\" class=\"dataframe\">\n",
       "  <thead>\n",
       "    <tr style=\"text-align: right;\">\n",
       "      <th></th>\n",
       "      <th>avg_time_charging_lag1</th>\n",
       "      <th>avg_time_charging_lag2</th>\n",
       "      <th>avg_time_charging_lag3</th>\n",
       "      <th>avg_time_charging_lag7</th>\n",
       "      <th>charging_rate_lag3</th>\n",
       "      <th>charging_rate_lag7</th>\n",
       "      <th>avg_time_discharging_lag1</th>\n",
       "      <th>avg_time_discharging_lag2</th>\n",
       "      <th>avg_time_discharging_lag3</th>\n",
       "      <th>avg_time_discharging_lag7</th>\n",
       "      <th>...</th>\n",
       "      <th>avg_volt_change_charging</th>\n",
       "      <th>avg_volt_change_discharging</th>\n",
       "      <th>avg_time_charging</th>\n",
       "      <th>avg_time_discharging</th>\n",
       "      <th>max_voltage_day</th>\n",
       "      <th>piececount</th>\n",
       "      <th>cycle_time</th>\n",
       "      <th>use_time</th>\n",
       "      <th>avg_charging_rate</th>\n",
       "      <th>avg_discharging_rate</th>\n",
       "    </tr>\n",
       "  </thead>\n",
       "  <tbody>\n",
       "    <tr>\n",
       "      <th>1</th>\n",
       "      <td>1.322035</td>\n",
       "      <td>-0.736535</td>\n",
       "      <td>-0.656490</td>\n",
       "      <td>-0.620662</td>\n",
       "      <td>0.231943</td>\n",
       "      <td>-1.643846</td>\n",
       "      <td>1.260757</td>\n",
       "      <td>-0.672922</td>\n",
       "      <td>-0.674548</td>\n",
       "      <td>-0.614943</td>\n",
       "      <td>...</td>\n",
       "      <td>-0.070922</td>\n",
       "      <td>0.158275</td>\n",
       "      <td>0.993651</td>\n",
       "      <td>0.899960</td>\n",
       "      <td>0.153353</td>\n",
       "      <td>-0.045461</td>\n",
       "      <td>0.936226</td>\n",
       "      <td>-1.263578</td>\n",
       "      <td>-0.436811</td>\n",
       "      <td>-1.161387</td>\n",
       "    </tr>\n",
       "    <tr>\n",
       "      <th>2</th>\n",
       "      <td>-0.700191</td>\n",
       "      <td>-0.744314</td>\n",
       "      <td>-0.768220</td>\n",
       "      <td>-0.686725</td>\n",
       "      <td>-0.536665</td>\n",
       "      <td>-0.040072</td>\n",
       "      <td>-0.706853</td>\n",
       "      <td>-0.702794</td>\n",
       "      <td>-0.743562</td>\n",
       "      <td>-0.415954</td>\n",
       "      <td>...</td>\n",
       "      <td>-0.416504</td>\n",
       "      <td>-0.361379</td>\n",
       "      <td>-0.753399</td>\n",
       "      <td>-0.823473</td>\n",
       "      <td>-0.621582</td>\n",
       "      <td>-0.080560</td>\n",
       "      <td>-0.803012</td>\n",
       "      <td>-1.444093</td>\n",
       "      <td>-0.093674</td>\n",
       "      <td>-0.133339</td>\n",
       "    </tr>\n",
       "    <tr>\n",
       "      <th>3</th>\n",
       "      <td>-0.755478</td>\n",
       "      <td>1.512328</td>\n",
       "      <td>1.272963</td>\n",
       "      <td>1.607623</td>\n",
       "      <td>0.154653</td>\n",
       "      <td>0.061266</td>\n",
       "      <td>-0.747888</td>\n",
       "      <td>1.697835</td>\n",
       "      <td>1.194297</td>\n",
       "      <td>1.636361</td>\n",
       "      <td>...</td>\n",
       "      <td>0.373663</td>\n",
       "      <td>0.123287</td>\n",
       "      <td>-0.012855</td>\n",
       "      <td>0.015783</td>\n",
       "      <td>0.474543</td>\n",
       "      <td>0.188245</td>\n",
       "      <td>0.005993</td>\n",
       "      <td>-0.090230</td>\n",
       "      <td>0.511536</td>\n",
       "      <td>0.068334</td>\n",
       "    </tr>\n",
       "    <tr>\n",
       "      <th>4</th>\n",
       "      <td>-0.726859</td>\n",
       "      <td>1.732092</td>\n",
       "      <td>-0.761032</td>\n",
       "      <td>-0.732968</td>\n",
       "      <td>0.107420</td>\n",
       "      <td>-0.132597</td>\n",
       "      <td>-0.721899</td>\n",
       "      <td>1.530484</td>\n",
       "      <td>-0.755178</td>\n",
       "      <td>-0.682537</td>\n",
       "      <td>...</td>\n",
       "      <td>1.528587</td>\n",
       "      <td>1.470311</td>\n",
       "      <td>0.687980</td>\n",
       "      <td>0.694247</td>\n",
       "      <td>0.931658</td>\n",
       "      <td>-0.477438</td>\n",
       "      <td>0.695180</td>\n",
       "      <td>0.722088</td>\n",
       "      <td>0.443132</td>\n",
       "      <td>-0.184018</td>\n",
       "    </tr>\n",
       "    <tr>\n",
       "      <th>5</th>\n",
       "      <td>0.745743</td>\n",
       "      <td>-0.739128</td>\n",
       "      <td>1.706159</td>\n",
       "      <td>-0.719756</td>\n",
       "      <td>0.154653</td>\n",
       "      <td>0.043642</td>\n",
       "      <td>0.687298</td>\n",
       "      <td>-0.759144</td>\n",
       "      <td>1.699260</td>\n",
       "      <td>-0.749097</td>\n",
       "      <td>...</td>\n",
       "      <td>-0.084446</td>\n",
       "      <td>-0.109980</td>\n",
       "      <td>-0.977604</td>\n",
       "      <td>-0.948294</td>\n",
       "      <td>-0.678018</td>\n",
       "      <td>-0.859637</td>\n",
       "      <td>-0.962608</td>\n",
       "      <td>-0.270745</td>\n",
       "      <td>0.271213</td>\n",
       "      <td>0.188178</td>\n",
       "    </tr>\n",
       "  </tbody>\n",
       "</table>\n",
       "<p>5 rows × 54 columns</p>\n",
       "</div>"
      ],
      "text/plain": [
       "   avg_time_charging_lag1  avg_time_charging_lag2  avg_time_charging_lag3  \\\n",
       "1                1.322035               -0.736535               -0.656490   \n",
       "2               -0.700191               -0.744314               -0.768220   \n",
       "3               -0.755478                1.512328                1.272963   \n",
       "4               -0.726859                1.732092               -0.761032   \n",
       "5                0.745743               -0.739128                1.706159   \n",
       "\n",
       "   avg_time_charging_lag7  charging_rate_lag3  charging_rate_lag7  \\\n",
       "1               -0.620662            0.231943           -1.643846   \n",
       "2               -0.686725           -0.536665           -0.040072   \n",
       "3                1.607623            0.154653            0.061266   \n",
       "4               -0.732968            0.107420           -0.132597   \n",
       "5               -0.719756            0.154653            0.043642   \n",
       "\n",
       "   avg_time_discharging_lag1  avg_time_discharging_lag2  \\\n",
       "1                   1.260757                  -0.672922   \n",
       "2                  -0.706853                  -0.702794   \n",
       "3                  -0.747888                   1.697835   \n",
       "4                  -0.721899                   1.530484   \n",
       "5                   0.687298                  -0.759144   \n",
       "\n",
       "   avg_time_discharging_lag3  avg_time_discharging_lag7  ...  \\\n",
       "1                  -0.674548                  -0.614943  ...   \n",
       "2                  -0.743562                  -0.415954  ...   \n",
       "3                   1.194297                   1.636361  ...   \n",
       "4                  -0.755178                  -0.682537  ...   \n",
       "5                   1.699260                  -0.749097  ...   \n",
       "\n",
       "   avg_volt_change_charging  avg_volt_change_discharging  avg_time_charging  \\\n",
       "1                 -0.070922                     0.158275           0.993651   \n",
       "2                 -0.416504                    -0.361379          -0.753399   \n",
       "3                  0.373663                     0.123287          -0.012855   \n",
       "4                  1.528587                     1.470311           0.687980   \n",
       "5                 -0.084446                    -0.109980          -0.977604   \n",
       "\n",
       "   avg_time_discharging  max_voltage_day  piececount  cycle_time  use_time  \\\n",
       "1              0.899960         0.153353   -0.045461    0.936226 -1.263578   \n",
       "2             -0.823473        -0.621582   -0.080560   -0.803012 -1.444093   \n",
       "3              0.015783         0.474543    0.188245    0.005993 -0.090230   \n",
       "4              0.694247         0.931658   -0.477438    0.695180  0.722088   \n",
       "5             -0.948294        -0.678018   -0.859637   -0.962608 -0.270745   \n",
       "\n",
       "   avg_charging_rate  avg_discharging_rate  \n",
       "1          -0.436811             -1.161387  \n",
       "2          -0.093674             -0.133339  \n",
       "3           0.511536              0.068334  \n",
       "4           0.443132             -0.184018  \n",
       "5           0.271213              0.188178  \n",
       "\n",
       "[5 rows x 54 columns]"
      ]
     },
     "execution_count": 71,
     "metadata": {},
     "output_type": "execute_result"
    }
   ],
   "source": [
    "X_train_eng.head()"
   ]
  },
  {
   "cell_type": "code",
   "execution_count": 73,
   "metadata": {},
   "outputs": [],
   "source": [
    "features=['discharging_rate_lag3','charge_cycle_time_below_12','charging_rate_lag3','avg_volt_change_charging',\n",
    "               'use_time','avg_charging_rate','avg_discharging_rate']\n",
    "\n",
    "\n",
    "gbdt=GradientBoostingClassifier(random_state=0)\n",
    "\n",
    "\n",
    "\n",
    "score_record=cross_val_score(gbdt,X_train_eng[features],Y_train_transformed,\n",
    "                             cv=StratifiedKFold(n_splits=5, random_state=0,shuffle=True),\n",
    "                             scoring='accuracy',n_jobs=-1).mean()"
   ]
  },
  {
   "cell_type": "markdown",
   "metadata": {},
   "source": [
    "<div class=\"alert-info\">\n",
    "Performance decreased"
   ]
  },
  {
   "cell_type": "code",
   "execution_count": 74,
   "metadata": {},
   "outputs": [
    {
     "data": {
      "text/plain": [
       "0.8125524086689134"
      ]
     },
     "execution_count": 74,
     "metadata": {},
     "output_type": "execute_result"
    }
   ],
   "source": [
    "score_record"
   ]
  },
  {
   "cell_type": "markdown",
   "metadata": {},
   "source": [
    "<div class=\"alert-info\">\n",
    "Stick to orginal features"
   ]
  },
  {
   "cell_type": "markdown",
   "metadata": {},
   "source": [
    "<h2>Model Evaluation</h2>"
   ]
  },
  {
   "cell_type": "markdown",
   "metadata": {},
   "source": [
    "<div class=\"alert-danger\">\n",
    "It is hard to chain outlier removal to pipeline & outliers in this case has meanings, so we keep outliers"
   ]
  },
  {
   "cell_type": "markdown",
   "metadata": {},
   "source": [
    "<h4>GBDT pipeline</h4>"
   ]
  },
  {
   "cell_type": "code",
   "execution_count": 53,
   "metadata": {},
   "outputs": [],
   "source": [
    "pipeline=Pipeline([('preprocessing',StandardScaler()),('imputer',KNNImputer()),\n",
    "                   ('classifier',GradientBoostingClassifier())])"
   ]
  },
  {
   "cell_type": "code",
   "execution_count": 54,
   "metadata": {},
   "outputs": [],
   "source": [
    "param_grid=[\n",
    "    {\n",
    "        'preprocessing':[StandardScaler()],\n",
    "        'imputer': [KNNImputer()],\n",
    "        'classifier':[GradientBoostingClassifier(random_state=0)]\n",
    "    }\n",
    "]"
   ]
  },
  {
   "cell_type": "markdown",
   "metadata": {},
   "source": [
    "<div class=\"alert-info\">\n",
    "Use pipeline to avoid data leakage, getting about same score as before"
   ]
  },
  {
   "cell_type": "code",
   "execution_count": 55,
   "metadata": {},
   "outputs": [
    {
     "name": "stdout",
     "output_type": "stream",
     "text": [
      "Best params:\n",
      "{'classifier': GradientBoostingClassifier(random_state=0), 'imputer': KNNImputer(), 'preprocessing': StandardScaler()}\n",
      "\n",
      "Best cross-validation score: 0.81\n"
     ]
    }
   ],
   "source": [
    "grid=GridSearchCV(pipeline,param_grid,cv=5,n_jobs=-1)\n",
    "grid.fit(X_train,Y_train)\n",
    "print(\"Best params:\\n{}\\n\".format(grid.best_params_))\n",
    "print(\"Best cross-validation score: {:.2f}\".format(grid.best_score_))"
   ]
  },
  {
   "cell_type": "markdown",
   "metadata": {},
   "source": [
    "<div class=\"alert-info\">\n",
    "Very time comsuimng to do cross validation and tuning, \n",
    "so we do training set validation now for Logistic Regression and Neural Network"
   ]
  },
  {
   "cell_type": "markdown",
   "metadata": {},
   "source": [
    "<h4>Logistic Regression Training Set Tuning</h4>"
   ]
  },
  {
   "cell_type": "markdown",
   "metadata": {},
   "source": [
    "Choose ElasticNet since it incroporates L1,L2 regularization, \n",
    "and we are not leaving one of the correlated features out as Lasso does"
   ]
  },
  {
   "cell_type": "code",
   "execution_count": 22,
   "metadata": {},
   "outputs": [
    {
     "name": "stdout",
     "output_type": "stream",
     "text": [
      "Best score: 0.77\n",
      "Best parameters: {'C': 1, 'l1_ratio': 0.5}\n"
     ]
    }
   ],
   "source": [
    "best_score = 0\n",
    "\n",
    "for C in [1,10,50]:\n",
    "    for l1_ratio in [0.2,0.5,0.8]:\n",
    "        pipeline=Pipeline(\n",
    "            [\n",
    "               ('classifier',LogisticRegression(C=C,l1_ratio=l1_ratio,\n",
    "                                                penalty='elasticnet',solver='saga',multi_class='ovr',\n",
    "                                                max_iter=1000,n_jobs=-1))\n",
    "            ]\n",
    "                        )\n",
    "        pipeline.fit(X_train_transformed,Y_train_transformed)\n",
    "        score = pipeline.score(X_train_transformed, Y_train_transformed)\n",
    "        if score > best_score:\n",
    "            best_score = score\n",
    "            best_parameters = {'C': C, 'l1_ratio': l1_ratio}\n",
    "            \n",
    "print(\"Best score: {:.2f}\".format(best_score))\n",
    "print(\"Best parameters: {}\".format(best_parameters))\n"
   ]
  },
  {
   "cell_type": "markdown",
   "metadata": {},
   "source": [
    "<h4>Neural Network</h4>"
   ]
  },
  {
   "cell_type": "code",
   "execution_count": 23,
   "metadata": {},
   "outputs": [
    {
     "name": "stdout",
     "output_type": "stream",
     "text": [
      "Best score: 0.77\n",
      "Best parameters: {'hidden_layer_sizes': [5]}\n"
     ]
    }
   ],
   "source": [
    "best_score = 0\n",
    "\n",
    "for hidden_layer_sizes in [[1],[5],[1,1],[5,5]]:\n",
    "    pipeline=Pipeline(\n",
    "        [\n",
    "           ('classifier', MLPClassifier(hidden_layer_sizes=hidden_layer_sizes,random_state=0))\n",
    "        ]\n",
    "                    )\n",
    "    pipeline.fit(X_train_transformed,Y_train_transformed)\n",
    "    score = pipeline.score(X_train_transformed, Y_train_transformed)\n",
    "    if score > best_score:\n",
    "        best_score = score\n",
    "        best_parameters = {'hidden_layer_sizes': hidden_layer_sizes}\n",
    "            \n",
    "print(\"Best score: {:.2f}\".format(best_score))\n",
    "print(\"Best parameters: {}\".format(best_parameters))"
   ]
  },
  {
   "cell_type": "markdown",
   "metadata": {},
   "source": [
    "-SVM takes too long to run and does not scale well in large samples datasets\n",
    "\n",
    "-Random Forest generally underperforms by GBDT\n",
    "\n",
    "-Logistic regression and Neural Network as shown above does not perform well enough \n",
    "\n"
   ]
  },
  {
   "cell_type": "markdown",
   "metadata": {},
   "source": [
    "<h3>Ensembling</h3>"
   ]
  },
  {
   "cell_type": "markdown",
   "metadata": {},
   "source": [
    "Use Stacking"
   ]
  },
  {
   "cell_type": "code",
   "execution_count": 26,
   "metadata": {},
   "outputs": [],
   "source": [
    "estimator_stacking=[]\n",
    "estimator_stacking.append(('GBDT',GradientBoostingClassifier(random_state=0)))\n",
    "estimator_stacking.append(('MLP',MLPClassifier(random_state=0,hidden_layer_sizes=[5])))\n",
    "estimator_stacking.append(('LR',LogisticRegression(C=1,l1_ratio=0.5,\n",
    "                                                penalty='elasticnet',solver='saga',multi_class='ovr',\n",
    "                                                max_iter=1000,n_jobs=-1)))"
   ]
  },
  {
   "cell_type": "code",
   "execution_count": 27,
   "metadata": {},
   "outputs": [
    {
     "data": {
      "text/plain": [
       "StackingClassifier(estimators=[('GBDT',\n",
       "                                GradientBoostingClassifier(random_state=0)),\n",
       "                               ('MLP',\n",
       "                                MLPClassifier(hidden_layer_sizes=[5],\n",
       "                                              random_state=0)),\n",
       "                               ('LR',\n",
       "                                LogisticRegression(C=1, l1_ratio=0.5,\n",
       "                                                   max_iter=1000,\n",
       "                                                   multi_class='ovr', n_jobs=-1,\n",
       "                                                   penalty='elasticnet',\n",
       "                                                   solver='saga'))])"
      ]
     },
     "execution_count": 27,
     "metadata": {},
     "output_type": "execute_result"
    }
   ],
   "source": [
    "stacking = StackingClassifier(estimators = estimator_stacking,n_jobs=-1)\n",
    "stacking.fit(X_train_transformed, Y_train_transformed) \n",
    "#stacking.score(X_train,Y_train)\n",
    "#cross_val_score(stacking,X_train,Y_train,cv=5,scoring='accuracy').mean()"
   ]
  },
  {
   "cell_type": "markdown",
   "metadata": {},
   "source": [
    "<div class=\"alert-success\">\n",
    "Performance slightly increases, use stacking as final model"
   ]
  },
  {
   "cell_type": "code",
   "execution_count": 29,
   "metadata": {},
   "outputs": [
    {
     "data": {
      "text/plain": [
       "0.8162783375314862"
      ]
     },
     "execution_count": 29,
     "metadata": {},
     "output_type": "execute_result"
    }
   ],
   "source": [
    "stacking.score(X_train_transformed,Y_train_transformed)"
   ]
  },
  {
   "cell_type": "markdown",
   "metadata": {},
   "source": [
    "<h2>Deployment</h2>"
   ]
  },
  {
   "cell_type": "code",
   "execution_count": 30,
   "metadata": {},
   "outputs": [],
   "source": [
    "df_test=pd.read_csv(\"test.csv\")"
   ]
  },
  {
   "cell_type": "code",
   "execution_count": 31,
   "metadata": {},
   "outputs": [],
   "source": [
    "df_test['LastRecord']= pd.to_datetime(df_test['LastRecord'])\n",
    "df_test['Date Deployed']= pd.to_datetime(df_test['Date Deployed'])\n",
    "df_test['use_time']=df_test['LastRecord']-df_test['Date Deployed']\n",
    "df_test['use_time']=df_test['use_time'].astype('timedelta64[D]').astype(int)\n",
    "use_time=pd.DataFrame(df_test['use_time'])"
   ]
  },
  {
   "cell_type": "code",
   "execution_count": 32,
   "metadata": {},
   "outputs": [],
   "source": [
    "X_test=df.drop(['deviceid','LastRecord','Date Deployed'],axis=1)\n"
   ]
  },
  {
   "cell_type": "code",
   "execution_count": 35,
   "metadata": {},
   "outputs": [],
   "source": [
    "pipeline=Pipeline([('preprocessing',StandardScaler()),('imputer',KNNImputer())])\n",
    "X_test_transformed=pipeline.fit_transform(X_test)\n",
    "X_test_transformed=pd.DataFrame(X_test_transformed,columns=X_test.columns)"
   ]
  },
  {
   "cell_type": "code",
   "execution_count": 37,
   "metadata": {},
   "outputs": [],
   "source": [
    "Y_predict=stacking.predict(X_test_transformed)"
   ]
  },
  {
   "cell_type": "code",
   "execution_count": 42,
   "metadata": {},
   "outputs": [],
   "source": [
    "Y_predict_df=pd.DataFrame(Y_predict,columns=['fail_7'])\n",
    "output=pd.concat([df_test['deviceid'],Y_predict_df],axis=1).reset_index(drop=True)"
   ]
  },
  {
   "cell_type": "code",
   "execution_count": 48,
   "metadata": {},
   "outputs": [
    {
     "data": {
      "text/html": [
       "<div>\n",
       "<style scoped>\n",
       "    .dataframe tbody tr th:only-of-type {\n",
       "        vertical-align: middle;\n",
       "    }\n",
       "\n",
       "    .dataframe tbody tr th {\n",
       "        vertical-align: top;\n",
       "    }\n",
       "\n",
       "    .dataframe thead th {\n",
       "        text-align: right;\n",
       "    }\n",
       "</style>\n",
       "<table border=\"1\" class=\"dataframe\">\n",
       "  <thead>\n",
       "    <tr style=\"text-align: right;\">\n",
       "      <th></th>\n",
       "      <th>deviceid</th>\n",
       "      <th>fail_7</th>\n",
       "    </tr>\n",
       "  </thead>\n",
       "  <tbody>\n",
       "    <tr>\n",
       "      <th>0</th>\n",
       "      <td>42979.0</td>\n",
       "      <td>0</td>\n",
       "    </tr>\n",
       "    <tr>\n",
       "      <th>1</th>\n",
       "      <td>14911.0</td>\n",
       "      <td>0</td>\n",
       "    </tr>\n",
       "    <tr>\n",
       "      <th>2</th>\n",
       "      <td>48386.0</td>\n",
       "      <td>0</td>\n",
       "    </tr>\n",
       "    <tr>\n",
       "      <th>3</th>\n",
       "      <td>18822.0</td>\n",
       "      <td>0</td>\n",
       "    </tr>\n",
       "    <tr>\n",
       "      <th>4</th>\n",
       "      <td>49810.0</td>\n",
       "      <td>0</td>\n",
       "    </tr>\n",
       "    <tr>\n",
       "      <th>5</th>\n",
       "      <td>23495.0</td>\n",
       "      <td>0</td>\n",
       "    </tr>\n",
       "    <tr>\n",
       "      <th>6</th>\n",
       "      <td>30555.0</td>\n",
       "      <td>0</td>\n",
       "    </tr>\n",
       "    <tr>\n",
       "      <th>7</th>\n",
       "      <td>18316.0</td>\n",
       "      <td>0</td>\n",
       "    </tr>\n",
       "    <tr>\n",
       "      <th>8</th>\n",
       "      <td>17929.0</td>\n",
       "      <td>0</td>\n",
       "    </tr>\n",
       "    <tr>\n",
       "      <th>9</th>\n",
       "      <td>33374.0</td>\n",
       "      <td>1</td>\n",
       "    </tr>\n",
       "  </tbody>\n",
       "</table>\n",
       "</div>"
      ],
      "text/plain": [
       "   deviceid  fail_7\n",
       "0   42979.0       0\n",
       "1   14911.0       0\n",
       "2   48386.0       0\n",
       "3   18822.0       0\n",
       "4   49810.0       0\n",
       "5   23495.0       0\n",
       "6   30555.0       0\n",
       "7   18316.0       0\n",
       "8   17929.0       0\n",
       "9   33374.0       1"
      ]
     },
     "execution_count": 48,
     "metadata": {},
     "output_type": "execute_result"
    }
   ],
   "source": [
    "output.head(10)"
   ]
  },
  {
   "cell_type": "code",
   "execution_count": 45,
   "metadata": {},
   "outputs": [],
   "source": [
    "output.to_csv('output_group9.csv',index=False)"
   ]
  }
 ],
 "metadata": {
  "kernelspec": {
   "display_name": "Python 3",
   "language": "python",
   "name": "python3"
  },
  "language_info": {
   "codemirror_mode": {
    "name": "ipython",
    "version": 3
   },
   "file_extension": ".py",
   "mimetype": "text/x-python",
   "name": "python",
   "nbconvert_exporter": "python",
   "pygments_lexer": "ipython3",
   "version": "3.7.6"
  }
 },
 "nbformat": 4,
 "nbformat_minor": 4
}
