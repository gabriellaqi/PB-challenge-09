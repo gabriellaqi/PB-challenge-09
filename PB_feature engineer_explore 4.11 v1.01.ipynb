{
 "cells": [
  {
   "cell_type": "code",
   "execution_count": 14,
   "metadata": {},
   "outputs": [],
   "source": [
    "import pandas as pd\n",
    "import matplotlib.pyplot as plt\n"
   ]
  },
  {
   "cell_type": "code",
   "execution_count": 3,
   "metadata": {},
   "outputs": [],
   "source": [
    "train_trans=pd.read_csv(\"Train_trans.csv\")"
   ]
  },
  {
   "cell_type": "code",
   "execution_count": 7,
   "metadata": {},
   "outputs": [
    {
     "data": {
      "text/html": [
       "<div>\n",
       "<style scoped>\n",
       "    .dataframe tbody tr th:only-of-type {\n",
       "        vertical-align: middle;\n",
       "    }\n",
       "\n",
       "    .dataframe tbody tr th {\n",
       "        vertical-align: top;\n",
       "    }\n",
       "\n",
       "    .dataframe thead th {\n",
       "        text-align: right;\n",
       "    }\n",
       "</style>\n",
       "<table border=\"1\" class=\"dataframe\">\n",
       "  <thead>\n",
       "    <tr style=\"text-align: right;\">\n",
       "      <th></th>\n",
       "      <th>avg_time_charging_lag1</th>\n",
       "      <th>avg_time_charging_lag2</th>\n",
       "      <th>avg_time_charging_lag3</th>\n",
       "      <th>avg_time_charging_lag7</th>\n",
       "      <th>charging_rate_lag3</th>\n",
       "      <th>charging_rate_lag7</th>\n",
       "      <th>avg_time_discharging_lag1</th>\n",
       "      <th>avg_time_discharging_lag2</th>\n",
       "      <th>avg_time_discharging_lag3</th>\n",
       "      <th>avg_time_discharging_lag7</th>\n",
       "      <th>discharging_rate_lag3</th>\n",
       "      <th>discharging_rate_lag7</th>\n",
       "      <th>charge_cycle_time_below_12</th>\n",
       "      <th>avg_time_charging_lag4</th>\n",
       "      <th>avg_time_discharging_lag4</th>\n",
       "      <th>avg_time_charging_lag5</th>\n",
       "      <th>avg_time_discharging_lag5</th>\n",
       "      <th>avg_time_charging_lag6</th>\n",
       "      <th>avg_time_discharging_lag6</th>\n",
       "      <th>avg_time_charging_lag8</th>\n",
       "      <th>avg_time_discharging_lag8</th>\n",
       "      <th>avg_time_charging_lag9</th>\n",
       "      <th>avg_time_discharging_lag9</th>\n",
       "      <th>avg_time_charging_lag10</th>\n",
       "      <th>avg_time_discharging_lag10</th>\n",
       "      <th>avg_time_charging_lag11</th>\n",
       "      <th>avg_time_discharging_lag11</th>\n",
       "      <th>avg_time_charging_lag12</th>\n",
       "      <th>avg_time_discharging_lag12</th>\n",
       "      <th>avg_time_charging_lag13</th>\n",
       "      <th>avg_time_discharging_lag13</th>\n",
       "      <th>avg_time_charging_lag14</th>\n",
       "      <th>avg_time_discharging_lag14</th>\n",
       "      <th>discharging_rate_lag4</th>\n",
       "      <th>discharging_rate_lag5</th>\n",
       "      <th>discharging_rate_lag6</th>\n",
       "      <th>discharging_rate_lag8</th>\n",
       "      <th>charging_rate_lag4</th>\n",
       "      <th>charging_rate_lag5</th>\n",
       "      <th>charging_rate_lag6</th>\n",
       "      <th>chargecycles</th>\n",
       "      <th>dischargecycles</th>\n",
       "      <th>total_off_time</th>\n",
       "      <th>number_times_restart</th>\n",
       "      <th>avg_volt_change_charging</th>\n",
       "      <th>avg_volt_change_discharging</th>\n",
       "      <th>avg_time_charging</th>\n",
       "      <th>avg_time_discharging</th>\n",
       "      <th>max_voltage_day</th>\n",
       "      <th>piececount</th>\n",
       "      <th>cycle_time</th>\n",
       "      <th>fail_7</th>\n",
       "    </tr>\n",
       "  </thead>\n",
       "  <tbody>\n",
       "    <tr>\n",
       "      <th>count</th>\n",
       "      <td>40500.000000</td>\n",
       "      <td>40500.000000</td>\n",
       "      <td>40500.000000</td>\n",
       "      <td>40500.000000</td>\n",
       "      <td>40500.000000</td>\n",
       "      <td>40500.000000</td>\n",
       "      <td>40500.000000</td>\n",
       "      <td>40500.000000</td>\n",
       "      <td>40500.000000</td>\n",
       "      <td>40500.000000</td>\n",
       "      <td>40500.000000</td>\n",
       "      <td>40500.000000</td>\n",
       "      <td>40500.000000</td>\n",
       "      <td>40500.000000</td>\n",
       "      <td>40500.000000</td>\n",
       "      <td>40500.000000</td>\n",
       "      <td>40500.000000</td>\n",
       "      <td>40500.000000</td>\n",
       "      <td>40500.000000</td>\n",
       "      <td>40500.000000</td>\n",
       "      <td>40500.000000</td>\n",
       "      <td>40500.000000</td>\n",
       "      <td>40500.000000</td>\n",
       "      <td>40500.000000</td>\n",
       "      <td>40500.000000</td>\n",
       "      <td>40500.000000</td>\n",
       "      <td>40500.000000</td>\n",
       "      <td>40500.000000</td>\n",
       "      <td>40500.000000</td>\n",
       "      <td>40500.000000</td>\n",
       "      <td>40500.000000</td>\n",
       "      <td>40500.00000</td>\n",
       "      <td>40500.000000</td>\n",
       "      <td>40500.000000</td>\n",
       "      <td>40500.000000</td>\n",
       "      <td>40500.000000</td>\n",
       "      <td>40500.000000</td>\n",
       "      <td>40500.000000</td>\n",
       "      <td>40500.000000</td>\n",
       "      <td>40500.000000</td>\n",
       "      <td>40500.000000</td>\n",
       "      <td>40500.000000</td>\n",
       "      <td>40500.000000</td>\n",
       "      <td>40500.000000</td>\n",
       "      <td>40500.000000</td>\n",
       "      <td>40500.000000</td>\n",
       "      <td>40500.000000</td>\n",
       "      <td>40500.000000</td>\n",
       "      <td>40500.000000</td>\n",
       "      <td>40500.000000</td>\n",
       "      <td>40500.000000</td>\n",
       "      <td>40500.000000</td>\n",
       "    </tr>\n",
       "    <tr>\n",
       "      <th>mean</th>\n",
       "      <td>16.274839</td>\n",
       "      <td>16.521473</td>\n",
       "      <td>16.277490</td>\n",
       "      <td>16.355560</td>\n",
       "      <td>-0.043389</td>\n",
       "      <td>-0.053018</td>\n",
       "      <td>25.800928</td>\n",
       "      <td>26.353566</td>\n",
       "      <td>25.903624</td>\n",
       "      <td>26.081865</td>\n",
       "      <td>-0.094954</td>\n",
       "      <td>-0.114908</td>\n",
       "      <td>0.590593</td>\n",
       "      <td>16.343948</td>\n",
       "      <td>26.082150</td>\n",
       "      <td>16.335808</td>\n",
       "      <td>26.060941</td>\n",
       "      <td>16.344470</td>\n",
       "      <td>26.081787</td>\n",
       "      <td>16.388272</td>\n",
       "      <td>26.127173</td>\n",
       "      <td>16.316412</td>\n",
       "      <td>26.064004</td>\n",
       "      <td>16.373961</td>\n",
       "      <td>26.116722</td>\n",
       "      <td>16.579331</td>\n",
       "      <td>26.561563</td>\n",
       "      <td>16.546822</td>\n",
       "      <td>26.510883</td>\n",
       "      <td>16.415961</td>\n",
       "      <td>26.238740</td>\n",
       "      <td>16.51461</td>\n",
       "      <td>26.382522</td>\n",
       "      <td>-0.108077</td>\n",
       "      <td>-0.100143</td>\n",
       "      <td>-0.089710</td>\n",
       "      <td>-0.118150</td>\n",
       "      <td>-0.039316</td>\n",
       "      <td>-0.038808</td>\n",
       "      <td>-0.047337</td>\n",
       "      <td>84.978399</td>\n",
       "      <td>84.859009</td>\n",
       "      <td>25.258990</td>\n",
       "      <td>2.154864</td>\n",
       "      <td>351.421779</td>\n",
       "      <td>348.207773</td>\n",
       "      <td>16.352522</td>\n",
       "      <td>26.081939</td>\n",
       "      <td>4159.266095</td>\n",
       "      <td>20.526154</td>\n",
       "      <td>42.434462</td>\n",
       "      <td>0.232123</td>\n",
       "    </tr>\n",
       "    <tr>\n",
       "      <th>std</th>\n",
       "      <td>15.374342</td>\n",
       "      <td>15.425769</td>\n",
       "      <td>15.305041</td>\n",
       "      <td>15.127922</td>\n",
       "      <td>0.776305</td>\n",
       "      <td>0.756452</td>\n",
       "      <td>29.243961</td>\n",
       "      <td>29.459305</td>\n",
       "      <td>29.269789</td>\n",
       "      <td>28.979008</td>\n",
       "      <td>1.270488</td>\n",
       "      <td>1.324785</td>\n",
       "      <td>0.491731</td>\n",
       "      <td>15.208344</td>\n",
       "      <td>29.158269</td>\n",
       "      <td>15.196279</td>\n",
       "      <td>29.138853</td>\n",
       "      <td>15.142292</td>\n",
       "      <td>29.048877</td>\n",
       "      <td>15.114650</td>\n",
       "      <td>28.896692</td>\n",
       "      <td>14.902038</td>\n",
       "      <td>28.612361</td>\n",
       "      <td>14.824743</td>\n",
       "      <td>28.402516</td>\n",
       "      <td>14.756009</td>\n",
       "      <td>28.364380</td>\n",
       "      <td>14.512375</td>\n",
       "      <td>27.859306</td>\n",
       "      <td>14.161609</td>\n",
       "      <td>27.130185</td>\n",
       "      <td>13.82671</td>\n",
       "      <td>26.413544</td>\n",
       "      <td>1.385724</td>\n",
       "      <td>1.373807</td>\n",
       "      <td>1.322031</td>\n",
       "      <td>1.375298</td>\n",
       "      <td>0.720808</td>\n",
       "      <td>0.787685</td>\n",
       "      <td>0.818200</td>\n",
       "      <td>15.466961</td>\n",
       "      <td>15.507518</td>\n",
       "      <td>37.037053</td>\n",
       "      <td>2.223237</td>\n",
       "      <td>12.745409</td>\n",
       "      <td>13.277782</td>\n",
       "      <td>3.553653</td>\n",
       "      <td>6.813312</td>\n",
       "      <td>11.306765</td>\n",
       "      <td>16.461988</td>\n",
       "      <td>10.321011</td>\n",
       "      <td>0.422193</td>\n",
       "    </tr>\n",
       "    <tr>\n",
       "      <th>min</th>\n",
       "      <td>1.510000</td>\n",
       "      <td>1.060000</td>\n",
       "      <td>0.040000</td>\n",
       "      <td>1.070000</td>\n",
       "      <td>-76.946667</td>\n",
       "      <td>-42.130000</td>\n",
       "      <td>0.520000</td>\n",
       "      <td>0.700000</td>\n",
       "      <td>1.070000</td>\n",
       "      <td>1.740000</td>\n",
       "      <td>-22.413333</td>\n",
       "      <td>-18.606667</td>\n",
       "      <td>0.000000</td>\n",
       "      <td>2.960000</td>\n",
       "      <td>2.110000</td>\n",
       "      <td>0.860000</td>\n",
       "      <td>1.960000</td>\n",
       "      <td>1.420000</td>\n",
       "      <td>2.430000</td>\n",
       "      <td>1.420000</td>\n",
       "      <td>0.850000</td>\n",
       "      <td>2.790000</td>\n",
       "      <td>0.040000</td>\n",
       "      <td>2.410000</td>\n",
       "      <td>2.140000</td>\n",
       "      <td>2.050000</td>\n",
       "      <td>1.850000</td>\n",
       "      <td>2.880000</td>\n",
       "      <td>0.020000</td>\n",
       "      <td>2.240000</td>\n",
       "      <td>0.080000</td>\n",
       "      <td>1.76000</td>\n",
       "      <td>0.370000</td>\n",
       "      <td>-58.820000</td>\n",
       "      <td>-61.173333</td>\n",
       "      <td>-29.996667</td>\n",
       "      <td>-47.583333</td>\n",
       "      <td>-17.450000</td>\n",
       "      <td>-56.886667</td>\n",
       "      <td>-85.763333</td>\n",
       "      <td>14.666667</td>\n",
       "      <td>14.416667</td>\n",
       "      <td>0.000000</td>\n",
       "      <td>0.090909</td>\n",
       "      <td>304.050833</td>\n",
       "      <td>298.250000</td>\n",
       "      <td>4.890000</td>\n",
       "      <td>4.131111</td>\n",
       "      <td>4112.454545</td>\n",
       "      <td>1.000000</td>\n",
       "      <td>9.021111</td>\n",
       "      <td>0.000000</td>\n",
       "    </tr>\n",
       "    <tr>\n",
       "      <th>25%</th>\n",
       "      <td>4.910000</td>\n",
       "      <td>4.920000</td>\n",
       "      <td>4.900000</td>\n",
       "      <td>4.900000</td>\n",
       "      <td>-0.066667</td>\n",
       "      <td>-0.100000</td>\n",
       "      <td>4.200000</td>\n",
       "      <td>4.210000</td>\n",
       "      <td>4.200000</td>\n",
       "      <td>4.200000</td>\n",
       "      <td>-0.183333</td>\n",
       "      <td>-0.233333</td>\n",
       "      <td>0.000000</td>\n",
       "      <td>4.910000</td>\n",
       "      <td>4.210000</td>\n",
       "      <td>4.910000</td>\n",
       "      <td>4.200000</td>\n",
       "      <td>4.900000</td>\n",
       "      <td>4.210000</td>\n",
       "      <td>4.900000</td>\n",
       "      <td>4.200000</td>\n",
       "      <td>4.900000</td>\n",
       "      <td>4.200000</td>\n",
       "      <td>4.900000</td>\n",
       "      <td>4.210000</td>\n",
       "      <td>4.920000</td>\n",
       "      <td>4.230000</td>\n",
       "      <td>4.940000</td>\n",
       "      <td>4.250000</td>\n",
       "      <td>4.960000</td>\n",
       "      <td>4.270000</td>\n",
       "      <td>4.98000</td>\n",
       "      <td>4.340000</td>\n",
       "      <td>-0.190000</td>\n",
       "      <td>-0.206667</td>\n",
       "      <td>-0.203333</td>\n",
       "      <td>-0.240000</td>\n",
       "      <td>-0.086667</td>\n",
       "      <td>-0.086667</td>\n",
       "      <td>-0.090000</td>\n",
       "      <td>74.647059</td>\n",
       "      <td>74.500000</td>\n",
       "      <td>3.565217</td>\n",
       "      <td>1.052632</td>\n",
       "      <td>342.770532</td>\n",
       "      <td>339.267541</td>\n",
       "      <td>13.912625</td>\n",
       "      <td>21.418250</td>\n",
       "      <td>4151.666667</td>\n",
       "      <td>11.333333</td>\n",
       "      <td>35.364068</td>\n",
       "      <td>0.000000</td>\n",
       "    </tr>\n",
       "    <tr>\n",
       "      <th>50%</th>\n",
       "      <td>5.770000</td>\n",
       "      <td>5.830000</td>\n",
       "      <td>5.780000</td>\n",
       "      <td>5.790000</td>\n",
       "      <td>0.000000</td>\n",
       "      <td>-0.003333</td>\n",
       "      <td>5.860000</td>\n",
       "      <td>5.920000</td>\n",
       "      <td>5.850000</td>\n",
       "      <td>5.890000</td>\n",
       "      <td>-0.003333</td>\n",
       "      <td>-0.003333</td>\n",
       "      <td>1.000000</td>\n",
       "      <td>5.810000</td>\n",
       "      <td>5.900000</td>\n",
       "      <td>5.780000</td>\n",
       "      <td>5.860000</td>\n",
       "      <td>5.790000</td>\n",
       "      <td>5.870000</td>\n",
       "      <td>5.790000</td>\n",
       "      <td>5.930000</td>\n",
       "      <td>5.800000</td>\n",
       "      <td>5.970000</td>\n",
       "      <td>5.860000</td>\n",
       "      <td>6.030000</td>\n",
       "      <td>6.000000</td>\n",
       "      <td>6.290000</td>\n",
       "      <td>6.140000</td>\n",
       "      <td>6.710000</td>\n",
       "      <td>6.550000</td>\n",
       "      <td>9.150000</td>\n",
       "      <td>9.97900</td>\n",
       "      <td>14.942000</td>\n",
       "      <td>-0.003333</td>\n",
       "      <td>-0.003333</td>\n",
       "      <td>-0.003333</td>\n",
       "      <td>-0.006667</td>\n",
       "      <td>-0.003333</td>\n",
       "      <td>0.000000</td>\n",
       "      <td>-0.003333</td>\n",
       "      <td>85.000000</td>\n",
       "      <td>84.875000</td>\n",
       "      <td>17.097619</td>\n",
       "      <td>1.470588</td>\n",
       "      <td>351.109967</td>\n",
       "      <td>347.911440</td>\n",
       "      <td>16.201115</td>\n",
       "      <td>25.774365</td>\n",
       "      <td>4159.158948</td>\n",
       "      <td>16.500000</td>\n",
       "      <td>42.005895</td>\n",
       "      <td>0.000000</td>\n",
       "    </tr>\n",
       "    <tr>\n",
       "      <th>75%</th>\n",
       "      <td>30.100000</td>\n",
       "      <td>30.730000</td>\n",
       "      <td>30.060000</td>\n",
       "      <td>29.570000</td>\n",
       "      <td>0.046667</td>\n",
       "      <td>0.060000</td>\n",
       "      <td>50.200000</td>\n",
       "      <td>51.212500</td>\n",
       "      <td>50.300000</td>\n",
       "      <td>49.640000</td>\n",
       "      <td>0.110000</td>\n",
       "      <td>0.110000</td>\n",
       "      <td>1.000000</td>\n",
       "      <td>29.930000</td>\n",
       "      <td>50.362500</td>\n",
       "      <td>29.920000</td>\n",
       "      <td>50.250000</td>\n",
       "      <td>29.702500</td>\n",
       "      <td>49.860000</td>\n",
       "      <td>29.390000</td>\n",
       "      <td>49.272500</td>\n",
       "      <td>28.790000</td>\n",
       "      <td>48.690000</td>\n",
       "      <td>28.650000</td>\n",
       "      <td>48.350000</td>\n",
       "      <td>28.570000</td>\n",
       "      <td>48.360000</td>\n",
       "      <td>27.950000</td>\n",
       "      <td>47.210000</td>\n",
       "      <td>27.040000</td>\n",
       "      <td>45.280000</td>\n",
       "      <td>26.33000</td>\n",
       "      <td>43.882500</td>\n",
       "      <td>0.103333</td>\n",
       "      <td>0.106667</td>\n",
       "      <td>0.106667</td>\n",
       "      <td>0.113333</td>\n",
       "      <td>0.056667</td>\n",
       "      <td>0.060000</td>\n",
       "      <td>0.060000</td>\n",
       "      <td>95.294118</td>\n",
       "      <td>95.200000</td>\n",
       "      <td>37.000000</td>\n",
       "      <td>2.353416</td>\n",
       "      <td>359.687861</td>\n",
       "      <td>356.837450</td>\n",
       "      <td>18.660114</td>\n",
       "      <td>30.476042</td>\n",
       "      <td>4166.800000</td>\n",
       "      <td>24.285714</td>\n",
       "      <td>49.115667</td>\n",
       "      <td>0.000000</td>\n",
       "    </tr>\n",
       "    <tr>\n",
       "      <th>max</th>\n",
       "      <td>82.550000</td>\n",
       "      <td>98.890000</td>\n",
       "      <td>81.000000</td>\n",
       "      <td>81.890000</td>\n",
       "      <td>9.556667</td>\n",
       "      <td>17.913333</td>\n",
       "      <td>104.550000</td>\n",
       "      <td>110.560000</td>\n",
       "      <td>108.170000</td>\n",
       "      <td>104.810000</td>\n",
       "      <td>35.680000</td>\n",
       "      <td>15.140000</td>\n",
       "      <td>1.000000</td>\n",
       "      <td>85.530000</td>\n",
       "      <td>112.200000</td>\n",
       "      <td>79.150000</td>\n",
       "      <td>105.950000</td>\n",
       "      <td>78.630000</td>\n",
       "      <td>105.150000</td>\n",
       "      <td>108.970000</td>\n",
       "      <td>103.590000</td>\n",
       "      <td>76.500000</td>\n",
       "      <td>106.320000</td>\n",
       "      <td>94.280000</td>\n",
       "      <td>107.570000</td>\n",
       "      <td>69.870000</td>\n",
       "      <td>104.640000</td>\n",
       "      <td>88.750000</td>\n",
       "      <td>112.430000</td>\n",
       "      <td>111.020000</td>\n",
       "      <td>105.390000</td>\n",
       "      <td>114.58000</td>\n",
       "      <td>106.500000</td>\n",
       "      <td>16.396667</td>\n",
       "      <td>22.723333</td>\n",
       "      <td>19.536667</td>\n",
       "      <td>15.876667</td>\n",
       "      <td>14.570000</td>\n",
       "      <td>22.106667</td>\n",
       "      <td>12.943333</td>\n",
       "      <td>145.388889</td>\n",
       "      <td>145.333333</td>\n",
       "      <td>2013.000000</td>\n",
       "      <td>38.000000</td>\n",
       "      <td>410.957692</td>\n",
       "      <td>420.486000</td>\n",
       "      <td>34.016667</td>\n",
       "      <td>60.746667</td>\n",
       "      <td>4208.900000</td>\n",
       "      <td>418.916667</td>\n",
       "      <td>94.763333</td>\n",
       "      <td>1.000000</td>\n",
       "    </tr>\n",
       "  </tbody>\n",
       "</table>\n",
       "</div>"
      ],
      "text/plain": [
       "       avg_time_charging_lag1  avg_time_charging_lag2  avg_time_charging_lag3  \\\n",
       "count            40500.000000            40500.000000            40500.000000   \n",
       "mean                16.274839               16.521473               16.277490   \n",
       "std                 15.374342               15.425769               15.305041   \n",
       "min                  1.510000                1.060000                0.040000   \n",
       "25%                  4.910000                4.920000                4.900000   \n",
       "50%                  5.770000                5.830000                5.780000   \n",
       "75%                 30.100000               30.730000               30.060000   \n",
       "max                 82.550000               98.890000               81.000000   \n",
       "\n",
       "       avg_time_charging_lag7  charging_rate_lag3  charging_rate_lag7  \\\n",
       "count            40500.000000        40500.000000        40500.000000   \n",
       "mean                16.355560           -0.043389           -0.053018   \n",
       "std                 15.127922            0.776305            0.756452   \n",
       "min                  1.070000          -76.946667          -42.130000   \n",
       "25%                  4.900000           -0.066667           -0.100000   \n",
       "50%                  5.790000            0.000000           -0.003333   \n",
       "75%                 29.570000            0.046667            0.060000   \n",
       "max                 81.890000            9.556667           17.913333   \n",
       "\n",
       "       avg_time_discharging_lag1  avg_time_discharging_lag2  \\\n",
       "count               40500.000000               40500.000000   \n",
       "mean                   25.800928                  26.353566   \n",
       "std                    29.243961                  29.459305   \n",
       "min                     0.520000                   0.700000   \n",
       "25%                     4.200000                   4.210000   \n",
       "50%                     5.860000                   5.920000   \n",
       "75%                    50.200000                  51.212500   \n",
       "max                   104.550000                 110.560000   \n",
       "\n",
       "       avg_time_discharging_lag3  avg_time_discharging_lag7  \\\n",
       "count               40500.000000               40500.000000   \n",
       "mean                   25.903624                  26.081865   \n",
       "std                    29.269789                  28.979008   \n",
       "min                     1.070000                   1.740000   \n",
       "25%                     4.200000                   4.200000   \n",
       "50%                     5.850000                   5.890000   \n",
       "75%                    50.300000                  49.640000   \n",
       "max                   108.170000                 104.810000   \n",
       "\n",
       "       discharging_rate_lag3  discharging_rate_lag7  \\\n",
       "count           40500.000000           40500.000000   \n",
       "mean               -0.094954              -0.114908   \n",
       "std                 1.270488               1.324785   \n",
       "min               -22.413333             -18.606667   \n",
       "25%                -0.183333              -0.233333   \n",
       "50%                -0.003333              -0.003333   \n",
       "75%                 0.110000               0.110000   \n",
       "max                35.680000              15.140000   \n",
       "\n",
       "       charge_cycle_time_below_12  avg_time_charging_lag4  \\\n",
       "count                40500.000000            40500.000000   \n",
       "mean                     0.590593               16.343948   \n",
       "std                      0.491731               15.208344   \n",
       "min                      0.000000                2.960000   \n",
       "25%                      0.000000                4.910000   \n",
       "50%                      1.000000                5.810000   \n",
       "75%                      1.000000               29.930000   \n",
       "max                      1.000000               85.530000   \n",
       "\n",
       "       avg_time_discharging_lag4  avg_time_charging_lag5  \\\n",
       "count               40500.000000            40500.000000   \n",
       "mean                   26.082150               16.335808   \n",
       "std                    29.158269               15.196279   \n",
       "min                     2.110000                0.860000   \n",
       "25%                     4.210000                4.910000   \n",
       "50%                     5.900000                5.780000   \n",
       "75%                    50.362500               29.920000   \n",
       "max                   112.200000               79.150000   \n",
       "\n",
       "       avg_time_discharging_lag5  avg_time_charging_lag6  \\\n",
       "count               40500.000000            40500.000000   \n",
       "mean                   26.060941               16.344470   \n",
       "std                    29.138853               15.142292   \n",
       "min                     1.960000                1.420000   \n",
       "25%                     4.200000                4.900000   \n",
       "50%                     5.860000                5.790000   \n",
       "75%                    50.250000               29.702500   \n",
       "max                   105.950000               78.630000   \n",
       "\n",
       "       avg_time_discharging_lag6  avg_time_charging_lag8  \\\n",
       "count               40500.000000            40500.000000   \n",
       "mean                   26.081787               16.388272   \n",
       "std                    29.048877               15.114650   \n",
       "min                     2.430000                1.420000   \n",
       "25%                     4.210000                4.900000   \n",
       "50%                     5.870000                5.790000   \n",
       "75%                    49.860000               29.390000   \n",
       "max                   105.150000              108.970000   \n",
       "\n",
       "       avg_time_discharging_lag8  avg_time_charging_lag9  \\\n",
       "count               40500.000000            40500.000000   \n",
       "mean                   26.127173               16.316412   \n",
       "std                    28.896692               14.902038   \n",
       "min                     0.850000                2.790000   \n",
       "25%                     4.200000                4.900000   \n",
       "50%                     5.930000                5.800000   \n",
       "75%                    49.272500               28.790000   \n",
       "max                   103.590000               76.500000   \n",
       "\n",
       "       avg_time_discharging_lag9  avg_time_charging_lag10  \\\n",
       "count               40500.000000             40500.000000   \n",
       "mean                   26.064004                16.373961   \n",
       "std                    28.612361                14.824743   \n",
       "min                     0.040000                 2.410000   \n",
       "25%                     4.200000                 4.900000   \n",
       "50%                     5.970000                 5.860000   \n",
       "75%                    48.690000                28.650000   \n",
       "max                   106.320000                94.280000   \n",
       "\n",
       "       avg_time_discharging_lag10  avg_time_charging_lag11  \\\n",
       "count                40500.000000             40500.000000   \n",
       "mean                    26.116722                16.579331   \n",
       "std                     28.402516                14.756009   \n",
       "min                      2.140000                 2.050000   \n",
       "25%                      4.210000                 4.920000   \n",
       "50%                      6.030000                 6.000000   \n",
       "75%                     48.350000                28.570000   \n",
       "max                    107.570000                69.870000   \n",
       "\n",
       "       avg_time_discharging_lag11  avg_time_charging_lag12  \\\n",
       "count                40500.000000             40500.000000   \n",
       "mean                    26.561563                16.546822   \n",
       "std                     28.364380                14.512375   \n",
       "min                      1.850000                 2.880000   \n",
       "25%                      4.230000                 4.940000   \n",
       "50%                      6.290000                 6.140000   \n",
       "75%                     48.360000                27.950000   \n",
       "max                    104.640000                88.750000   \n",
       "\n",
       "       avg_time_discharging_lag12  avg_time_charging_lag13  \\\n",
       "count                40500.000000             40500.000000   \n",
       "mean                    26.510883                16.415961   \n",
       "std                     27.859306                14.161609   \n",
       "min                      0.020000                 2.240000   \n",
       "25%                      4.250000                 4.960000   \n",
       "50%                      6.710000                 6.550000   \n",
       "75%                     47.210000                27.040000   \n",
       "max                    112.430000               111.020000   \n",
       "\n",
       "       avg_time_discharging_lag13  avg_time_charging_lag14  \\\n",
       "count                40500.000000              40500.00000   \n",
       "mean                    26.238740                 16.51461   \n",
       "std                     27.130185                 13.82671   \n",
       "min                      0.080000                  1.76000   \n",
       "25%                      4.270000                  4.98000   \n",
       "50%                      9.150000                  9.97900   \n",
       "75%                     45.280000                 26.33000   \n",
       "max                    105.390000                114.58000   \n",
       "\n",
       "       avg_time_discharging_lag14  discharging_rate_lag4  \\\n",
       "count                40500.000000           40500.000000   \n",
       "mean                    26.382522              -0.108077   \n",
       "std                     26.413544               1.385724   \n",
       "min                      0.370000             -58.820000   \n",
       "25%                      4.340000              -0.190000   \n",
       "50%                     14.942000              -0.003333   \n",
       "75%                     43.882500               0.103333   \n",
       "max                    106.500000              16.396667   \n",
       "\n",
       "       discharging_rate_lag5  discharging_rate_lag6  discharging_rate_lag8  \\\n",
       "count           40500.000000           40500.000000           40500.000000   \n",
       "mean               -0.100143              -0.089710              -0.118150   \n",
       "std                 1.373807               1.322031               1.375298   \n",
       "min               -61.173333             -29.996667             -47.583333   \n",
       "25%                -0.206667              -0.203333              -0.240000   \n",
       "50%                -0.003333              -0.003333              -0.006667   \n",
       "75%                 0.106667               0.106667               0.113333   \n",
       "max                22.723333              19.536667              15.876667   \n",
       "\n",
       "       charging_rate_lag4  charging_rate_lag5  charging_rate_lag6  \\\n",
       "count        40500.000000        40500.000000        40500.000000   \n",
       "mean            -0.039316           -0.038808           -0.047337   \n",
       "std              0.720808            0.787685            0.818200   \n",
       "min            -17.450000          -56.886667          -85.763333   \n",
       "25%             -0.086667           -0.086667           -0.090000   \n",
       "50%             -0.003333            0.000000           -0.003333   \n",
       "75%              0.056667            0.060000            0.060000   \n",
       "max             14.570000           22.106667           12.943333   \n",
       "\n",
       "       chargecycles  dischargecycles  total_off_time  number_times_restart  \\\n",
       "count  40500.000000     40500.000000    40500.000000          40500.000000   \n",
       "mean      84.978399        84.859009       25.258990              2.154864   \n",
       "std       15.466961        15.507518       37.037053              2.223237   \n",
       "min       14.666667        14.416667        0.000000              0.090909   \n",
       "25%       74.647059        74.500000        3.565217              1.052632   \n",
       "50%       85.000000        84.875000       17.097619              1.470588   \n",
       "75%       95.294118        95.200000       37.000000              2.353416   \n",
       "max      145.388889       145.333333     2013.000000             38.000000   \n",
       "\n",
       "       avg_volt_change_charging  avg_volt_change_discharging  \\\n",
       "count              40500.000000                 40500.000000   \n",
       "mean                 351.421779                   348.207773   \n",
       "std                   12.745409                    13.277782   \n",
       "min                  304.050833                   298.250000   \n",
       "25%                  342.770532                   339.267541   \n",
       "50%                  351.109967                   347.911440   \n",
       "75%                  359.687861                   356.837450   \n",
       "max                  410.957692                   420.486000   \n",
       "\n",
       "       avg_time_charging  avg_time_discharging  max_voltage_day    piececount  \\\n",
       "count       40500.000000          40500.000000     40500.000000  40500.000000   \n",
       "mean           16.352522             26.081939      4159.266095     20.526154   \n",
       "std             3.553653              6.813312        11.306765     16.461988   \n",
       "min             4.890000              4.131111      4112.454545      1.000000   \n",
       "25%            13.912625             21.418250      4151.666667     11.333333   \n",
       "50%            16.201115             25.774365      4159.158948     16.500000   \n",
       "75%            18.660114             30.476042      4166.800000     24.285714   \n",
       "max            34.016667             60.746667      4208.900000    418.916667   \n",
       "\n",
       "         cycle_time        fail_7  \n",
       "count  40500.000000  40500.000000  \n",
       "mean      42.434462      0.232123  \n",
       "std       10.321011      0.422193  \n",
       "min        9.021111      0.000000  \n",
       "25%       35.364068      0.000000  \n",
       "50%       42.005895      0.000000  \n",
       "75%       49.115667      0.000000  \n",
       "max       94.763333      1.000000  "
      ]
     },
     "execution_count": 7,
     "metadata": {},
     "output_type": "execute_result"
    }
   ],
   "source": [
    "pd.set_option('display.max_columns', None)\n",
    "train_trans.describe()"
   ]
  },
  {
   "cell_type": "code",
   "execution_count": 46,
   "metadata": {},
   "outputs": [
    {
     "data": {
      "text/plain": [
       "(40500, 52)"
      ]
     },
     "execution_count": 46,
     "metadata": {},
     "output_type": "execute_result"
    }
   ],
   "source": [
    "train_trans.shape"
   ]
  },
  {
   "cell_type": "markdown",
   "metadata": {},
   "source": [
    "<h2>Test a few models</h2>"
   ]
  },
  {
   "cell_type": "markdown",
   "metadata": {},
   "source": [
    "1. logistic\n",
    "2. neural network\n",
    "3. ensembling trees\n",
    "4. knn\n",
    "5. naive bayes\n",
    "6. svm"
   ]
  },
  {
   "cell_type": "code",
   "execution_count": 8,
   "metadata": {},
   "outputs": [],
   "source": [
    "X_train=train_trans.drop([\"fail_7\"],axis=1)\n",
    "Y_train=train_trans[\"fail_7\"]"
   ]
  },
  {
   "cell_type": "code",
   "execution_count": 9,
   "metadata": {},
   "outputs": [],
   "source": [
    "# Load libraries\n",
    "\n",
    "from sklearn.model_selection import cross_val_score\n",
    "from sklearn.model_selection import StratifiedKFold\n",
    "#from sklearn.metrics import classification_report\n",
    "#from sklearn.metrics import confusion_matrix\n",
    "#from sklearn.metrics import accuracy_score\n",
    "from sklearn.linear_model import LogisticRegression\n",
    "from sklearn.naive_bayes import GaussianNB\n",
    "from sklearn.neighbors import KNeighborsClassifier\n",
    "from sklearn.svm import SVC\n",
    "from sklearn.ensemble import GradientBoostingClassifier\n",
    "\n",
    "\n",
    "\n",
    "\n",
    "# Spot Check Algorithms\n",
    "models = []\n",
    "\n",
    "\n",
    "# Gaussian Naive Bayes\n",
    "models.append(('NB', GaussianNB())) \n",
    "\n",
    "\n",
    "# Logistic regression\n",
    "models.append(('LR', LogisticRegression(solver='liblinear', multi_class='ovr')))\n",
    "\n",
    "#KNN\n",
    "models.append(('KNN',KNeighborsClassifier()))\n",
    "\n",
    "#Kernalize SVM\n",
    "models.append(('SVM',SVC()))\n",
    "\n",
    "#GBDT\n",
    "models.append(('GBDT', GradientBoostingClassifier(random_state=0)))\n"
   ]
  },
  {
   "cell_type": "code",
   "execution_count": 10,
   "metadata": {},
   "outputs": [],
   "source": [
    "#pip install joblib\n",
    "from joblib import parallel_backend"
   ]
  },
  {
   "cell_type": "code",
   "execution_count": 12,
   "metadata": {},
   "outputs": [
    {
     "name": "stdout",
     "output_type": "stream",
     "text": [
      "NB: 0.617852 (0.007503)\n",
      "LR: 0.767778 (0.000547)\n",
      "KNN: 0.727852 (0.005497)\n",
      "SVM: 0.767877 (0.000049)\n",
      "GBDT: 0.813086 (0.003567)\n"
     ]
    }
   ],
   "source": [
    "# evaluate each model in turn\n",
    "#split into 5 for cross validation \n",
    "\n",
    "#For int/None inputs, if the estimator is a classifier and y is either binary or multiclass, StratifiedKFold is used. In all other cases, KFold is used.\n",
    "results = []\n",
    "names = []\n",
    "with parallel_backend('threading', n_jobs=-1):\n",
    "    for name,model in models:\n",
    "        kfold = StratifiedKFold(n_splits=5, random_state=0,shuffle=True)\n",
    "        cv_results = cross_val_score(model, \n",
    "                                     X_train,\n",
    "                                     Y_train, cv=kfold, scoring='accuracy')\n",
    "        results.append(cv_results)\n",
    "        names.append(name)\n",
    "        print('%s: %f (%f)' % (name,cv_results.mean(),cv_results.std()))"
   ]
  },
  {
   "cell_type": "code",
   "execution_count": 15,
   "metadata": {},
   "outputs": [
    {
     "data": {
      "image/png": "[encoded data removed]",
      "text/plain": [
       "<Figure size 1080x432 with 1 Axes>"
      ]
     },
     "metadata": {
      "needs_background": "light"
     },
     "output_type": "display_data"
    }
   ],
   "source": [
    "# Compare Algorithms\n",
    "fig,ax = plt.subplots(figsize=(15,6))\n",
    "ax.boxplot(results, labels=names)\n",
    "plt.title('Algorithm Comparison')\n",
    "plt.show() \n",
    "#USE GBDT AS EVALUATION METHOD FOR NOW"
   ]
  },
  {
   "cell_type": "markdown",
   "metadata": {},
   "source": [
    "<h2>Create methods to evaluate new features adding</h2>"
   ]
  },
  {
   "cell_type": "markdown",
   "metadata": {},
   "source": [
    "1. cv score(USE THIS, GBDT CV SCORE for now)\n",
    "2. aic, bic\n",
    "3. feature importance rank"
   ]
  },
  {
   "cell_type": "markdown",
   "metadata": {},
   "source": [
    "<h2>Quick Model Evaluation</h2>"
   ]
  },
  {
   "cell_type": "code",
   "execution_count": 23,
   "metadata": {},
   "outputs": [],
   "source": [
    "from sklearn.ensemble import RandomForestClassifier\n",
    "\n",
    "rf=RandomForestClassifier(random_state=0)\n",
    "\n",
    "\n",
    "with parallel_backend('threading', n_jobs=-1):\n",
    "    score_record=cross_val_score(rf,X_train,Y_train,cv=StratifiedKFold(n_splits=5, random_state=0,shuffle=True),scoring='accuracy').mean()"
   ]
  },
  {
   "cell_type": "code",
   "execution_count": 24,
   "metadata": {},
   "outputs": [
    {
     "data": {
      "text/plain": [
       "0.7979012345679013"
      ]
     },
     "execution_count": 24,
     "metadata": {},
     "output_type": "execute_result"
    }
   ],
   "source": [
    "score_record"
   ]
  },
  {
   "cell_type": "code",
   "execution_count": 32,
   "metadata": {},
   "outputs": [
    {
     "data": {
      "text/plain": [
       "52"
      ]
     },
     "execution_count": 32,
     "metadata": {},
     "output_type": "execute_result"
    }
   ],
   "source": [
    "p=train_trans.shape[1]\n",
    "p"
   ]
  },
  {
   "cell_type": "code",
   "execution_count": 49,
   "metadata": {},
   "outputs": [],
   "source": [
    "from sklearn.neural_network import MLPClassifier\n",
    "\n",
    "mlp=MLPClassifier(random_state=0,hidden_layer_sizes=[1])\n",
    "\n",
    "\n",
    "with parallel_backend('threading', n_jobs=-1):\n",
    "    score_record=cross_val_score(mlp,X_train,Y_train,cv=StratifiedKFold(n_splits=5, random_state=0,shuffle=True),scoring='accuracy').mean()"
   ]
  },
  {
   "cell_type": "code",
   "execution_count": 50,
   "metadata": {},
   "outputs": [
    {
     "data": {
      "text/plain": [
       "0.7678765432098766"
      ]
     },
     "execution_count": 50,
     "metadata": {},
     "output_type": "execute_result"
    }
   ],
   "source": [
    "score_record\n",
    "#MLP only need 1 layer and of size 1 node to get 0.767, which is basically like logistic regression"
   ]
  },
  {
   "cell_type": "markdown",
   "metadata": {},
   "source": [
    "<h2>Graph time series</h2>"
   ]
  },
  {
   "cell_type": "code",
   "execution_count": 83,
   "metadata": {},
   "outputs": [],
   "source": [
    "import re"
   ]
  },
  {
   "cell_type": "code",
   "execution_count": 95,
   "metadata": {},
   "outputs": [],
   "source": [
    "def plot_by_group(pattern):\n",
    "    match=[]\n",
    "    names=[]\n",
    "    for item in train_trans.columns:\n",
    "        result = re.match(pattern, item)\n",
    "        match.append(bool(result))\n",
    "        if bool(result):\n",
    "            names.append(item)\n",
    "    group=train_trans[names]\n",
    "    group.mean().plot(kind=\"line\")\n",
    "    plt.show()"
   ]
  },
  {
   "cell_type": "code",
   "execution_count": 96,
   "metadata": {},
   "outputs": [
    {
     "data": {
      "image/png": "[encoded data removed]",
      "text/plain": [
       "<Figure size 432x288 with 1 Axes>"
      ]
     },
     "metadata": {
      "needs_background": "light"
     },
     "output_type": "display_data"
    }
   ],
   "source": [
    "plot_by_group(\"^avg_time_charging_lag\")"
   ]
  },
  {
   "cell_type": "code",
   "execution_count": 97,
   "metadata": {},
   "outputs": [
    {
     "data": {
      "image/png": "[encoded data removed]",
      "text/plain": [
       "<Figure size 432x288 with 1 Axes>"
      ]
     },
     "metadata": {
      "needs_background": "light"
     },
     "output_type": "display_data"
    }
   ],
   "source": [
    "plot_by_group(\"^charging_rate_lag\")"
   ]
  },
  {
   "cell_type": "code",
   "execution_count": 98,
   "metadata": {},
   "outputs": [
    {
     "data": {
      "image/png": "[encoded data removed]",
      "text/plain": [
       "<Figure size 432x288 with 1 Axes>"
      ]
     },
     "metadata": {
      "needs_background": "light"
     },
     "output_type": "display_data"
    }
   ],
   "source": [
    "plot_by_group(\"^avg_time_discharging_lag\")"
   ]
  },
  {
   "cell_type": "code",
   "execution_count": 99,
   "metadata": {},
   "outputs": [
    {
     "data": {
      "image/png": "[encoded data removed]",
      "text/plain": [
       "<Figure size 432x288 with 1 Axes>"
      ]
     },
     "metadata": {
      "needs_background": "light"
     },
     "output_type": "display_data"
    }
   ],
   "source": [
    "plot_by_group(\"^discharging_rate_lag\")"
   ]
  },
  {
   "cell_type": "markdown",
   "metadata": {},
   "source": [
    "<h2>feature engineering</h2>"
   ]
  },
  {
   "cell_type": "code",
   "execution_count": 100,
   "metadata": {},
   "outputs": [
    {
     "data": {
      "text/plain": [
       "Index(['avg_time_charging_lag1', 'avg_time_charging_lag2',\n",
       "       'avg_time_charging_lag3', 'avg_time_charging_lag7',\n",
       "       'charging_rate_lag3', 'charging_rate_lag7', 'avg_time_discharging_lag1',\n",
       "       'avg_time_discharging_lag2', 'avg_time_discharging_lag3',\n",
       "       'avg_time_discharging_lag7', 'discharging_rate_lag3',\n",
       "       'discharging_rate_lag7', 'charge_cycle_time_below_12',\n",
       "       'avg_time_charging_lag4', 'avg_time_discharging_lag4',\n",
       "       'avg_time_charging_lag5', 'avg_time_discharging_lag5',\n",
       "       'avg_time_charging_lag6', 'avg_time_discharging_lag6',\n",
       "       'avg_time_charging_lag8', 'avg_time_discharging_lag8',\n",
       "       'avg_time_charging_lag9', 'avg_time_discharging_lag9',\n",
       "       'avg_time_charging_lag10', 'avg_time_discharging_lag10',\n",
       "       'avg_time_charging_lag11', 'avg_time_discharging_lag11',\n",
       "       'avg_time_charging_lag12', 'avg_time_discharging_lag12',\n",
       "       'avg_time_charging_lag13', 'avg_time_discharging_lag13',\n",
       "       'avg_time_charging_lag14', 'avg_time_discharging_lag14',\n",
       "       'discharging_rate_lag4', 'discharging_rate_lag5',\n",
       "       'discharging_rate_lag6', 'discharging_rate_lag8', 'charging_rate_lag4',\n",
       "       'charging_rate_lag5', 'charging_rate_lag6', 'chargecycles',\n",
       "       'dischargecycles', 'total_off_time', 'number_times_restart',\n",
       "       'avg_volt_change_charging', 'avg_volt_change_discharging',\n",
       "       'avg_time_charging', 'avg_time_discharging', 'max_voltage_day',\n",
       "       'piececount', 'cycle_time', 'fail_7'],\n",
       "      dtype='object')"
      ]
     },
     "execution_count": 100,
     "metadata": {},
     "output_type": "execute_result"
    }
   ],
   "source": [
    "train_trans.columns"
   ]
  },
  {
   "cell_type": "code",
   "execution_count": 102,
   "metadata": {},
   "outputs": [],
   "source": [
    "#start a new df for feature engineering\n",
    "df_eng=train_trans"
   ]
  },
  {
   "cell_type": "code",
   "execution_count": 106,
   "metadata": {},
   "outputs": [
    {
     "data": {
      "text/plain": [
       "['avg_time_charging_lag1',\n",
       " 'avg_time_charging_lag2',\n",
       " 'avg_time_charging_lag3',\n",
       " 'avg_time_charging_lag7',\n",
       " 'avg_time_charging_lag4',\n",
       " 'avg_time_charging_lag5',\n",
       " 'avg_time_charging_lag6',\n",
       " 'avg_time_charging_lag8',\n",
       " 'avg_time_charging_lag9',\n",
       " 'avg_time_charging_lag10',\n",
       " 'avg_time_charging_lag11',\n",
       " 'avg_time_charging_lag12',\n",
       " 'avg_time_charging_lag13',\n",
       " 'avg_time_charging_lag14']"
      ]
     },
     "execution_count": 106,
     "metadata": {},
     "output_type": "execute_result"
    }
   ],
   "source": [
    "pattern=(\"^avg_time_charging_lag\")\n",
    "match=[]\n",
    "names=[]\n",
    "for item in train_trans.columns:\n",
    "    result = re.match(pattern, item)\n",
    "    match.append(bool(result))\n",
    "    if bool(result):\n",
    "        names.append(item)\n",
    "names"
   ]
  },
  {
   "cell_type": "code",
   "execution_count": 109,
   "metadata": {},
   "outputs": [
    {
     "data": {
      "text/plain": [
       "0        20.321286\n",
       "1        18.247571\n",
       "2        14.462143\n",
       "3        15.245714\n",
       "4        19.771429\n",
       "           ...    \n",
       "40495    13.792857\n",
       "40496    18.573571\n",
       "40497    14.123571\n",
       "40498    14.321429\n",
       "40499    18.780714\n",
       "Name: test, Length: 40500, dtype: float64"
      ]
     },
     "execution_count": 109,
     "metadata": {},
     "output_type": "execute_result"
    }
   ],
   "source": [
    "df_eng[\"test\"]=0\n",
    "for item in names:\n",
    "    df_eng[\"test\"]=df_eng[\"test\"]+df_eng[item]\n",
    "df_eng[\"test\"]=df_eng[\"test\"]/len(names)\n",
    "df_eng[\"test\"]"
   ]
  },
  {
   "cell_type": "code",
   "execution_count": 110,
   "metadata": {},
   "outputs": [
    {
     "data": {
      "text/plain": [
       "False"
      ]
     },
     "execution_count": 110,
     "metadata": {},
     "output_type": "execute_result"
    }
   ],
   "source": [
    "df_eng[\"test\"].equals(df_eng[\"avg_time_charging\"])\n",
    "#avg_time_charging!=avg of time series!"
   ]
  },
  {
   "cell_type": "code",
   "execution_count": 114,
   "metadata": {},
   "outputs": [],
   "source": [
    "X_train_eng=df_eng.drop(['fail_7'],axis=1)\n",
    "\n",
    "\n",
    "\n",
    "gbdt=GradientBoostingClassifier(random_state=0)\n",
    "\n",
    "\n",
    "with parallel_backend('threading', n_jobs=-1):\n",
    "    score_record=cross_val_score(gbdt,X_train_eng,Y_train,cv=StratifiedKFold(n_splits=5, random_state=0,shuffle=True),scoring='accuracy').mean()"
   ]
  },
  {
   "cell_type": "code",
   "execution_count": 115,
   "metadata": {},
   "outputs": [
    {
     "data": {
      "text/plain": [
       "0.813283950617284"
      ]
     },
     "execution_count": 115,
     "metadata": {},
     "output_type": "execute_result"
    }
   ],
   "source": [
    "score_record\n",
    "#improved, can keep this"
   ]
  },
  {
   "cell_type": "markdown",
   "metadata": {},
   "source": [
    "<h3>new feature testing process</h3>"
   ]
  },
  {
   "cell_type": "markdown",
   "metadata": {},
   "source": [
    "use code block above,make new features to df_eng, if score is larger than 0.813086 of original GBDT, can keep it, \n",
    "otherwise, useless features,discard it"
   ]
  },
  {
   "cell_type": "markdown",
   "metadata": {},
   "source": [
    "<h2>Several Ideas</h2>\n"
   ]
  },
  {
   "cell_type": "markdown",
   "metadata": {},
   "source": [
    "1. average of each time series\n",
    "2. charging_time*rate, same for discharge->total electricity charged/discharged\n",
    "3. "
   ]
  },
  {
   "cell_type": "code",
   "execution_count": null,
   "metadata": {},
   "outputs": [],
   "source": []
  }
 ],
 "metadata": {
  "kernelspec": {
   "display_name": "Python 3",
   "language": "python",
   "name": "python3"
  },
  "language_info": {
   "codemirror_mode": {
    "name": "ipython",
    "version": 3
   },
   "file_extension": ".py",
   "mimetype": "text/x-python",
   "name": "python",
   "nbconvert_exporter": "python",
   "pygments_lexer": "ipython3",
   "version": "3.7.6"
  }
 },
 "nbformat": 4,
 "nbformat_minor": 4
}
