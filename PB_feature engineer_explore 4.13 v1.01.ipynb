{
 "cells": [
  {
   "cell_type": "code",
   "execution_count": 1,
   "metadata": {},
   "outputs": [],
   "source": [
    "import pandas as pd"
   ]
  },
  {
   "cell_type": "code",
   "execution_count": 2,
   "metadata": {},
   "outputs": [],
   "source": [
    "from sklearn.ensemble import GradientBoostingClassifier\n",
    "from joblib import parallel_backend\n",
    "from sklearn.model_selection import cross_val_score\n",
    "from sklearn.model_selection import StratifiedKFold"
   ]
  },
  {
   "cell_type": "code",
   "execution_count": 3,
   "metadata": {},
   "outputs": [],
   "source": [
    "train_trans=pd.read_csv(\"Train_trans.csv\")"
   ]
  },
  {
   "cell_type": "code",
   "execution_count": 4,
   "metadata": {},
   "outputs": [],
   "source": [
    "from sklearn.ensemble import IsolationForest"
   ]
  },
  {
   "cell_type": "code",
   "execution_count": 5,
   "metadata": {},
   "outputs": [
    {
     "data": {
      "text/plain": [
       "IsolationForest(behaviour='deprecated', bootstrap=False, contamination='auto',\n",
       "                max_features=1.0, max_samples='auto', n_estimators=100,\n",
       "                n_jobs=None, random_state=0, verbose=0, warm_start=False)"
      ]
     },
     "execution_count": 5,
     "metadata": {},
     "output_type": "execute_result"
    }
   ],
   "source": [
    "iso=IsolationForest(random_state=0)\n",
    "iso.fit(train_trans)"
   ]
  },
  {
   "cell_type": "code",
   "execution_count": 6,
   "metadata": {},
   "outputs": [],
   "source": [
    "pred=iso.predict(train_trans)"
   ]
  },
  {
   "cell_type": "code",
   "execution_count": 7,
   "metadata": {},
   "outputs": [],
   "source": [
    "df_outlier=train_trans\n",
    "df_outlier['outliers']=pred"
   ]
  },
  {
   "cell_type": "code",
   "execution_count": 8,
   "metadata": {},
   "outputs": [
    {
     "data": {
      "text/html": [
       "<div>\n",
       "<style scoped>\n",
       "    .dataframe tbody tr th:only-of-type {\n",
       "        vertical-align: middle;\n",
       "    }\n",
       "\n",
       "    .dataframe tbody tr th {\n",
       "        vertical-align: top;\n",
       "    }\n",
       "\n",
       "    .dataframe thead th {\n",
       "        text-align: right;\n",
       "    }\n",
       "</style>\n",
       "<table border=\"1\" class=\"dataframe\">\n",
       "  <thead>\n",
       "    <tr style=\"text-align: right;\">\n",
       "      <th></th>\n",
       "      <th>avg_time_charging_lag1</th>\n",
       "      <th>avg_time_charging_lag2</th>\n",
       "      <th>avg_time_charging_lag3</th>\n",
       "      <th>avg_time_charging_lag7</th>\n",
       "      <th>charging_rate_lag3</th>\n",
       "      <th>charging_rate_lag7</th>\n",
       "      <th>avg_time_discharging_lag1</th>\n",
       "      <th>avg_time_discharging_lag2</th>\n",
       "      <th>avg_time_discharging_lag3</th>\n",
       "      <th>avg_time_discharging_lag7</th>\n",
       "      <th>...</th>\n",
       "      <th>avg_volt_change_charging</th>\n",
       "      <th>avg_volt_change_discharging</th>\n",
       "      <th>avg_time_charging</th>\n",
       "      <th>avg_time_discharging</th>\n",
       "      <th>max_voltage_day</th>\n",
       "      <th>piececount</th>\n",
       "      <th>cycle_time</th>\n",
       "      <th>use_time</th>\n",
       "      <th>fail_7</th>\n",
       "      <th>outliers</th>\n",
       "    </tr>\n",
       "  </thead>\n",
       "  <tbody>\n",
       "    <tr>\n",
       "      <th>0</th>\n",
       "      <td>5.12</td>\n",
       "      <td>41.11</td>\n",
       "      <td>6.56</td>\n",
       "      <td>25.39</td>\n",
       "      <td>0.086667</td>\n",
       "      <td>-0.006667</td>\n",
       "      <td>4.37</td>\n",
       "      <td>91.70</td>\n",
       "      <td>15.70</td>\n",
       "      <td>39.12</td>\n",
       "      <td>...</td>\n",
       "      <td>377.080000</td>\n",
       "      <td>367.428750</td>\n",
       "      <td>21.696250</td>\n",
       "      <td>39.005000</td>\n",
       "      <td>4174.875000</td>\n",
       "      <td>14.200000</td>\n",
       "      <td>60.701250</td>\n",
       "      <td>543</td>\n",
       "      <td>0</td>\n",
       "      <td>1</td>\n",
       "    </tr>\n",
       "    <tr>\n",
       "      <th>1</th>\n",
       "      <td>36.60</td>\n",
       "      <td>5.16</td>\n",
       "      <td>6.23</td>\n",
       "      <td>6.96</td>\n",
       "      <td>0.136667</td>\n",
       "      <td>-1.296667</td>\n",
       "      <td>62.67</td>\n",
       "      <td>6.53</td>\n",
       "      <td>6.16</td>\n",
       "      <td>8.25</td>\n",
       "      <td>...</td>\n",
       "      <td>350.517857</td>\n",
       "      <td>350.309286</td>\n",
       "      <td>19.883571</td>\n",
       "      <td>32.213571</td>\n",
       "      <td>4161.000000</td>\n",
       "      <td>19.777778</td>\n",
       "      <td>52.097143</td>\n",
       "      <td>522</td>\n",
       "      <td>0</td>\n",
       "      <td>1</td>\n",
       "    </tr>\n",
       "    <tr>\n",
       "      <th>2</th>\n",
       "      <td>5.51</td>\n",
       "      <td>5.04</td>\n",
       "      <td>4.52</td>\n",
       "      <td>5.96</td>\n",
       "      <td>-0.460000</td>\n",
       "      <td>-0.083333</td>\n",
       "      <td>5.13</td>\n",
       "      <td>5.65</td>\n",
       "      <td>4.14</td>\n",
       "      <td>14.02</td>\n",
       "      <td>...</td>\n",
       "      <td>346.113333</td>\n",
       "      <td>343.409524</td>\n",
       "      <td>13.675238</td>\n",
       "      <td>20.471429</td>\n",
       "      <td>4152.238095</td>\n",
       "      <td>19.200000</td>\n",
       "      <td>34.146667</td>\n",
       "      <td>518</td>\n",
       "      <td>0</td>\n",
       "      <td>1</td>\n",
       "    </tr>\n",
       "    <tr>\n",
       "      <th>3</th>\n",
       "      <td>4.66</td>\n",
       "      <td>39.85</td>\n",
       "      <td>35.76</td>\n",
       "      <td>40.69</td>\n",
       "      <td>0.076667</td>\n",
       "      <td>-0.006667</td>\n",
       "      <td>3.93</td>\n",
       "      <td>76.37</td>\n",
       "      <td>60.86</td>\n",
       "      <td>73.53</td>\n",
       "      <td>...</td>\n",
       "      <td>356.184211</td>\n",
       "      <td>349.844737</td>\n",
       "      <td>16.306842</td>\n",
       "      <td>26.189474</td>\n",
       "      <td>4164.631579</td>\n",
       "      <td>23.625000</td>\n",
       "      <td>42.496316</td>\n",
       "      <td>548</td>\n",
       "      <td>0</td>\n",
       "      <td>1</td>\n",
       "    </tr>\n",
       "    <tr>\n",
       "      <th>4</th>\n",
       "      <td>5.10</td>\n",
       "      <td>43.24</td>\n",
       "      <td>4.63</td>\n",
       "      <td>5.26</td>\n",
       "      <td>0.040000</td>\n",
       "      <td>-0.153333</td>\n",
       "      <td>4.69</td>\n",
       "      <td>71.44</td>\n",
       "      <td>3.80</td>\n",
       "      <td>6.29</td>\n",
       "      <td>...</td>\n",
       "      <td>370.904000</td>\n",
       "      <td>367.730000</td>\n",
       "      <td>18.797333</td>\n",
       "      <td>30.812000</td>\n",
       "      <td>4169.800000</td>\n",
       "      <td>12.666667</td>\n",
       "      <td>49.609333</td>\n",
       "      <td>566</td>\n",
       "      <td>0</td>\n",
       "      <td>1</td>\n",
       "    </tr>\n",
       "  </tbody>\n",
       "</table>\n",
       "<p>5 rows × 54 columns</p>\n",
       "</div>"
      ],
      "text/plain": [
       "   avg_time_charging_lag1  avg_time_charging_lag2  avg_time_charging_lag3  \\\n",
       "0                    5.12                   41.11                    6.56   \n",
       "1                   36.60                    5.16                    6.23   \n",
       "2                    5.51                    5.04                    4.52   \n",
       "3                    4.66                   39.85                   35.76   \n",
       "4                    5.10                   43.24                    4.63   \n",
       "\n",
       "   avg_time_charging_lag7  charging_rate_lag3  charging_rate_lag7  \\\n",
       "0                   25.39            0.086667           -0.006667   \n",
       "1                    6.96            0.136667           -1.296667   \n",
       "2                    5.96           -0.460000           -0.083333   \n",
       "3                   40.69            0.076667           -0.006667   \n",
       "4                    5.26            0.040000           -0.153333   \n",
       "\n",
       "   avg_time_discharging_lag1  avg_time_discharging_lag2  \\\n",
       "0                       4.37                      91.70   \n",
       "1                      62.67                       6.53   \n",
       "2                       5.13                       5.65   \n",
       "3                       3.93                      76.37   \n",
       "4                       4.69                      71.44   \n",
       "\n",
       "   avg_time_discharging_lag3  avg_time_discharging_lag7  ...  \\\n",
       "0                      15.70                      39.12  ...   \n",
       "1                       6.16                       8.25  ...   \n",
       "2                       4.14                      14.02  ...   \n",
       "3                      60.86                      73.53  ...   \n",
       "4                       3.80                       6.29  ...   \n",
       "\n",
       "   avg_volt_change_charging  avg_volt_change_discharging  avg_time_charging  \\\n",
       "0                377.080000                   367.428750          21.696250   \n",
       "1                350.517857                   350.309286          19.883571   \n",
       "2                346.113333                   343.409524          13.675238   \n",
       "3                356.184211                   349.844737          16.306842   \n",
       "4                370.904000                   367.730000          18.797333   \n",
       "\n",
       "   avg_time_discharging  max_voltage_day  piececount  cycle_time  use_time  \\\n",
       "0             39.005000      4174.875000   14.200000   60.701250       543   \n",
       "1             32.213571      4161.000000   19.777778   52.097143       522   \n",
       "2             20.471429      4152.238095   19.200000   34.146667       518   \n",
       "3             26.189474      4164.631579   23.625000   42.496316       548   \n",
       "4             30.812000      4169.800000   12.666667   49.609333       566   \n",
       "\n",
       "   fail_7  outliers  \n",
       "0       0         1  \n",
       "1       0         1  \n",
       "2       0         1  \n",
       "3       0         1  \n",
       "4       0         1  \n",
       "\n",
       "[5 rows x 54 columns]"
      ]
     },
     "execution_count": 8,
     "metadata": {},
     "output_type": "execute_result"
    }
   ],
   "source": [
    "df_nonOuts=df_outlier[df_outlier['outliers']!=-1]\n",
    "df_nonOuts.head(5)"
   ]
  },
  {
   "cell_type": "code",
   "execution_count": 9,
   "metadata": {},
   "outputs": [],
   "source": [
    "df_nonOuts_final = df_nonOuts.drop('outliers',axis=1)"
   ]
  },
  {
   "cell_type": "code",
   "execution_count": 10,
   "metadata": {},
   "outputs": [
    {
     "data": {
      "text/html": [
       "<div>\n",
       "<style scoped>\n",
       "    .dataframe tbody tr th:only-of-type {\n",
       "        vertical-align: middle;\n",
       "    }\n",
       "\n",
       "    .dataframe tbody tr th {\n",
       "        vertical-align: top;\n",
       "    }\n",
       "\n",
       "    .dataframe thead th {\n",
       "        text-align: right;\n",
       "    }\n",
       "</style>\n",
       "<table border=\"1\" class=\"dataframe\">\n",
       "  <thead>\n",
       "    <tr style=\"text-align: right;\">\n",
       "      <th></th>\n",
       "      <th>avg_time_charging_lag1</th>\n",
       "      <th>avg_time_charging_lag2</th>\n",
       "      <th>avg_time_charging_lag3</th>\n",
       "      <th>avg_time_charging_lag7</th>\n",
       "      <th>charging_rate_lag3</th>\n",
       "      <th>charging_rate_lag7</th>\n",
       "      <th>avg_time_discharging_lag1</th>\n",
       "      <th>avg_time_discharging_lag2</th>\n",
       "      <th>avg_time_discharging_lag3</th>\n",
       "      <th>avg_time_discharging_lag7</th>\n",
       "      <th>...</th>\n",
       "      <th>number_times_restart</th>\n",
       "      <th>avg_volt_change_charging</th>\n",
       "      <th>avg_volt_change_discharging</th>\n",
       "      <th>avg_time_charging</th>\n",
       "      <th>avg_time_discharging</th>\n",
       "      <th>max_voltage_day</th>\n",
       "      <th>piececount</th>\n",
       "      <th>cycle_time</th>\n",
       "      <th>use_time</th>\n",
       "      <th>fail_7</th>\n",
       "    </tr>\n",
       "  </thead>\n",
       "  <tbody>\n",
       "    <tr>\n",
       "      <th>0</th>\n",
       "      <td>5.12</td>\n",
       "      <td>41.11</td>\n",
       "      <td>6.56</td>\n",
       "      <td>25.39</td>\n",
       "      <td>0.086667</td>\n",
       "      <td>-0.006667</td>\n",
       "      <td>4.37</td>\n",
       "      <td>91.70</td>\n",
       "      <td>15.70</td>\n",
       "      <td>39.12</td>\n",
       "      <td>...</td>\n",
       "      <td>2.375000</td>\n",
       "      <td>377.080000</td>\n",
       "      <td>367.428750</td>\n",
       "      <td>21.696250</td>\n",
       "      <td>39.005000</td>\n",
       "      <td>4174.875000</td>\n",
       "      <td>14.200000</td>\n",
       "      <td>60.701250</td>\n",
       "      <td>543</td>\n",
       "      <td>0</td>\n",
       "    </tr>\n",
       "    <tr>\n",
       "      <th>1</th>\n",
       "      <td>36.60</td>\n",
       "      <td>5.16</td>\n",
       "      <td>6.23</td>\n",
       "      <td>6.96</td>\n",
       "      <td>0.136667</td>\n",
       "      <td>-1.296667</td>\n",
       "      <td>62.67</td>\n",
       "      <td>6.53</td>\n",
       "      <td>6.16</td>\n",
       "      <td>8.25</td>\n",
       "      <td>...</td>\n",
       "      <td>1.000000</td>\n",
       "      <td>350.517857</td>\n",
       "      <td>350.309286</td>\n",
       "      <td>19.883571</td>\n",
       "      <td>32.213571</td>\n",
       "      <td>4161.000000</td>\n",
       "      <td>19.777778</td>\n",
       "      <td>52.097143</td>\n",
       "      <td>522</td>\n",
       "      <td>0</td>\n",
       "    </tr>\n",
       "    <tr>\n",
       "      <th>2</th>\n",
       "      <td>5.51</td>\n",
       "      <td>5.04</td>\n",
       "      <td>4.52</td>\n",
       "      <td>5.96</td>\n",
       "      <td>-0.460000</td>\n",
       "      <td>-0.083333</td>\n",
       "      <td>5.13</td>\n",
       "      <td>5.65</td>\n",
       "      <td>4.14</td>\n",
       "      <td>14.02</td>\n",
       "      <td>...</td>\n",
       "      <td>4.095238</td>\n",
       "      <td>346.113333</td>\n",
       "      <td>343.409524</td>\n",
       "      <td>13.675238</td>\n",
       "      <td>20.471429</td>\n",
       "      <td>4152.238095</td>\n",
       "      <td>19.200000</td>\n",
       "      <td>34.146667</td>\n",
       "      <td>518</td>\n",
       "      <td>0</td>\n",
       "    </tr>\n",
       "    <tr>\n",
       "      <th>3</th>\n",
       "      <td>4.66</td>\n",
       "      <td>39.85</td>\n",
       "      <td>35.76</td>\n",
       "      <td>40.69</td>\n",
       "      <td>0.076667</td>\n",
       "      <td>-0.006667</td>\n",
       "      <td>3.93</td>\n",
       "      <td>76.37</td>\n",
       "      <td>60.86</td>\n",
       "      <td>73.53</td>\n",
       "      <td>...</td>\n",
       "      <td>0.736842</td>\n",
       "      <td>356.184211</td>\n",
       "      <td>349.844737</td>\n",
       "      <td>16.306842</td>\n",
       "      <td>26.189474</td>\n",
       "      <td>4164.631579</td>\n",
       "      <td>23.625000</td>\n",
       "      <td>42.496316</td>\n",
       "      <td>548</td>\n",
       "      <td>0</td>\n",
       "    </tr>\n",
       "    <tr>\n",
       "      <th>4</th>\n",
       "      <td>5.10</td>\n",
       "      <td>43.24</td>\n",
       "      <td>4.63</td>\n",
       "      <td>5.26</td>\n",
       "      <td>0.040000</td>\n",
       "      <td>-0.153333</td>\n",
       "      <td>4.69</td>\n",
       "      <td>71.44</td>\n",
       "      <td>3.80</td>\n",
       "      <td>6.29</td>\n",
       "      <td>...</td>\n",
       "      <td>1.133333</td>\n",
       "      <td>370.904000</td>\n",
       "      <td>367.730000</td>\n",
       "      <td>18.797333</td>\n",
       "      <td>30.812000</td>\n",
       "      <td>4169.800000</td>\n",
       "      <td>12.666667</td>\n",
       "      <td>49.609333</td>\n",
       "      <td>566</td>\n",
       "      <td>0</td>\n",
       "    </tr>\n",
       "  </tbody>\n",
       "</table>\n",
       "<p>5 rows × 53 columns</p>\n",
       "</div>"
      ],
      "text/plain": [
       "   avg_time_charging_lag1  avg_time_charging_lag2  avg_time_charging_lag3  \\\n",
       "0                    5.12                   41.11                    6.56   \n",
       "1                   36.60                    5.16                    6.23   \n",
       "2                    5.51                    5.04                    4.52   \n",
       "3                    4.66                   39.85                   35.76   \n",
       "4                    5.10                   43.24                    4.63   \n",
       "\n",
       "   avg_time_charging_lag7  charging_rate_lag3  charging_rate_lag7  \\\n",
       "0                   25.39            0.086667           -0.006667   \n",
       "1                    6.96            0.136667           -1.296667   \n",
       "2                    5.96           -0.460000           -0.083333   \n",
       "3                   40.69            0.076667           -0.006667   \n",
       "4                    5.26            0.040000           -0.153333   \n",
       "\n",
       "   avg_time_discharging_lag1  avg_time_discharging_lag2  \\\n",
       "0                       4.37                      91.70   \n",
       "1                      62.67                       6.53   \n",
       "2                       5.13                       5.65   \n",
       "3                       3.93                      76.37   \n",
       "4                       4.69                      71.44   \n",
       "\n",
       "   avg_time_discharging_lag3  avg_time_discharging_lag7  ...  \\\n",
       "0                      15.70                      39.12  ...   \n",
       "1                       6.16                       8.25  ...   \n",
       "2                       4.14                      14.02  ...   \n",
       "3                      60.86                      73.53  ...   \n",
       "4                       3.80                       6.29  ...   \n",
       "\n",
       "   number_times_restart  avg_volt_change_charging  \\\n",
       "0              2.375000                377.080000   \n",
       "1              1.000000                350.517857   \n",
       "2              4.095238                346.113333   \n",
       "3              0.736842                356.184211   \n",
       "4              1.133333                370.904000   \n",
       "\n",
       "   avg_volt_change_discharging  avg_time_charging  avg_time_discharging  \\\n",
       "0                   367.428750          21.696250             39.005000   \n",
       "1                   350.309286          19.883571             32.213571   \n",
       "2                   343.409524          13.675238             20.471429   \n",
       "3                   349.844737          16.306842             26.189474   \n",
       "4                   367.730000          18.797333             30.812000   \n",
       "\n",
       "   max_voltage_day  piececount  cycle_time  use_time  fail_7  \n",
       "0      4174.875000   14.200000   60.701250       543       0  \n",
       "1      4161.000000   19.777778   52.097143       522       0  \n",
       "2      4152.238095   19.200000   34.146667       518       0  \n",
       "3      4164.631579   23.625000   42.496316       548       0  \n",
       "4      4169.800000   12.666667   49.609333       566       0  \n",
       "\n",
       "[5 rows x 53 columns]"
      ]
     },
     "execution_count": 10,
     "metadata": {},
     "output_type": "execute_result"
    }
   ],
   "source": [
    "df_nonOuts_final.head(5)"
   ]
  },
  {
   "cell_type": "code",
   "execution_count": 11,
   "metadata": {},
   "outputs": [],
   "source": [
    "X_train_nonOuts=df_nonOuts_final.drop('fail_7',axis=1)\n",
    "Y_train_nonOuts=df_nonOuts_final['fail_7']\n",
    "\n",
    "\n",
    "\n",
    "gbdt=GradientBoostingClassifier(random_state=0)\n",
    "\n",
    "\n",
    "with parallel_backend('threading', n_jobs=-1):\n",
    "    score_record=cross_val_score(gbdt,X_train_nonOuts,Y_train_nonOuts,cv=StratifiedKFold(n_splits=5, random_state=0,shuffle=True),scoring='accuracy').mean()"
   ]
  },
  {
   "cell_type": "code",
   "execution_count": 12,
   "metadata": {},
   "outputs": [
    {
     "data": {
      "text/plain": [
       "0.8154441902032993"
      ]
     },
     "execution_count": 12,
     "metadata": {},
     "output_type": "execute_result"
    }
   ],
   "source": [
    "score_record"
   ]
  },
  {
   "cell_type": "code",
   "execution_count": 13,
   "metadata": {},
   "outputs": [],
   "source": [
    "df_eng=df_nonOuts_final"
   ]
  },
  {
   "cell_type": "code",
   "execution_count": 14,
   "metadata": {},
   "outputs": [
    {
     "data": {
      "text/plain": [
       "['avg_time_charging_lag1',\n",
       " 'avg_time_charging_lag2',\n",
       " 'avg_time_charging_lag3',\n",
       " 'avg_time_charging_lag7',\n",
       " 'avg_time_charging_lag4',\n",
       " 'avg_time_charging_lag5',\n",
       " 'avg_time_charging_lag6',\n",
       " 'avg_time_charging_lag8',\n",
       " 'avg_time_charging_lag9',\n",
       " 'avg_time_charging_lag10',\n",
       " 'avg_time_charging_lag11',\n",
       " 'avg_time_charging_lag12',\n",
       " 'avg_time_charging_lag13',\n",
       " 'avg_time_charging_lag14']"
      ]
     },
     "execution_count": 14,
     "metadata": {},
     "output_type": "execute_result"
    }
   ],
   "source": [
    "import re\n",
    "pattern1 = (\"^avg_time_charging_lag\")\n",
    "match1 = []\n",
    "names1 = []\n",
    "for item in df_eng.columns:\n",
    "    result1 = re.match(pattern1, item)\n",
    "    match1.append(bool(result1))\n",
    "    if bool(result1):\n",
    "        names1.append(item)\n",
    "names1"
   ]
  },
  {
   "cell_type": "code",
   "execution_count": 15,
   "metadata": {},
   "outputs": [
    {
     "data": {
      "text/plain": [
       "['avg_time_discharging_lag1',\n",
       " 'avg_time_discharging_lag2',\n",
       " 'avg_time_discharging_lag3',\n",
       " 'avg_time_discharging_lag7',\n",
       " 'avg_time_discharging_lag4',\n",
       " 'avg_time_discharging_lag5',\n",
       " 'avg_time_discharging_lag6',\n",
       " 'avg_time_discharging_lag8',\n",
       " 'avg_time_discharging_lag9',\n",
       " 'avg_time_discharging_lag10',\n",
       " 'avg_time_discharging_lag11',\n",
       " 'avg_time_discharging_lag12',\n",
       " 'avg_time_discharging_lag13',\n",
       " 'avg_time_discharging_lag14']"
      ]
     },
     "execution_count": 15,
     "metadata": {},
     "output_type": "execute_result"
    }
   ],
   "source": [
    "pattern2 = (\"^avg_time_discharging_lag\")\n",
    "match2 = []\n",
    "names2 = []\n",
    "for item in df_eng.columns:\n",
    "    result2 = re.match(pattern2, item)\n",
    "    match2.append(bool(result2))\n",
    "    if bool(result2):\n",
    "        names2.append(item)\n",
    "names2"
   ]
  },
  {
   "cell_type": "code",
   "execution_count": 16,
   "metadata": {},
   "outputs": [
    {
     "data": {
      "text/plain": [
       "['charging_rate_lag3',\n",
       " 'charging_rate_lag7',\n",
       " 'charging_rate_lag4',\n",
       " 'charging_rate_lag5',\n",
       " 'charging_rate_lag6']"
      ]
     },
     "execution_count": 16,
     "metadata": {},
     "output_type": "execute_result"
    }
   ],
   "source": [
    "pattern3 = (\"^charging_rate\")\n",
    "match3 = []\n",
    "names3 = []\n",
    "for item in df_eng.columns:\n",
    "    result3 = re.match(pattern3, item)\n",
    "    match3.append(bool(result3))\n",
    "    if bool(result3):\n",
    "        names3.append(item)\n",
    "names3"
   ]
  },
  {
   "cell_type": "code",
   "execution_count": 17,
   "metadata": {},
   "outputs": [
    {
     "data": {
      "text/plain": [
       "['discharging_rate_lag3',\n",
       " 'discharging_rate_lag7',\n",
       " 'discharging_rate_lag4',\n",
       " 'discharging_rate_lag5',\n",
       " 'discharging_rate_lag6',\n",
       " 'discharging_rate_lag8']"
      ]
     },
     "execution_count": 17,
     "metadata": {},
     "output_type": "execute_result"
    }
   ],
   "source": [
    "pattern4 = (\"^discharging_rate\")\n",
    "match4 = []\n",
    "names4 = []\n",
    "for item in df_eng.columns:\n",
    "    result4 = re.match(pattern4, item)\n",
    "    match4.append(bool(result4))\n",
    "    if bool(result4):\n",
    "        names4.append(item)\n",
    "names4"
   ]
  },
  {
   "cell_type": "code",
   "execution_count": 18,
   "metadata": {},
   "outputs": [
    {
     "data": {
      "text/plain": [
       "0        20.321286\n",
       "1        18.247571\n",
       "2        14.462143\n",
       "3        15.245714\n",
       "4        19.771429\n",
       "           ...    \n",
       "40495    13.792857\n",
       "40496    18.573571\n",
       "40497    14.123571\n",
       "40498    14.321429\n",
       "40499    18.780714\n",
       "Name: avg_time_charging_14, Length: 37891, dtype: float64"
      ]
     },
     "execution_count": 18,
     "metadata": {},
     "output_type": "execute_result"
    }
   ],
   "source": [
    "df_eng[\"avg_time_charging_14\"] = 0\n",
    "for item in names1:\n",
    "    df_eng[\"avg_time_charging_14\"] = df_eng[\"avg_time_charging_14\"] + df_eng[item]\n",
    "df_eng[\"avg_time_charging_14\"] = df_eng[\"avg_time_charging_14\"] / len(names1)\n",
    "df_eng[\"avg_time_charging_14\"]"
   ]
  },
  {
   "cell_type": "code",
   "execution_count": 19,
   "metadata": {},
   "outputs": [
    {
     "data": {
      "text/plain": [
       "0        34.634286\n",
       "1        28.638714\n",
       "2        21.704286\n",
       "3        24.710714\n",
       "4        32.609286\n",
       "           ...    \n",
       "40495    22.824286\n",
       "40496    30.192857\n",
       "40497    22.622857\n",
       "40498    23.245000\n",
       "40499    28.634286\n",
       "Name: avg_time_discharging_14, Length: 37891, dtype: float64"
      ]
     },
     "execution_count": 19,
     "metadata": {},
     "output_type": "execute_result"
    }
   ],
   "source": [
    "df_eng[\"avg_time_discharging_14\"] = 0\n",
    "for item in names2:\n",
    "    df_eng[\"avg_time_discharging_14\"] = df_eng[\"avg_time_discharging_14\"] + df_eng[item]\n",
    "df_eng[\"avg_time_discharging_14\"] = df_eng[\"avg_time_discharging_14\"] / len(names2)\n",
    "df_eng[\"avg_time_discharging_14\"]"
   ]
  },
  {
   "cell_type": "code",
   "execution_count": 20,
   "metadata": {},
   "outputs": [
    {
     "data": {
      "text/plain": [
       "0       -0.352000\n",
       "1       -0.390667\n",
       "2       -0.116667\n",
       "3        0.368000\n",
       "4        0.304667\n",
       "           ...   \n",
       "40495   -0.037333\n",
       "40496   -0.202000\n",
       "40497    0.347333\n",
       "40498    0.115333\n",
       "40499    0.300000\n",
       "Name: avg_charging_rate, Length: 37891, dtype: float64"
      ]
     },
     "execution_count": 20,
     "metadata": {},
     "output_type": "execute_result"
    }
   ],
   "source": [
    "df_eng[\"avg_charging_rate\"] = 0\n",
    "for item in names3:\n",
    "    df_eng[\"avg_charging_rate\"] = df_eng[\"avg_charging_rate\"] + df_eng[item]\n",
    "df_eng[\"avg_charging_rate\"] = df_eng[\"avg_charging_rate\"] / len(names3)\n",
    "df_eng[\"avg_charging_rate\"]"
   ]
  },
  {
   "cell_type": "code",
   "execution_count": 21,
   "metadata": {},
   "outputs": [
    {
     "data": {
      "text/plain": [
       "0        0.121111\n",
       "1       -1.671667\n",
       "2       -0.258333\n",
       "3       -0.008889\n",
       "4       -0.355000\n",
       "           ...   \n",
       "40495    0.215556\n",
       "40496    0.063333\n",
       "40497   -0.678889\n",
       "40498    0.011111\n",
       "40499    0.017222\n",
       "Name: avg_discharging_rate, Length: 37891, dtype: float64"
      ]
     },
     "execution_count": 21,
     "metadata": {},
     "output_type": "execute_result"
    }
   ],
   "source": [
    "df_eng[\"avg_discharging_rate\"] = 0\n",
    "for item in names4:\n",
    "    df_eng[\"avg_discharging_rate\"] = df_eng[\"avg_discharging_rate\"] + df_eng[item]\n",
    "df_eng[\"avg_discharging_rate\"] = df_eng[\"avg_discharging_rate\"] / len(names4)\n",
    "df_eng[\"avg_discharging_rate\"]"
   ]
  },
  {
   "cell_type": "code",
   "execution_count": 22,
   "metadata": {},
   "outputs": [
    {
     "data": {
      "text/html": [
       "<div>\n",
       "<style scoped>\n",
       "    .dataframe tbody tr th:only-of-type {\n",
       "        vertical-align: middle;\n",
       "    }\n",
       "\n",
       "    .dataframe tbody tr th {\n",
       "        vertical-align: top;\n",
       "    }\n",
       "\n",
       "    .dataframe thead th {\n",
       "        text-align: right;\n",
       "    }\n",
       "</style>\n",
       "<table border=\"1\" class=\"dataframe\">\n",
       "  <thead>\n",
       "    <tr style=\"text-align: right;\">\n",
       "      <th></th>\n",
       "      <th>avg_time_charging_lag1</th>\n",
       "      <th>avg_time_charging_lag2</th>\n",
       "      <th>avg_time_charging_lag3</th>\n",
       "      <th>avg_time_charging_lag7</th>\n",
       "      <th>charging_rate_lag3</th>\n",
       "      <th>charging_rate_lag7</th>\n",
       "      <th>avg_time_discharging_lag1</th>\n",
       "      <th>avg_time_discharging_lag2</th>\n",
       "      <th>avg_time_discharging_lag3</th>\n",
       "      <th>avg_time_discharging_lag7</th>\n",
       "      <th>...</th>\n",
       "      <th>avg_time_discharging</th>\n",
       "      <th>max_voltage_day</th>\n",
       "      <th>piececount</th>\n",
       "      <th>cycle_time</th>\n",
       "      <th>use_time</th>\n",
       "      <th>fail_7</th>\n",
       "      <th>avg_time_charging_14</th>\n",
       "      <th>avg_time_discharging_14</th>\n",
       "      <th>avg_charging_rate</th>\n",
       "      <th>avg_discharging_rate</th>\n",
       "    </tr>\n",
       "  </thead>\n",
       "  <tbody>\n",
       "    <tr>\n",
       "      <th>0</th>\n",
       "      <td>5.12</td>\n",
       "      <td>41.11</td>\n",
       "      <td>6.56</td>\n",
       "      <td>25.39</td>\n",
       "      <td>0.086667</td>\n",
       "      <td>-0.006667</td>\n",
       "      <td>4.37</td>\n",
       "      <td>91.70</td>\n",
       "      <td>15.70</td>\n",
       "      <td>39.12</td>\n",
       "      <td>...</td>\n",
       "      <td>39.005000</td>\n",
       "      <td>4174.875000</td>\n",
       "      <td>14.200000</td>\n",
       "      <td>60.701250</td>\n",
       "      <td>543</td>\n",
       "      <td>0</td>\n",
       "      <td>20.321286</td>\n",
       "      <td>34.634286</td>\n",
       "      <td>-0.352000</td>\n",
       "      <td>0.121111</td>\n",
       "    </tr>\n",
       "    <tr>\n",
       "      <th>1</th>\n",
       "      <td>36.60</td>\n",
       "      <td>5.16</td>\n",
       "      <td>6.23</td>\n",
       "      <td>6.96</td>\n",
       "      <td>0.136667</td>\n",
       "      <td>-1.296667</td>\n",
       "      <td>62.67</td>\n",
       "      <td>6.53</td>\n",
       "      <td>6.16</td>\n",
       "      <td>8.25</td>\n",
       "      <td>...</td>\n",
       "      <td>32.213571</td>\n",
       "      <td>4161.000000</td>\n",
       "      <td>19.777778</td>\n",
       "      <td>52.097143</td>\n",
       "      <td>522</td>\n",
       "      <td>0</td>\n",
       "      <td>18.247571</td>\n",
       "      <td>28.638714</td>\n",
       "      <td>-0.390667</td>\n",
       "      <td>-1.671667</td>\n",
       "    </tr>\n",
       "    <tr>\n",
       "      <th>2</th>\n",
       "      <td>5.51</td>\n",
       "      <td>5.04</td>\n",
       "      <td>4.52</td>\n",
       "      <td>5.96</td>\n",
       "      <td>-0.460000</td>\n",
       "      <td>-0.083333</td>\n",
       "      <td>5.13</td>\n",
       "      <td>5.65</td>\n",
       "      <td>4.14</td>\n",
       "      <td>14.02</td>\n",
       "      <td>...</td>\n",
       "      <td>20.471429</td>\n",
       "      <td>4152.238095</td>\n",
       "      <td>19.200000</td>\n",
       "      <td>34.146667</td>\n",
       "      <td>518</td>\n",
       "      <td>0</td>\n",
       "      <td>14.462143</td>\n",
       "      <td>21.704286</td>\n",
       "      <td>-0.116667</td>\n",
       "      <td>-0.258333</td>\n",
       "    </tr>\n",
       "    <tr>\n",
       "      <th>3</th>\n",
       "      <td>4.66</td>\n",
       "      <td>39.85</td>\n",
       "      <td>35.76</td>\n",
       "      <td>40.69</td>\n",
       "      <td>0.076667</td>\n",
       "      <td>-0.006667</td>\n",
       "      <td>3.93</td>\n",
       "      <td>76.37</td>\n",
       "      <td>60.86</td>\n",
       "      <td>73.53</td>\n",
       "      <td>...</td>\n",
       "      <td>26.189474</td>\n",
       "      <td>4164.631579</td>\n",
       "      <td>23.625000</td>\n",
       "      <td>42.496316</td>\n",
       "      <td>548</td>\n",
       "      <td>0</td>\n",
       "      <td>15.245714</td>\n",
       "      <td>24.710714</td>\n",
       "      <td>0.368000</td>\n",
       "      <td>-0.008889</td>\n",
       "    </tr>\n",
       "    <tr>\n",
       "      <th>4</th>\n",
       "      <td>5.10</td>\n",
       "      <td>43.24</td>\n",
       "      <td>4.63</td>\n",
       "      <td>5.26</td>\n",
       "      <td>0.040000</td>\n",
       "      <td>-0.153333</td>\n",
       "      <td>4.69</td>\n",
       "      <td>71.44</td>\n",
       "      <td>3.80</td>\n",
       "      <td>6.29</td>\n",
       "      <td>...</td>\n",
       "      <td>30.812000</td>\n",
       "      <td>4169.800000</td>\n",
       "      <td>12.666667</td>\n",
       "      <td>49.609333</td>\n",
       "      <td>566</td>\n",
       "      <td>0</td>\n",
       "      <td>19.771429</td>\n",
       "      <td>32.609286</td>\n",
       "      <td>0.304667</td>\n",
       "      <td>-0.355000</td>\n",
       "    </tr>\n",
       "  </tbody>\n",
       "</table>\n",
       "<p>5 rows × 57 columns</p>\n",
       "</div>"
      ],
      "text/plain": [
       "   avg_time_charging_lag1  avg_time_charging_lag2  avg_time_charging_lag3  \\\n",
       "0                    5.12                   41.11                    6.56   \n",
       "1                   36.60                    5.16                    6.23   \n",
       "2                    5.51                    5.04                    4.52   \n",
       "3                    4.66                   39.85                   35.76   \n",
       "4                    5.10                   43.24                    4.63   \n",
       "\n",
       "   avg_time_charging_lag7  charging_rate_lag3  charging_rate_lag7  \\\n",
       "0                   25.39            0.086667           -0.006667   \n",
       "1                    6.96            0.136667           -1.296667   \n",
       "2                    5.96           -0.460000           -0.083333   \n",
       "3                   40.69            0.076667           -0.006667   \n",
       "4                    5.26            0.040000           -0.153333   \n",
       "\n",
       "   avg_time_discharging_lag1  avg_time_discharging_lag2  \\\n",
       "0                       4.37                      91.70   \n",
       "1                      62.67                       6.53   \n",
       "2                       5.13                       5.65   \n",
       "3                       3.93                      76.37   \n",
       "4                       4.69                      71.44   \n",
       "\n",
       "   avg_time_discharging_lag3  avg_time_discharging_lag7  ...  \\\n",
       "0                      15.70                      39.12  ...   \n",
       "1                       6.16                       8.25  ...   \n",
       "2                       4.14                      14.02  ...   \n",
       "3                      60.86                      73.53  ...   \n",
       "4                       3.80                       6.29  ...   \n",
       "\n",
       "   avg_time_discharging  max_voltage_day  piececount  cycle_time  use_time  \\\n",
       "0             39.005000      4174.875000   14.200000   60.701250       543   \n",
       "1             32.213571      4161.000000   19.777778   52.097143       522   \n",
       "2             20.471429      4152.238095   19.200000   34.146667       518   \n",
       "3             26.189474      4164.631579   23.625000   42.496316       548   \n",
       "4             30.812000      4169.800000   12.666667   49.609333       566   \n",
       "\n",
       "   fail_7  avg_time_charging_14  avg_time_discharging_14  avg_charging_rate  \\\n",
       "0       0             20.321286                34.634286          -0.352000   \n",
       "1       0             18.247571                28.638714          -0.390667   \n",
       "2       0             14.462143                21.704286          -0.116667   \n",
       "3       0             15.245714                24.710714           0.368000   \n",
       "4       0             19.771429                32.609286           0.304667   \n",
       "\n",
       "   avg_discharging_rate  \n",
       "0              0.121111  \n",
       "1             -1.671667  \n",
       "2             -0.258333  \n",
       "3             -0.008889  \n",
       "4             -0.355000  \n",
       "\n",
       "[5 rows x 57 columns]"
      ]
     },
     "execution_count": 22,
     "metadata": {},
     "output_type": "execute_result"
    }
   ],
   "source": [
    "df_eng.head(5)"
   ]
  },
  {
   "cell_type": "code",
   "execution_count": 23,
   "metadata": {},
   "outputs": [],
   "source": [
    "X_train_eng=df_eng.drop(['fail_7'],axis=1)\n",
    "Y_train=df_eng[\"fail_7\"]\n",
    "\n",
    "\n",
    "gbdt=GradientBoostingClassifier(random_state=0)\n",
    "\n",
    "\n",
    "with parallel_backend('threading', n_jobs=-1):\n",
    "    score_record=cross_val_score(gbdt,X_train_eng,Y_train,cv=StratifiedKFold(n_splits=5, random_state=0,shuffle=True),scoring='accuracy').mean()"
   ]
  },
  {
   "cell_type": "code",
   "execution_count": 24,
   "metadata": {},
   "outputs": [
    {
     "data": {
      "text/plain": [
       "0.815655369493939"
      ]
     },
     "execution_count": 24,
     "metadata": {},
     "output_type": "execute_result"
    }
   ],
   "source": [
    "# 53 + 4 avg\n",
    "score_record"
   ]
  },
  {
   "cell_type": "code",
   "execution_count": 25,
   "metadata": {},
   "outputs": [],
   "source": [
    "core_features=['discharging_rate_lag3','charge_cycle_time_below_12','charging_rate_lag3','avg_volt_change_charging']\n",
    "\n",
    "X_train_nonOuts_core=X_train_nonOuts[core_features]\n",
    "\n",
    "gbdt=GradientBoostingClassifier(random_state=0)\n",
    "\n",
    "\n",
    "with parallel_backend('threading', n_jobs=-1):\n",
    "    score_record=cross_val_score(gbdt,X_train_nonOuts_core,Y_train_nonOuts,cv=StratifiedKFold(n_splits=5, random_state=0,shuffle=True),scoring='accuracy').mean()"
   ]
  },
  {
   "cell_type": "code",
   "execution_count": 26,
   "metadata": {},
   "outputs": [
    {
     "data": {
      "text/html": [
       "<div>\n",
       "<style scoped>\n",
       "    .dataframe tbody tr th:only-of-type {\n",
       "        vertical-align: middle;\n",
       "    }\n",
       "\n",
       "    .dataframe tbody tr th {\n",
       "        vertical-align: top;\n",
       "    }\n",
       "\n",
       "    .dataframe thead th {\n",
       "        text-align: right;\n",
       "    }\n",
       "</style>\n",
       "<table border=\"1\" class=\"dataframe\">\n",
       "  <thead>\n",
       "    <tr style=\"text-align: right;\">\n",
       "      <th></th>\n",
       "      <th>discharging_rate_lag3</th>\n",
       "      <th>charge_cycle_time_below_12</th>\n",
       "      <th>charging_rate_lag3</th>\n",
       "      <th>avg_volt_change_charging</th>\n",
       "    </tr>\n",
       "  </thead>\n",
       "  <tbody>\n",
       "    <tr>\n",
       "      <th>0</th>\n",
       "      <td>-1.163333</td>\n",
       "      <td>0.0</td>\n",
       "      <td>0.086667</td>\n",
       "      <td>377.080000</td>\n",
       "    </tr>\n",
       "    <tr>\n",
       "      <th>1</th>\n",
       "      <td>-0.066667</td>\n",
       "      <td>0.0</td>\n",
       "      <td>0.136667</td>\n",
       "      <td>350.517857</td>\n",
       "    </tr>\n",
       "    <tr>\n",
       "      <th>2</th>\n",
       "      <td>-2.643333</td>\n",
       "      <td>0.0</td>\n",
       "      <td>-0.460000</td>\n",
       "      <td>346.113333</td>\n",
       "    </tr>\n",
       "    <tr>\n",
       "      <th>3</th>\n",
       "      <td>-0.166667</td>\n",
       "      <td>0.0</td>\n",
       "      <td>0.076667</td>\n",
       "      <td>356.184211</td>\n",
       "    </tr>\n",
       "    <tr>\n",
       "      <th>4</th>\n",
       "      <td>0.066667</td>\n",
       "      <td>1.0</td>\n",
       "      <td>0.040000</td>\n",
       "      <td>370.904000</td>\n",
       "    </tr>\n",
       "  </tbody>\n",
       "</table>\n",
       "</div>"
      ],
      "text/plain": [
       "   discharging_rate_lag3  charge_cycle_time_below_12  charging_rate_lag3  \\\n",
       "0              -1.163333                         0.0            0.086667   \n",
       "1              -0.066667                         0.0            0.136667   \n",
       "2              -2.643333                         0.0           -0.460000   \n",
       "3              -0.166667                         0.0            0.076667   \n",
       "4               0.066667                         1.0            0.040000   \n",
       "\n",
       "   avg_volt_change_charging  \n",
       "0                377.080000  \n",
       "1                350.517857  \n",
       "2                346.113333  \n",
       "3                356.184211  \n",
       "4                370.904000  "
      ]
     },
     "execution_count": 26,
     "metadata": {},
     "output_type": "execute_result"
    }
   ],
   "source": [
    "X_train_nonOuts_core.head()"
   ]
  },
  {
   "cell_type": "code",
   "execution_count": 27,
   "metadata": {},
   "outputs": [
    {
     "data": {
      "text/plain": [
       "0.8163943507554855"
      ]
     },
     "execution_count": 27,
     "metadata": {},
     "output_type": "execute_result"
    }
   ],
   "source": [
    "# 4 core\n",
    "score_record"
   ]
  },
  {
   "cell_type": "code",
   "execution_count": 28,
   "metadata": {},
   "outputs": [],
   "source": [
    "df_eng['dummy_12_disratelag3'] = df_eng['charge_cycle_time_below_12']*df_eng['discharging_rate_lag3']"
   ]
  },
  {
   "cell_type": "code",
   "execution_count": 29,
   "metadata": {},
   "outputs": [],
   "source": [
    "df_eng['dummy_12_chargeratelag3'] = df_eng['charge_cycle_time_below_12']*df_eng['charging_rate_lag3']"
   ]
  },
  {
   "cell_type": "code",
   "execution_count": 30,
   "metadata": {},
   "outputs": [],
   "source": [
    "df_eng['dummy_12_avgvoltchangecharging'] = df_eng['charge_cycle_time_below_12']*df_eng['avg_volt_change_charging']"
   ]
  },
  {
   "cell_type": "code",
   "execution_count": 31,
   "metadata": {},
   "outputs": [],
   "source": [
    "X_train_eng=df_eng.drop(['fail_7'],axis=1)\n",
    "Y_train=df_eng[\"fail_7\"]\n",
    "\n",
    "\n",
    "gbdt=GradientBoostingClassifier(random_state=0)\n",
    "\n",
    "\n",
    "with parallel_backend('threading', n_jobs=-1):\n",
    "    score_record=cross_val_score(gbdt,X_train_eng,Y_train,cv=StratifiedKFold(n_splits=5, random_state=0,shuffle=True),scoring='accuracy').mean()"
   ]
  },
  {
   "cell_type": "code",
   "execution_count": 32,
   "metadata": {},
   "outputs": [
    {
     "data": {
      "text/plain": [
       "0.816552696918403"
      ]
     },
     "execution_count": 32,
     "metadata": {},
     "output_type": "execute_result"
    }
   ],
   "source": [
    "# 57 + 3 dummy\n",
    "score_record"
   ]
  },
  {
   "cell_type": "code",
   "execution_count": 33,
   "metadata": {},
   "outputs": [],
   "source": [
    "core_features_dummy=['discharging_rate_lag3','charge_cycle_time_below_12','charging_rate_lag3','avg_volt_change_charging',\n",
    "                     'dummy_12_disratelag3', 'dummy_12_chargeratelag3', 'dummy_12_avgvoltchangecharging']\n",
    "\n",
    "X_train_nonOuts_core_dummy=df_eng[core_features_dummy]\n",
    "\n",
    "gbdt=GradientBoostingClassifier(random_state=0)\n",
    "\n",
    "\n",
    "with parallel_backend('threading', n_jobs=-1):\n",
    "    score_record=cross_val_score(gbdt,X_train_nonOuts_core_dummy,Y_train_nonOuts,cv=StratifiedKFold(n_splits=5, random_state=0,shuffle=True),scoring='accuracy').mean()"
   ]
  },
  {
   "cell_type": "code",
   "execution_count": 34,
   "metadata": {},
   "outputs": [
    {
     "data": {
      "text/plain": [
       "0.8163679516030165"
      ]
     },
     "execution_count": 34,
     "metadata": {},
     "output_type": "execute_result"
    }
   ],
   "source": [
    "# 4 + 3 dummy\n",
    "score_record"
   ]
  },
  {
   "cell_type": "code",
   "execution_count": 35,
   "metadata": {},
   "outputs": [],
   "source": [
    "df_eng['charging_capacity'] = df_eng['avg_charging_rate']*df_eng['avg_time_charging']"
   ]
  },
  {
   "cell_type": "code",
   "execution_count": 36,
   "metadata": {},
   "outputs": [],
   "source": [
    "df_eng['discharging_capacity'] = df_eng['avg_discharging_rate']*df_eng['avg_time_discharging']"
   ]
  },
  {
   "cell_type": "code",
   "execution_count": 37,
   "metadata": {},
   "outputs": [],
   "source": [
    "X_train_eng=df_eng.drop(['fail_7'],axis=1)\n",
    "Y_train=df_eng[\"fail_7\"]\n",
    "\n",
    "\n",
    "gbdt=GradientBoostingClassifier(random_state=0)\n",
    "\n",
    "\n",
    "with parallel_backend('threading', n_jobs=-1):\n",
    "    score_record=cross_val_score(gbdt,X_train_eng,Y_train,cv=StratifiedKFold(n_splits=5, random_state=0,shuffle=True),scoring='accuracy').mean()"
   ]
  },
  {
   "cell_type": "code",
   "execution_count": 38,
   "metadata": {},
   "outputs": [
    {
     "data": {
      "text/plain": [
       "0.8166054812942278"
      ]
     },
     "execution_count": 38,
     "metadata": {},
     "output_type": "execute_result"
    }
   ],
   "source": [
    "# 60 + 2 capacity\n",
    "score_record"
   ]
  },
  {
   "cell_type": "code",
   "execution_count": 39,
   "metadata": {},
   "outputs": [],
   "source": [
    "core_features_capacity=['discharging_rate_lag3','charge_cycle_time_below_12','charging_rate_lag3','avg_volt_change_charging',\n",
    "                     'charging_capacity', 'discharging_capacity']\n",
    "\n",
    "X_train_nonOuts_core_capacity=df_eng[core_features_capacity]\n",
    "\n",
    "gbdt=GradientBoostingClassifier(random_state=0)\n",
    "\n",
    "\n",
    "with parallel_backend('threading', n_jobs=-1):\n",
    "    score_record=cross_val_score(gbdt,X_train_nonOuts_core_capacity,Y_train_nonOuts,cv=StratifiedKFold(n_splits=5, random_state=0,shuffle=True),scoring='accuracy').mean()"
   ]
  },
  {
   "cell_type": "code",
   "execution_count": 40,
   "metadata": {},
   "outputs": [
    {
     "data": {
      "text/plain": [
       "0.8166318734821403"
      ]
     },
     "execution_count": 40,
     "metadata": {},
     "output_type": "execute_result"
    }
   ],
   "source": [
    "# 4 + 2 capacity\n",
    "score_record"
   ]
  },
  {
   "cell_type": "code",
   "execution_count": 41,
   "metadata": {},
   "outputs": [],
   "source": [
    "core_features_capacity_dummy=['discharging_rate_lag3','charge_cycle_time_below_12','charging_rate_lag3','avg_volt_change_charging',\n",
    "                     'charging_capacity', 'discharging_capacity',\n",
    "                             'dummy_12_disratelag3', 'dummy_12_chargeratelag3', 'dummy_12_avgvoltchangecharging']\n",
    "\n",
    "X_train_nonOuts_core_capacity_dummy=df_eng[core_features_capacity_dummy]\n",
    "\n",
    "gbdt=GradientBoostingClassifier(random_state=0)\n",
    "\n",
    "\n",
    "with parallel_backend('threading', n_jobs=-1):\n",
    "    score_record=cross_val_score(gbdt,X_train_nonOuts_core_capacity_dummy,Y_train_nonOuts,cv=StratifiedKFold(n_splits=5, random_state=0,shuffle=True),scoring='accuracy').mean()"
   ]
  },
  {
   "cell_type": "code",
   "execution_count": 42,
   "metadata": {},
   "outputs": [
    {
     "data": {
      "text/plain": [
       "0.8161568106174389"
      ]
     },
     "execution_count": 42,
     "metadata": {},
     "output_type": "execute_result"
    }
   ],
   "source": [
    "# 4 + 2 capacity + 3 dummy\n",
    "score_record"
   ]
  },
  {
   "cell_type": "code",
   "execution_count": 43,
   "metadata": {},
   "outputs": [],
   "source": [
    "df_eng['charging_capacity14'] = df_eng['avg_charging_rate']*df_eng['avg_time_charging_14']\n",
    "df_eng['discharging_capacity14'] = df_eng['avg_discharging_rate']*df_eng['avg_time_discharging_14']"
   ]
  },
  {
   "cell_type": "code",
   "execution_count": 44,
   "metadata": {},
   "outputs": [],
   "source": [
    "X_train_eng=df_eng.drop(['fail_7'],axis=1)\n",
    "Y_train=df_eng[\"fail_7\"]\n",
    "\n",
    "\n",
    "gbdt=GradientBoostingClassifier(random_state=0)\n",
    "\n",
    "\n",
    "with parallel_backend('threading', n_jobs=-1):\n",
    "    score_record=cross_val_score(gbdt,X_train_eng,Y_train,cv=StratifiedKFold(n_splits=5, random_state=0,shuffle=True),scoring='accuracy').mean()"
   ]
  },
  {
   "cell_type": "code",
   "execution_count": 45,
   "metadata": {},
   "outputs": [
    {
     "data": {
      "text/plain": [
       "0.816869389244238"
      ]
     },
     "execution_count": 45,
     "metadata": {},
     "output_type": "execute_result"
    }
   ],
   "source": [
    "# 62 + 2 capacity 14\n",
    "score_record"
   ]
  },
  {
   "cell_type": "code",
   "execution_count": 46,
   "metadata": {},
   "outputs": [],
   "source": [
    "core_features_capacity14=['discharging_rate_lag3','charge_cycle_time_below_12','charging_rate_lag3','avg_volt_change_charging',\n",
    "                          'charging_capacity14', 'discharging_capacity14']\n",
    "\n",
    "X_train_nonOuts_core_capacity14=df_eng[core_features_capacity14]\n",
    "\n",
    "gbdt=GradientBoostingClassifier(random_state=0)\n",
    "\n",
    "\n",
    "with parallel_backend('threading', n_jobs=-1):\n",
    "    score_record=cross_val_score(gbdt,X_train_nonOuts_core_capacity14,Y_train_nonOuts,cv=StratifiedKFold(n_splits=5, random_state=0,shuffle=True),scoring='accuracy').mean()"
   ]
  },
  {
   "cell_type": "code",
   "execution_count": 47,
   "metadata": {},
   "outputs": [
    {
     "data": {
      "text/plain": [
       "0.8166846091060675"
      ]
     },
     "execution_count": 47,
     "metadata": {},
     "output_type": "execute_result"
    }
   ],
   "source": [
    "# 4 + 2 capacity 14\n",
    "score_record"
   ]
  },
  {
   "cell_type": "code",
   "execution_count": 48,
   "metadata": {},
   "outputs": [],
   "source": [
    "df_eng['max_charging_energy_day'] = df_eng['charging_capacity']*df_eng['max_voltage_day']\n",
    "df_eng['max_discharging_energy_day'] = df_eng['discharging_capacity']*df_eng['max_voltage_day']"
   ]
  },
  {
   "cell_type": "code",
   "execution_count": 49,
   "metadata": {},
   "outputs": [],
   "source": [
    "X_train_eng=df_eng.drop(['fail_7'],axis=1)\n",
    "Y_train=df_eng[\"fail_7\"]\n",
    "\n",
    "\n",
    "gbdt=GradientBoostingClassifier(random_state=0)\n",
    "\n",
    "\n",
    "with parallel_backend('threading', n_jobs=-1):\n",
    "    score_record=cross_val_score(gbdt,X_train_eng,Y_train,cv=StratifiedKFold(n_splits=5, random_state=0,shuffle=True),scoring='accuracy').mean()"
   ]
  },
  {
   "cell_type": "code",
   "execution_count": 50,
   "metadata": {},
   "outputs": [
    {
     "data": {
      "text/plain": [
       "0.816869389244238"
      ]
     },
     "execution_count": 50,
     "metadata": {},
     "output_type": "execute_result"
    }
   ],
   "source": [
    "# 64 + 2 power load\n",
    "score_record"
   ]
  },
  {
   "cell_type": "code",
   "execution_count": 51,
   "metadata": {},
   "outputs": [
    {
     "data": {
      "text/html": [
       "<div>\n",
       "<style scoped>\n",
       "    .dataframe tbody tr th:only-of-type {\n",
       "        vertical-align: middle;\n",
       "    }\n",
       "\n",
       "    .dataframe tbody tr th {\n",
       "        vertical-align: top;\n",
       "    }\n",
       "\n",
       "    .dataframe thead th {\n",
       "        text-align: right;\n",
       "    }\n",
       "</style>\n",
       "<table border=\"1\" class=\"dataframe\">\n",
       "  <thead>\n",
       "    <tr style=\"text-align: right;\">\n",
       "      <th></th>\n",
       "      <th>avg_time_charging_lag1</th>\n",
       "      <th>avg_time_charging_lag2</th>\n",
       "      <th>avg_time_charging_lag3</th>\n",
       "      <th>avg_time_charging_lag7</th>\n",
       "      <th>charging_rate_lag3</th>\n",
       "      <th>charging_rate_lag7</th>\n",
       "      <th>avg_time_discharging_lag1</th>\n",
       "      <th>avg_time_discharging_lag2</th>\n",
       "      <th>avg_time_discharging_lag3</th>\n",
       "      <th>avg_time_discharging_lag7</th>\n",
       "      <th>...</th>\n",
       "      <th>avg_discharging_rate</th>\n",
       "      <th>dummy_12_disratelag3</th>\n",
       "      <th>dummy_12_chargeratelag3</th>\n",
       "      <th>dummy_12_avgvoltchangecharging</th>\n",
       "      <th>charging_capacity</th>\n",
       "      <th>discharging_capacity</th>\n",
       "      <th>charging_capacity14</th>\n",
       "      <th>discharging_capacity14</th>\n",
       "      <th>max_charging_energy_day</th>\n",
       "      <th>max_discharging_energy_day</th>\n",
       "    </tr>\n",
       "  </thead>\n",
       "  <tbody>\n",
       "    <tr>\n",
       "      <th>0</th>\n",
       "      <td>5.12</td>\n",
       "      <td>41.11</td>\n",
       "      <td>6.56</td>\n",
       "      <td>25.39</td>\n",
       "      <td>0.086667</td>\n",
       "      <td>-0.006667</td>\n",
       "      <td>4.37</td>\n",
       "      <td>91.70</td>\n",
       "      <td>15.70</td>\n",
       "      <td>39.12</td>\n",
       "      <td>...</td>\n",
       "      <td>0.121111</td>\n",
       "      <td>-0.000000</td>\n",
       "      <td>0.00</td>\n",
       "      <td>0.000</td>\n",
       "      <td>-7.637080</td>\n",
       "      <td>4.723939</td>\n",
       "      <td>-7.153093</td>\n",
       "      <td>4.194597</td>\n",
       "      <td>-31883.854365</td>\n",
       "      <td>19721.854378</td>\n",
       "    </tr>\n",
       "    <tr>\n",
       "      <th>1</th>\n",
       "      <td>36.60</td>\n",
       "      <td>5.16</td>\n",
       "      <td>6.23</td>\n",
       "      <td>6.96</td>\n",
       "      <td>0.136667</td>\n",
       "      <td>-1.296667</td>\n",
       "      <td>62.67</td>\n",
       "      <td>6.53</td>\n",
       "      <td>6.16</td>\n",
       "      <td>8.25</td>\n",
       "      <td>...</td>\n",
       "      <td>-1.671667</td>\n",
       "      <td>-0.000000</td>\n",
       "      <td>0.00</td>\n",
       "      <td>0.000</td>\n",
       "      <td>-7.767849</td>\n",
       "      <td>-53.850354</td>\n",
       "      <td>-7.128718</td>\n",
       "      <td>-47.874384</td>\n",
       "      <td>-32322.017903</td>\n",
       "      <td>-224071.321198</td>\n",
       "    </tr>\n",
       "    <tr>\n",
       "      <th>2</th>\n",
       "      <td>5.51</td>\n",
       "      <td>5.04</td>\n",
       "      <td>4.52</td>\n",
       "      <td>5.96</td>\n",
       "      <td>-0.460000</td>\n",
       "      <td>-0.083333</td>\n",
       "      <td>5.13</td>\n",
       "      <td>5.65</td>\n",
       "      <td>4.14</td>\n",
       "      <td>14.02</td>\n",
       "      <td>...</td>\n",
       "      <td>-0.258333</td>\n",
       "      <td>-0.000000</td>\n",
       "      <td>-0.00</td>\n",
       "      <td>0.000</td>\n",
       "      <td>-1.595444</td>\n",
       "      <td>-5.288452</td>\n",
       "      <td>-1.687250</td>\n",
       "      <td>-5.606940</td>\n",
       "      <td>-6624.665199</td>\n",
       "      <td>-21958.913424</td>\n",
       "    </tr>\n",
       "    <tr>\n",
       "      <th>3</th>\n",
       "      <td>4.66</td>\n",
       "      <td>39.85</td>\n",
       "      <td>35.76</td>\n",
       "      <td>40.69</td>\n",
       "      <td>0.076667</td>\n",
       "      <td>-0.006667</td>\n",
       "      <td>3.93</td>\n",
       "      <td>76.37</td>\n",
       "      <td>60.86</td>\n",
       "      <td>73.53</td>\n",
       "      <td>...</td>\n",
       "      <td>-0.008889</td>\n",
       "      <td>-0.000000</td>\n",
       "      <td>0.00</td>\n",
       "      <td>0.000</td>\n",
       "      <td>6.000918</td>\n",
       "      <td>-0.232795</td>\n",
       "      <td>5.610423</td>\n",
       "      <td>-0.219651</td>\n",
       "      <td>24991.612175</td>\n",
       "      <td>-969.506760</td>\n",
       "    </tr>\n",
       "    <tr>\n",
       "      <th>4</th>\n",
       "      <td>5.10</td>\n",
       "      <td>43.24</td>\n",
       "      <td>4.63</td>\n",
       "      <td>5.26</td>\n",
       "      <td>0.040000</td>\n",
       "      <td>-0.153333</td>\n",
       "      <td>4.69</td>\n",
       "      <td>71.44</td>\n",
       "      <td>3.80</td>\n",
       "      <td>6.29</td>\n",
       "      <td>...</td>\n",
       "      <td>-0.355000</td>\n",
       "      <td>0.066667</td>\n",
       "      <td>0.04</td>\n",
       "      <td>370.904</td>\n",
       "      <td>5.726921</td>\n",
       "      <td>-10.938260</td>\n",
       "      <td>6.023695</td>\n",
       "      <td>-11.576296</td>\n",
       "      <td>23880.114729</td>\n",
       "      <td>-45610.356548</td>\n",
       "    </tr>\n",
       "  </tbody>\n",
       "</table>\n",
       "<p>5 rows × 66 columns</p>\n",
       "</div>"
      ],
      "text/plain": [
       "   avg_time_charging_lag1  avg_time_charging_lag2  avg_time_charging_lag3  \\\n",
       "0                    5.12                   41.11                    6.56   \n",
       "1                   36.60                    5.16                    6.23   \n",
       "2                    5.51                    5.04                    4.52   \n",
       "3                    4.66                   39.85                   35.76   \n",
       "4                    5.10                   43.24                    4.63   \n",
       "\n",
       "   avg_time_charging_lag7  charging_rate_lag3  charging_rate_lag7  \\\n",
       "0                   25.39            0.086667           -0.006667   \n",
       "1                    6.96            0.136667           -1.296667   \n",
       "2                    5.96           -0.460000           -0.083333   \n",
       "3                   40.69            0.076667           -0.006667   \n",
       "4                    5.26            0.040000           -0.153333   \n",
       "\n",
       "   avg_time_discharging_lag1  avg_time_discharging_lag2  \\\n",
       "0                       4.37                      91.70   \n",
       "1                      62.67                       6.53   \n",
       "2                       5.13                       5.65   \n",
       "3                       3.93                      76.37   \n",
       "4                       4.69                      71.44   \n",
       "\n",
       "   avg_time_discharging_lag3  avg_time_discharging_lag7  ...  \\\n",
       "0                      15.70                      39.12  ...   \n",
       "1                       6.16                       8.25  ...   \n",
       "2                       4.14                      14.02  ...   \n",
       "3                      60.86                      73.53  ...   \n",
       "4                       3.80                       6.29  ...   \n",
       "\n",
       "   avg_discharging_rate  dummy_12_disratelag3  dummy_12_chargeratelag3  \\\n",
       "0              0.121111             -0.000000                     0.00   \n",
       "1             -1.671667             -0.000000                     0.00   \n",
       "2             -0.258333             -0.000000                    -0.00   \n",
       "3             -0.008889             -0.000000                     0.00   \n",
       "4             -0.355000              0.066667                     0.04   \n",
       "\n",
       "   dummy_12_avgvoltchangecharging  charging_capacity  discharging_capacity  \\\n",
       "0                           0.000          -7.637080              4.723939   \n",
       "1                           0.000          -7.767849            -53.850354   \n",
       "2                           0.000          -1.595444             -5.288452   \n",
       "3                           0.000           6.000918             -0.232795   \n",
       "4                         370.904           5.726921            -10.938260   \n",
       "\n",
       "   charging_capacity14  discharging_capacity14  max_charging_energy_day  \\\n",
       "0            -7.153093                4.194597            -31883.854365   \n",
       "1            -7.128718              -47.874384            -32322.017903   \n",
       "2            -1.687250               -5.606940             -6624.665199   \n",
       "3             5.610423               -0.219651             24991.612175   \n",
       "4             6.023695              -11.576296             23880.114729   \n",
       "\n",
       "   max_discharging_energy_day  \n",
       "0                19721.854378  \n",
       "1              -224071.321198  \n",
       "2               -21958.913424  \n",
       "3                 -969.506760  \n",
       "4               -45610.356548  \n",
       "\n",
       "[5 rows x 66 columns]"
      ]
     },
     "execution_count": 51,
     "metadata": {},
     "output_type": "execute_result"
    }
   ],
   "source": [
    "df_eng.head(5)"
   ]
  },
  {
   "cell_type": "code",
   "execution_count": null,
   "metadata": {},
   "outputs": [],
   "source": []
  }
 ],
 "metadata": {
  "kernelspec": {
   "display_name": "Python 3",
   "language": "python",
   "name": "python3"
  },
  "language_info": {
   "codemirror_mode": {
    "name": "ipython",
    "version": 3
   },
   "file_extension": ".py",
   "mimetype": "text/x-python",
   "name": "python",
   "nbconvert_exporter": "python",
   "pygments_lexer": "ipython3",
   "version": "3.7.3"
  }
 },
 "nbformat": 4,
 "nbformat_minor": 4
}
