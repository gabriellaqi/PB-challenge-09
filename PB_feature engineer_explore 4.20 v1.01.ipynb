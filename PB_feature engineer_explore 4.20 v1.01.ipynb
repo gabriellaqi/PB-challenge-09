{
 "cells": [
  {
   "cell_type": "code",
   "execution_count": 1,
   "metadata": {},
   "outputs": [],
   "source": [
    "import pandas as pd"
   ]
  },
  {
   "cell_type": "code",
   "execution_count": 2,
   "metadata": {},
   "outputs": [],
   "source": [
    "from sklearn.ensemble import GradientBoostingClassifier\n",
    "from joblib import parallel_backend\n",
    "from sklearn.model_selection import cross_val_score\n",
    "from sklearn.model_selection import StratifiedKFold"
   ]
  },
  {
   "cell_type": "code",
   "execution_count": 105,
   "metadata": {},
   "outputs": [],
   "source": [
    "train_trans=pd.read_csv(\"Train_trans.csv\")"
   ]
  },
  {
   "cell_type": "code",
   "execution_count": 106,
   "metadata": {},
   "outputs": [],
   "source": [
    "from sklearn.ensemble import IsolationForest"
   ]
  },
  {
   "cell_type": "code",
   "execution_count": 107,
   "metadata": {},
   "outputs": [
    {
     "data": {
      "text/plain": [
       "IsolationForest(behaviour='deprecated', bootstrap=False, contamination='auto',\n",
       "                max_features=1.0, max_samples='auto', n_estimators=100,\n",
       "                n_jobs=None, random_state=0, verbose=0, warm_start=False)"
      ]
     },
     "execution_count": 107,
     "metadata": {},
     "output_type": "execute_result"
    }
   ],
   "source": [
    "iso=IsolationForest(random_state=0)\n",
    "iso.fit(train_trans)"
   ]
  },
  {
   "cell_type": "code",
   "execution_count": 108,
   "metadata": {},
   "outputs": [],
   "source": [
    "pred=iso.predict(train_trans)"
   ]
  },
  {
   "cell_type": "code",
   "execution_count": 109,
   "metadata": {},
   "outputs": [],
   "source": [
    "df_outlier=train_trans\n",
    "df_outlier['outliers']=pred"
   ]
  },
  {
   "cell_type": "code",
   "execution_count": 110,
   "metadata": {},
   "outputs": [
    {
     "data": {
      "text/html": [
       "<div>\n",
       "<style scoped>\n",
       "    .dataframe tbody tr th:only-of-type {\n",
       "        vertical-align: middle;\n",
       "    }\n",
       "\n",
       "    .dataframe tbody tr th {\n",
       "        vertical-align: top;\n",
       "    }\n",
       "\n",
       "    .dataframe thead th {\n",
       "        text-align: right;\n",
       "    }\n",
       "</style>\n",
       "<table border=\"1\" class=\"dataframe\">\n",
       "  <thead>\n",
       "    <tr style=\"text-align: right;\">\n",
       "      <th></th>\n",
       "      <th>avg_time_charging_lag1</th>\n",
       "      <th>avg_time_charging_lag2</th>\n",
       "      <th>avg_time_charging_lag3</th>\n",
       "      <th>avg_time_charging_lag7</th>\n",
       "      <th>charging_rate_lag3</th>\n",
       "      <th>charging_rate_lag7</th>\n",
       "      <th>avg_time_discharging_lag1</th>\n",
       "      <th>avg_time_discharging_lag2</th>\n",
       "      <th>avg_time_discharging_lag3</th>\n",
       "      <th>avg_time_discharging_lag7</th>\n",
       "      <th>...</th>\n",
       "      <th>avg_volt_change_charging</th>\n",
       "      <th>avg_volt_change_discharging</th>\n",
       "      <th>avg_time_charging</th>\n",
       "      <th>avg_time_discharging</th>\n",
       "      <th>max_voltage_day</th>\n",
       "      <th>piececount</th>\n",
       "      <th>cycle_time</th>\n",
       "      <th>use_time</th>\n",
       "      <th>fail_7</th>\n",
       "      <th>outliers</th>\n",
       "    </tr>\n",
       "  </thead>\n",
       "  <tbody>\n",
       "    <tr>\n",
       "      <th>0</th>\n",
       "      <td>5.12</td>\n",
       "      <td>41.11</td>\n",
       "      <td>6.56</td>\n",
       "      <td>25.39</td>\n",
       "      <td>0.086667</td>\n",
       "      <td>-0.006667</td>\n",
       "      <td>4.37</td>\n",
       "      <td>91.70</td>\n",
       "      <td>15.70</td>\n",
       "      <td>39.12</td>\n",
       "      <td>...</td>\n",
       "      <td>377.080000</td>\n",
       "      <td>367.428750</td>\n",
       "      <td>21.696250</td>\n",
       "      <td>39.005000</td>\n",
       "      <td>4174.875000</td>\n",
       "      <td>14.200000</td>\n",
       "      <td>60.701250</td>\n",
       "      <td>543</td>\n",
       "      <td>0</td>\n",
       "      <td>1</td>\n",
       "    </tr>\n",
       "    <tr>\n",
       "      <th>1</th>\n",
       "      <td>36.60</td>\n",
       "      <td>5.16</td>\n",
       "      <td>6.23</td>\n",
       "      <td>6.96</td>\n",
       "      <td>0.136667</td>\n",
       "      <td>-1.296667</td>\n",
       "      <td>62.67</td>\n",
       "      <td>6.53</td>\n",
       "      <td>6.16</td>\n",
       "      <td>8.25</td>\n",
       "      <td>...</td>\n",
       "      <td>350.517857</td>\n",
       "      <td>350.309286</td>\n",
       "      <td>19.883571</td>\n",
       "      <td>32.213571</td>\n",
       "      <td>4161.000000</td>\n",
       "      <td>19.777778</td>\n",
       "      <td>52.097143</td>\n",
       "      <td>522</td>\n",
       "      <td>0</td>\n",
       "      <td>1</td>\n",
       "    </tr>\n",
       "    <tr>\n",
       "      <th>2</th>\n",
       "      <td>5.51</td>\n",
       "      <td>5.04</td>\n",
       "      <td>4.52</td>\n",
       "      <td>5.96</td>\n",
       "      <td>-0.460000</td>\n",
       "      <td>-0.083333</td>\n",
       "      <td>5.13</td>\n",
       "      <td>5.65</td>\n",
       "      <td>4.14</td>\n",
       "      <td>14.02</td>\n",
       "      <td>...</td>\n",
       "      <td>346.113333</td>\n",
       "      <td>343.409524</td>\n",
       "      <td>13.675238</td>\n",
       "      <td>20.471429</td>\n",
       "      <td>4152.238095</td>\n",
       "      <td>19.200000</td>\n",
       "      <td>34.146667</td>\n",
       "      <td>518</td>\n",
       "      <td>0</td>\n",
       "      <td>1</td>\n",
       "    </tr>\n",
       "    <tr>\n",
       "      <th>3</th>\n",
       "      <td>4.66</td>\n",
       "      <td>39.85</td>\n",
       "      <td>35.76</td>\n",
       "      <td>40.69</td>\n",
       "      <td>0.076667</td>\n",
       "      <td>-0.006667</td>\n",
       "      <td>3.93</td>\n",
       "      <td>76.37</td>\n",
       "      <td>60.86</td>\n",
       "      <td>73.53</td>\n",
       "      <td>...</td>\n",
       "      <td>356.184211</td>\n",
       "      <td>349.844737</td>\n",
       "      <td>16.306842</td>\n",
       "      <td>26.189474</td>\n",
       "      <td>4164.631579</td>\n",
       "      <td>23.625000</td>\n",
       "      <td>42.496316</td>\n",
       "      <td>548</td>\n",
       "      <td>0</td>\n",
       "      <td>1</td>\n",
       "    </tr>\n",
       "    <tr>\n",
       "      <th>4</th>\n",
       "      <td>5.10</td>\n",
       "      <td>43.24</td>\n",
       "      <td>4.63</td>\n",
       "      <td>5.26</td>\n",
       "      <td>0.040000</td>\n",
       "      <td>-0.153333</td>\n",
       "      <td>4.69</td>\n",
       "      <td>71.44</td>\n",
       "      <td>3.80</td>\n",
       "      <td>6.29</td>\n",
       "      <td>...</td>\n",
       "      <td>370.904000</td>\n",
       "      <td>367.730000</td>\n",
       "      <td>18.797333</td>\n",
       "      <td>30.812000</td>\n",
       "      <td>4169.800000</td>\n",
       "      <td>12.666667</td>\n",
       "      <td>49.609333</td>\n",
       "      <td>566</td>\n",
       "      <td>0</td>\n",
       "      <td>1</td>\n",
       "    </tr>\n",
       "  </tbody>\n",
       "</table>\n",
       "<p>5 rows × 54 columns</p>\n",
       "</div>"
      ],
      "text/plain": [
       "   avg_time_charging_lag1  avg_time_charging_lag2  avg_time_charging_lag3  \\\n",
       "0                    5.12                   41.11                    6.56   \n",
       "1                   36.60                    5.16                    6.23   \n",
       "2                    5.51                    5.04                    4.52   \n",
       "3                    4.66                   39.85                   35.76   \n",
       "4                    5.10                   43.24                    4.63   \n",
       "\n",
       "   avg_time_charging_lag7  charging_rate_lag3  charging_rate_lag7  \\\n",
       "0                   25.39            0.086667           -0.006667   \n",
       "1                    6.96            0.136667           -1.296667   \n",
       "2                    5.96           -0.460000           -0.083333   \n",
       "3                   40.69            0.076667           -0.006667   \n",
       "4                    5.26            0.040000           -0.153333   \n",
       "\n",
       "   avg_time_discharging_lag1  avg_time_discharging_lag2  \\\n",
       "0                       4.37                      91.70   \n",
       "1                      62.67                       6.53   \n",
       "2                       5.13                       5.65   \n",
       "3                       3.93                      76.37   \n",
       "4                       4.69                      71.44   \n",
       "\n",
       "   avg_time_discharging_lag3  avg_time_discharging_lag7  ...  \\\n",
       "0                      15.70                      39.12  ...   \n",
       "1                       6.16                       8.25  ...   \n",
       "2                       4.14                      14.02  ...   \n",
       "3                      60.86                      73.53  ...   \n",
       "4                       3.80                       6.29  ...   \n",
       "\n",
       "   avg_volt_change_charging  avg_volt_change_discharging  avg_time_charging  \\\n",
       "0                377.080000                   367.428750          21.696250   \n",
       "1                350.517857                   350.309286          19.883571   \n",
       "2                346.113333                   343.409524          13.675238   \n",
       "3                356.184211                   349.844737          16.306842   \n",
       "4                370.904000                   367.730000          18.797333   \n",
       "\n",
       "   avg_time_discharging  max_voltage_day  piececount  cycle_time  use_time  \\\n",
       "0             39.005000      4174.875000   14.200000   60.701250       543   \n",
       "1             32.213571      4161.000000   19.777778   52.097143       522   \n",
       "2             20.471429      4152.238095   19.200000   34.146667       518   \n",
       "3             26.189474      4164.631579   23.625000   42.496316       548   \n",
       "4             30.812000      4169.800000   12.666667   49.609333       566   \n",
       "\n",
       "   fail_7  outliers  \n",
       "0       0         1  \n",
       "1       0         1  \n",
       "2       0         1  \n",
       "3       0         1  \n",
       "4       0         1  \n",
       "\n",
       "[5 rows x 54 columns]"
      ]
     },
     "execution_count": 110,
     "metadata": {},
     "output_type": "execute_result"
    }
   ],
   "source": [
    "df_nonOuts=df_outlier[df_outlier['outliers']!=-1]\n",
    "df_nonOuts.head(5)"
   ]
  },
  {
   "cell_type": "code",
   "execution_count": 111,
   "metadata": {},
   "outputs": [],
   "source": [
    "df_nonOuts_final = df_nonOuts.drop('outliers',axis=1)"
   ]
  },
  {
   "cell_type": "code",
   "execution_count": 112,
   "metadata": {},
   "outputs": [
    {
     "data": {
      "text/html": [
       "<div>\n",
       "<style scoped>\n",
       "    .dataframe tbody tr th:only-of-type {\n",
       "        vertical-align: middle;\n",
       "    }\n",
       "\n",
       "    .dataframe tbody tr th {\n",
       "        vertical-align: top;\n",
       "    }\n",
       "\n",
       "    .dataframe thead th {\n",
       "        text-align: right;\n",
       "    }\n",
       "</style>\n",
       "<table border=\"1\" class=\"dataframe\">\n",
       "  <thead>\n",
       "    <tr style=\"text-align: right;\">\n",
       "      <th></th>\n",
       "      <th>avg_time_charging_lag1</th>\n",
       "      <th>avg_time_charging_lag2</th>\n",
       "      <th>avg_time_charging_lag3</th>\n",
       "      <th>avg_time_charging_lag7</th>\n",
       "      <th>charging_rate_lag3</th>\n",
       "      <th>charging_rate_lag7</th>\n",
       "      <th>avg_time_discharging_lag1</th>\n",
       "      <th>avg_time_discharging_lag2</th>\n",
       "      <th>avg_time_discharging_lag3</th>\n",
       "      <th>avg_time_discharging_lag7</th>\n",
       "      <th>...</th>\n",
       "      <th>number_times_restart</th>\n",
       "      <th>avg_volt_change_charging</th>\n",
       "      <th>avg_volt_change_discharging</th>\n",
       "      <th>avg_time_charging</th>\n",
       "      <th>avg_time_discharging</th>\n",
       "      <th>max_voltage_day</th>\n",
       "      <th>piececount</th>\n",
       "      <th>cycle_time</th>\n",
       "      <th>use_time</th>\n",
       "      <th>fail_7</th>\n",
       "    </tr>\n",
       "  </thead>\n",
       "  <tbody>\n",
       "    <tr>\n",
       "      <th>0</th>\n",
       "      <td>5.12</td>\n",
       "      <td>41.11</td>\n",
       "      <td>6.56</td>\n",
       "      <td>25.39</td>\n",
       "      <td>0.086667</td>\n",
       "      <td>-0.006667</td>\n",
       "      <td>4.37</td>\n",
       "      <td>91.70</td>\n",
       "      <td>15.70</td>\n",
       "      <td>39.12</td>\n",
       "      <td>...</td>\n",
       "      <td>2.375000</td>\n",
       "      <td>377.080000</td>\n",
       "      <td>367.428750</td>\n",
       "      <td>21.696250</td>\n",
       "      <td>39.005000</td>\n",
       "      <td>4174.875000</td>\n",
       "      <td>14.200000</td>\n",
       "      <td>60.701250</td>\n",
       "      <td>543</td>\n",
       "      <td>0</td>\n",
       "    </tr>\n",
       "    <tr>\n",
       "      <th>1</th>\n",
       "      <td>36.60</td>\n",
       "      <td>5.16</td>\n",
       "      <td>6.23</td>\n",
       "      <td>6.96</td>\n",
       "      <td>0.136667</td>\n",
       "      <td>-1.296667</td>\n",
       "      <td>62.67</td>\n",
       "      <td>6.53</td>\n",
       "      <td>6.16</td>\n",
       "      <td>8.25</td>\n",
       "      <td>...</td>\n",
       "      <td>1.000000</td>\n",
       "      <td>350.517857</td>\n",
       "      <td>350.309286</td>\n",
       "      <td>19.883571</td>\n",
       "      <td>32.213571</td>\n",
       "      <td>4161.000000</td>\n",
       "      <td>19.777778</td>\n",
       "      <td>52.097143</td>\n",
       "      <td>522</td>\n",
       "      <td>0</td>\n",
       "    </tr>\n",
       "    <tr>\n",
       "      <th>2</th>\n",
       "      <td>5.51</td>\n",
       "      <td>5.04</td>\n",
       "      <td>4.52</td>\n",
       "      <td>5.96</td>\n",
       "      <td>-0.460000</td>\n",
       "      <td>-0.083333</td>\n",
       "      <td>5.13</td>\n",
       "      <td>5.65</td>\n",
       "      <td>4.14</td>\n",
       "      <td>14.02</td>\n",
       "      <td>...</td>\n",
       "      <td>4.095238</td>\n",
       "      <td>346.113333</td>\n",
       "      <td>343.409524</td>\n",
       "      <td>13.675238</td>\n",
       "      <td>20.471429</td>\n",
       "      <td>4152.238095</td>\n",
       "      <td>19.200000</td>\n",
       "      <td>34.146667</td>\n",
       "      <td>518</td>\n",
       "      <td>0</td>\n",
       "    </tr>\n",
       "    <tr>\n",
       "      <th>3</th>\n",
       "      <td>4.66</td>\n",
       "      <td>39.85</td>\n",
       "      <td>35.76</td>\n",
       "      <td>40.69</td>\n",
       "      <td>0.076667</td>\n",
       "      <td>-0.006667</td>\n",
       "      <td>3.93</td>\n",
       "      <td>76.37</td>\n",
       "      <td>60.86</td>\n",
       "      <td>73.53</td>\n",
       "      <td>...</td>\n",
       "      <td>0.736842</td>\n",
       "      <td>356.184211</td>\n",
       "      <td>349.844737</td>\n",
       "      <td>16.306842</td>\n",
       "      <td>26.189474</td>\n",
       "      <td>4164.631579</td>\n",
       "      <td>23.625000</td>\n",
       "      <td>42.496316</td>\n",
       "      <td>548</td>\n",
       "      <td>0</td>\n",
       "    </tr>\n",
       "    <tr>\n",
       "      <th>4</th>\n",
       "      <td>5.10</td>\n",
       "      <td>43.24</td>\n",
       "      <td>4.63</td>\n",
       "      <td>5.26</td>\n",
       "      <td>0.040000</td>\n",
       "      <td>-0.153333</td>\n",
       "      <td>4.69</td>\n",
       "      <td>71.44</td>\n",
       "      <td>3.80</td>\n",
       "      <td>6.29</td>\n",
       "      <td>...</td>\n",
       "      <td>1.133333</td>\n",
       "      <td>370.904000</td>\n",
       "      <td>367.730000</td>\n",
       "      <td>18.797333</td>\n",
       "      <td>30.812000</td>\n",
       "      <td>4169.800000</td>\n",
       "      <td>12.666667</td>\n",
       "      <td>49.609333</td>\n",
       "      <td>566</td>\n",
       "      <td>0</td>\n",
       "    </tr>\n",
       "  </tbody>\n",
       "</table>\n",
       "<p>5 rows × 53 columns</p>\n",
       "</div>"
      ],
      "text/plain": [
       "   avg_time_charging_lag1  avg_time_charging_lag2  avg_time_charging_lag3  \\\n",
       "0                    5.12                   41.11                    6.56   \n",
       "1                   36.60                    5.16                    6.23   \n",
       "2                    5.51                    5.04                    4.52   \n",
       "3                    4.66                   39.85                   35.76   \n",
       "4                    5.10                   43.24                    4.63   \n",
       "\n",
       "   avg_time_charging_lag7  charging_rate_lag3  charging_rate_lag7  \\\n",
       "0                   25.39            0.086667           -0.006667   \n",
       "1                    6.96            0.136667           -1.296667   \n",
       "2                    5.96           -0.460000           -0.083333   \n",
       "3                   40.69            0.076667           -0.006667   \n",
       "4                    5.26            0.040000           -0.153333   \n",
       "\n",
       "   avg_time_discharging_lag1  avg_time_discharging_lag2  \\\n",
       "0                       4.37                      91.70   \n",
       "1                      62.67                       6.53   \n",
       "2                       5.13                       5.65   \n",
       "3                       3.93                      76.37   \n",
       "4                       4.69                      71.44   \n",
       "\n",
       "   avg_time_discharging_lag3  avg_time_discharging_lag7  ...  \\\n",
       "0                      15.70                      39.12  ...   \n",
       "1                       6.16                       8.25  ...   \n",
       "2                       4.14                      14.02  ...   \n",
       "3                      60.86                      73.53  ...   \n",
       "4                       3.80                       6.29  ...   \n",
       "\n",
       "   number_times_restart  avg_volt_change_charging  \\\n",
       "0              2.375000                377.080000   \n",
       "1              1.000000                350.517857   \n",
       "2              4.095238                346.113333   \n",
       "3              0.736842                356.184211   \n",
       "4              1.133333                370.904000   \n",
       "\n",
       "   avg_volt_change_discharging  avg_time_charging  avg_time_discharging  \\\n",
       "0                   367.428750          21.696250             39.005000   \n",
       "1                   350.309286          19.883571             32.213571   \n",
       "2                   343.409524          13.675238             20.471429   \n",
       "3                   349.844737          16.306842             26.189474   \n",
       "4                   367.730000          18.797333             30.812000   \n",
       "\n",
       "   max_voltage_day  piececount  cycle_time  use_time  fail_7  \n",
       "0      4174.875000   14.200000   60.701250       543       0  \n",
       "1      4161.000000   19.777778   52.097143       522       0  \n",
       "2      4152.238095   19.200000   34.146667       518       0  \n",
       "3      4164.631579   23.625000   42.496316       548       0  \n",
       "4      4169.800000   12.666667   49.609333       566       0  \n",
       "\n",
       "[5 rows x 53 columns]"
      ]
     },
     "execution_count": 112,
     "metadata": {},
     "output_type": "execute_result"
    }
   ],
   "source": [
    "df_nonOuts_final.head(5)"
   ]
  },
  {
   "cell_type": "code",
   "execution_count": 113,
   "metadata": {},
   "outputs": [],
   "source": [
    "X_train_nonOuts=df_nonOuts_final.drop('fail_7',axis=1)\n",
    "Y_train_nonOuts=df_nonOuts_final['fail_7']\n",
    "\n",
    "\n",
    "\n",
    "gbdt=GradientBoostingClassifier(random_state=0)\n",
    "\n",
    "\n",
    "with parallel_backend('threading', n_jobs=-1):\n",
    "    score_record=cross_val_score(gbdt,X_train_nonOuts,Y_train_nonOuts,cv=StratifiedKFold(n_splits=5, random_state=0,shuffle=True),scoring='accuracy').mean()"
   ]
  },
  {
   "cell_type": "code",
   "execution_count": 114,
   "metadata": {},
   "outputs": [
    {
     "data": {
      "text/plain": [
       "0.8154441902032993"
      ]
     },
     "execution_count": 114,
     "metadata": {},
     "output_type": "execute_result"
    }
   ],
   "source": [
    "score_record"
   ]
  },
  {
   "cell_type": "code",
   "execution_count": 115,
   "metadata": {},
   "outputs": [],
   "source": [
    "df_eng=df_nonOuts_final"
   ]
  },
  {
   "cell_type": "code",
   "execution_count": 116,
   "metadata": {},
   "outputs": [],
   "source": [
    "import seaborn as sns\n",
    "import matplotlib.pyplot as plt"
   ]
  },
  {
   "cell_type": "code",
   "execution_count": 117,
   "metadata": {},
   "outputs": [
    {
     "data": {
      "text/plain": [
       "['avg_time_charging_lag1',\n",
       " 'avg_time_charging_lag2',\n",
       " 'avg_time_charging_lag3',\n",
       " 'avg_time_charging_lag7',\n",
       " 'avg_time_charging_lag4',\n",
       " 'avg_time_charging_lag5',\n",
       " 'avg_time_charging_lag6',\n",
       " 'avg_time_charging_lag8',\n",
       " 'avg_time_charging_lag9',\n",
       " 'avg_time_charging_lag10',\n",
       " 'avg_time_charging_lag11',\n",
       " 'avg_time_charging_lag12',\n",
       " 'avg_time_charging_lag13',\n",
       " 'avg_time_charging_lag14',\n",
       " 'avg_time_charging']"
      ]
     },
     "execution_count": 117,
     "metadata": {},
     "output_type": "execute_result"
    }
   ],
   "source": [
    "import re\n",
    "pattern1 = (\"^avg_time_charging\")\n",
    "match1 = []\n",
    "names1 = []\n",
    "for item in df_eng.columns:\n",
    "    result1 = re.match(pattern1, item)\n",
    "    match1.append(bool(result1))\n",
    "    if bool(result1):\n",
    "        names1.append(item)\n",
    "names1"
   ]
  },
  {
   "cell_type": "code",
   "execution_count": 118,
   "metadata": {},
   "outputs": [
    {
     "data": {
      "text/plain": [
       "['avg_time_discharging_lag1',\n",
       " 'avg_time_discharging_lag2',\n",
       " 'avg_time_discharging_lag3',\n",
       " 'avg_time_discharging_lag7',\n",
       " 'avg_time_discharging_lag4',\n",
       " 'avg_time_discharging_lag5',\n",
       " 'avg_time_discharging_lag6',\n",
       " 'avg_time_discharging_lag8',\n",
       " 'avg_time_discharging_lag9',\n",
       " 'avg_time_discharging_lag10',\n",
       " 'avg_time_discharging_lag11',\n",
       " 'avg_time_discharging_lag12',\n",
       " 'avg_time_discharging_lag13',\n",
       " 'avg_time_discharging_lag14',\n",
       " 'avg_time_discharging']"
      ]
     },
     "execution_count": 118,
     "metadata": {},
     "output_type": "execute_result"
    }
   ],
   "source": [
    "pattern2 = (\"^avg_time_discharging\")\n",
    "match2 = []\n",
    "names2 = []\n",
    "for item in df_eng.columns:\n",
    "    result2 = re.match(pattern2, item)\n",
    "    match2.append(bool(result2))\n",
    "    if bool(result2):\n",
    "        names2.append(item)\n",
    "names2"
   ]
  },
  {
   "cell_type": "code",
   "execution_count": 119,
   "metadata": {},
   "outputs": [
    {
     "data": {
      "text/plain": [
       "['charging_rate_lag3',\n",
       " 'charging_rate_lag7',\n",
       " 'charging_rate_lag4',\n",
       " 'charging_rate_lag5',\n",
       " 'charging_rate_lag6']"
      ]
     },
     "execution_count": 119,
     "metadata": {},
     "output_type": "execute_result"
    }
   ],
   "source": [
    "pattern3 = (\"^charging_rate\")\n",
    "match3 = []\n",
    "names3 = []\n",
    "for item in df_eng.columns:\n",
    "    result3 = re.match(pattern3, item)\n",
    "    match3.append(bool(result3))\n",
    "    if bool(result3):\n",
    "        names3.append(item)\n",
    "names3"
   ]
  },
  {
   "cell_type": "code",
   "execution_count": 120,
   "metadata": {},
   "outputs": [
    {
     "data": {
      "text/plain": [
       "['discharging_rate_lag3',\n",
       " 'discharging_rate_lag7',\n",
       " 'discharging_rate_lag4',\n",
       " 'discharging_rate_lag5',\n",
       " 'discharging_rate_lag6',\n",
       " 'discharging_rate_lag8']"
      ]
     },
     "execution_count": 120,
     "metadata": {},
     "output_type": "execute_result"
    }
   ],
   "source": [
    "pattern4 = (\"^discharging_rate\")\n",
    "match4 = []\n",
    "names4 = []\n",
    "for item in df_eng.columns:\n",
    "    result4 = re.match(pattern4, item)\n",
    "    match4.append(bool(result4))\n",
    "    if bool(result4):\n",
    "        names4.append(item)\n",
    "names4"
   ]
  },
  {
   "cell_type": "code",
   "execution_count": 121,
   "metadata": {},
   "outputs": [
    {
     "data": {
      "text/plain": [
       "0        20.412950\n",
       "1        18.356638\n",
       "2        14.409683\n",
       "3        15.316456\n",
       "4        19.706489\n",
       "           ...    \n",
       "40495    13.798696\n",
       "40496    18.513556\n",
       "40497    14.373455\n",
       "40498    14.337133\n",
       "40499    18.984273\n",
       "Name: avg_time_charging_15, Length: 37891, dtype: float64"
      ]
     },
     "execution_count": 121,
     "metadata": {},
     "output_type": "execute_result"
    }
   ],
   "source": [
    "df_eng[\"avg_time_charging_15\"] = 0\n",
    "for item in names1:\n",
    "    df_eng[\"avg_time_charging_15\"] = df_eng[\"avg_time_charging_15\"] + df_eng[item]\n",
    "df_eng[\"avg_time_charging_15\"] = df_eng[\"avg_time_charging_15\"] / len(names1)\n",
    "df_eng[\"avg_time_charging_15\"]"
   ]
  },
  {
   "cell_type": "code",
   "execution_count": 122,
   "metadata": {},
   "outputs": [
    {
     "data": {
      "text/plain": [
       "0        34.925667\n",
       "1        28.877038\n",
       "2        21.622095\n",
       "3        24.809298\n",
       "4        32.489467\n",
       "           ...    \n",
       "40495    22.841159\n",
       "40496    30.079689\n",
       "40497    23.099091\n",
       "40498    23.221600\n",
       "40499    29.001000\n",
       "Name: avg_time_discharging_15, Length: 37891, dtype: float64"
      ]
     },
     "execution_count": 122,
     "metadata": {},
     "output_type": "execute_result"
    }
   ],
   "source": [
    "df_eng[\"avg_time_discharging_15\"] = 0\n",
    "for item in names2:\n",
    "    df_eng[\"avg_time_discharging_15\"] = df_eng[\"avg_time_discharging_15\"] + df_eng[item]\n",
    "df_eng[\"avg_time_discharging_15\"] = df_eng[\"avg_time_discharging_15\"] / len(names2)\n",
    "df_eng[\"avg_time_discharging_15\"]"
   ]
  },
  {
   "cell_type": "code",
   "execution_count": 123,
   "metadata": {},
   "outputs": [
    {
     "data": {
      "text/plain": [
       "0       -0.352000\n",
       "1       -0.390667\n",
       "2       -0.116667\n",
       "3        0.368000\n",
       "4        0.304667\n",
       "           ...   \n",
       "40495   -0.037333\n",
       "40496   -0.202000\n",
       "40497    0.347333\n",
       "40498    0.115333\n",
       "40499    0.300000\n",
       "Name: avg_charging_rate, Length: 37891, dtype: float64"
      ]
     },
     "execution_count": 123,
     "metadata": {},
     "output_type": "execute_result"
    }
   ],
   "source": [
    "df_eng[\"avg_charging_rate\"] = 0\n",
    "for item in names3:\n",
    "    df_eng[\"avg_charging_rate\"] = df_eng[\"avg_charging_rate\"] + df_eng[item]\n",
    "df_eng[\"avg_charging_rate\"] = df_eng[\"avg_charging_rate\"] / len(names3)\n",
    "df_eng[\"avg_charging_rate\"]"
   ]
  },
  {
   "cell_type": "code",
   "execution_count": 124,
   "metadata": {},
   "outputs": [
    {
     "data": {
      "text/plain": [
       "0        0.121111\n",
       "1       -1.671667\n",
       "2       -0.258333\n",
       "3       -0.008889\n",
       "4       -0.355000\n",
       "           ...   \n",
       "40495    0.215556\n",
       "40496    0.063333\n",
       "40497   -0.678889\n",
       "40498    0.011111\n",
       "40499    0.017222\n",
       "Name: avg_discharging_rate, Length: 37891, dtype: float64"
      ]
     },
     "execution_count": 124,
     "metadata": {},
     "output_type": "execute_result"
    }
   ],
   "source": [
    "df_eng[\"avg_discharging_rate\"] = 0\n",
    "for item in names4:\n",
    "    df_eng[\"avg_discharging_rate\"] = df_eng[\"avg_discharging_rate\"] + df_eng[item]\n",
    "df_eng[\"avg_discharging_rate\"] = df_eng[\"avg_discharging_rate\"] / len(names4)\n",
    "df_eng[\"avg_discharging_rate\"]"
   ]
  },
  {
   "cell_type": "code",
   "execution_count": 125,
   "metadata": {},
   "outputs": [
    {
     "data": {
      "text/html": [
       "<div>\n",
       "<style scoped>\n",
       "    .dataframe tbody tr th:only-of-type {\n",
       "        vertical-align: middle;\n",
       "    }\n",
       "\n",
       "    .dataframe tbody tr th {\n",
       "        vertical-align: top;\n",
       "    }\n",
       "\n",
       "    .dataframe thead th {\n",
       "        text-align: right;\n",
       "    }\n",
       "</style>\n",
       "<table border=\"1\" class=\"dataframe\">\n",
       "  <thead>\n",
       "    <tr style=\"text-align: right;\">\n",
       "      <th></th>\n",
       "      <th>avg_time_charging_lag1</th>\n",
       "      <th>avg_time_charging_lag2</th>\n",
       "      <th>avg_time_charging_lag3</th>\n",
       "      <th>avg_time_charging_lag7</th>\n",
       "      <th>charging_rate_lag3</th>\n",
       "      <th>charging_rate_lag7</th>\n",
       "      <th>avg_time_discharging_lag1</th>\n",
       "      <th>avg_time_discharging_lag2</th>\n",
       "      <th>avg_time_discharging_lag3</th>\n",
       "      <th>avg_time_discharging_lag7</th>\n",
       "      <th>...</th>\n",
       "      <th>avg_time_discharging</th>\n",
       "      <th>max_voltage_day</th>\n",
       "      <th>piececount</th>\n",
       "      <th>cycle_time</th>\n",
       "      <th>use_time</th>\n",
       "      <th>fail_7</th>\n",
       "      <th>avg_time_charging_15</th>\n",
       "      <th>avg_time_discharging_15</th>\n",
       "      <th>avg_charging_rate</th>\n",
       "      <th>avg_discharging_rate</th>\n",
       "    </tr>\n",
       "  </thead>\n",
       "  <tbody>\n",
       "    <tr>\n",
       "      <th>0</th>\n",
       "      <td>5.12</td>\n",
       "      <td>41.11</td>\n",
       "      <td>6.56</td>\n",
       "      <td>25.39</td>\n",
       "      <td>0.086667</td>\n",
       "      <td>-0.006667</td>\n",
       "      <td>4.37</td>\n",
       "      <td>91.70</td>\n",
       "      <td>15.70</td>\n",
       "      <td>39.12</td>\n",
       "      <td>...</td>\n",
       "      <td>39.005000</td>\n",
       "      <td>4174.875000</td>\n",
       "      <td>14.200000</td>\n",
       "      <td>60.701250</td>\n",
       "      <td>543</td>\n",
       "      <td>0</td>\n",
       "      <td>20.412950</td>\n",
       "      <td>34.925667</td>\n",
       "      <td>-0.352000</td>\n",
       "      <td>0.121111</td>\n",
       "    </tr>\n",
       "    <tr>\n",
       "      <th>1</th>\n",
       "      <td>36.60</td>\n",
       "      <td>5.16</td>\n",
       "      <td>6.23</td>\n",
       "      <td>6.96</td>\n",
       "      <td>0.136667</td>\n",
       "      <td>-1.296667</td>\n",
       "      <td>62.67</td>\n",
       "      <td>6.53</td>\n",
       "      <td>6.16</td>\n",
       "      <td>8.25</td>\n",
       "      <td>...</td>\n",
       "      <td>32.213571</td>\n",
       "      <td>4161.000000</td>\n",
       "      <td>19.777778</td>\n",
       "      <td>52.097143</td>\n",
       "      <td>522</td>\n",
       "      <td>0</td>\n",
       "      <td>18.356638</td>\n",
       "      <td>28.877038</td>\n",
       "      <td>-0.390667</td>\n",
       "      <td>-1.671667</td>\n",
       "    </tr>\n",
       "    <tr>\n",
       "      <th>2</th>\n",
       "      <td>5.51</td>\n",
       "      <td>5.04</td>\n",
       "      <td>4.52</td>\n",
       "      <td>5.96</td>\n",
       "      <td>-0.460000</td>\n",
       "      <td>-0.083333</td>\n",
       "      <td>5.13</td>\n",
       "      <td>5.65</td>\n",
       "      <td>4.14</td>\n",
       "      <td>14.02</td>\n",
       "      <td>...</td>\n",
       "      <td>20.471429</td>\n",
       "      <td>4152.238095</td>\n",
       "      <td>19.200000</td>\n",
       "      <td>34.146667</td>\n",
       "      <td>518</td>\n",
       "      <td>0</td>\n",
       "      <td>14.409683</td>\n",
       "      <td>21.622095</td>\n",
       "      <td>-0.116667</td>\n",
       "      <td>-0.258333</td>\n",
       "    </tr>\n",
       "    <tr>\n",
       "      <th>3</th>\n",
       "      <td>4.66</td>\n",
       "      <td>39.85</td>\n",
       "      <td>35.76</td>\n",
       "      <td>40.69</td>\n",
       "      <td>0.076667</td>\n",
       "      <td>-0.006667</td>\n",
       "      <td>3.93</td>\n",
       "      <td>76.37</td>\n",
       "      <td>60.86</td>\n",
       "      <td>73.53</td>\n",
       "      <td>...</td>\n",
       "      <td>26.189474</td>\n",
       "      <td>4164.631579</td>\n",
       "      <td>23.625000</td>\n",
       "      <td>42.496316</td>\n",
       "      <td>548</td>\n",
       "      <td>0</td>\n",
       "      <td>15.316456</td>\n",
       "      <td>24.809298</td>\n",
       "      <td>0.368000</td>\n",
       "      <td>-0.008889</td>\n",
       "    </tr>\n",
       "    <tr>\n",
       "      <th>4</th>\n",
       "      <td>5.10</td>\n",
       "      <td>43.24</td>\n",
       "      <td>4.63</td>\n",
       "      <td>5.26</td>\n",
       "      <td>0.040000</td>\n",
       "      <td>-0.153333</td>\n",
       "      <td>4.69</td>\n",
       "      <td>71.44</td>\n",
       "      <td>3.80</td>\n",
       "      <td>6.29</td>\n",
       "      <td>...</td>\n",
       "      <td>30.812000</td>\n",
       "      <td>4169.800000</td>\n",
       "      <td>12.666667</td>\n",
       "      <td>49.609333</td>\n",
       "      <td>566</td>\n",
       "      <td>0</td>\n",
       "      <td>19.706489</td>\n",
       "      <td>32.489467</td>\n",
       "      <td>0.304667</td>\n",
       "      <td>-0.355000</td>\n",
       "    </tr>\n",
       "  </tbody>\n",
       "</table>\n",
       "<p>5 rows × 57 columns</p>\n",
       "</div>"
      ],
      "text/plain": [
       "   avg_time_charging_lag1  avg_time_charging_lag2  avg_time_charging_lag3  \\\n",
       "0                    5.12                   41.11                    6.56   \n",
       "1                   36.60                    5.16                    6.23   \n",
       "2                    5.51                    5.04                    4.52   \n",
       "3                    4.66                   39.85                   35.76   \n",
       "4                    5.10                   43.24                    4.63   \n",
       "\n",
       "   avg_time_charging_lag7  charging_rate_lag3  charging_rate_lag7  \\\n",
       "0                   25.39            0.086667           -0.006667   \n",
       "1                    6.96            0.136667           -1.296667   \n",
       "2                    5.96           -0.460000           -0.083333   \n",
       "3                   40.69            0.076667           -0.006667   \n",
       "4                    5.26            0.040000           -0.153333   \n",
       "\n",
       "   avg_time_discharging_lag1  avg_time_discharging_lag2  \\\n",
       "0                       4.37                      91.70   \n",
       "1                      62.67                       6.53   \n",
       "2                       5.13                       5.65   \n",
       "3                       3.93                      76.37   \n",
       "4                       4.69                      71.44   \n",
       "\n",
       "   avg_time_discharging_lag3  avg_time_discharging_lag7  ...  \\\n",
       "0                      15.70                      39.12  ...   \n",
       "1                       6.16                       8.25  ...   \n",
       "2                       4.14                      14.02  ...   \n",
       "3                      60.86                      73.53  ...   \n",
       "4                       3.80                       6.29  ...   \n",
       "\n",
       "   avg_time_discharging  max_voltage_day  piececount  cycle_time  use_time  \\\n",
       "0             39.005000      4174.875000   14.200000   60.701250       543   \n",
       "1             32.213571      4161.000000   19.777778   52.097143       522   \n",
       "2             20.471429      4152.238095   19.200000   34.146667       518   \n",
       "3             26.189474      4164.631579   23.625000   42.496316       548   \n",
       "4             30.812000      4169.800000   12.666667   49.609333       566   \n",
       "\n",
       "   fail_7  avg_time_charging_15  avg_time_discharging_15  avg_charging_rate  \\\n",
       "0       0             20.412950                34.925667          -0.352000   \n",
       "1       0             18.356638                28.877038          -0.390667   \n",
       "2       0             14.409683                21.622095          -0.116667   \n",
       "3       0             15.316456                24.809298           0.368000   \n",
       "4       0             19.706489                32.489467           0.304667   \n",
       "\n",
       "   avg_discharging_rate  \n",
       "0              0.121111  \n",
       "1             -1.671667  \n",
       "2             -0.258333  \n",
       "3             -0.008889  \n",
       "4             -0.355000  \n",
       "\n",
       "[5 rows x 57 columns]"
      ]
     },
     "execution_count": 125,
     "metadata": {},
     "output_type": "execute_result"
    }
   ],
   "source": [
    "df_eng.head(5)"
   ]
  },
  {
   "cell_type": "code",
   "execution_count": 126,
   "metadata": {},
   "outputs": [],
   "source": [
    "df_plot = df_eng[['fail_7', \n",
    "                  'avg_time_charging_15', 'avg_time_discharging_15', \n",
    "                  'charging_rate_lag3', 'discharging_rate_lag3', 'avg_charging_rate', 'avg_discharging_rate', \n",
    "                  'charge_cycle_time_below_12', 'chargecycles', 'dischargecycles', \n",
    "                  'total_off_time', 'number_times_restart',\n",
    "                  'avg_volt_change_charging', 'avg_volt_change_discharging','max_voltage_day', \n",
    "                  'piececount', 'cycle_time', 'use_time']]"
   ]
  },
  {
   "cell_type": "code",
   "execution_count": 126,
   "metadata": {},
   "outputs": [],
   "source": [
    "df_plot = df_eng[['fail_7', \n",
    "                  'avg_time_charging_15', 'avg_time_discharging_15', \n",
    "                  'charging_rate_lag3', 'discharging_rate_lag3', 'avg_charging_rate', 'avg_discharging_rate', \n",
    "                  'charge_cycle_time_below_12', 'chargecycles', 'dischargecycles', \n",
    "                  'total_off_time', 'number_times_restart',\n",
    "                  'avg_volt_change_charging', 'avg_volt_change_discharging','max_voltage_day', \n",
    "                  'piececount', 'cycle_time', 'use_time']]"
   ]
  },
  {
   "cell_type": "code",
   "execution_count": 127,
   "metadata": {
    "scrolled": false
   },
   "outputs": [
    {
     "data": {
      "text/plain": [
       "Text(0.5, 1, 'Correlation Matrix Pearson Method')"
      ]
     },
     "execution_count": 127,
     "metadata": {},
     "output_type": "execute_result"
    },
    {
     "data": {
      "image/png": "[encoded data removed]",
      "text/plain": [
       "<Figure size 1440x1440 with 2 Axes>"
      ]
     },
     "metadata": {
      "needs_background": "light"
     },
     "output_type": "display_data"
    }
   ],
   "source": [
    "# Pearson Correlation Heatmap\n",
    "plt.figure(figsize = (20, 20))\n",
    "sns.heatmap(df_plot.corr(method = 'pearson'), annot = True, fmt = \".2f\", cmap = 'RdBu', vmin = -1, vmax = 1, center = 0,\n",
    "            square = True, linewidths = 2)\n",
    "plt.title(\"Correlation Matrix Pearson Method\", size = 15, weight = 'bold')"
   ]
  },
  {
   "cell_type": "code",
   "execution_count": 128,
   "metadata": {},
   "outputs": [],
   "source": [
    "X_train = df_nonOuts_final.drop(['fail_7'], axis = 1)\n",
    "Y_train = df_nonOuts_final['fail_7']"
   ]
  },
  {
   "cell_type": "code",
   "execution_count": 129,
   "metadata": {},
   "outputs": [
    {
     "data": {
      "text/html": [
       "<div>\n",
       "<style scoped>\n",
       "    .dataframe tbody tr th:only-of-type {\n",
       "        vertical-align: middle;\n",
       "    }\n",
       "\n",
       "    .dataframe tbody tr th {\n",
       "        vertical-align: top;\n",
       "    }\n",
       "\n",
       "    .dataframe thead th {\n",
       "        text-align: right;\n",
       "    }\n",
       "</style>\n",
       "<table border=\"1\" class=\"dataframe\">\n",
       "  <thead>\n",
       "    <tr style=\"text-align: right;\">\n",
       "      <th></th>\n",
       "      <th>avg_time_charging_lag1</th>\n",
       "      <th>avg_time_charging_lag2</th>\n",
       "      <th>avg_time_charging_lag3</th>\n",
       "      <th>avg_time_charging_lag7</th>\n",
       "      <th>charging_rate_lag3</th>\n",
       "      <th>charging_rate_lag7</th>\n",
       "      <th>avg_time_discharging_lag1</th>\n",
       "      <th>avg_time_discharging_lag2</th>\n",
       "      <th>avg_time_discharging_lag3</th>\n",
       "      <th>avg_time_discharging_lag7</th>\n",
       "      <th>...</th>\n",
       "      <th>avg_time_discharging</th>\n",
       "      <th>max_voltage_day</th>\n",
       "      <th>piececount</th>\n",
       "      <th>cycle_time</th>\n",
       "      <th>use_time</th>\n",
       "      <th>fail_7</th>\n",
       "      <th>avg_time_charging_15</th>\n",
       "      <th>avg_time_discharging_15</th>\n",
       "      <th>avg_charging_rate</th>\n",
       "      <th>avg_discharging_rate</th>\n",
       "    </tr>\n",
       "  </thead>\n",
       "  <tbody>\n",
       "    <tr>\n",
       "      <th>0</th>\n",
       "      <td>5.12</td>\n",
       "      <td>41.11</td>\n",
       "      <td>6.56</td>\n",
       "      <td>25.39</td>\n",
       "      <td>0.086667</td>\n",
       "      <td>-0.006667</td>\n",
       "      <td>4.37</td>\n",
       "      <td>91.70</td>\n",
       "      <td>15.70</td>\n",
       "      <td>39.12</td>\n",
       "      <td>...</td>\n",
       "      <td>39.005000</td>\n",
       "      <td>4174.875000</td>\n",
       "      <td>14.200000</td>\n",
       "      <td>60.701250</td>\n",
       "      <td>543</td>\n",
       "      <td>0</td>\n",
       "      <td>20.412950</td>\n",
       "      <td>34.925667</td>\n",
       "      <td>-0.352000</td>\n",
       "      <td>0.121111</td>\n",
       "    </tr>\n",
       "    <tr>\n",
       "      <th>1</th>\n",
       "      <td>36.60</td>\n",
       "      <td>5.16</td>\n",
       "      <td>6.23</td>\n",
       "      <td>6.96</td>\n",
       "      <td>0.136667</td>\n",
       "      <td>-1.296667</td>\n",
       "      <td>62.67</td>\n",
       "      <td>6.53</td>\n",
       "      <td>6.16</td>\n",
       "      <td>8.25</td>\n",
       "      <td>...</td>\n",
       "      <td>32.213571</td>\n",
       "      <td>4161.000000</td>\n",
       "      <td>19.777778</td>\n",
       "      <td>52.097143</td>\n",
       "      <td>522</td>\n",
       "      <td>0</td>\n",
       "      <td>18.356638</td>\n",
       "      <td>28.877038</td>\n",
       "      <td>-0.390667</td>\n",
       "      <td>-1.671667</td>\n",
       "    </tr>\n",
       "    <tr>\n",
       "      <th>2</th>\n",
       "      <td>5.51</td>\n",
       "      <td>5.04</td>\n",
       "      <td>4.52</td>\n",
       "      <td>5.96</td>\n",
       "      <td>-0.460000</td>\n",
       "      <td>-0.083333</td>\n",
       "      <td>5.13</td>\n",
       "      <td>5.65</td>\n",
       "      <td>4.14</td>\n",
       "      <td>14.02</td>\n",
       "      <td>...</td>\n",
       "      <td>20.471429</td>\n",
       "      <td>4152.238095</td>\n",
       "      <td>19.200000</td>\n",
       "      <td>34.146667</td>\n",
       "      <td>518</td>\n",
       "      <td>0</td>\n",
       "      <td>14.409683</td>\n",
       "      <td>21.622095</td>\n",
       "      <td>-0.116667</td>\n",
       "      <td>-0.258333</td>\n",
       "    </tr>\n",
       "    <tr>\n",
       "      <th>3</th>\n",
       "      <td>4.66</td>\n",
       "      <td>39.85</td>\n",
       "      <td>35.76</td>\n",
       "      <td>40.69</td>\n",
       "      <td>0.076667</td>\n",
       "      <td>-0.006667</td>\n",
       "      <td>3.93</td>\n",
       "      <td>76.37</td>\n",
       "      <td>60.86</td>\n",
       "      <td>73.53</td>\n",
       "      <td>...</td>\n",
       "      <td>26.189474</td>\n",
       "      <td>4164.631579</td>\n",
       "      <td>23.625000</td>\n",
       "      <td>42.496316</td>\n",
       "      <td>548</td>\n",
       "      <td>0</td>\n",
       "      <td>15.316456</td>\n",
       "      <td>24.809298</td>\n",
       "      <td>0.368000</td>\n",
       "      <td>-0.008889</td>\n",
       "    </tr>\n",
       "    <tr>\n",
       "      <th>4</th>\n",
       "      <td>5.10</td>\n",
       "      <td>43.24</td>\n",
       "      <td>4.63</td>\n",
       "      <td>5.26</td>\n",
       "      <td>0.040000</td>\n",
       "      <td>-0.153333</td>\n",
       "      <td>4.69</td>\n",
       "      <td>71.44</td>\n",
       "      <td>3.80</td>\n",
       "      <td>6.29</td>\n",
       "      <td>...</td>\n",
       "      <td>30.812000</td>\n",
       "      <td>4169.800000</td>\n",
       "      <td>12.666667</td>\n",
       "      <td>49.609333</td>\n",
       "      <td>566</td>\n",
       "      <td>0</td>\n",
       "      <td>19.706489</td>\n",
       "      <td>32.489467</td>\n",
       "      <td>0.304667</td>\n",
       "      <td>-0.355000</td>\n",
       "    </tr>\n",
       "    <tr>\n",
       "      <th>...</th>\n",
       "      <td>...</td>\n",
       "      <td>...</td>\n",
       "      <td>...</td>\n",
       "      <td>...</td>\n",
       "      <td>...</td>\n",
       "      <td>...</td>\n",
       "      <td>...</td>\n",
       "      <td>...</td>\n",
       "      <td>...</td>\n",
       "      <td>...</td>\n",
       "      <td>...</td>\n",
       "      <td>...</td>\n",
       "      <td>...</td>\n",
       "      <td>...</td>\n",
       "      <td>...</td>\n",
       "      <td>...</td>\n",
       "      <td>...</td>\n",
       "      <td>...</td>\n",
       "      <td>...</td>\n",
       "      <td>...</td>\n",
       "      <td>...</td>\n",
       "    </tr>\n",
       "    <tr>\n",
       "      <th>40495</th>\n",
       "      <td>4.97</td>\n",
       "      <td>5.81</td>\n",
       "      <td>5.01</td>\n",
       "      <td>29.44</td>\n",
       "      <td>-0.083333</td>\n",
       "      <td>-0.033333</td>\n",
       "      <td>7.13</td>\n",
       "      <td>5.41</td>\n",
       "      <td>5.60</td>\n",
       "      <td>49.24</td>\n",
       "      <td>...</td>\n",
       "      <td>23.077391</td>\n",
       "      <td>4162.913043</td>\n",
       "      <td>70.181818</td>\n",
       "      <td>36.957826</td>\n",
       "      <td>574</td>\n",
       "      <td>1</td>\n",
       "      <td>13.798696</td>\n",
       "      <td>22.841159</td>\n",
       "      <td>-0.037333</td>\n",
       "      <td>0.215556</td>\n",
       "    </tr>\n",
       "    <tr>\n",
       "      <th>40496</th>\n",
       "      <td>4.81</td>\n",
       "      <td>4.53</td>\n",
       "      <td>31.68</td>\n",
       "      <td>4.88</td>\n",
       "      <td>0.016667</td>\n",
       "      <td>-0.900000</td>\n",
       "      <td>4.71</td>\n",
       "      <td>3.99</td>\n",
       "      <td>49.68</td>\n",
       "      <td>3.42</td>\n",
       "      <td>...</td>\n",
       "      <td>28.495333</td>\n",
       "      <td>4181.600000</td>\n",
       "      <td>11.888889</td>\n",
       "      <td>46.168667</td>\n",
       "      <td>561</td>\n",
       "      <td>1</td>\n",
       "      <td>18.513556</td>\n",
       "      <td>30.079689</td>\n",
       "      <td>-0.202000</td>\n",
       "      <td>0.063333</td>\n",
       "    </tr>\n",
       "    <tr>\n",
       "      <th>40497</th>\n",
       "      <td>4.73</td>\n",
       "      <td>4.77</td>\n",
       "      <td>5.71</td>\n",
       "      <td>4.67</td>\n",
       "      <td>-0.020000</td>\n",
       "      <td>1.706667</td>\n",
       "      <td>3.83</td>\n",
       "      <td>3.48</td>\n",
       "      <td>4.51</td>\n",
       "      <td>3.59</td>\n",
       "      <td>...</td>\n",
       "      <td>29.766364</td>\n",
       "      <td>4157.045455</td>\n",
       "      <td>26.400000</td>\n",
       "      <td>47.638182</td>\n",
       "      <td>531</td>\n",
       "      <td>1</td>\n",
       "      <td>14.373455</td>\n",
       "      <td>23.099091</td>\n",
       "      <td>0.347333</td>\n",
       "      <td>-0.678889</td>\n",
       "    </tr>\n",
       "    <tr>\n",
       "      <th>40498</th>\n",
       "      <td>4.93</td>\n",
       "      <td>5.01</td>\n",
       "      <td>4.85</td>\n",
       "      <td>20.92</td>\n",
       "      <td>-0.103333</td>\n",
       "      <td>0.526667</td>\n",
       "      <td>3.35</td>\n",
       "      <td>4.30</td>\n",
       "      <td>4.12</td>\n",
       "      <td>40.14</td>\n",
       "      <td>...</td>\n",
       "      <td>22.894000</td>\n",
       "      <td>4171.650000</td>\n",
       "      <td>17.714286</td>\n",
       "      <td>37.451000</td>\n",
       "      <td>547</td>\n",
       "      <td>0</td>\n",
       "      <td>14.337133</td>\n",
       "      <td>23.221600</td>\n",
       "      <td>0.115333</td>\n",
       "      <td>0.011111</td>\n",
       "    </tr>\n",
       "    <tr>\n",
       "      <th>40499</th>\n",
       "      <td>30.83</td>\n",
       "      <td>5.18</td>\n",
       "      <td>33.17</td>\n",
       "      <td>32.65</td>\n",
       "      <td>0.033333</td>\n",
       "      <td>0.060000</td>\n",
       "      <td>43.72</td>\n",
       "      <td>5.59</td>\n",
       "      <td>61.54</td>\n",
       "      <td>49.52</td>\n",
       "      <td>...</td>\n",
       "      <td>34.135000</td>\n",
       "      <td>4155.045455</td>\n",
       "      <td>30.857143</td>\n",
       "      <td>55.969091</td>\n",
       "      <td>563</td>\n",
       "      <td>1</td>\n",
       "      <td>18.984273</td>\n",
       "      <td>29.001000</td>\n",
       "      <td>0.300000</td>\n",
       "      <td>0.017222</td>\n",
       "    </tr>\n",
       "  </tbody>\n",
       "</table>\n",
       "<p>37891 rows × 57 columns</p>\n",
       "</div>"
      ],
      "text/plain": [
       "       avg_time_charging_lag1  avg_time_charging_lag2  avg_time_charging_lag3  \\\n",
       "0                        5.12                   41.11                    6.56   \n",
       "1                       36.60                    5.16                    6.23   \n",
       "2                        5.51                    5.04                    4.52   \n",
       "3                        4.66                   39.85                   35.76   \n",
       "4                        5.10                   43.24                    4.63   \n",
       "...                       ...                     ...                     ...   \n",
       "40495                    4.97                    5.81                    5.01   \n",
       "40496                    4.81                    4.53                   31.68   \n",
       "40497                    4.73                    4.77                    5.71   \n",
       "40498                    4.93                    5.01                    4.85   \n",
       "40499                   30.83                    5.18                   33.17   \n",
       "\n",
       "       avg_time_charging_lag7  charging_rate_lag3  charging_rate_lag7  \\\n",
       "0                       25.39            0.086667           -0.006667   \n",
       "1                        6.96            0.136667           -1.296667   \n",
       "2                        5.96           -0.460000           -0.083333   \n",
       "3                       40.69            0.076667           -0.006667   \n",
       "4                        5.26            0.040000           -0.153333   \n",
       "...                       ...                 ...                 ...   \n",
       "40495                   29.44           -0.083333           -0.033333   \n",
       "40496                    4.88            0.016667           -0.900000   \n",
       "40497                    4.67           -0.020000            1.706667   \n",
       "40498                   20.92           -0.103333            0.526667   \n",
       "40499                   32.65            0.033333            0.060000   \n",
       "\n",
       "       avg_time_discharging_lag1  avg_time_discharging_lag2  \\\n",
       "0                           4.37                      91.70   \n",
       "1                          62.67                       6.53   \n",
       "2                           5.13                       5.65   \n",
       "3                           3.93                      76.37   \n",
       "4                           4.69                      71.44   \n",
       "...                          ...                        ...   \n",
       "40495                       7.13                       5.41   \n",
       "40496                       4.71                       3.99   \n",
       "40497                       3.83                       3.48   \n",
       "40498                       3.35                       4.30   \n",
       "40499                      43.72                       5.59   \n",
       "\n",
       "       avg_time_discharging_lag3  avg_time_discharging_lag7  ...  \\\n",
       "0                          15.70                      39.12  ...   \n",
       "1                           6.16                       8.25  ...   \n",
       "2                           4.14                      14.02  ...   \n",
       "3                          60.86                      73.53  ...   \n",
       "4                           3.80                       6.29  ...   \n",
       "...                          ...                        ...  ...   \n",
       "40495                       5.60                      49.24  ...   \n",
       "40496                      49.68                       3.42  ...   \n",
       "40497                       4.51                       3.59  ...   \n",
       "40498                       4.12                      40.14  ...   \n",
       "40499                      61.54                      49.52  ...   \n",
       "\n",
       "       avg_time_discharging  max_voltage_day  piececount  cycle_time  \\\n",
       "0                 39.005000      4174.875000   14.200000   60.701250   \n",
       "1                 32.213571      4161.000000   19.777778   52.097143   \n",
       "2                 20.471429      4152.238095   19.200000   34.146667   \n",
       "3                 26.189474      4164.631579   23.625000   42.496316   \n",
       "4                 30.812000      4169.800000   12.666667   49.609333   \n",
       "...                     ...              ...         ...         ...   \n",
       "40495             23.077391      4162.913043   70.181818   36.957826   \n",
       "40496             28.495333      4181.600000   11.888889   46.168667   \n",
       "40497             29.766364      4157.045455   26.400000   47.638182   \n",
       "40498             22.894000      4171.650000   17.714286   37.451000   \n",
       "40499             34.135000      4155.045455   30.857143   55.969091   \n",
       "\n",
       "       use_time  fail_7  avg_time_charging_15  avg_time_discharging_15  \\\n",
       "0           543       0             20.412950                34.925667   \n",
       "1           522       0             18.356638                28.877038   \n",
       "2           518       0             14.409683                21.622095   \n",
       "3           548       0             15.316456                24.809298   \n",
       "4           566       0             19.706489                32.489467   \n",
       "...         ...     ...                   ...                      ...   \n",
       "40495       574       1             13.798696                22.841159   \n",
       "40496       561       1             18.513556                30.079689   \n",
       "40497       531       1             14.373455                23.099091   \n",
       "40498       547       0             14.337133                23.221600   \n",
       "40499       563       1             18.984273                29.001000   \n",
       "\n",
       "       avg_charging_rate  avg_discharging_rate  \n",
       "0              -0.352000              0.121111  \n",
       "1              -0.390667             -1.671667  \n",
       "2              -0.116667             -0.258333  \n",
       "3               0.368000             -0.008889  \n",
       "4               0.304667             -0.355000  \n",
       "...                  ...                   ...  \n",
       "40495          -0.037333              0.215556  \n",
       "40496          -0.202000              0.063333  \n",
       "40497           0.347333             -0.678889  \n",
       "40498           0.115333              0.011111  \n",
       "40499           0.300000              0.017222  \n",
       "\n",
       "[37891 rows x 57 columns]"
      ]
     },
     "execution_count": 129,
     "metadata": {},
     "output_type": "execute_result"
    }
   ],
   "source": [
    "df_nonOuts_final"
   ]
  },
  {
   "cell_type": "code",
   "execution_count": 130,
   "metadata": {},
   "outputs": [
    {
     "data": {
      "text/html": [
       "        <script type=\"text/javascript\">\n",
       "        window.PlotlyConfig = {MathJaxConfig: 'local'};\n",
       "        if (window.MathJax) {MathJax.Hub.Config({SVG: {font: \"STIX-Web\"}});}\n",
       "        if (typeof require !== 'undefined') {\n",
       "        require.undef(\"plotly\");\n",
       "        requirejs.config({\n",
       "            paths: {\n",
       "                'plotly': ['https://cdn.plot.ly/plotly-latest.min']\n",
       "            }\n",
       "        });\n",
       "        require(['plotly'], function(Plotly) {\n",
       "            window._Plotly = Plotly;\n",
       "        });\n",
       "        }\n",
       "        </script>\n",
       "        "
      ]
     },
     "metadata": {},
     "output_type": "display_data"
    }
   ],
   "source": [
    "## load required libraries \n",
    "from plotly.offline import iplot, init_notebook_mode\n",
    "import plotly.graph_objs as go\n",
    "\n",
    "from sklearn.feature_extraction.text import TfidfVectorizer\n",
    "from sklearn.feature_extraction import DictVectorizer\n",
    "from sklearn.model_selection import train_test_split\n",
    "from sklearn.ensemble import GradientBoostingClassifier\n",
    "from pdpbox import pdp, get_dataset, info_plots\n",
    "from eli5.sklearn import PermutationImportance\n",
    "from sklearn.preprocessing import LabelEncoder\n",
    "from sklearn.metrics import accuracy_score\n",
    "from sklearn.pipeline import make_pipeline\n",
    "from sklearn.pipeline import FeatureUnion\n",
    "from collections import Counter\n",
    "import matplotlib.pyplot as plt \n",
    "import pandas as pd \n",
    "import numpy as np \n",
    "import warnings\n",
    "import eli5\n",
    "warnings.filterwarnings('ignore')\n",
    "init_notebook_mode(connected = True)"
   ]
  },
  {
   "cell_type": "code",
   "execution_count": 131,
   "metadata": {},
   "outputs": [],
   "source": [
    "gbdt = GradientBoostingClassifier(random_state = 0).fit(X_train, Y_train)"
   ]
  },
  {
   "cell_type": "code",
   "execution_count": 132,
   "metadata": {},
   "outputs": [
    {
     "data": {
      "application/vnd.plotly.v1+json": {
       "config": {
        "linkText": "Export to plot.ly",
        "plotlyServerURL": "https://plot.ly",
        "showLink": false
       },
       "data": [
        {
         "marker": {
          "color": [
           "gray",
           "gray",
           "gray",
           "gray",
           "gray",
           "green",
           "green",
           "green",
           "green",
           "green"
          ],
          "opacity": 0.4
         },
         "name": "feature importance (relative)",
         "orientation": "h",
         "type": "bar",
         "x": [
          0.00338081883921074,
          0.0037511856443025893,
          0.004347501874171185,
          0.004567409711949175,
          0.009257315358893825,
          0.018513853460542934,
          0.035831958901994164,
          0.12786722336048012,
          0.35645432551618705,
          0.3840386115623852
         ],
         "y": [
          "Chargecycles  ",
          "Avg_Time_Discharging_Lag1  ",
          "Number_Times_Restart  ",
          "Total_Off_Time  ",
          "Avg_Volt_Change_Discharging  ",
          "Use_Time  ",
          "Avg_Volt_Change_Charging  ",
          "Charging_Rate_Lag3  ",
          "Charge_Cycle_Time_Below_12  ",
          "Discharging_Rate_Lag3  "
         ]
        }
       ],
       "layout": {
        "bargap": 0.25,
        "barmode": "group",
        "margin": {
         "l": 400
        },
        "template": {
         "data": {
          "bar": [
           {
            "error_x": {
             "color": "#2a3f5f"
            },
            "error_y": {
             "color": "#2a3f5f"
            },
            "marker": {
             "line": {
              "color": "#E5ECF6",
              "width": 0.5
             }
            },
            "type": "bar"
           }
          ],
          "barpolar": [
           {
            "marker": {
             "line": {
              "color": "#E5ECF6",
              "width": 0.5
             }
            },
            "type": "barpolar"
           }
          ],
          "carpet": [
           {
            "aaxis": {
             "endlinecolor": "#2a3f5f",
             "gridcolor": "white",
             "linecolor": "white",
             "minorgridcolor": "white",
             "startlinecolor": "#2a3f5f"
            },
            "baxis": {
             "endlinecolor": "#2a3f5f",
             "gridcolor": "white",
             "linecolor": "white",
             "minorgridcolor": "white",
             "startlinecolor": "#2a3f5f"
            },
            "type": "carpet"
           }
          ],
          "choropleth": [
           {
            "colorbar": {
             "outlinewidth": 0,
             "ticks": ""
            },
            "type": "choropleth"
           }
          ],
          "contour": [
           {
            "colorbar": {
             "outlinewidth": 0,
             "ticks": ""
            },
            "colorscale": [
             [
              0,
              "#0d0887"
             ],
             [
              0.1111111111111111,
              "#46039f"
             ],
             [
              0.2222222222222222,
              "#7201a8"
             ],
             [
              0.3333333333333333,
              "#9c179e"
             ],
             [
              0.4444444444444444,
              "#bd3786"
             ],
             [
              0.5555555555555556,
              "#d8576b"
             ],
             [
              0.6666666666666666,
              "#ed7953"
             ],
             [
              0.7777777777777778,
              "#fb9f3a"
             ],
             [
              0.8888888888888888,
              "#fdca26"
             ],
             [
              1,
              "#f0f921"
             ]
            ],
            "type": "contour"
           }
          ],
          "contourcarpet": [
           {
            "colorbar": {
             "outlinewidth": 0,
             "ticks": ""
            },
            "type": "contourcarpet"
           }
          ],
          "heatmap": [
           {
            "colorbar": {
             "outlinewidth": 0,
             "ticks": ""
            },
            "colorscale": [
             [
              0,
              "#0d0887"
             ],
             [
              0.1111111111111111,
              "#46039f"
             ],
             [
              0.2222222222222222,
              "#7201a8"
             ],
             [
              0.3333333333333333,
              "#9c179e"
             ],
             [
              0.4444444444444444,
              "#bd3786"
             ],
             [
              0.5555555555555556,
              "#d8576b"
             ],
             [
              0.6666666666666666,
              "#ed7953"
             ],
             [
              0.7777777777777778,
              "#fb9f3a"
             ],
             [
              0.8888888888888888,
              "#fdca26"
             ],
             [
              1,
              "#f0f921"
             ]
            ],
            "type": "heatmap"
           }
          ],
          "heatmapgl": [
           {
            "colorbar": {
             "outlinewidth": 0,
             "ticks": ""
            },
            "colorscale": [
             [
              0,
              "#0d0887"
             ],
             [
              0.1111111111111111,
              "#46039f"
             ],
             [
              0.2222222222222222,
              "#7201a8"
             ],
             [
              0.3333333333333333,
              "#9c179e"
             ],
             [
              0.4444444444444444,
              "#bd3786"
             ],
             [
              0.5555555555555556,
              "#d8576b"
             ],
             [
              0.6666666666666666,
              "#ed7953"
             ],
             [
              0.7777777777777778,
              "#fb9f3a"
             ],
             [
              0.8888888888888888,
              "#fdca26"
             ],
             [
              1,
              "#f0f921"
             ]
            ],
            "type": "heatmapgl"
           }
          ],
          "histogram": [
           {
            "marker": {
             "colorbar": {
              "outlinewidth": 0,
              "ticks": ""
             }
            },
            "type": "histogram"
           }
          ],
          "histogram2d": [
           {
            "colorbar": {
             "outlinewidth": 0,
             "ticks": ""
            },
            "colorscale": [
             [
              0,
              "#0d0887"
             ],
             [
              0.1111111111111111,
              "#46039f"
             ],
             [
              0.2222222222222222,
              "#7201a8"
             ],
             [
              0.3333333333333333,
              "#9c179e"
             ],
             [
              0.4444444444444444,
              "#bd3786"
             ],
             [
              0.5555555555555556,
              "#d8576b"
             ],
             [
              0.6666666666666666,
              "#ed7953"
             ],
             [
              0.7777777777777778,
              "#fb9f3a"
             ],
             [
              0.8888888888888888,
              "#fdca26"
             ],
             [
              1,
              "#f0f921"
             ]
            ],
            "type": "histogram2d"
           }
          ],
          "histogram2dcontour": [
           {
            "colorbar": {
             "outlinewidth": 0,
             "ticks": ""
            },
            "colorscale": [
             [
              0,
              "#0d0887"
             ],
             [
              0.1111111111111111,
              "#46039f"
             ],
             [
              0.2222222222222222,
              "#7201a8"
             ],
             [
              0.3333333333333333,
              "#9c179e"
             ],
             [
              0.4444444444444444,
              "#bd3786"
             ],
             [
              0.5555555555555556,
              "#d8576b"
             ],
             [
              0.6666666666666666,
              "#ed7953"
             ],
             [
              0.7777777777777778,
              "#fb9f3a"
             ],
             [
              0.8888888888888888,
              "#fdca26"
             ],
             [
              1,
              "#f0f921"
             ]
            ],
            "type": "histogram2dcontour"
           }
          ],
          "mesh3d": [
           {
            "colorbar": {
             "outlinewidth": 0,
             "ticks": ""
            },
            "type": "mesh3d"
           }
          ],
          "parcoords": [
           {
            "line": {
             "colorbar": {
              "outlinewidth": 0,
              "ticks": ""
             }
            },
            "type": "parcoords"
           }
          ],
          "pie": [
           {
            "automargin": true,
            "type": "pie"
           }
          ],
          "scatter": [
           {
            "marker": {
             "colorbar": {
              "outlinewidth": 0,
              "ticks": ""
             }
            },
            "type": "scatter"
           }
          ],
          "scatter3d": [
           {
            "line": {
             "colorbar": {
              "outlinewidth": 0,
              "ticks": ""
             }
            },
            "marker": {
             "colorbar": {
              "outlinewidth": 0,
              "ticks": ""
             }
            },
            "type": "scatter3d"
           }
          ],
          "scattercarpet": [
           {
            "marker": {
             "colorbar": {
              "outlinewidth": 0,
              "ticks": ""
             }
            },
            "type": "scattercarpet"
           }
          ],
          "scattergeo": [
           {
            "marker": {
             "colorbar": {
              "outlinewidth": 0,
              "ticks": ""
             }
            },
            "type": "scattergeo"
           }
          ],
          "scattergl": [
           {
            "marker": {
             "colorbar": {
              "outlinewidth": 0,
              "ticks": ""
             }
            },
            "type": "scattergl"
           }
          ],
          "scattermapbox": [
           {
            "marker": {
             "colorbar": {
              "outlinewidth": 0,
              "ticks": ""
             }
            },
            "type": "scattermapbox"
           }
          ],
          "scatterpolar": [
           {
            "marker": {
             "colorbar": {
              "outlinewidth": 0,
              "ticks": ""
             }
            },
            "type": "scatterpolar"
           }
          ],
          "scatterpolargl": [
           {
            "marker": {
             "colorbar": {
              "outlinewidth": 0,
              "ticks": ""
             }
            },
            "type": "scatterpolargl"
           }
          ],
          "scatterternary": [
           {
            "marker": {
             "colorbar": {
              "outlinewidth": 0,
              "ticks": ""
             }
            },
            "type": "scatterternary"
           }
          ],
          "surface": [
           {
            "colorbar": {
             "outlinewidth": 0,
             "ticks": ""
            },
            "colorscale": [
             [
              0,
              "#0d0887"
             ],
             [
              0.1111111111111111,
              "#46039f"
             ],
             [
              0.2222222222222222,
              "#7201a8"
             ],
             [
              0.3333333333333333,
              "#9c179e"
             ],
             [
              0.4444444444444444,
              "#bd3786"
             ],
             [
              0.5555555555555556,
              "#d8576b"
             ],
             [
              0.6666666666666666,
              "#ed7953"
             ],
             [
              0.7777777777777778,
              "#fb9f3a"
             ],
             [
              0.8888888888888888,
              "#fdca26"
             ],
             [
              1,
              "#f0f921"
             ]
            ],
            "type": "surface"
           }
          ],
          "table": [
           {
            "cells": {
             "fill": {
              "color": "#EBF0F8"
             },
             "line": {
              "color": "white"
             }
            },
            "header": {
             "fill": {
              "color": "#C8D4E3"
             },
             "line": {
              "color": "white"
             }
            },
            "type": "table"
           }
          ]
         },
         "layout": {
          "annotationdefaults": {
           "arrowcolor": "#2a3f5f",
           "arrowhead": 0,
           "arrowwidth": 1
          },
          "autotypenumbers": "strict",
          "coloraxis": {
           "colorbar": {
            "outlinewidth": 0,
            "ticks": ""
           }
          },
          "colorscale": {
           "diverging": [
            [
             0,
             "#8e0152"
            ],
            [
             0.1,
             "#c51b7d"
            ],
            [
             0.2,
             "#de77ae"
            ],
            [
             0.3,
             "#f1b6da"
            ],
            [
             0.4,
             "#fde0ef"
            ],
            [
             0.5,
             "#f7f7f7"
            ],
            [
             0.6,
             "#e6f5d0"
            ],
            [
             0.7,
             "#b8e186"
            ],
            [
             0.8,
             "#7fbc41"
            ],
            [
             0.9,
             "#4d9221"
            ],
            [
             1,
             "#276419"
            ]
           ],
           "sequential": [
            [
             0,
             "#0d0887"
            ],
            [
             0.1111111111111111,
             "#46039f"
            ],
            [
             0.2222222222222222,
             "#7201a8"
            ],
            [
             0.3333333333333333,
             "#9c179e"
            ],
            [
             0.4444444444444444,
             "#bd3786"
            ],
            [
             0.5555555555555556,
             "#d8576b"
            ],
            [
             0.6666666666666666,
             "#ed7953"
            ],
            [
             0.7777777777777778,
             "#fb9f3a"
            ],
            [
             0.8888888888888888,
             "#fdca26"
            ],
            [
             1,
             "#f0f921"
            ]
           ],
           "sequentialminus": [
            [
             0,
             "#0d0887"
            ],
            [
             0.1111111111111111,
             "#46039f"
            ],
            [
             0.2222222222222222,
             "#7201a8"
            ],
            [
             0.3333333333333333,
             "#9c179e"
            ],
            [
             0.4444444444444444,
             "#bd3786"
            ],
            [
             0.5555555555555556,
             "#d8576b"
            ],
            [
             0.6666666666666666,
             "#ed7953"
            ],
            [
             0.7777777777777778,
             "#fb9f3a"
            ],
            [
             0.8888888888888888,
             "#fdca26"
            ],
            [
             1,
             "#f0f921"
            ]
           ]
          },
          "colorway": [
           "#636efa",
           "#EF553B",
           "#00cc96",
           "#ab63fa",
           "#FFA15A",
           "#19d3f3",
           "#FF6692",
           "#B6E880",
           "#FF97FF",
           "#FECB52"
          ],
          "font": {
           "color": "#2a3f5f"
          },
          "geo": {
           "bgcolor": "white",
           "lakecolor": "white",
           "landcolor": "#E5ECF6",
           "showlakes": true,
           "showland": true,
           "subunitcolor": "white"
          },
          "hoverlabel": {
           "align": "left"
          },
          "hovermode": "closest",
          "mapbox": {
           "style": "light"
          },
          "paper_bgcolor": "white",
          "plot_bgcolor": "#E5ECF6",
          "polar": {
           "angularaxis": {
            "gridcolor": "white",
            "linecolor": "white",
            "ticks": ""
           },
           "bgcolor": "#E5ECF6",
           "radialaxis": {
            "gridcolor": "white",
            "linecolor": "white",
            "ticks": ""
           }
          },
          "scene": {
           "xaxis": {
            "backgroundcolor": "#E5ECF6",
            "gridcolor": "white",
            "gridwidth": 2,
            "linecolor": "white",
            "showbackground": true,
            "ticks": "",
            "zerolinecolor": "white"
           },
           "yaxis": {
            "backgroundcolor": "#E5ECF6",
            "gridcolor": "white",
            "gridwidth": 2,
            "linecolor": "white",
            "showbackground": true,
            "ticks": "",
            "zerolinecolor": "white"
           },
           "zaxis": {
            "backgroundcolor": "#E5ECF6",
            "gridcolor": "white",
            "gridwidth": 2,
            "linecolor": "white",
            "showbackground": true,
            "ticks": "",
            "zerolinecolor": "white"
           }
          },
          "shapedefaults": {
           "line": {
            "color": "#2a3f5f"
           }
          },
          "ternary": {
           "aaxis": {
            "gridcolor": "white",
            "linecolor": "white",
            "ticks": ""
           },
           "baxis": {
            "gridcolor": "white",
            "linecolor": "white",
            "ticks": ""
           },
           "bgcolor": "#E5ECF6",
           "caxis": {
            "gridcolor": "white",
            "linecolor": "white",
            "ticks": ""
           }
          },
          "title": {
           "x": 0.05
          },
          "xaxis": {
           "automargin": true,
           "gridcolor": "white",
           "linecolor": "white",
           "ticks": "",
           "title": {
            "standoff": 15
           },
           "zerolinecolor": "white",
           "zerolinewidth": 2
          },
          "yaxis": {
           "automargin": true,
           "gridcolor": "white",
           "linecolor": "white",
           "ticks": "",
           "title": {
            "standoff": 15
           },
           "zerolinecolor": "white",
           "zerolinewidth": 2
          }
         }
        },
        "title": {
         "text": "Relative Feature Importance"
        },
        "width": 900,
        "xaxis": {
         "range": [
          0,
          0.4
         ]
        }
       }
      },
      "text/html": [
       "<div>                            <div id=\"21e11870-4274-4361-9018-d68efb022b4b\" class=\"plotly-graph-div\" style=\"height:525px; width:900px;\"></div>            <script type=\"text/javascript\">                require([\"plotly\"], function(Plotly) {                    window.PLOTLYENV=window.PLOTLYENV || {};                                    if (document.getElementById(\"21e11870-4274-4361-9018-d68efb022b4b\")) {                    Plotly.newPlot(                        \"21e11870-4274-4361-9018-d68efb022b4b\",                        [{\"marker\": {\"color\": [\"gray\", \"gray\", \"gray\", \"gray\", \"gray\", \"green\", \"green\", \"green\", \"green\", \"green\"], \"opacity\": 0.4}, \"name\": \"feature importance (relative)\", \"orientation\": \"h\", \"type\": \"bar\", \"x\": [0.00338081883921074, 0.0037511856443025893, 0.004347501874171185, 0.004567409711949175, 0.009257315358893825, 0.018513853460542934, 0.035831958901994164, 0.12786722336048012, 0.35645432551618705, 0.3840386115623852], \"y\": [\"Chargecycles  \", \"Avg_Time_Discharging_Lag1  \", \"Number_Times_Restart  \", \"Total_Off_Time  \", \"Avg_Volt_Change_Discharging  \", \"Use_Time  \", \"Avg_Volt_Change_Charging  \", \"Charging_Rate_Lag3  \", \"Charge_Cycle_Time_Below_12  \", \"Discharging_Rate_Lag3  \"]}],                        {\"bargap\": 0.25, \"barmode\": \"group\", \"margin\": {\"l\": 400}, \"template\": {\"data\": {\"bar\": [{\"error_x\": {\"color\": \"#2a3f5f\"}, \"error_y\": {\"color\": \"#2a3f5f\"}, \"marker\": {\"line\": {\"color\": \"#E5ECF6\", \"width\": 0.5}}, \"type\": \"bar\"}], \"barpolar\": [{\"marker\": {\"line\": {\"color\": \"#E5ECF6\", \"width\": 0.5}}, \"type\": \"barpolar\"}], \"carpet\": [{\"aaxis\": {\"endlinecolor\": \"#2a3f5f\", \"gridcolor\": \"white\", \"linecolor\": \"white\", \"minorgridcolor\": \"white\", \"startlinecolor\": \"#2a3f5f\"}, \"baxis\": {\"endlinecolor\": \"#2a3f5f\", \"gridcolor\": \"white\", \"linecolor\": \"white\", \"minorgridcolor\": \"white\", \"startlinecolor\": \"#2a3f5f\"}, \"type\": \"carpet\"}], \"choropleth\": [{\"colorbar\": {\"outlinewidth\": 0, \"ticks\": \"\"}, \"type\": \"choropleth\"}], \"contour\": [{\"colorbar\": {\"outlinewidth\": 0, \"ticks\": \"\"}, \"colorscale\": [[0.0, \"#0d0887\"], [0.1111111111111111, \"#46039f\"], [0.2222222222222222, \"#7201a8\"], [0.3333333333333333, \"#9c179e\"], [0.4444444444444444, \"#bd3786\"], [0.5555555555555556, \"#d8576b\"], [0.6666666666666666, \"#ed7953\"], [0.7777777777777778, \"#fb9f3a\"], [0.8888888888888888, \"#fdca26\"], [1.0, \"#f0f921\"]], \"type\": \"contour\"}], \"contourcarpet\": [{\"colorbar\": {\"outlinewidth\": 0, \"ticks\": \"\"}, \"type\": \"contourcarpet\"}], \"heatmap\": [{\"colorbar\": {\"outlinewidth\": 0, \"ticks\": \"\"}, \"colorscale\": [[0.0, \"#0d0887\"], [0.1111111111111111, \"#46039f\"], [0.2222222222222222, \"#7201a8\"], [0.3333333333333333, \"#9c179e\"], [0.4444444444444444, \"#bd3786\"], [0.5555555555555556, \"#d8576b\"], [0.6666666666666666, \"#ed7953\"], [0.7777777777777778, \"#fb9f3a\"], [0.8888888888888888, \"#fdca26\"], [1.0, \"#f0f921\"]], \"type\": \"heatmap\"}], \"heatmapgl\": [{\"colorbar\": {\"outlinewidth\": 0, \"ticks\": \"\"}, \"colorscale\": [[0.0, \"#0d0887\"], [0.1111111111111111, \"#46039f\"], [0.2222222222222222, \"#7201a8\"], [0.3333333333333333, \"#9c179e\"], [0.4444444444444444, \"#bd3786\"], [0.5555555555555556, \"#d8576b\"], [0.6666666666666666, \"#ed7953\"], [0.7777777777777778, \"#fb9f3a\"], [0.8888888888888888, \"#fdca26\"], [1.0, \"#f0f921\"]], \"type\": \"heatmapgl\"}], \"histogram\": [{\"marker\": {\"colorbar\": {\"outlinewidth\": 0, \"ticks\": \"\"}}, \"type\": \"histogram\"}], \"histogram2d\": [{\"colorbar\": {\"outlinewidth\": 0, \"ticks\": \"\"}, \"colorscale\": [[0.0, \"#0d0887\"], [0.1111111111111111, \"#46039f\"], [0.2222222222222222, \"#7201a8\"], [0.3333333333333333, \"#9c179e\"], [0.4444444444444444, \"#bd3786\"], [0.5555555555555556, \"#d8576b\"], [0.6666666666666666, \"#ed7953\"], [0.7777777777777778, \"#fb9f3a\"], [0.8888888888888888, \"#fdca26\"], [1.0, \"#f0f921\"]], \"type\": \"histogram2d\"}], \"histogram2dcontour\": [{\"colorbar\": {\"outlinewidth\": 0, \"ticks\": \"\"}, \"colorscale\": [[0.0, \"#0d0887\"], [0.1111111111111111, \"#46039f\"], [0.2222222222222222, \"#7201a8\"], [0.3333333333333333, \"#9c179e\"], [0.4444444444444444, \"#bd3786\"], [0.5555555555555556, \"#d8576b\"], [0.6666666666666666, \"#ed7953\"], [0.7777777777777778, \"#fb9f3a\"], [0.8888888888888888, \"#fdca26\"], [1.0, \"#f0f921\"]], \"type\": \"histogram2dcontour\"}], \"mesh3d\": [{\"colorbar\": {\"outlinewidth\": 0, \"ticks\": \"\"}, \"type\": \"mesh3d\"}], \"parcoords\": [{\"line\": {\"colorbar\": {\"outlinewidth\": 0, \"ticks\": \"\"}}, \"type\": \"parcoords\"}], \"pie\": [{\"automargin\": true, \"type\": \"pie\"}], \"scatter\": [{\"marker\": {\"colorbar\": {\"outlinewidth\": 0, \"ticks\": \"\"}}, \"type\": \"scatter\"}], \"scatter3d\": [{\"line\": {\"colorbar\": {\"outlinewidth\": 0, \"ticks\": \"\"}}, \"marker\": {\"colorbar\": {\"outlinewidth\": 0, \"ticks\": \"\"}}, \"type\": \"scatter3d\"}], \"scattercarpet\": [{\"marker\": {\"colorbar\": {\"outlinewidth\": 0, \"ticks\": \"\"}}, \"type\": \"scattercarpet\"}], \"scattergeo\": [{\"marker\": {\"colorbar\": {\"outlinewidth\": 0, \"ticks\": \"\"}}, \"type\": \"scattergeo\"}], \"scattergl\": [{\"marker\": {\"colorbar\": {\"outlinewidth\": 0, \"ticks\": \"\"}}, \"type\": \"scattergl\"}], \"scattermapbox\": [{\"marker\": {\"colorbar\": {\"outlinewidth\": 0, \"ticks\": \"\"}}, \"type\": \"scattermapbox\"}], \"scatterpolar\": [{\"marker\": {\"colorbar\": {\"outlinewidth\": 0, \"ticks\": \"\"}}, \"type\": \"scatterpolar\"}], \"scatterpolargl\": [{\"marker\": {\"colorbar\": {\"outlinewidth\": 0, \"ticks\": \"\"}}, \"type\": \"scatterpolargl\"}], \"scatterternary\": [{\"marker\": {\"colorbar\": {\"outlinewidth\": 0, \"ticks\": \"\"}}, \"type\": \"scatterternary\"}], \"surface\": [{\"colorbar\": {\"outlinewidth\": 0, \"ticks\": \"\"}, \"colorscale\": [[0.0, \"#0d0887\"], [0.1111111111111111, \"#46039f\"], [0.2222222222222222, \"#7201a8\"], [0.3333333333333333, \"#9c179e\"], [0.4444444444444444, \"#bd3786\"], [0.5555555555555556, \"#d8576b\"], [0.6666666666666666, \"#ed7953\"], [0.7777777777777778, \"#fb9f3a\"], [0.8888888888888888, \"#fdca26\"], [1.0, \"#f0f921\"]], \"type\": \"surface\"}], \"table\": [{\"cells\": {\"fill\": {\"color\": \"#EBF0F8\"}, \"line\": {\"color\": \"white\"}}, \"header\": {\"fill\": {\"color\": \"#C8D4E3\"}, \"line\": {\"color\": \"white\"}}, \"type\": \"table\"}]}, \"layout\": {\"annotationdefaults\": {\"arrowcolor\": \"#2a3f5f\", \"arrowhead\": 0, \"arrowwidth\": 1}, \"autotypenumbers\": \"strict\", \"coloraxis\": {\"colorbar\": {\"outlinewidth\": 0, \"ticks\": \"\"}}, \"colorscale\": {\"diverging\": [[0, \"#8e0152\"], [0.1, \"#c51b7d\"], [0.2, \"#de77ae\"], [0.3, \"#f1b6da\"], [0.4, \"#fde0ef\"], [0.5, \"#f7f7f7\"], [0.6, \"#e6f5d0\"], [0.7, \"#b8e186\"], [0.8, \"#7fbc41\"], [0.9, \"#4d9221\"], [1, \"#276419\"]], \"sequential\": [[0.0, \"#0d0887\"], [0.1111111111111111, \"#46039f\"], [0.2222222222222222, \"#7201a8\"], [0.3333333333333333, \"#9c179e\"], [0.4444444444444444, \"#bd3786\"], [0.5555555555555556, \"#d8576b\"], [0.6666666666666666, \"#ed7953\"], [0.7777777777777778, \"#fb9f3a\"], [0.8888888888888888, \"#fdca26\"], [1.0, \"#f0f921\"]], \"sequentialminus\": [[0.0, \"#0d0887\"], [0.1111111111111111, \"#46039f\"], [0.2222222222222222, \"#7201a8\"], [0.3333333333333333, \"#9c179e\"], [0.4444444444444444, \"#bd3786\"], [0.5555555555555556, \"#d8576b\"], [0.6666666666666666, \"#ed7953\"], [0.7777777777777778, \"#fb9f3a\"], [0.8888888888888888, \"#fdca26\"], [1.0, \"#f0f921\"]]}, \"colorway\": [\"#636efa\", \"#EF553B\", \"#00cc96\", \"#ab63fa\", \"#FFA15A\", \"#19d3f3\", \"#FF6692\", \"#B6E880\", \"#FF97FF\", \"#FECB52\"], \"font\": {\"color\": \"#2a3f5f\"}, \"geo\": {\"bgcolor\": \"white\", \"lakecolor\": \"white\", \"landcolor\": \"#E5ECF6\", \"showlakes\": true, \"showland\": true, \"subunitcolor\": \"white\"}, \"hoverlabel\": {\"align\": \"left\"}, \"hovermode\": \"closest\", \"mapbox\": {\"style\": \"light\"}, \"paper_bgcolor\": \"white\", \"plot_bgcolor\": \"#E5ECF6\", \"polar\": {\"angularaxis\": {\"gridcolor\": \"white\", \"linecolor\": \"white\", \"ticks\": \"\"}, \"bgcolor\": \"#E5ECF6\", \"radialaxis\": {\"gridcolor\": \"white\", \"linecolor\": \"white\", \"ticks\": \"\"}}, \"scene\": {\"xaxis\": {\"backgroundcolor\": \"#E5ECF6\", \"gridcolor\": \"white\", \"gridwidth\": 2, \"linecolor\": \"white\", \"showbackground\": true, \"ticks\": \"\", \"zerolinecolor\": \"white\"}, \"yaxis\": {\"backgroundcolor\": \"#E5ECF6\", \"gridcolor\": \"white\", \"gridwidth\": 2, \"linecolor\": \"white\", \"showbackground\": true, \"ticks\": \"\", \"zerolinecolor\": \"white\"}, \"zaxis\": {\"backgroundcolor\": \"#E5ECF6\", \"gridcolor\": \"white\", \"gridwidth\": 2, \"linecolor\": \"white\", \"showbackground\": true, \"ticks\": \"\", \"zerolinecolor\": \"white\"}}, \"shapedefaults\": {\"line\": {\"color\": \"#2a3f5f\"}}, \"ternary\": {\"aaxis\": {\"gridcolor\": \"white\", \"linecolor\": \"white\", \"ticks\": \"\"}, \"baxis\": {\"gridcolor\": \"white\", \"linecolor\": \"white\", \"ticks\": \"\"}, \"bgcolor\": \"#E5ECF6\", \"caxis\": {\"gridcolor\": \"white\", \"linecolor\": \"white\", \"ticks\": \"\"}}, \"title\": {\"x\": 0.05}, \"xaxis\": {\"automargin\": true, \"gridcolor\": \"white\", \"linecolor\": \"white\", \"ticks\": \"\", \"title\": {\"standoff\": 15}, \"zerolinecolor\": \"white\", \"zerolinewidth\": 2}, \"yaxis\": {\"automargin\": true, \"gridcolor\": \"white\", \"linecolor\": \"white\", \"ticks\": \"\", \"title\": {\"standoff\": 15}, \"zerolinecolor\": \"white\", \"zerolinewidth\": 2}}}, \"title\": {\"text\": \"Relative Feature Importance\"}, \"width\": 900, \"xaxis\": {\"range\": [0.0, 0.4]}},                        {\"responsive\": true}                    ).then(function(){\n",
       "                            \n",
       "var gd = document.getElementById('21e11870-4274-4361-9018-d68efb022b4b');\n",
       "var x = new MutationObserver(function (mutations, observer) {{\n",
       "        var display = window.getComputedStyle(gd).display;\n",
       "        if (!display || display === 'none') {{\n",
       "            console.log([gd, 'removed!']);\n",
       "            Plotly.purge(gd);\n",
       "            observer.disconnect();\n",
       "        }}\n",
       "}});\n",
       "\n",
       "// Listen for the removal of the full notebook cells\n",
       "var notebookContainer = gd.closest('#notebook-container');\n",
       "if (notebookContainer) {{\n",
       "    x.observe(notebookContainer, {childList: true});\n",
       "}}\n",
       "\n",
       "// Listen for the clearing of the current output cell\n",
       "var outputEl = gd.closest('.output');\n",
       "if (outputEl) {{\n",
       "    x.observe(outputEl, {childList: true});\n",
       "}}\n",
       "\n",
       "                        })                };                });            </script>        </div>"
      ]
     },
     "metadata": {},
     "output_type": "display_data"
    }
   ],
   "source": [
    "feature_importances = pd.DataFrame(gbdt.feature_importances_, index = X_train.columns, columns = ['importance'])\n",
    "feature_importances = feature_importances.sort_values('importance', ascending = False)\n",
    "\n",
    "colors = [\"gray\"] * 5 + [\"green\"] * 5\n",
    "trace1 = go.Bar(y = [x.title() + \"  \" for x in feature_importances.index[:10][::-1]], \n",
    "                x = feature_importances.importance[:10][::-1], \n",
    "                name = \"feature importance (relative)\",\n",
    "                marker = dict(color = colors, opacity = 0.4), orientation = \"h\")\n",
    "\n",
    "data = [trace1]\n",
    "\n",
    "layout = go.Layout(\n",
    "    margin = dict(l = 400), width = 900,\n",
    "    xaxis = dict(range = (0.0, 0.4)),\n",
    "    title = 'Relative Feature Importance',\n",
    "    barmode = 'group',\n",
    "    bargap = 0.25\n",
    ")\n",
    "fig = go.Figure(data = data, layout = layout)\n",
    "iplot(fig)"
   ]
  },
  {
   "cell_type": "code",
   "execution_count": 134,
   "metadata": {},
   "outputs": [
    {
     "data": {
      "text/html": [
       "<div>\n",
       "<style scoped>\n",
       "    .dataframe tbody tr th:only-of-type {\n",
       "        vertical-align: middle;\n",
       "    }\n",
       "\n",
       "    .dataframe tbody tr th {\n",
       "        vertical-align: top;\n",
       "    }\n",
       "\n",
       "    .dataframe thead th {\n",
       "        text-align: right;\n",
       "    }\n",
       "</style>\n",
       "<table border=\"1\" class=\"dataframe\">\n",
       "  <thead>\n",
       "    <tr style=\"text-align: right;\">\n",
       "      <th></th>\n",
       "      <th>importance</th>\n",
       "    </tr>\n",
       "  </thead>\n",
       "  <tbody>\n",
       "    <tr>\n",
       "      <th>discharging_rate_lag3</th>\n",
       "      <td>0.384039</td>\n",
       "    </tr>\n",
       "    <tr>\n",
       "      <th>charge_cycle_time_below_12</th>\n",
       "      <td>0.356454</td>\n",
       "    </tr>\n",
       "    <tr>\n",
       "      <th>charging_rate_lag3</th>\n",
       "      <td>0.127867</td>\n",
       "    </tr>\n",
       "    <tr>\n",
       "      <th>avg_volt_change_charging</th>\n",
       "      <td>0.035832</td>\n",
       "    </tr>\n",
       "    <tr>\n",
       "      <th>use_time</th>\n",
       "      <td>0.018514</td>\n",
       "    </tr>\n",
       "    <tr>\n",
       "      <th>avg_volt_change_discharging</th>\n",
       "      <td>0.009257</td>\n",
       "    </tr>\n",
       "    <tr>\n",
       "      <th>total_off_time</th>\n",
       "      <td>0.004567</td>\n",
       "    </tr>\n",
       "    <tr>\n",
       "      <th>number_times_restart</th>\n",
       "      <td>0.004348</td>\n",
       "    </tr>\n",
       "    <tr>\n",
       "      <th>avg_time_discharging_lag1</th>\n",
       "      <td>0.003751</td>\n",
       "    </tr>\n",
       "    <tr>\n",
       "      <th>chargecycles</th>\n",
       "      <td>0.003381</td>\n",
       "    </tr>\n",
       "  </tbody>\n",
       "</table>\n",
       "</div>"
      ],
      "text/plain": [
       "                             importance\n",
       "discharging_rate_lag3          0.384039\n",
       "charge_cycle_time_below_12     0.356454\n",
       "charging_rate_lag3             0.127867\n",
       "avg_volt_change_charging       0.035832\n",
       "use_time                       0.018514\n",
       "avg_volt_change_discharging    0.009257\n",
       "total_off_time                 0.004567\n",
       "number_times_restart           0.004348\n",
       "avg_time_discharging_lag1      0.003751\n",
       "chargecycles                   0.003381"
      ]
     },
     "execution_count": 134,
     "metadata": {},
     "output_type": "execute_result"
    }
   ],
   "source": [
    "feature_importances.head(10)"
   ]
  },
  {
   "cell_type": "code",
   "execution_count": 135,
   "metadata": {},
   "outputs": [
    {
     "data": {
      "text/plain": [
       "Text(0.5, 1.0, '15 days average charging time')"
      ]
     },
     "execution_count": 135,
     "metadata": {},
     "output_type": "execute_result"
    },
    {
     "data": {
      "image/png": "[encoded data removed]",
      "text/plain": [
       "<Figure size 432x288 with 1 Axes>"
      ]
     },
     "metadata": {
      "needs_background": "light"
     },
     "output_type": "display_data"
    }
   ],
   "source": [
    "df_eng[['avg_time_charging_lag14', 'avg_time_charging_lag13', 'avg_time_charging_lag12', 'avg_time_charging_lag11',\n",
    "       'avg_time_charging_lag10', 'avg_time_charging_lag9', 'avg_time_charging_lag8', 'avg_time_charging_lag7',\n",
    "       'avg_time_charging_lag6', 'avg_time_charging_lag5', 'avg_time_charging_lag4', 'avg_time_charging_lag3',\n",
    "       'avg_time_charging_lag2', 'avg_time_charging_lag1', 'avg_time_charging']].mean().plot(kind=\"line\")\n",
    "plt.title(\"15 days average charging time\")"
   ]
  },
  {
   "cell_type": "code",
   "execution_count": 136,
   "metadata": {},
   "outputs": [
    {
     "data": {
      "text/plain": [
       "Text(0.5, 1.0, '15 days average discharging time')"
      ]
     },
     "execution_count": 136,
     "metadata": {},
     "output_type": "execute_result"
    },
    {
     "data": {
      "image/png": "[encoded data removed]",
      "text/plain": [
       "<Figure size 432x288 with 1 Axes>"
      ]
     },
     "metadata": {
      "needs_background": "light"
     },
     "output_type": "display_data"
    }
   ],
   "source": [
    "df_eng[['avg_time_discharging_lag14', 'avg_time_discharging_lag13', 'avg_time_discharging_lag12', \n",
    "        'avg_time_discharging_lag11', 'avg_time_discharging_lag10', 'avg_time_discharging_lag9', \n",
    "        'avg_time_discharging_lag8', 'avg_time_discharging_lag7', 'avg_time_discharging_lag6', \n",
    "        'avg_time_discharging_lag5', 'avg_time_discharging_lag4', 'avg_time_discharging_lag3',\n",
    "        'avg_time_discharging_lag2', 'avg_time_discharging_lag1', 'avg_time_discharging']].mean().plot(kind=\"line\")\n",
    "plt.title(\"15 days average discharging time\")"
   ]
  },
  {
   "cell_type": "code",
   "execution_count": 137,
   "metadata": {},
   "outputs": [
    {
     "data": {
      "text/plain": [
       "['discharging_rate_lag3',\n",
       " 'discharging_rate_lag7',\n",
       " 'discharging_rate_lag4',\n",
       " 'discharging_rate_lag5',\n",
       " 'discharging_rate_lag6',\n",
       " 'discharging_rate_lag8']"
      ]
     },
     "execution_count": 137,
     "metadata": {},
     "output_type": "execute_result"
    }
   ],
   "source": [
    "names4"
   ]
  },
  {
   "cell_type": "code",
   "execution_count": 138,
   "metadata": {},
   "outputs": [
    {
     "data": {
      "text/plain": [
       "Text(0.5, 1.0, '5 days average charging rate')"
      ]
     },
     "execution_count": 138,
     "metadata": {},
     "output_type": "execute_result"
    },
    {
     "data": {
      "image/png": "[encoded data removed]",
      "text/plain": [
       "<Figure size 432x288 with 1 Axes>"
      ]
     },
     "metadata": {
      "needs_background": "light"
     },
     "output_type": "display_data"
    }
   ],
   "source": [
    "df_eng[['charging_rate_lag7', 'charging_rate_lag6', 'charging_rate_lag5', \n",
    "        'charging_rate_lag4', 'charging_rate_lag3']].mean().plot(kind=\"line\")\n",
    "plt.title(\"5 days average charging rate\")"
   ]
  },
  {
   "cell_type": "code",
   "execution_count": 139,
   "metadata": {},
   "outputs": [
    {
     "data": {
      "text/plain": [
       "charging_rate_lag7   -0.054938\n",
       "charging_rate_lag6   -0.047585\n",
       "charging_rate_lag5   -0.035044\n",
       "charging_rate_lag4   -0.036337\n",
       "charging_rate_lag3   -0.041191\n",
       "dtype: float64"
      ]
     },
     "execution_count": 139,
     "metadata": {},
     "output_type": "execute_result"
    }
   ],
   "source": [
    "df_eng[['charging_rate_lag7', 'charging_rate_lag6', 'charging_rate_lag5', \n",
    "        'charging_rate_lag4', 'charging_rate_lag3']].mean()"
   ]
  },
  {
   "cell_type": "code",
   "execution_count": 140,
   "metadata": {},
   "outputs": [
    {
     "data": {
      "text/plain": [
       "Text(0.5, 1.0, '6 days average discharging rate')"
      ]
     },
     "execution_count": 140,
     "metadata": {},
     "output_type": "execute_result"
    },
    {
     "data": {
      "image/png": "[encoded data removed]",
      "text/plain": [
       "<Figure size 432x288 with 1 Axes>"
      ]
     },
     "metadata": {
      "needs_background": "light"
     },
     "output_type": "display_data"
    }
   ],
   "source": [
    "df_eng[['discharging_rate_lag8', 'discharging_rate_lag7', 'discharging_rate_lag6', 'discharging_rate_lag5', \n",
    "        'discharging_rate_lag4', 'discharging_rate_lag3']].mean().plot(kind=\"line\")\n",
    "plt.title(\"6 days average discharging rate\")"
   ]
  },
  {
   "cell_type": "code",
   "execution_count": 141,
   "metadata": {},
   "outputs": [
    {
     "data": {
      "text/plain": [
       "discharging_rate_lag8   -0.110093\n",
       "discharging_rate_lag7   -0.108262\n",
       "discharging_rate_lag6   -0.085277\n",
       "discharging_rate_lag5   -0.094984\n",
       "discharging_rate_lag4   -0.099766\n",
       "discharging_rate_lag3   -0.091526\n",
       "dtype: float64"
      ]
     },
     "execution_count": 141,
     "metadata": {},
     "output_type": "execute_result"
    }
   ],
   "source": [
    "df_eng[['discharging_rate_lag8', 'discharging_rate_lag7', 'discharging_rate_lag6', 'discharging_rate_lag5', \n",
    "        'discharging_rate_lag4', 'discharging_rate_lag3']].mean()"
   ]
  },
  {
   "cell_type": "code",
   "execution_count": 143,
   "metadata": {
    "scrolled": true
   },
   "outputs": [
    {
     "data": {
      "text/html": [
       "<div>\n",
       "<style scoped>\n",
       "    .dataframe tbody tr th:only-of-type {\n",
       "        vertical-align: middle;\n",
       "    }\n",
       "\n",
       "    .dataframe tbody tr th {\n",
       "        vertical-align: top;\n",
       "    }\n",
       "\n",
       "    .dataframe thead th {\n",
       "        text-align: right;\n",
       "    }\n",
       "</style>\n",
       "<table border=\"1\" class=\"dataframe\">\n",
       "  <thead>\n",
       "    <tr style=\"text-align: right;\">\n",
       "      <th></th>\n",
       "      <th>avg_time_charging_lag1</th>\n",
       "      <th>avg_time_charging_lag2</th>\n",
       "      <th>avg_time_charging_lag3</th>\n",
       "      <th>avg_time_charging_lag7</th>\n",
       "      <th>charging_rate_lag3</th>\n",
       "      <th>charging_rate_lag7</th>\n",
       "      <th>avg_time_discharging_lag1</th>\n",
       "      <th>avg_time_discharging_lag2</th>\n",
       "      <th>avg_time_discharging_lag3</th>\n",
       "      <th>avg_time_discharging_lag7</th>\n",
       "      <th>...</th>\n",
       "      <th>avg_time_discharging</th>\n",
       "      <th>max_voltage_day</th>\n",
       "      <th>piececount</th>\n",
       "      <th>cycle_time</th>\n",
       "      <th>use_time</th>\n",
       "      <th>fail_7</th>\n",
       "      <th>avg_time_charging_15</th>\n",
       "      <th>avg_time_discharging_15</th>\n",
       "      <th>avg_charging_rate</th>\n",
       "      <th>avg_discharging_rate</th>\n",
       "    </tr>\n",
       "  </thead>\n",
       "  <tbody>\n",
       "    <tr>\n",
       "      <th>0</th>\n",
       "      <td>5.12</td>\n",
       "      <td>41.11</td>\n",
       "      <td>6.56</td>\n",
       "      <td>25.39</td>\n",
       "      <td>0.086667</td>\n",
       "      <td>-0.006667</td>\n",
       "      <td>4.37</td>\n",
       "      <td>91.70</td>\n",
       "      <td>15.70</td>\n",
       "      <td>39.12</td>\n",
       "      <td>...</td>\n",
       "      <td>39.005000</td>\n",
       "      <td>4174.875000</td>\n",
       "      <td>14.200000</td>\n",
       "      <td>60.701250</td>\n",
       "      <td>543</td>\n",
       "      <td>0</td>\n",
       "      <td>20.412950</td>\n",
       "      <td>34.925667</td>\n",
       "      <td>-0.352000</td>\n",
       "      <td>0.121111</td>\n",
       "    </tr>\n",
       "    <tr>\n",
       "      <th>1</th>\n",
       "      <td>36.60</td>\n",
       "      <td>5.16</td>\n",
       "      <td>6.23</td>\n",
       "      <td>6.96</td>\n",
       "      <td>0.136667</td>\n",
       "      <td>-1.296667</td>\n",
       "      <td>62.67</td>\n",
       "      <td>6.53</td>\n",
       "      <td>6.16</td>\n",
       "      <td>8.25</td>\n",
       "      <td>...</td>\n",
       "      <td>32.213571</td>\n",
       "      <td>4161.000000</td>\n",
       "      <td>19.777778</td>\n",
       "      <td>52.097143</td>\n",
       "      <td>522</td>\n",
       "      <td>0</td>\n",
       "      <td>18.356638</td>\n",
       "      <td>28.877038</td>\n",
       "      <td>-0.390667</td>\n",
       "      <td>-1.671667</td>\n",
       "    </tr>\n",
       "    <tr>\n",
       "      <th>2</th>\n",
       "      <td>5.51</td>\n",
       "      <td>5.04</td>\n",
       "      <td>4.52</td>\n",
       "      <td>5.96</td>\n",
       "      <td>-0.460000</td>\n",
       "      <td>-0.083333</td>\n",
       "      <td>5.13</td>\n",
       "      <td>5.65</td>\n",
       "      <td>4.14</td>\n",
       "      <td>14.02</td>\n",
       "      <td>...</td>\n",
       "      <td>20.471429</td>\n",
       "      <td>4152.238095</td>\n",
       "      <td>19.200000</td>\n",
       "      <td>34.146667</td>\n",
       "      <td>518</td>\n",
       "      <td>0</td>\n",
       "      <td>14.409683</td>\n",
       "      <td>21.622095</td>\n",
       "      <td>-0.116667</td>\n",
       "      <td>-0.258333</td>\n",
       "    </tr>\n",
       "    <tr>\n",
       "      <th>3</th>\n",
       "      <td>4.66</td>\n",
       "      <td>39.85</td>\n",
       "      <td>35.76</td>\n",
       "      <td>40.69</td>\n",
       "      <td>0.076667</td>\n",
       "      <td>-0.006667</td>\n",
       "      <td>3.93</td>\n",
       "      <td>76.37</td>\n",
       "      <td>60.86</td>\n",
       "      <td>73.53</td>\n",
       "      <td>...</td>\n",
       "      <td>26.189474</td>\n",
       "      <td>4164.631579</td>\n",
       "      <td>23.625000</td>\n",
       "      <td>42.496316</td>\n",
       "      <td>548</td>\n",
       "      <td>0</td>\n",
       "      <td>15.316456</td>\n",
       "      <td>24.809298</td>\n",
       "      <td>0.368000</td>\n",
       "      <td>-0.008889</td>\n",
       "    </tr>\n",
       "    <tr>\n",
       "      <th>4</th>\n",
       "      <td>5.10</td>\n",
       "      <td>43.24</td>\n",
       "      <td>4.63</td>\n",
       "      <td>5.26</td>\n",
       "      <td>0.040000</td>\n",
       "      <td>-0.153333</td>\n",
       "      <td>4.69</td>\n",
       "      <td>71.44</td>\n",
       "      <td>3.80</td>\n",
       "      <td>6.29</td>\n",
       "      <td>...</td>\n",
       "      <td>30.812000</td>\n",
       "      <td>4169.800000</td>\n",
       "      <td>12.666667</td>\n",
       "      <td>49.609333</td>\n",
       "      <td>566</td>\n",
       "      <td>0</td>\n",
       "      <td>19.706489</td>\n",
       "      <td>32.489467</td>\n",
       "      <td>0.304667</td>\n",
       "      <td>-0.355000</td>\n",
       "    </tr>\n",
       "  </tbody>\n",
       "</table>\n",
       "<p>5 rows × 57 columns</p>\n",
       "</div>"
      ],
      "text/plain": [
       "   avg_time_charging_lag1  avg_time_charging_lag2  avg_time_charging_lag3  \\\n",
       "0                    5.12                   41.11                    6.56   \n",
       "1                   36.60                    5.16                    6.23   \n",
       "2                    5.51                    5.04                    4.52   \n",
       "3                    4.66                   39.85                   35.76   \n",
       "4                    5.10                   43.24                    4.63   \n",
       "\n",
       "   avg_time_charging_lag7  charging_rate_lag3  charging_rate_lag7  \\\n",
       "0                   25.39            0.086667           -0.006667   \n",
       "1                    6.96            0.136667           -1.296667   \n",
       "2                    5.96           -0.460000           -0.083333   \n",
       "3                   40.69            0.076667           -0.006667   \n",
       "4                    5.26            0.040000           -0.153333   \n",
       "\n",
       "   avg_time_discharging_lag1  avg_time_discharging_lag2  \\\n",
       "0                       4.37                      91.70   \n",
       "1                      62.67                       6.53   \n",
       "2                       5.13                       5.65   \n",
       "3                       3.93                      76.37   \n",
       "4                       4.69                      71.44   \n",
       "\n",
       "   avg_time_discharging_lag3  avg_time_discharging_lag7  ...  \\\n",
       "0                      15.70                      39.12  ...   \n",
       "1                       6.16                       8.25  ...   \n",
       "2                       4.14                      14.02  ...   \n",
       "3                      60.86                      73.53  ...   \n",
       "4                       3.80                       6.29  ...   \n",
       "\n",
       "   avg_time_discharging  max_voltage_day  piececount  cycle_time  use_time  \\\n",
       "0             39.005000      4174.875000   14.200000   60.701250       543   \n",
       "1             32.213571      4161.000000   19.777778   52.097143       522   \n",
       "2             20.471429      4152.238095   19.200000   34.146667       518   \n",
       "3             26.189474      4164.631579   23.625000   42.496316       548   \n",
       "4             30.812000      4169.800000   12.666667   49.609333       566   \n",
       "\n",
       "   fail_7  avg_time_charging_15  avg_time_discharging_15  avg_charging_rate  \\\n",
       "0       0             20.412950                34.925667          -0.352000   \n",
       "1       0             18.356638                28.877038          -0.390667   \n",
       "2       0             14.409683                21.622095          -0.116667   \n",
       "3       0             15.316456                24.809298           0.368000   \n",
       "4       0             19.706489                32.489467           0.304667   \n",
       "\n",
       "   avg_discharging_rate  \n",
       "0              0.121111  \n",
       "1             -1.671667  \n",
       "2             -0.258333  \n",
       "3             -0.008889  \n",
       "4             -0.355000  \n",
       "\n",
       "[5 rows x 57 columns]"
      ]
     },
     "execution_count": 143,
     "metadata": {},
     "output_type": "execute_result"
    }
   ],
   "source": [
    "df_eng.head(5)"
   ]
  },
  {
   "cell_type": "code",
   "execution_count": 197,
   "metadata": {},
   "outputs": [
    {
     "data": {
      "text/plain": [
       "Text(0.5, 1, 'avg_time_charging_lag vs charging_rate_lag')"
      ]
     },
     "execution_count": 197,
     "metadata": {},
     "output_type": "execute_result"
    },
    {
     "data": {
      "image/png": "[encoded data removed]",
      "text/plain": [
       "<Figure size 432x288 with 2 Axes>"
      ]
     },
     "metadata": {
      "needs_background": "light"
     },
     "output_type": "display_data"
    }
   ],
   "source": [
    "# Create some mock data\n",
    "data1 = df_eng[['avg_time_charging_lag7',\n",
    "       'avg_time_charging_lag6', 'avg_time_charging_lag5', 'avg_time_charging_lag4', 'avg_time_charging_lag3']].mean()\n",
    "data2 = df_eng[['charging_rate_lag7', 'charging_rate_lag6', 'charging_rate_lag5', \n",
    "        'charging_rate_lag4', 'charging_rate_lag3']].mean()\n",
    "\n",
    "fig, ax1 = plt.subplots()\n",
    "\n",
    "color = 'tab:red'\n",
    "ax1.set_xlabel('lag7-lag3')\n",
    "ax1.set_ylabel('avg_time_charging_lag', color=color)\n",
    "ax1.plot(data1, color=color)\n",
    "ax1.tick_params(axis='y', labelcolor=color)\n",
    "\n",
    "ax2 = ax1.twinx()  # instantiate a second axes that shares the same x-axis\n",
    "\n",
    "color = 'tab:blue'\n",
    "ax2.set_ylabel('charging_rate_lag', color=color)  # we already handled the x-label with ax1\n",
    "ax2.plot(data2, color=color)\n",
    "ax2.tick_params(axis='y', labelcolor=color)\n",
    "\n",
    "fig.tight_layout()  # otherwise the right y-label is slightly clipped\n",
    "plt.title(\"avg_time_charging_lag vs charging_rate_lag\")"
   ]
  },
  {
   "cell_type": "code",
   "execution_count": 198,
   "metadata": {},
   "outputs": [
    {
     "data": {
      "text/plain": [
       "Text(0.5, 1, 'avg_time_discharging_lag vs discharging_rate_lag')"
      ]
     },
     "execution_count": 198,
     "metadata": {},
     "output_type": "execute_result"
    },
    {
     "data": {
      "image/png": "[encoded data removed]",
      "text/plain": [
       "<Figure size 432x288 with 2 Axes>"
      ]
     },
     "metadata": {
      "needs_background": "light"
     },
     "output_type": "display_data"
    }
   ],
   "source": [
    "# Create some mock data\n",
    "data1 = df_eng[['avg_time_discharging_lag8', 'avg_time_discharging_lag7', 'avg_time_discharging_lag6', \n",
    "        'avg_time_discharging_lag5', 'avg_time_discharging_lag4', 'avg_time_discharging_lag3']].mean()\n",
    "data2 = df_eng[['discharging_rate_lag8', 'discharging_rate_lag7', 'discharging_rate_lag6', 'discharging_rate_lag5', \n",
    "        'discharging_rate_lag4', 'discharging_rate_lag3']].mean()\n",
    "\n",
    "fig, ax1 = plt.subplots()\n",
    "\n",
    "color = 'tab:red'\n",
    "ax1.set_xlabel('lag8-lag3')\n",
    "ax1.set_ylabel('avg_time_discharging_lag', color=color)\n",
    "ax1.plot(data1, color=color)\n",
    "ax1.tick_params(axis='y', labelcolor=color)\n",
    "\n",
    "ax2 = ax1.twinx()  # instantiate a second axes that shares the same x-axis\n",
    "\n",
    "color = 'tab:blue'\n",
    "ax2.set_ylabel('discharging_rate_lag', color=color)  # we already handled the x-label with ax1\n",
    "ax2.plot(data2, color=color)\n",
    "ax2.tick_params(axis='y', labelcolor=color)\n",
    "\n",
    "fig.tight_layout()  # otherwise the right y-label is slightly clipped\n",
    "plt.title(\"avg_time_discharging_lag vs discharging_rate_lag\")"
   ]
  },
  {
   "cell_type": "code",
   "execution_count": 160,
   "metadata": {},
   "outputs": [],
   "source": [
    "from sklearn.preprocessing import MinMaxScaler\n",
    "\n",
    "scaler = MinMaxScaler()"
   ]
  },
  {
   "cell_type": "code",
   "execution_count": 161,
   "metadata": {},
   "outputs": [],
   "source": [
    "dfTest = df_eng[['fail_7', \n",
    "                  'charging_rate_lag3', 'discharging_rate_lag3', \n",
    "                  'charge_cycle_time_below_12',\n",
    "                  'avg_volt_change_charging', 'use_time']]"
   ]
  },
  {
   "cell_type": "code",
   "execution_count": 162,
   "metadata": {},
   "outputs": [
    {
     "data": {
      "text/html": [
       "<div>\n",
       "<style scoped>\n",
       "    .dataframe tbody tr th:only-of-type {\n",
       "        vertical-align: middle;\n",
       "    }\n",
       "\n",
       "    .dataframe tbody tr th {\n",
       "        vertical-align: top;\n",
       "    }\n",
       "\n",
       "    .dataframe thead th {\n",
       "        text-align: right;\n",
       "    }\n",
       "</style>\n",
       "<table border=\"1\" class=\"dataframe\">\n",
       "  <thead>\n",
       "    <tr style=\"text-align: right;\">\n",
       "      <th></th>\n",
       "      <th>fail_7</th>\n",
       "      <th>charging_rate_lag3</th>\n",
       "      <th>discharging_rate_lag3</th>\n",
       "      <th>charge_cycle_time_below_12</th>\n",
       "      <th>avg_volt_change_charging</th>\n",
       "      <th>use_time</th>\n",
       "    </tr>\n",
       "  </thead>\n",
       "  <tbody>\n",
       "    <tr>\n",
       "      <th>0</th>\n",
       "      <td>0</td>\n",
       "      <td>0.086667</td>\n",
       "      <td>-1.163333</td>\n",
       "      <td>0.0</td>\n",
       "      <td>377.080000</td>\n",
       "      <td>543</td>\n",
       "    </tr>\n",
       "    <tr>\n",
       "      <th>1</th>\n",
       "      <td>0</td>\n",
       "      <td>0.136667</td>\n",
       "      <td>-0.066667</td>\n",
       "      <td>0.0</td>\n",
       "      <td>350.517857</td>\n",
       "      <td>522</td>\n",
       "    </tr>\n",
       "    <tr>\n",
       "      <th>2</th>\n",
       "      <td>0</td>\n",
       "      <td>-0.460000</td>\n",
       "      <td>-2.643333</td>\n",
       "      <td>0.0</td>\n",
       "      <td>346.113333</td>\n",
       "      <td>518</td>\n",
       "    </tr>\n",
       "    <tr>\n",
       "      <th>3</th>\n",
       "      <td>0</td>\n",
       "      <td>0.076667</td>\n",
       "      <td>-0.166667</td>\n",
       "      <td>0.0</td>\n",
       "      <td>356.184211</td>\n",
       "      <td>548</td>\n",
       "    </tr>\n",
       "    <tr>\n",
       "      <th>4</th>\n",
       "      <td>0</td>\n",
       "      <td>0.040000</td>\n",
       "      <td>0.066667</td>\n",
       "      <td>1.0</td>\n",
       "      <td>370.904000</td>\n",
       "      <td>566</td>\n",
       "    </tr>\n",
       "    <tr>\n",
       "      <th>...</th>\n",
       "      <td>...</td>\n",
       "      <td>...</td>\n",
       "      <td>...</td>\n",
       "      <td>...</td>\n",
       "      <td>...</td>\n",
       "      <td>...</td>\n",
       "    </tr>\n",
       "    <tr>\n",
       "      <th>40495</th>\n",
       "      <td>1</td>\n",
       "      <td>-0.083333</td>\n",
       "      <td>-0.160000</td>\n",
       "      <td>1.0</td>\n",
       "      <td>365.399130</td>\n",
       "      <td>574</td>\n",
       "    </tr>\n",
       "    <tr>\n",
       "      <th>40496</th>\n",
       "      <td>1</td>\n",
       "      <td>0.016667</td>\n",
       "      <td>0.533333</td>\n",
       "      <td>1.0</td>\n",
       "      <td>378.554667</td>\n",
       "      <td>561</td>\n",
       "    </tr>\n",
       "    <tr>\n",
       "      <th>40497</th>\n",
       "      <td>1</td>\n",
       "      <td>-0.020000</td>\n",
       "      <td>0.006667</td>\n",
       "      <td>1.0</td>\n",
       "      <td>345.429091</td>\n",
       "      <td>531</td>\n",
       "    </tr>\n",
       "    <tr>\n",
       "      <th>40498</th>\n",
       "      <td>0</td>\n",
       "      <td>-0.103333</td>\n",
       "      <td>0.036667</td>\n",
       "      <td>1.0</td>\n",
       "      <td>364.964000</td>\n",
       "      <td>547</td>\n",
       "    </tr>\n",
       "    <tr>\n",
       "      <th>40499</th>\n",
       "      <td>1</td>\n",
       "      <td>0.033333</td>\n",
       "      <td>-0.026667</td>\n",
       "      <td>1.0</td>\n",
       "      <td>345.897727</td>\n",
       "      <td>563</td>\n",
       "    </tr>\n",
       "  </tbody>\n",
       "</table>\n",
       "<p>37891 rows × 6 columns</p>\n",
       "</div>"
      ],
      "text/plain": [
       "       fail_7  charging_rate_lag3  discharging_rate_lag3  \\\n",
       "0           0            0.086667              -1.163333   \n",
       "1           0            0.136667              -0.066667   \n",
       "2           0           -0.460000              -2.643333   \n",
       "3           0            0.076667              -0.166667   \n",
       "4           0            0.040000               0.066667   \n",
       "...       ...                 ...                    ...   \n",
       "40495       1           -0.083333              -0.160000   \n",
       "40496       1            0.016667               0.533333   \n",
       "40497       1           -0.020000               0.006667   \n",
       "40498       0           -0.103333               0.036667   \n",
       "40499       1            0.033333              -0.026667   \n",
       "\n",
       "       charge_cycle_time_below_12  avg_volt_change_charging  use_time  \n",
       "0                             0.0                377.080000       543  \n",
       "1                             0.0                350.517857       522  \n",
       "2                             0.0                346.113333       518  \n",
       "3                             0.0                356.184211       548  \n",
       "4                             1.0                370.904000       566  \n",
       "...                           ...                       ...       ...  \n",
       "40495                         1.0                365.399130       574  \n",
       "40496                         1.0                378.554667       561  \n",
       "40497                         1.0                345.429091       531  \n",
       "40498                         1.0                364.964000       547  \n",
       "40499                         1.0                345.897727       563  \n",
       "\n",
       "[37891 rows x 6 columns]"
      ]
     },
     "execution_count": 162,
     "metadata": {},
     "output_type": "execute_result"
    }
   ],
   "source": [
    "dfTest"
   ]
  },
  {
   "cell_type": "code",
   "execution_count": 163,
   "metadata": {},
   "outputs": [],
   "source": [
    "dfTest[['fail_7', \n",
    "                  'charging_rate_lag3', 'discharging_rate_lag3', \n",
    "                  'charge_cycle_time_below_12',\n",
    "                  'avg_volt_change_charging', 'use_time']] = scaler.fit_transform(dfTest[['fail_7', \n",
    "                  'charging_rate_lag3', 'discharging_rate_lag3', \n",
    "                  'charge_cycle_time_below_12',\n",
    "                  'avg_volt_change_charging','use_time']])"
   ]
  },
  {
   "cell_type": "code",
   "execution_count": 164,
   "metadata": {},
   "outputs": [
    {
     "data": {
      "text/html": [
       "<div>\n",
       "<style scoped>\n",
       "    .dataframe tbody tr th:only-of-type {\n",
       "        vertical-align: middle;\n",
       "    }\n",
       "\n",
       "    .dataframe tbody tr th {\n",
       "        vertical-align: top;\n",
       "    }\n",
       "\n",
       "    .dataframe thead th {\n",
       "        text-align: right;\n",
       "    }\n",
       "</style>\n",
       "<table border=\"1\" class=\"dataframe\">\n",
       "  <thead>\n",
       "    <tr style=\"text-align: right;\">\n",
       "      <th></th>\n",
       "      <th>fail_7</th>\n",
       "      <th>charging_rate_lag3</th>\n",
       "      <th>discharging_rate_lag3</th>\n",
       "      <th>charge_cycle_time_below_12</th>\n",
       "      <th>avg_volt_change_charging</th>\n",
       "      <th>use_time</th>\n",
       "    </tr>\n",
       "  </thead>\n",
       "  <tbody>\n",
       "    <tr>\n",
       "      <th>0</th>\n",
       "      <td>0.0</td>\n",
       "      <td>0.890524</td>\n",
       "      <td>0.365791</td>\n",
       "      <td>0.0</td>\n",
       "      <td>0.683110</td>\n",
       "      <td>0.686567</td>\n",
       "    </tr>\n",
       "    <tr>\n",
       "      <th>1</th>\n",
       "      <td>0.0</td>\n",
       "      <td>0.891102</td>\n",
       "      <td>0.384668</td>\n",
       "      <td>0.0</td>\n",
       "      <td>0.434650</td>\n",
       "      <td>0.582090</td>\n",
       "    </tr>\n",
       "    <tr>\n",
       "      <th>2</th>\n",
       "      <td>0.0</td>\n",
       "      <td>0.884205</td>\n",
       "      <td>0.340314</td>\n",
       "      <td>0.0</td>\n",
       "      <td>0.393450</td>\n",
       "      <td>0.562189</td>\n",
       "    </tr>\n",
       "    <tr>\n",
       "      <th>3</th>\n",
       "      <td>0.0</td>\n",
       "      <td>0.890409</td>\n",
       "      <td>0.382947</td>\n",
       "      <td>0.0</td>\n",
       "      <td>0.487652</td>\n",
       "      <td>0.711443</td>\n",
       "    </tr>\n",
       "    <tr>\n",
       "      <th>4</th>\n",
       "      <td>0.0</td>\n",
       "      <td>0.889985</td>\n",
       "      <td>0.386964</td>\n",
       "      <td>1.0</td>\n",
       "      <td>0.625340</td>\n",
       "      <td>0.800995</td>\n",
       "    </tr>\n",
       "    <tr>\n",
       "      <th>...</th>\n",
       "      <td>...</td>\n",
       "      <td>...</td>\n",
       "      <td>...</td>\n",
       "      <td>...</td>\n",
       "      <td>...</td>\n",
       "      <td>...</td>\n",
       "    </tr>\n",
       "    <tr>\n",
       "      <th>40495</th>\n",
       "      <td>1.0</td>\n",
       "      <td>0.888559</td>\n",
       "      <td>0.383062</td>\n",
       "      <td>1.0</td>\n",
       "      <td>0.573848</td>\n",
       "      <td>0.840796</td>\n",
       "    </tr>\n",
       "    <tr>\n",
       "      <th>40496</th>\n",
       "      <td>1.0</td>\n",
       "      <td>0.889715</td>\n",
       "      <td>0.394997</td>\n",
       "      <td>1.0</td>\n",
       "      <td>0.696904</td>\n",
       "      <td>0.776119</td>\n",
       "    </tr>\n",
       "    <tr>\n",
       "      <th>40497</th>\n",
       "      <td>1.0</td>\n",
       "      <td>0.889291</td>\n",
       "      <td>0.385931</td>\n",
       "      <td>1.0</td>\n",
       "      <td>0.387050</td>\n",
       "      <td>0.626866</td>\n",
       "    </tr>\n",
       "    <tr>\n",
       "      <th>40498</th>\n",
       "      <td>0.0</td>\n",
       "      <td>0.888328</td>\n",
       "      <td>0.386447</td>\n",
       "      <td>1.0</td>\n",
       "      <td>0.569778</td>\n",
       "      <td>0.706468</td>\n",
       "    </tr>\n",
       "    <tr>\n",
       "      <th>40499</th>\n",
       "      <td>1.0</td>\n",
       "      <td>0.889908</td>\n",
       "      <td>0.385357</td>\n",
       "      <td>1.0</td>\n",
       "      <td>0.391433</td>\n",
       "      <td>0.786070</td>\n",
       "    </tr>\n",
       "  </tbody>\n",
       "</table>\n",
       "<p>37891 rows × 6 columns</p>\n",
       "</div>"
      ],
      "text/plain": [
       "       fail_7  charging_rate_lag3  discharging_rate_lag3  \\\n",
       "0         0.0            0.890524               0.365791   \n",
       "1         0.0            0.891102               0.384668   \n",
       "2         0.0            0.884205               0.340314   \n",
       "3         0.0            0.890409               0.382947   \n",
       "4         0.0            0.889985               0.386964   \n",
       "...       ...                 ...                    ...   \n",
       "40495     1.0            0.888559               0.383062   \n",
       "40496     1.0            0.889715               0.394997   \n",
       "40497     1.0            0.889291               0.385931   \n",
       "40498     0.0            0.888328               0.386447   \n",
       "40499     1.0            0.889908               0.385357   \n",
       "\n",
       "       charge_cycle_time_below_12  avg_volt_change_charging  use_time  \n",
       "0                             0.0                  0.683110  0.686567  \n",
       "1                             0.0                  0.434650  0.582090  \n",
       "2                             0.0                  0.393450  0.562189  \n",
       "3                             0.0                  0.487652  0.711443  \n",
       "4                             1.0                  0.625340  0.800995  \n",
       "...                           ...                       ...       ...  \n",
       "40495                         1.0                  0.573848  0.840796  \n",
       "40496                         1.0                  0.696904  0.776119  \n",
       "40497                         1.0                  0.387050  0.626866  \n",
       "40498                         1.0                  0.569778  0.706468  \n",
       "40499                         1.0                  0.391433  0.786070  \n",
       "\n",
       "[37891 rows x 6 columns]"
      ]
     },
     "execution_count": 164,
     "metadata": {},
     "output_type": "execute_result"
    }
   ],
   "source": [
    "dfTest"
   ]
  },
  {
   "cell_type": "code",
   "execution_count": 165,
   "metadata": {},
   "outputs": [
    {
     "data": {
      "text/plain": [
       "<seaborn.axisgrid.PairGrid at 0x1d301770978>"
      ]
     },
     "execution_count": 165,
     "metadata": {},
     "output_type": "execute_result"
    },
    {
     "data": {
      "image/png": "[encoded data removed]",
      "text/plain": [
       "<Figure size 951.875x900 with 30 Axes>"
      ]
     },
     "metadata": {
      "needs_background": "light"
     },
     "output_type": "display_data"
    }
   ],
   "source": [
    "sns.pairplot(dfTest, hue = \"fail_7\", plot_kws=dict(alpha=0.1), diag_kind = \"hist\")"
   ]
  },
  {
   "cell_type": "code",
   "execution_count": 166,
   "metadata": {},
   "outputs": [],
   "source": [
    "# Load libraries\n",
    "\n",
    "from sklearn.model_selection import cross_val_score\n",
    "from sklearn.model_selection import StratifiedKFold\n",
    "#from sklearn.metrics import classification_report\n",
    "#from sklearn.metrics import confusion_matrix\n",
    "#from sklearn.metrics import accuracy_score\n",
    "from sklearn.linear_model import LogisticRegression\n",
    "from sklearn.naive_bayes import GaussianNB\n",
    "from sklearn.neighbors import KNeighborsClassifier\n",
    "from sklearn.svm import SVC\n",
    "from sklearn.ensemble import GradientBoostingClassifier\n",
    "\n",
    "\n",
    "\n",
    "\n",
    "# Spot Check Algorithms\n",
    "models = []\n",
    "\n",
    "\n",
    "# Gaussian Naive Bayes\n",
    "models.append(('NB', GaussianNB())) \n",
    "\n",
    "\n",
    "# Logistic regression\n",
    "models.append(('LR', LogisticRegression(solver='liblinear', multi_class='ovr')))\n",
    "\n",
    "#KNN\n",
    "models.append(('KNN',KNeighborsClassifier()))\n",
    "\n",
    "#Kernalize SVM\n",
    "models.append(('SVM',SVC()))\n",
    "\n",
    "#GBDT\n",
    "models.append(('GBDT', GradientBoostingClassifier(random_state=0)))\n"
   ]
  },
  {
   "cell_type": "code",
   "execution_count": 167,
   "metadata": {},
   "outputs": [],
   "source": [
    "#pip install joblib\n",
    "from joblib import parallel_backend"
   ]
  },
  {
   "cell_type": "code",
   "execution_count": 168,
   "metadata": {},
   "outputs": [
    {
     "name": "stdout",
     "output_type": "stream",
     "text": [
      "NB: 0.626930 (0.004786)\n",
      "LR: 0.772189 (0.001611)\n",
      "KNN: 0.728564 (0.003349)\n",
      "SVM: 0.772109 (0.000012)\n",
      "GBDT: 0.815867 (0.002132)\n"
     ]
    }
   ],
   "source": [
    "# evaluate each model in turn\n",
    "#split into 5 for cross validation \n",
    "\n",
    "#For int/None inputs, if the estimator is a classifier and y is either binary or multiclass, StratifiedKFold is used. In all other cases, KFold is used.\n",
    "results = []\n",
    "names = []\n",
    "with parallel_backend('threading', n_jobs=-1):\n",
    "    for name,model in models:\n",
    "        kfold = StratifiedKFold(n_splits=5, random_state=0,shuffle=True)\n",
    "        cv_results = cross_val_score(model, \n",
    "                                     X_train,\n",
    "                                     Y_train, cv=kfold, scoring='accuracy')\n",
    "        results.append(cv_results)\n",
    "        names.append(name)\n",
    "        print('%s: %f (%f)' % (name,cv_results.mean(),cv_results.std()))"
   ]
  },
  {
   "cell_type": "code",
   "execution_count": 169,
   "metadata": {},
   "outputs": [
    {
     "data": {
      "image/png": "[encoded data removed]",
      "text/plain": [
       "<Figure size 1080x432 with 1 Axes>"
      ]
     },
     "metadata": {
      "needs_background": "light"
     },
     "output_type": "display_data"
    }
   ],
   "source": [
    "# Compare Algorithms\n",
    "fig,ax = plt.subplots(figsize=(15,6))\n",
    "ax.boxplot(results, labels=names)\n",
    "plt.title('Algorithm Comparison')\n",
    "plt.show() \n",
    "#USE GBDT AS EVALUATION METHOD FOR NOW"
   ]
  },
  {
   "cell_type": "code",
   "execution_count": 171,
   "metadata": {},
   "outputs": [],
   "source": [
    "core_features=['discharging_rate_lag3','charge_cycle_time_below_12','charging_rate_lag3','avg_volt_change_charging', \n",
    "               'use_time']\n",
    "\n",
    "X_train_core=X_train[core_features]\n",
    "\n",
    "gbdt=GradientBoostingClassifier(random_state=0)\n",
    "\n",
    "\n",
    "with parallel_backend('threading', n_jobs=-1):\n",
    "    score_record=cross_val_score(gbdt,X_train_core,Y_train,cv=StratifiedKFold(n_splits=5, random_state=0,shuffle=True),scoring='accuracy').mean()"
   ]
  },
  {
   "cell_type": "code",
   "execution_count": 172,
   "metadata": {},
   "outputs": [
    {
     "data": {
      "text/html": [
       "<div>\n",
       "<style scoped>\n",
       "    .dataframe tbody tr th:only-of-type {\n",
       "        vertical-align: middle;\n",
       "    }\n",
       "\n",
       "    .dataframe tbody tr th {\n",
       "        vertical-align: top;\n",
       "    }\n",
       "\n",
       "    .dataframe thead th {\n",
       "        text-align: right;\n",
       "    }\n",
       "</style>\n",
       "<table border=\"1\" class=\"dataframe\">\n",
       "  <thead>\n",
       "    <tr style=\"text-align: right;\">\n",
       "      <th></th>\n",
       "      <th>discharging_rate_lag3</th>\n",
       "      <th>charge_cycle_time_below_12</th>\n",
       "      <th>charging_rate_lag3</th>\n",
       "      <th>avg_volt_change_charging</th>\n",
       "      <th>use_time</th>\n",
       "    </tr>\n",
       "  </thead>\n",
       "  <tbody>\n",
       "    <tr>\n",
       "      <th>0</th>\n",
       "      <td>-1.163333</td>\n",
       "      <td>0.0</td>\n",
       "      <td>0.086667</td>\n",
       "      <td>377.080000</td>\n",
       "      <td>543</td>\n",
       "    </tr>\n",
       "    <tr>\n",
       "      <th>1</th>\n",
       "      <td>-0.066667</td>\n",
       "      <td>0.0</td>\n",
       "      <td>0.136667</td>\n",
       "      <td>350.517857</td>\n",
       "      <td>522</td>\n",
       "    </tr>\n",
       "    <tr>\n",
       "      <th>2</th>\n",
       "      <td>-2.643333</td>\n",
       "      <td>0.0</td>\n",
       "      <td>-0.460000</td>\n",
       "      <td>346.113333</td>\n",
       "      <td>518</td>\n",
       "    </tr>\n",
       "    <tr>\n",
       "      <th>3</th>\n",
       "      <td>-0.166667</td>\n",
       "      <td>0.0</td>\n",
       "      <td>0.076667</td>\n",
       "      <td>356.184211</td>\n",
       "      <td>548</td>\n",
       "    </tr>\n",
       "    <tr>\n",
       "      <th>4</th>\n",
       "      <td>0.066667</td>\n",
       "      <td>1.0</td>\n",
       "      <td>0.040000</td>\n",
       "      <td>370.904000</td>\n",
       "      <td>566</td>\n",
       "    </tr>\n",
       "  </tbody>\n",
       "</table>\n",
       "</div>"
      ],
      "text/plain": [
       "   discharging_rate_lag3  charge_cycle_time_below_12  charging_rate_lag3  \\\n",
       "0              -1.163333                         0.0            0.086667   \n",
       "1              -0.066667                         0.0            0.136667   \n",
       "2              -2.643333                         0.0           -0.460000   \n",
       "3              -0.166667                         0.0            0.076667   \n",
       "4               0.066667                         1.0            0.040000   \n",
       "\n",
       "   avg_volt_change_charging  use_time  \n",
       "0                377.080000       543  \n",
       "1                350.517857       522  \n",
       "2                346.113333       518  \n",
       "3                356.184211       548  \n",
       "4                370.904000       566  "
      ]
     },
     "execution_count": 172,
     "metadata": {},
     "output_type": "execute_result"
    }
   ],
   "source": [
    "X_train_core.head()"
   ]
  },
  {
   "cell_type": "code",
   "execution_count": 173,
   "metadata": {},
   "outputs": [
    {
     "data": {
      "text/plain": [
       "0.8165790786594801"
      ]
     },
     "execution_count": 173,
     "metadata": {},
     "output_type": "execute_result"
    }
   ],
   "source": [
    "# 5 core\n",
    "score_record"
   ]
  },
  {
   "cell_type": "code",
   "execution_count": 174,
   "metadata": {},
   "outputs": [],
   "source": [
    "X_train['dummy_12_disratelag3'] = X_train['charge_cycle_time_below_12']*X_train['discharging_rate_lag3']"
   ]
  },
  {
   "cell_type": "code",
   "execution_count": 175,
   "metadata": {},
   "outputs": [],
   "source": [
    "X_train['dummy_12_avgvoltchangecharging'] = X_train['charge_cycle_time_below_12']*X_train['avg_volt_change_charging']"
   ]
  },
  {
   "cell_type": "code",
   "execution_count": 179,
   "metadata": {},
   "outputs": [],
   "source": [
    "core_features_dummy1=['discharging_rate_lag3','charge_cycle_time_below_12','charging_rate_lag3','avg_volt_change_charging',\n",
    "                     'use_time',\n",
    "                     'dummy_12_disratelag3']\n",
    "\n",
    "X_train_core_dummy1=X_train[core_features_dummy1]\n",
    "\n",
    "gbdt=GradientBoostingClassifier(random_state=0)\n",
    "\n",
    "\n",
    "with parallel_backend('threading', n_jobs=-1):\n",
    "    score_record=cross_val_score(gbdt,X_train_core_dummy1,Y_train,cv=StratifiedKFold(n_splits=5, random_state=0,shuffle=True),scoring='accuracy').mean()"
   ]
  },
  {
   "cell_type": "code",
   "execution_count": 180,
   "metadata": {},
   "outputs": [
    {
     "data": {
      "text/html": [
       "<div>\n",
       "<style scoped>\n",
       "    .dataframe tbody tr th:only-of-type {\n",
       "        vertical-align: middle;\n",
       "    }\n",
       "\n",
       "    .dataframe tbody tr th {\n",
       "        vertical-align: top;\n",
       "    }\n",
       "\n",
       "    .dataframe thead th {\n",
       "        text-align: right;\n",
       "    }\n",
       "</style>\n",
       "<table border=\"1\" class=\"dataframe\">\n",
       "  <thead>\n",
       "    <tr style=\"text-align: right;\">\n",
       "      <th></th>\n",
       "      <th>discharging_rate_lag3</th>\n",
       "      <th>charge_cycle_time_below_12</th>\n",
       "      <th>charging_rate_lag3</th>\n",
       "      <th>avg_volt_change_charging</th>\n",
       "      <th>use_time</th>\n",
       "      <th>dummy_12_disratelag3</th>\n",
       "    </tr>\n",
       "  </thead>\n",
       "  <tbody>\n",
       "    <tr>\n",
       "      <th>0</th>\n",
       "      <td>-1.163333</td>\n",
       "      <td>0.0</td>\n",
       "      <td>0.086667</td>\n",
       "      <td>377.080000</td>\n",
       "      <td>543</td>\n",
       "      <td>-0.000000</td>\n",
       "    </tr>\n",
       "    <tr>\n",
       "      <th>1</th>\n",
       "      <td>-0.066667</td>\n",
       "      <td>0.0</td>\n",
       "      <td>0.136667</td>\n",
       "      <td>350.517857</td>\n",
       "      <td>522</td>\n",
       "      <td>-0.000000</td>\n",
       "    </tr>\n",
       "    <tr>\n",
       "      <th>2</th>\n",
       "      <td>-2.643333</td>\n",
       "      <td>0.0</td>\n",
       "      <td>-0.460000</td>\n",
       "      <td>346.113333</td>\n",
       "      <td>518</td>\n",
       "      <td>-0.000000</td>\n",
       "    </tr>\n",
       "    <tr>\n",
       "      <th>3</th>\n",
       "      <td>-0.166667</td>\n",
       "      <td>0.0</td>\n",
       "      <td>0.076667</td>\n",
       "      <td>356.184211</td>\n",
       "      <td>548</td>\n",
       "      <td>-0.000000</td>\n",
       "    </tr>\n",
       "    <tr>\n",
       "      <th>4</th>\n",
       "      <td>0.066667</td>\n",
       "      <td>1.0</td>\n",
       "      <td>0.040000</td>\n",
       "      <td>370.904000</td>\n",
       "      <td>566</td>\n",
       "      <td>0.066667</td>\n",
       "    </tr>\n",
       "  </tbody>\n",
       "</table>\n",
       "</div>"
      ],
      "text/plain": [
       "   discharging_rate_lag3  charge_cycle_time_below_12  charging_rate_lag3  \\\n",
       "0              -1.163333                         0.0            0.086667   \n",
       "1              -0.066667                         0.0            0.136667   \n",
       "2              -2.643333                         0.0           -0.460000   \n",
       "3              -0.166667                         0.0            0.076667   \n",
       "4               0.066667                         1.0            0.040000   \n",
       "\n",
       "   avg_volt_change_charging  use_time  dummy_12_disratelag3  \n",
       "0                377.080000       543             -0.000000  \n",
       "1                350.517857       522             -0.000000  \n",
       "2                346.113333       518             -0.000000  \n",
       "3                356.184211       548             -0.000000  \n",
       "4                370.904000       566              0.066667  "
      ]
     },
     "execution_count": 180,
     "metadata": {},
     "output_type": "execute_result"
    }
   ],
   "source": [
    "X_train_core_dummy1.head()"
   ]
  },
  {
   "cell_type": "code",
   "execution_count": 181,
   "metadata": {},
   "outputs": [
    {
     "data": {
      "text/plain": [
       "0.8169221805846195"
      ]
     },
     "execution_count": 181,
     "metadata": {},
     "output_type": "execute_result"
    }
   ],
   "source": [
    "# 5 core + 1 dummy\n",
    "score_record"
   ]
  },
  {
   "cell_type": "code",
   "execution_count": 182,
   "metadata": {},
   "outputs": [],
   "source": [
    "core_features_dummy2=['discharging_rate_lag3','charge_cycle_time_below_12','charging_rate_lag3','avg_volt_change_charging',\n",
    "                     'use_time',\n",
    "                     'dummy_12_disratelag3', 'dummy_12_avgvoltchangecharging']\n",
    "\n",
    "X_train_core_dummy2=X_train[core_features_dummy2]\n",
    "\n",
    "gbdt=GradientBoostingClassifier(random_state=0)\n",
    "\n",
    "\n",
    "with parallel_backend('threading', n_jobs=-1):\n",
    "    score_record=cross_val_score(gbdt,X_train_core_dummy2,Y_train,cv=StratifiedKFold(n_splits=5, random_state=0,shuffle=True),scoring='accuracy').mean()"
   ]
  },
  {
   "cell_type": "code",
   "execution_count": 183,
   "metadata": {},
   "outputs": [
    {
     "data": {
      "text/html": [
       "<div>\n",
       "<style scoped>\n",
       "    .dataframe tbody tr th:only-of-type {\n",
       "        vertical-align: middle;\n",
       "    }\n",
       "\n",
       "    .dataframe tbody tr th {\n",
       "        vertical-align: top;\n",
       "    }\n",
       "\n",
       "    .dataframe thead th {\n",
       "        text-align: right;\n",
       "    }\n",
       "</style>\n",
       "<table border=\"1\" class=\"dataframe\">\n",
       "  <thead>\n",
       "    <tr style=\"text-align: right;\">\n",
       "      <th></th>\n",
       "      <th>discharging_rate_lag3</th>\n",
       "      <th>charge_cycle_time_below_12</th>\n",
       "      <th>charging_rate_lag3</th>\n",
       "      <th>avg_volt_change_charging</th>\n",
       "      <th>use_time</th>\n",
       "      <th>dummy_12_disratelag3</th>\n",
       "      <th>dummy_12_avgvoltchangecharging</th>\n",
       "    </tr>\n",
       "  </thead>\n",
       "  <tbody>\n",
       "    <tr>\n",
       "      <th>0</th>\n",
       "      <td>-1.163333</td>\n",
       "      <td>0.0</td>\n",
       "      <td>0.086667</td>\n",
       "      <td>377.080000</td>\n",
       "      <td>543</td>\n",
       "      <td>-0.000000</td>\n",
       "      <td>0.000</td>\n",
       "    </tr>\n",
       "    <tr>\n",
       "      <th>1</th>\n",
       "      <td>-0.066667</td>\n",
       "      <td>0.0</td>\n",
       "      <td>0.136667</td>\n",
       "      <td>350.517857</td>\n",
       "      <td>522</td>\n",
       "      <td>-0.000000</td>\n",
       "      <td>0.000</td>\n",
       "    </tr>\n",
       "    <tr>\n",
       "      <th>2</th>\n",
       "      <td>-2.643333</td>\n",
       "      <td>0.0</td>\n",
       "      <td>-0.460000</td>\n",
       "      <td>346.113333</td>\n",
       "      <td>518</td>\n",
       "      <td>-0.000000</td>\n",
       "      <td>0.000</td>\n",
       "    </tr>\n",
       "    <tr>\n",
       "      <th>3</th>\n",
       "      <td>-0.166667</td>\n",
       "      <td>0.0</td>\n",
       "      <td>0.076667</td>\n",
       "      <td>356.184211</td>\n",
       "      <td>548</td>\n",
       "      <td>-0.000000</td>\n",
       "      <td>0.000</td>\n",
       "    </tr>\n",
       "    <tr>\n",
       "      <th>4</th>\n",
       "      <td>0.066667</td>\n",
       "      <td>1.0</td>\n",
       "      <td>0.040000</td>\n",
       "      <td>370.904000</td>\n",
       "      <td>566</td>\n",
       "      <td>0.066667</td>\n",
       "      <td>370.904</td>\n",
       "    </tr>\n",
       "  </tbody>\n",
       "</table>\n",
       "</div>"
      ],
      "text/plain": [
       "   discharging_rate_lag3  charge_cycle_time_below_12  charging_rate_lag3  \\\n",
       "0              -1.163333                         0.0            0.086667   \n",
       "1              -0.066667                         0.0            0.136667   \n",
       "2              -2.643333                         0.0           -0.460000   \n",
       "3              -0.166667                         0.0            0.076667   \n",
       "4               0.066667                         1.0            0.040000   \n",
       "\n",
       "   avg_volt_change_charging  use_time  dummy_12_disratelag3  \\\n",
       "0                377.080000       543             -0.000000   \n",
       "1                350.517857       522             -0.000000   \n",
       "2                346.113333       518             -0.000000   \n",
       "3                356.184211       548             -0.000000   \n",
       "4                370.904000       566              0.066667   \n",
       "\n",
       "   dummy_12_avgvoltchangecharging  \n",
       "0                           0.000  \n",
       "1                           0.000  \n",
       "2                           0.000  \n",
       "3                           0.000  \n",
       "4                         370.904  "
      ]
     },
     "execution_count": 183,
     "metadata": {},
     "output_type": "execute_result"
    }
   ],
   "source": [
    "X_train_core_dummy2.head()"
   ]
  },
  {
   "cell_type": "code",
   "execution_count": 184,
   "metadata": {},
   "outputs": [
    {
     "data": {
      "text/plain": [
       "0.8170805232652587"
      ]
     },
     "execution_count": 184,
     "metadata": {},
     "output_type": "execute_result"
    }
   ],
   "source": [
    "# 5 core + 2 dummies\n",
    "score_record"
   ]
  },
  {
   "cell_type": "code",
   "execution_count": 186,
   "metadata": {},
   "outputs": [],
   "source": [
    "core_features_dummy2_1=['discharging_rate_lag3','charge_cycle_time_below_12','charging_rate_lag3','avg_volt_change_charging',\n",
    "                     'use_time',\n",
    "                     'dummy_12_disratelag3', 'dummy_12_avgvoltchangecharging',\n",
    "                    'avg_time_discharging_lag1']\n",
    "\n",
    "X_train_eng_core_dummy2_1=X_train[core_features_dummy2_1]\n",
    "\n",
    "gbdt=GradientBoostingClassifier(random_state=0)\n",
    "\n",
    "\n",
    "with parallel_backend('threading', n_jobs=-1):\n",
    "    score_record=cross_val_score(gbdt,X_train_eng_core_dummy2_1,Y_train,cv=StratifiedKFold(n_splits=5, random_state=0,shuffle=True),scoring='accuracy').mean()"
   ]
  },
  {
   "cell_type": "code",
   "execution_count": 187,
   "metadata": {},
   "outputs": [
    {
     "data": {
      "text/html": [
       "<div>\n",
       "<style scoped>\n",
       "    .dataframe tbody tr th:only-of-type {\n",
       "        vertical-align: middle;\n",
       "    }\n",
       "\n",
       "    .dataframe tbody tr th {\n",
       "        vertical-align: top;\n",
       "    }\n",
       "\n",
       "    .dataframe thead th {\n",
       "        text-align: right;\n",
       "    }\n",
       "</style>\n",
       "<table border=\"1\" class=\"dataframe\">\n",
       "  <thead>\n",
       "    <tr style=\"text-align: right;\">\n",
       "      <th></th>\n",
       "      <th>discharging_rate_lag3</th>\n",
       "      <th>charge_cycle_time_below_12</th>\n",
       "      <th>charging_rate_lag3</th>\n",
       "      <th>avg_volt_change_charging</th>\n",
       "      <th>use_time</th>\n",
       "      <th>dummy_12_disratelag3</th>\n",
       "      <th>dummy_12_avgvoltchangecharging</th>\n",
       "      <th>avg_time_discharging_lag1</th>\n",
       "    </tr>\n",
       "  </thead>\n",
       "  <tbody>\n",
       "    <tr>\n",
       "      <th>0</th>\n",
       "      <td>-1.163333</td>\n",
       "      <td>0.0</td>\n",
       "      <td>0.086667</td>\n",
       "      <td>377.080000</td>\n",
       "      <td>543</td>\n",
       "      <td>-0.000000</td>\n",
       "      <td>0.000</td>\n",
       "      <td>4.37</td>\n",
       "    </tr>\n",
       "    <tr>\n",
       "      <th>1</th>\n",
       "      <td>-0.066667</td>\n",
       "      <td>0.0</td>\n",
       "      <td>0.136667</td>\n",
       "      <td>350.517857</td>\n",
       "      <td>522</td>\n",
       "      <td>-0.000000</td>\n",
       "      <td>0.000</td>\n",
       "      <td>62.67</td>\n",
       "    </tr>\n",
       "    <tr>\n",
       "      <th>2</th>\n",
       "      <td>-2.643333</td>\n",
       "      <td>0.0</td>\n",
       "      <td>-0.460000</td>\n",
       "      <td>346.113333</td>\n",
       "      <td>518</td>\n",
       "      <td>-0.000000</td>\n",
       "      <td>0.000</td>\n",
       "      <td>5.13</td>\n",
       "    </tr>\n",
       "    <tr>\n",
       "      <th>3</th>\n",
       "      <td>-0.166667</td>\n",
       "      <td>0.0</td>\n",
       "      <td>0.076667</td>\n",
       "      <td>356.184211</td>\n",
       "      <td>548</td>\n",
       "      <td>-0.000000</td>\n",
       "      <td>0.000</td>\n",
       "      <td>3.93</td>\n",
       "    </tr>\n",
       "    <tr>\n",
       "      <th>4</th>\n",
       "      <td>0.066667</td>\n",
       "      <td>1.0</td>\n",
       "      <td>0.040000</td>\n",
       "      <td>370.904000</td>\n",
       "      <td>566</td>\n",
       "      <td>0.066667</td>\n",
       "      <td>370.904</td>\n",
       "      <td>4.69</td>\n",
       "    </tr>\n",
       "  </tbody>\n",
       "</table>\n",
       "</div>"
      ],
      "text/plain": [
       "   discharging_rate_lag3  charge_cycle_time_below_12  charging_rate_lag3  \\\n",
       "0              -1.163333                         0.0            0.086667   \n",
       "1              -0.066667                         0.0            0.136667   \n",
       "2              -2.643333                         0.0           -0.460000   \n",
       "3              -0.166667                         0.0            0.076667   \n",
       "4               0.066667                         1.0            0.040000   \n",
       "\n",
       "   avg_volt_change_charging  use_time  dummy_12_disratelag3  \\\n",
       "0                377.080000       543             -0.000000   \n",
       "1                350.517857       522             -0.000000   \n",
       "2                346.113333       518             -0.000000   \n",
       "3                356.184211       548             -0.000000   \n",
       "4                370.904000       566              0.066667   \n",
       "\n",
       "   dummy_12_avgvoltchangecharging  avg_time_discharging_lag1  \n",
       "0                           0.000                       4.37  \n",
       "1                           0.000                      62.67  \n",
       "2                           0.000                       5.13  \n",
       "3                           0.000                       3.93  \n",
       "4                         370.904                       4.69  "
      ]
     },
     "execution_count": 187,
     "metadata": {},
     "output_type": "execute_result"
    }
   ],
   "source": [
    "X_train_eng_core_dummy2_1.head()"
   ]
  },
  {
   "cell_type": "code",
   "execution_count": 188,
   "metadata": {},
   "outputs": [
    {
     "data": {
      "text/plain": [
       "0.8172124842048205"
      ]
     },
     "execution_count": 188,
     "metadata": {},
     "output_type": "execute_result"
    }
   ],
   "source": [
    "# 5 core + 2 dummy + lag1\n",
    "score_record"
   ]
  }
 ],
 "metadata": {
  "kernelspec": {
   "display_name": "Python 3",
   "language": "python",
   "name": "python3"
  },
  "language_info": {
   "codemirror_mode": {
    "name": "ipython",
    "version": 3
   },
   "file_extension": ".py",
   "mimetype": "text/x-python",
   "name": "python",
   "nbconvert_exporter": "python",
   "pygments_lexer": "ipython3",
   "version": "3.7.3"
  }
 },
 "nbformat": 4,
 "nbformat_minor": 4
}
